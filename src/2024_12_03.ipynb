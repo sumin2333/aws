{
 "cells": [
  {
   "cell_type": "code",
   "execution_count": 1,
   "id": "9a911013",
   "metadata": {},
   "outputs": [
    {
     "name": "stderr",
     "output_type": "stream",
     "text": [
      "24/12/03 11:20:07 WARN NativeCodeLoader: Unable to load native-hadoop library for your platform... using builtin-java classes where applicable\n",
      "Using Spark's default log4j profile: org/apache/spark/log4j-defaults.properties\n",
      "Setting default log level to \"WARN\".\n",
      "To adjust logging level use sc.setLogLevel(newLevel). For SparkR, use setLogLevel(newLevel).\n"
     ]
    },
    {
     "data": {
      "text/html": [
       "\n",
       "            <div>\n",
       "                <p><b>SparkSession - in-memory</b></p>\n",
       "                \n",
       "        <div>\n",
       "            <p><b>SparkContext</b></p>\n",
       "\n",
       "            <p><a href=\"http://ip-172-31-1-176.ap-northeast-3.compute.internal:4040\">Spark UI</a></p>\n",
       "\n",
       "            <dl>\n",
       "              <dt>Version</dt>\n",
       "                <dd><code>v3.1.2</code></dd>\n",
       "              <dt>Master</dt>\n",
       "                <dd><code>local[*]</code></dd>\n",
       "              <dt>AppName</dt>\n",
       "                <dd><code>Pyspark Example</code></dd>\n",
       "            </dl>\n",
       "        </div>\n",
       "        \n",
       "            </div>\n",
       "        "
      ],
      "text/plain": [
       "<pyspark.sql.session.SparkSession at 0x7f05580d2d30>"
      ]
     },
     "execution_count": 1,
     "metadata": {},
     "output_type": "execute_result"
    }
   ],
   "source": [
    "from pyspark.sql import SparkSession # 라이브러리 사용 \n",
    "\n",
    "spark = SparkSession.builder.appName(\"Pyspark Example\").getOrCreate() \n",
    "spark"
   ]
  },
  {
   "cell_type": "code",
   "execution_count": 2,
   "id": "67cfc1f8",
   "metadata": {},
   "outputs": [
    {
     "data": {
      "text/plain": [
       "ParallelCollectionRDD[0] at readRDDFromFile at PythonRDD.scala:274"
      ]
     },
     "execution_count": 2,
     "metadata": {},
     "output_type": "execute_result"
    }
   ],
   "source": [
    "#RDD 생성 - 분산데이터객체 \n",
    "rdd= spark.sparkContext.parallelize( [1,2,3,4,5] ) # - 분산객체관리, 드라이버 영역 안에 객체 생성 \n",
    "rdd"
   ]
  },
  {
   "cell_type": "code",
   "execution_count": 3,
   "id": "37f5652f",
   "metadata": {
    "scrolled": false
   },
   "outputs": [
    {
     "name": "stderr",
     "output_type": "stream",
     "text": [
      "                                                                                \r"
     ]
    },
    {
     "data": {
      "text/plain": [
       "[1, 2, 3, 4, 5]"
      ]
     },
     "execution_count": 3,
     "metadata": {},
     "output_type": "execute_result"
    }
   ],
   "source": [
    "rdd.take(5)"
   ]
  },
  {
   "cell_type": "code",
   "execution_count": 4,
   "id": "1809df84",
   "metadata": {},
   "outputs": [
    {
     "data": {
      "text/plain": [
       "PythonRDD[3] at RDD at PythonRDD.scala:53"
      ]
     },
     "execution_count": 4,
     "metadata": {},
     "output_type": "execute_result"
    }
   ],
   "source": [
    "squared_rdd = rdd.map( lambda x : x * x ) #제곱해서 가져오기\n",
    "squared_rdd"
   ]
  },
  {
   "cell_type": "code",
   "execution_count": 5,
   "id": "ee7144ba",
   "metadata": {},
   "outputs": [
    {
     "data": {
      "text/plain": [
       "[1, 4, 9, 16, 25]"
      ]
     },
     "execution_count": 5,
     "metadata": {},
     "output_type": "execute_result"
    }
   ],
   "source": [
    "squared_rdd.take(5)"
   ]
  },
  {
   "cell_type": "code",
   "execution_count": null,
   "id": "d259c7ec",
   "metadata": {},
   "outputs": [],
   "source": []
  },
  {
   "cell_type": "code",
   "execution_count": null,
   "id": "b52ec948",
   "metadata": {},
   "outputs": [],
   "source": []
  },
  {
   "cell_type": "code",
   "execution_count": null,
   "id": "d5e09509",
   "metadata": {},
   "outputs": [],
   "source": [
    "# 데이터프레임 객체 "
   ]
  },
  {
   "cell_type": "code",
   "execution_count": 6,
   "id": "12af500b",
   "metadata": {
    "scrolled": true
   },
   "outputs": [
    {
     "data": {
      "text/plain": [
       "DataFrame[Name: string, Value: bigint]"
      ]
     },
     "execution_count": 6,
     "metadata": {},
     "output_type": "execute_result"
    }
   ],
   "source": [
    "data= [ (\"Alicce\",1), (\"Bob\",2), (\"Charile\",3)] # 리스트 값만들기 데이터만들기 \n",
    "df= spark.createDataFrame(data, [\"Name\", \"Value\"]) #객체 꼭 담아주기!! \n",
    "df "
   ]
  },
  {
   "cell_type": "code",
   "execution_count": 7,
   "id": "c02eb150",
   "metadata": {},
   "outputs": [
    {
     "name": "stdout",
     "output_type": "stream",
     "text": [
      "+-------+-----+\n",
      "|   Name|Value|\n",
      "+-------+-----+\n",
      "| Alicce|    1|\n",
      "|    Bob|    2|\n",
      "|Charile|    3|\n",
      "+-------+-----+\n",
      "\n"
     ]
    }
   ],
   "source": [
    "df.show()"
   ]
  },
  {
   "cell_type": "code",
   "execution_count": 21,
   "id": "2e23fcd9",
   "metadata": {},
   "outputs": [
    {
     "name": "stdout",
     "output_type": "stream",
     "text": [
      "+-------+-----+\n",
      "|   Name|Value|\n",
      "+-------+-----+\n",
      "|Charile|    3|\n",
      "+-------+-----+\n",
      "\n"
     ]
    }
   ],
   "source": [
    "df.filter('Value > 2').show()"
   ]
  },
  {
   "cell_type": "code",
   "execution_count": 9,
   "id": "2a284eaf",
   "metadata": {},
   "outputs": [],
   "source": [
    "#RDBMS 데이터 - 테이블 "
   ]
  },
  {
   "cell_type": "code",
   "execution_count": 10,
   "id": "4dbec437",
   "metadata": {},
   "outputs": [],
   "source": [
    "df.createOrReplaceTempView(\"people\") # 가상 테이블 만듦 "
   ]
  },
  {
   "cell_type": "code",
   "execution_count": 11,
   "id": "90758cae",
   "metadata": {},
   "outputs": [],
   "source": [
    "select_sql= \"SELECT * FROM people WHERE Value >2\""
   ]
  },
  {
   "cell_type": "code",
   "execution_count": null,
   "id": "8f97b1e4",
   "metadata": {},
   "outputs": [],
   "source": []
  },
  {
   "cell_type": "code",
   "execution_count": 12,
   "id": "801120c3",
   "metadata": {},
   "outputs": [
    {
     "name": "stdout",
     "output_type": "stream",
     "text": [
      "+-------+-----+\n",
      "|   Name|Value|\n",
      "+-------+-----+\n",
      "|Charile|    3|\n",
      "+-------+-----+\n",
      "\n"
     ]
    }
   ],
   "source": [
    "result_sql= spark.sql(select_sql)\n",
    "result_sql.show()"
   ]
  },
  {
   "cell_type": "code",
   "execution_count": null,
   "id": "ea422517",
   "metadata": {},
   "outputs": [],
   "source": [
    "# DataFrame 생성 -> select DF 추출"
   ]
  },
  {
   "cell_type": "code",
   "execution_count": null,
   "id": "c4dfc40a",
   "metadata": {},
   "outputs": [],
   "source": [
    "#MLlib"
   ]
  },
  {
   "cell_type": "code",
   "execution_count": 18,
   "id": "d3cdeef8",
   "metadata": {
    "scrolled": true
   },
   "outputs": [
    {
     "name": "stdout",
     "output_type": "stream",
     "text": [
      "Collecting numpy\n",
      "  Downloading numpy-1.24.4-cp38-cp38-manylinux_2_17_x86_64.manylinux2014_x86_64.whl.metadata (5.6 kB)\n",
      "Downloading numpy-1.24.4-cp38-cp38-manylinux_2_17_x86_64.manylinux2014_x86_64.whl (17.3 MB)\n",
      "\u001b[2K   \u001b[90m━━━━━━━━━━━━━━━━━━━━━━━━━━━━━━━━━━━━━━━━\u001b[0m \u001b[32m17.3/17.3 MB\u001b[0m \u001b[31m154.8 MB/s\u001b[0m eta \u001b[36m0:00:00\u001b[0m\n",
      "\u001b[?25hInstalling collected packages: numpy\n",
      "Successfully installed numpy-1.24.4\n"
     ]
    }
   ],
   "source": [
    "!pip install numpy"
   ]
  },
  {
   "cell_type": "code",
   "execution_count": 19,
   "id": "65e68877",
   "metadata": {
    "scrolled": true
   },
   "outputs": [],
   "source": [
    "#MLlib\n",
    "import numpy as np"
   ]
  },
  {
   "cell_type": "code",
   "execution_count": 20,
   "id": "42d3fad5",
   "metadata": {},
   "outputs": [],
   "source": [
    "#DataFrame 생성 - select DF 추출 "
   ]
  },
  {
   "cell_type": "code",
   "execution_count": 23,
   "id": "d7c0744e",
   "metadata": {},
   "outputs": [],
   "source": [
    "from pyspark.ml.feature import VectorAssembler\n",
    "from pyspark.ml.regression  import LinearRegression\n",
    "\n"
   ]
  },
  {
   "cell_type": "code",
   "execution_count": 24,
   "id": "70d63999",
   "metadata": {},
   "outputs": [
    {
     "name": "stdout",
     "output_type": "stream",
     "text": [
      "+-------+---+\n",
      "|   name|age|\n",
      "+-------+---+\n",
      "|    Bob| 30|\n",
      "|Charlie| 35|\n",
      "+-------+---+\n",
      "\n"
     ]
    }
   ],
   "source": [
    "# DataFrame 생성\n",
    "df = spark.createDataFrame([(\"Alice\", 25), (\"Bob\", 30), (\"Charlie\", 35)], [\"name\", \"age\"])\n",
    "\n",
    "# DataFrame 연산\n",
    "df_filtered = df.filter(df.age > 28)\n",
    "df_filtered.show()"
   ]
  },
  {
   "cell_type": "code",
   "execution_count": 25,
   "id": "e86ac9ca",
   "metadata": {},
   "outputs": [],
   "source": [
    "assembler = VectorAssembler(inputCols=['age'], outputCol='features')\n",
    "vector_df = assembler.transform(df)#머신러닝 모델만드는 코드 \n",
    "#예측결과를 보여줌 pred => spark이 연결하는 rdp, -- 에 바로 내보낼 수 있음. "
   ]
  },
  {
   "cell_type": "code",
   "execution_count": 26,
   "id": "aaa31ca0",
   "metadata": {},
   "outputs": [
    {
     "name": "stderr",
     "output_type": "stream",
     "text": [
      "24/12/03 11:35:14 WARN Instrumentation: [1b83f9b0] regParam is zero, which might cause numerical instability and overfitting.\n",
      "24/12/03 11:35:14 WARN BLAS: Failed to load implementation from: com.github.fommil.netlib.NativeSystemBLAS\n",
      "24/12/03 11:35:14 WARN BLAS: Failed to load implementation from: com.github.fommil.netlib.NativeRefBLAS\n",
      "24/12/03 11:35:14 WARN LAPACK: Failed to load implementation from: com.github.fommil.netlib.NativeSystemLAPACK\n",
      "24/12/03 11:35:14 WARN LAPACK: Failed to load implementation from: com.github.fommil.netlib.NativeRefLAPACK\n"
     ]
    }
   ],
   "source": [
    "lr = LinearRegression(featuresCol='features', labelCol='age')\n",
    "model = lr.fit(vector_df)"
   ]
  },
  {
   "cell_type": "code",
   "execution_count": 27,
   "id": "7e924c32",
   "metadata": {},
   "outputs": [
    {
     "name": "stdout",
     "output_type": "stream",
     "text": [
      "+-------+---+--------+------------------+\n",
      "|   name|age|features|        prediction|\n",
      "+-------+---+--------+------------------+\n",
      "|  Alice| 25|  [25.0]|25.000000000000036|\n",
      "|    Bob| 30|  [30.0]|30.000000000000004|\n",
      "|Charlie| 35|  [35.0]| 34.99999999999997|\n",
      "+-------+---+--------+------------------+\n",
      "\n"
     ]
    }
   ],
   "source": [
    "pred = model.transform(vector_df)\n",
    "pred.show()"
   ]
  },
  {
   "cell_type": "code",
   "execution_count": 29,
   "id": "cdb1d18f",
   "metadata": {},
   "outputs": [],
   "source": [
    "spark.stop()"
   ]
  },
  {
   "cell_type": "code",
   "execution_count": null,
   "id": "78994650",
   "metadata": {},
   "outputs": [],
   "source": []
  }
 ],
 "metadata": {
  "kernelspec": {
   "display_name": "Python (spark_start)",
   "language": "python",
   "name": "spark_start"
  },
  "language_info": {
   "codemirror_mode": {
    "name": "ipython",
    "version": 3
   },
   "file_extension": ".py",
   "mimetype": "text/x-python",
   "name": "python",
   "nbconvert_exporter": "python",
   "pygments_lexer": "ipython3",
   "version": "3.8.20"
  }
 },
 "nbformat": 4,
 "nbformat_minor": 5
}
