{
 "cells": [
  {
   "cell_type": "code",
   "execution_count": 23,
   "id": "bed65dfd",
   "metadata": {},
   "outputs": [
    {
     "name": "stderr",
     "output_type": "stream",
     "text": [
      "24/12/10 15:28:32 WARN Utils: Service 'SparkUI' could not bind on port 4040. Attempting port 4041.\n"
     ]
    }
   ],
   "source": [
    "from pyspark.sql import SparkSession\n",
    "spark = SparkSession.builder.appName(\"24121002_SparkSQL_execution_plan\").getOrCreate()"
   ]
  },
  {
   "cell_type": "code",
   "execution_count": 24,
   "id": "a237e478",
   "metadata": {},
   "outputs": [],
   "source": [
    "df= spark.read.format(\"csv\")\\\n",
    "    .option(\"header\", 'true')\\\n",
    "    .option('inferSchema', 'true')\\\n",
    "    .load('data/emp.csv')"
   ]
  },
  {
   "cell_type": "code",
   "execution_count": 25,
   "id": "2b5b0ac4",
   "metadata": {},
   "outputs": [
    {
     "name": "stdout",
     "output_type": "stream",
     "text": [
      "+-----+------+---------+----+----------+----+----+------+\n",
      "|empno| ename|      job| mgr|  hiredate| sal|comm|deptno|\n",
      "+-----+------+---------+----+----------+----+----+------+\n",
      "| 7369| SMITH|    CLERK|7902|1980-12-17| 800|null|    20|\n",
      "| 7499| ALLEN| SALESMAN|7698|1981-02-20|1600| 300|    30|\n",
      "| 7521|  WARD| SALESMAN|7698|1981-02-22|1250| 500|    30|\n",
      "| 7566| JONES|  MANAGER|7839|1981-04-02|2975|null|    20|\n",
      "| 7654|MARTIN| SALESMAN|7698|1981-09-28|1250|1400|    30|\n",
      "| 7698| BLAKE|  MANAGER|7839|1981-05-01|2850|null|    30|\n",
      "| 7782| CLARK|  MANAGER|7839|1981-06-09|2450|null|    10|\n",
      "| 7788| SCOTT|  ANALYST|7566|1987-04-19|3000|null|    20|\n",
      "| 7839|  KING|PRESIDENT|null|1981-11-17|5000|null|    10|\n",
      "| 7844|TURNER| SALESMAN|7698|1981-09-08|1500|   0|    30|\n",
      "| 7876| ADAMS|    CLERK|7788|1987-05-23|1100|null|    20|\n",
      "| 7900| JAMES|    CLERK|7698|1981-12-03| 950|null|    30|\n",
      "| 7902|  FORD|  ANALYST|7566|1981-12-03|3000|null|    20|\n",
      "| 7934|MILLER|    CLERK|7782|1982-01-23|1300|null|    10|\n",
      "| 9292|  JACK|    CLERK|7782|1982-01-23|3200|null|    70|\n",
      "+-----+------+---------+----+----------+----+----+------+\n",
      "\n"
     ]
    }
   ],
   "source": [
    "df.show()"
   ]
  },
  {
   "cell_type": "code",
   "execution_count": 35,
   "id": "07b008a0",
   "metadata": {},
   "outputs": [],
   "source": [
    "dept_df= spark.read.format(\"csv\")\\\n",
    "    .option(\"header\", 'true')\\\n",
    "    .option('inferSchema', 'true')\\\n",
    "    .load('data/dept.csv')"
   ]
  },
  {
   "cell_type": "code",
   "execution_count": 36,
   "id": "92c4b5da",
   "metadata": {},
   "outputs": [
    {
     "name": "stdout",
     "output_type": "stream",
     "text": [
      "root\n",
      " |-- deptno: integer (nullable = true)\n",
      " |-- dname: string (nullable = true)\n",
      " |-- loc: string (nullable = true)\n",
      "\n"
     ]
    }
   ],
   "source": [
    "dept_df.printSchema()"
   ]
  },
  {
   "cell_type": "code",
   "execution_count": 37,
   "id": "a11e54df",
   "metadata": {},
   "outputs": [],
   "source": [
    "df.createOrReplaceTempView('emp_df_view')"
   ]
  },
  {
   "cell_type": "code",
   "execution_count": 38,
   "id": "7b97d57e",
   "metadata": {},
   "outputs": [],
   "source": [
    "dept_df.createOrReplaceTempView('dept_df_view')"
   ]
  },
  {
   "cell_type": "code",
   "execution_count": 8,
   "id": "88714bcb",
   "metadata": {},
   "outputs": [],
   "source": [
    "#부에서 조인 \n",
    "join_query='''\n",
    "select *\n",
    "from emp_df_view join dept_df_view on emp_df_view.deptno=dept_df_view.deptno\n",
    "'''\n",
    "\n",
    "#??"
   ]
  },
  {
   "cell_type": "code",
   "execution_count": 9,
   "id": "0e1427ef",
   "metadata": {},
   "outputs": [
    {
     "name": "stdout",
     "output_type": "stream",
     "text": [
      "+-----+-----+--------+----+----------+----+----+------+-----+------+--------+----+----------+----+----+------+\n",
      "|empno|ename|     job| mgr|  hiredate| sal|comm|deptno|empno| ename|     job| mgr|  hiredate| sal|comm|deptno|\n",
      "+-----+-----+--------+----+----------+----+----+------+-----+------+--------+----+----------+----+----+------+\n",
      "| 7369|SMITH|   CLERK|7902|1980-12-17| 800|null|    20| 7902|  FORD| ANALYST|7566|1981-12-03|3000|null|    20|\n",
      "| 7369|SMITH|   CLERK|7902|1980-12-17| 800|null|    20| 7876| ADAMS|   CLERK|7788|1987-05-23|1100|null|    20|\n",
      "| 7369|SMITH|   CLERK|7902|1980-12-17| 800|null|    20| 7788| SCOTT| ANALYST|7566|1987-04-19|3000|null|    20|\n",
      "| 7369|SMITH|   CLERK|7902|1980-12-17| 800|null|    20| 7566| JONES| MANAGER|7839|1981-04-02|2975|null|    20|\n",
      "| 7369|SMITH|   CLERK|7902|1980-12-17| 800|null|    20| 7369| SMITH|   CLERK|7902|1980-12-17| 800|null|    20|\n",
      "| 7499|ALLEN|SALESMAN|7698|1981-02-20|1600| 300|    30| 7900| JAMES|   CLERK|7698|1981-12-03| 950|null|    30|\n",
      "| 7499|ALLEN|SALESMAN|7698|1981-02-20|1600| 300|    30| 7844|TURNER|SALESMAN|7698|1981-09-08|1500|   0|    30|\n",
      "| 7499|ALLEN|SALESMAN|7698|1981-02-20|1600| 300|    30| 7698| BLAKE| MANAGER|7839|1981-05-01|2850|null|    30|\n",
      "| 7499|ALLEN|SALESMAN|7698|1981-02-20|1600| 300|    30| 7654|MARTIN|SALESMAN|7698|1981-09-28|1250|1400|    30|\n",
      "| 7499|ALLEN|SALESMAN|7698|1981-02-20|1600| 300|    30| 7521|  WARD|SALESMAN|7698|1981-02-22|1250| 500|    30|\n",
      "| 7499|ALLEN|SALESMAN|7698|1981-02-20|1600| 300|    30| 7499| ALLEN|SALESMAN|7698|1981-02-20|1600| 300|    30|\n",
      "| 7521| WARD|SALESMAN|7698|1981-02-22|1250| 500|    30| 7900| JAMES|   CLERK|7698|1981-12-03| 950|null|    30|\n",
      "| 7521| WARD|SALESMAN|7698|1981-02-22|1250| 500|    30| 7844|TURNER|SALESMAN|7698|1981-09-08|1500|   0|    30|\n",
      "| 7521| WARD|SALESMAN|7698|1981-02-22|1250| 500|    30| 7698| BLAKE| MANAGER|7839|1981-05-01|2850|null|    30|\n",
      "| 7521| WARD|SALESMAN|7698|1981-02-22|1250| 500|    30| 7654|MARTIN|SALESMAN|7698|1981-09-28|1250|1400|    30|\n",
      "| 7521| WARD|SALESMAN|7698|1981-02-22|1250| 500|    30| 7521|  WARD|SALESMAN|7698|1981-02-22|1250| 500|    30|\n",
      "| 7521| WARD|SALESMAN|7698|1981-02-22|1250| 500|    30| 7499| ALLEN|SALESMAN|7698|1981-02-20|1600| 300|    30|\n",
      "| 7566|JONES| MANAGER|7839|1981-04-02|2975|null|    20| 7902|  FORD| ANALYST|7566|1981-12-03|3000|null|    20|\n",
      "| 7566|JONES| MANAGER|7839|1981-04-02|2975|null|    20| 7876| ADAMS|   CLERK|7788|1987-05-23|1100|null|    20|\n",
      "| 7566|JONES| MANAGER|7839|1981-04-02|2975|null|    20| 7788| SCOTT| ANALYST|7566|1987-04-19|3000|null|    20|\n",
      "+-----+-----+--------+----+----------+----+----+------+-----+------+--------+----+----------+----+----+------+\n",
      "only showing top 20 rows\n",
      "\n"
     ]
    }
   ],
   "source": [
    "viewEmpDept= spark.sql(join_query)\n",
    "viewEmpDept.show() #하나의 테이블로 합"
   ]
  },
  {
   "cell_type": "code",
   "execution_count": 29,
   "id": "39ce0f78",
   "metadata": {},
   "outputs": [],
   "source": [
    "viewEmpDept.createOrReplaceTempView('viewEmpDept') #등록 \n",
    "#??"
   ]
  },
  {
   "cell_type": "code",
   "execution_count": 31,
   "id": "e32548db",
   "metadata": {},
   "outputs": [],
   "source": [
    "#부서위치가 'NEW YORK '인 직원 목록 \n",
    "v_query='''\n",
    "select *\n",
    "from dept_df_view\n",
    "where loc= 'NEW YORK'\n",
    "'''"
   ]
  },
  {
   "cell_type": "code",
   "execution_count": 39,
   "id": "994aeec6",
   "metadata": {},
   "outputs": [
    {
     "name": "stdout",
     "output_type": "stream",
     "text": [
      "+------+----------+--------+\n",
      "|deptno|     dname|     loc|\n",
      "+------+----------+--------+\n",
      "|    10|ACCOUNTING|NEW YORK|\n",
      "|    20|  RESEARCH|  DALLAS|\n",
      "|    30|     SALES| CHICAGO|\n",
      "|    40|OPERATIONS|  BOSTON|\n",
      "+------+----------+--------+\n",
      "\n"
     ]
    }
   ],
   "source": [
    "spark.sql('''\n",
    "\n",
    "select * from\n",
    "dept_df_view\n",
    "''').show()"
   ]
  },
  {
   "cell_type": "code",
   "execution_count": 40,
   "id": "357f7c49",
   "metadata": {
    "scrolled": true
   },
   "outputs": [
    {
     "name": "stdout",
     "output_type": "stream",
     "text": [
      "+------+----------+--------+\n",
      "|deptno|     dname|     loc|\n",
      "+------+----------+--------+\n",
      "|    10|ACCOUNTING|NEW YORK|\n",
      "+------+----------+--------+\n",
      "\n"
     ]
    }
   ],
   "source": [
    "spark.sql(v_query).show() "
   ]
  },
  {
   "cell_type": "code",
   "execution_count": 41,
   "id": "c2c94373",
   "metadata": {},
   "outputs": [],
   "source": [
    "# subquery\n",
    "\n",
    "q2= '''\n",
    "select * \n",
    "from emp_df_view\n",
    "where deptno =( \n",
    " select deptno \n",
    " from dept_df_view\n",
    " where loc= 'NEW YORK'\n",
    " )\n",
    "'''"
   ]
  },
  {
   "cell_type": "code",
   "execution_count": 42,
   "id": "57d05258",
   "metadata": {},
   "outputs": [
    {
     "name": "stdout",
     "output_type": "stream",
     "text": [
      "+-----+------+---------+----+----------+----+----+------+\n",
      "|empno| ename|      job| mgr|  hiredate| sal|comm|deptno|\n",
      "+-----+------+---------+----+----------+----+----+------+\n",
      "| 7782| CLARK|  MANAGER|7839|1981-06-09|2450|null|    10|\n",
      "| 7839|  KING|PRESIDENT|null|1981-11-17|5000|null|    10|\n",
      "| 7934|MILLER|    CLERK|7782|1982-01-23|1300|null|    10|\n",
      "+-----+------+---------+----+----------+----+----+------+\n",
      "\n"
     ]
    }
   ],
   "source": [
    "#case 2\n",
    "spark.sql(q2).show()"
   ]
  },
  {
   "cell_type": "code",
   "execution_count": 43,
   "id": "e8848c51",
   "metadata": {},
   "outputs": [
    {
     "name": "stdout",
     "output_type": "stream",
     "text": [
      "== Physical Plan ==\n",
      "*(1) Filter (isnotnull(loc#426) AND (loc#426 = NEW YORK))\n",
      "+- FileScan csv [deptno#424,dname#425,loc#426] Batched: false, DataFilters: [isnotnull(loc#426), (loc#426 = NEW YORK)], Format: CSV, Location: InMemoryFileIndex[file:/home/lab10/git_project/src/data/dept.csv], PartitionFilters: [], PushedFilters: [IsNotNull(loc), EqualTo(loc,NEW YORK)], ReadSchema: struct<deptno:int,dname:string,loc:string>\n",
      "\n",
      "\n"
     ]
    }
   ],
   "source": [
    "#case1 의 실행계획 -join\n",
    "spark.sql(v_query).explain()"
   ]
  },
  {
   "cell_type": "code",
   "execution_count": 44,
   "id": "9007fd59",
   "metadata": {},
   "outputs": [
    {
     "name": "stdout",
     "output_type": "stream",
     "text": [
      "== Physical Plan ==\n",
      "*(1) Filter (isnotnull(deptno#228) AND (deptno#228 = Subquery scalar-subquery#531, [id=#296]))\n",
      ":  +- Subquery scalar-subquery#531, [id=#296]\n",
      ":     +- *(1) Project [deptno#424]\n",
      ":        +- *(1) Filter (isnotnull(loc#426) AND (loc#426 = NEW YORK))\n",
      ":           +- FileScan csv [deptno#424,loc#426] Batched: false, DataFilters: [isnotnull(loc#426), (loc#426 = NEW YORK)], Format: CSV, Location: InMemoryFileIndex[file:/home/lab10/git_project/src/data/dept.csv], PartitionFilters: [], PushedFilters: [IsNotNull(loc), EqualTo(loc,NEW YORK)], ReadSchema: struct<deptno:int,loc:string>\n",
      "+- FileScan csv [empno#221,ename#222,job#223,mgr#224,hiredate#225,sal#226,comm#227,deptno#228] Batched: false, DataFilters: [isnotnull(deptno#228)], Format: CSV, Location: InMemoryFileIndex[file:/home/lab10/git_project/src/data/emp.csv], PartitionFilters: [], PushedFilters: [IsNotNull(deptno)], ReadSchema: struct<empno:int,ename:string,job:string,mgr:int,hiredate:string,sal:int,comm:int,deptno:int>\n",
      "\n",
      "\n"
     ]
    }
   ],
   "source": [
    "#case2 의 실행계획 서브쿼리 \n",
    "spark.sql(q2).explain()"
   ]
  },
  {
   "cell_type": "code",
   "execution_count": 45,
   "id": "042615c2",
   "metadata": {},
   "outputs": [],
   "source": [
    "spark.stop()"
   ]
  },
  {
   "cell_type": "code",
   "execution_count": null,
   "id": "d416f8f9",
   "metadata": {},
   "outputs": [],
   "source": []
  },
  {
   "cell_type": "code",
   "execution_count": null,
   "id": "7edb1934",
   "metadata": {},
   "outputs": [],
   "source": []
  },
  {
   "cell_type": "code",
   "execution_count": null,
   "id": "462f26df",
   "metadata": {},
   "outputs": [],
   "source": []
  },
  {
   "cell_type": "code",
   "execution_count": null,
   "id": "bf905abe",
   "metadata": {},
   "outputs": [],
   "source": []
  },
  {
   "cell_type": "code",
   "execution_count": null,
   "id": "e731cc7f",
   "metadata": {},
   "outputs": [],
   "source": []
  },
  {
   "cell_type": "code",
   "execution_count": null,
   "id": "01d12312",
   "metadata": {},
   "outputs": [],
   "source": []
  }
 ],
 "metadata": {
  "kernelspec": {
   "display_name": "Python (spark_start)",
   "language": "python",
   "name": "spark_start"
  },
  "language_info": {
   "codemirror_mode": {
    "name": "ipython",
    "version": 3
   },
   "file_extension": ".py",
   "mimetype": "text/x-python",
   "name": "python",
   "nbconvert_exporter": "python",
   "pygments_lexer": "ipython3",
   "version": "3.8.20"
  }
 },
 "nbformat": 4,
 "nbformat_minor": 5
}
