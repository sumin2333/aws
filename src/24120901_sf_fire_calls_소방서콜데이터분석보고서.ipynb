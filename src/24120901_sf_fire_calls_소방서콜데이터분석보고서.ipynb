{
 "cells": [
  {
   "cell_type": "code",
   "execution_count": 6,
   "id": "e3d91ea1",
   "metadata": {
    "scrolled": true
   },
   "outputs": [
    {
     "name": "stderr",
     "output_type": "stream",
     "text": [
      "24/12/09 16:35:04 WARN NativeCodeLoader: Unable to load native-hadoop library for your platform... using builtin-java classes where applicable\n",
      "Using Spark's default log4j profile: org/apache/spark/log4j-defaults.properties\n",
      "Setting default log level to \"WARN\".\n",
      "To adjust logging level use sc.setLogLevel(newLevel). For SparkR, use setLogLevel(newLevel).\n"
     ]
    }
   ],
   "source": [
    "from pyspark.sql import SparkSession\n",
    "spark = SparkSession.builder.appName(\"24120901_sf_fire_calls_App\").getOrCreate()"
   ]
  },
  {
   "cell_type": "code",
   "execution_count": 7,
   "id": "e58ac6cd",
   "metadata": {},
   "outputs": [],
   "source": [
    "from pyspark.sql.types import *"
   ]
  },
  {
   "cell_type": "code",
   "execution_count": 8,
   "id": "2f602514",
   "metadata": {},
   "outputs": [
    {
     "ename": "NameError",
     "evalue": "name 'fire_schema' is not defined",
     "output_type": "error",
     "traceback": [
      "\u001b[0;31m---------------------------------------------------------------------------\u001b[0m",
      "\u001b[0;31mNameError\u001b[0m                                 Traceback (most recent call last)",
      "Cell \u001b[0;32mIn[8], line 2\u001b[0m\n\u001b[1;32m      1\u001b[0m sf_fire_file\u001b[38;5;241m=\u001b[39m \u001b[38;5;124m\"\u001b[39m\u001b[38;5;124m/databricks-datasets/learning-spark-v2/sf-fire/sf-fire-calls.csv\u001b[39m\u001b[38;5;124m\"\u001b[39m \n\u001b[0;32m----> 2\u001b[0m fire_df \u001b[38;5;241m=\u001b[39m spark\u001b[38;5;241m.\u001b[39mread\u001b[38;5;241m.\u001b[39mcsv(sf_fire_file, header\u001b[38;5;241m=\u001b[39m\u001b[38;5;28;01mTrue\u001b[39;00m, schema\u001b[38;5;241m=\u001b[39m\u001b[43mfire_schema\u001b[49m)\n",
      "\u001b[0;31mNameError\u001b[0m: name 'fire_schema' is not defined"
     ]
    }
   ],
   "source": [
    "#sf_fire_file= \"/databricks-datasets/learning-spark-v2/sf-fire/sf-fire-calls.csv\" \n",
    "#fire_df = spark.read.csv(sf_fire_file, header=True, schema=fire_schema)"
   ]
  },
  {
   "cell_type": "code",
   "execution_count": 13,
   "id": "6a39b0ac",
   "metadata": {},
   "outputs": [
    {
     "name": "stderr",
     "output_type": "stream",
     "text": [
      "                                                                                \r"
     ]
    }
   ],
   "source": [
    "fire_df= spark.read.format(\"csv\")\\\n",
    "    .option(\"header\", 'true')\\\n",
    "    .option('inferSchema', 'true')\\\n",
    "    .load('data/sf-fire-calls.csv')"
   ]
  },
  {
   "cell_type": "code",
   "execution_count": null,
   "id": "d9fc016b",
   "metadata": {},
   "outputs": [],
   "source": []
  },
  {
   "cell_type": "code",
   "execution_count": 14,
   "id": "4c8823bc",
   "metadata": {},
   "outputs": [
    {
     "name": "stdout",
     "output_type": "stream",
     "text": [
      "root\n",
      " |-- CallNumber: integer (nullable = true)\n",
      " |-- UnitID: string (nullable = true)\n",
      " |-- IncidentNumber: integer (nullable = true)\n",
      " |-- CallType: string (nullable = true)\n",
      " |-- CallDate: string (nullable = true)\n",
      " |-- WatchDate: string (nullable = true)\n",
      " |-- CallFinalDisposition: string (nullable = true)\n",
      " |-- AvailableDtTm: string (nullable = true)\n",
      " |-- Address: string (nullable = true)\n",
      " |-- City: string (nullable = true)\n",
      " |-- Zipcode: integer (nullable = true)\n",
      " |-- Battalion: string (nullable = true)\n",
      " |-- StationArea: string (nullable = true)\n",
      " |-- Box: string (nullable = true)\n",
      " |-- OriginalPriority: string (nullable = true)\n",
      " |-- Priority: string (nullable = true)\n",
      " |-- FinalPriority: integer (nullable = true)\n",
      " |-- ALSUnit: boolean (nullable = true)\n",
      " |-- CallTypeGroup: string (nullable = true)\n",
      " |-- NumAlarms: integer (nullable = true)\n",
      " |-- UnitType: string (nullable = true)\n",
      " |-- UnitSequenceInCallDispatch: integer (nullable = true)\n",
      " |-- FirePreventionDistrict: string (nullable = true)\n",
      " |-- SupervisorDistrict: string (nullable = true)\n",
      " |-- Neighborhood: string (nullable = true)\n",
      " |-- Location: string (nullable = true)\n",
      " |-- RowID: string (nullable = true)\n",
      " |-- Delay: double (nullable = true)\n",
      "\n"
     ]
    }
   ],
   "source": [
    "fire_df.printSchema()"
   ]
  },
  {
   "cell_type": "code",
   "execution_count": 19,
   "id": "a183d92b",
   "metadata": {},
   "outputs": [],
   "source": [
    "from pyspark.sql import functions as F"
   ]
  },
  {
   "cell_type": "code",
   "execution_count": 20,
   "id": "d796372a",
   "metadata": {},
   "outputs": [
    {
     "name": "stdout",
     "output_type": "stream",
     "text": [
      "+--------------+----------------------+--------------+\n",
      "|IncidentNumber|AvailableDtTm         |CallType      |\n",
      "+--------------+----------------------+--------------+\n",
      "|2003235       |01/11/2002 01:51:44 AM|Structure Fire|\n",
      "|2003250       |01/11/2002 04:16:46 AM|Vehicle Fire  |\n",
      "|2003259       |01/11/2002 06:01:58 AM|Alarms        |\n",
      "|2003279       |01/11/2002 08:03:26 AM|Structure Fire|\n",
      "|2003301       |01/11/2002 09:46:44 AM|Alarms        |\n",
      "+--------------+----------------------+--------------+\n",
      "only showing top 5 rows\n",
      "\n"
     ]
    }
   ],
   "source": [
    "few_fire_df= (fire_df\n",
    "    .select(\"IncidentNumber\", \"AvailableDtTm\", \"CallType\")\n",
    "    .where(F.col(\"CallType\") != \"Medical Incident\"))\n",
    "few_fire_df.show(5, truncate=False)"
   ]
  },
  {
   "cell_type": "code",
   "execution_count": 24,
   "id": "8b635ddf",
   "metadata": {},
   "outputs": [
    {
     "name": "stderr",
     "output_type": "stream",
     "text": [
      "[Stage 6:===================================================>   (189 + 2) / 200]\r"
     ]
    },
    {
     "name": "stdout",
     "output_type": "stream",
     "text": [
      "+-----------------+\n",
      "|DistinctCallTypes|\n",
      "+-----------------+\n",
      "|               30|\n",
      "+-----------------+\n",
      "\n"
     ]
    },
    {
     "name": "stderr",
     "output_type": "stream",
     "text": [
      "\r",
      "                                                                                \r"
     ]
    }
   ],
   "source": [
    "# 화제 신고로 기록된 calltype 종류 \n",
    "#countDistinct()\n",
    "\n",
    "(fire_df \n",
    "    .select(\"CallType\")\n",
    "    .where(F.col(\"CallType\").isNotNull())\n",
    "    .agg(F.countDistinct(\"CallType\").alias(\"DistinctCallTypes\"))\n",
    "    .show())"
   ]
  },
  {
   "cell_type": "code",
   "execution_count": 26,
   "id": "22d4bc08",
   "metadata": {},
   "outputs": [
    {
     "name": "stdout",
     "output_type": "stream",
     "text": [
      "+-----------------------------------+\n",
      "|CallType                           |\n",
      "+-----------------------------------+\n",
      "|Elevator / Escalator Rescue        |\n",
      "|Marine Fire                        |\n",
      "|Aircraft Emergency                 |\n",
      "|Confined Space / Structure Collapse|\n",
      "|Administrative                     |\n",
      "|Alarms                             |\n",
      "|Odor (Strange / Unknown)           |\n",
      "|Citizen Assist / Service Call      |\n",
      "|HazMat                             |\n",
      "|Watercraft in Distress             |\n",
      "+-----------------------------------+\n",
      "only showing top 10 rows\n",
      "\n"
     ]
    }
   ],
   "source": [
    "#신고타입의 목록 NULL이 아닌 개별 CallType을 추출\n",
    "\n",
    "(fire_df\n",
    "    .select(\"CallType\")\n",
    "    .where(F.col(\"CallType\").isNotNull())\n",
    "    .distinct()\n",
    "    .show(10,False))"
   ]
  },
  {
   "cell_type": "code",
   "execution_count": 28,
   "id": "0d225b8c",
   "metadata": {},
   "outputs": [
    {
     "name": "stdout",
     "output_type": "stream",
     "text": [
      "+---------------------+\n",
      "|ResponseDelayedinMins|\n",
      "+---------------------+\n",
      "|5.35                 |\n",
      "|6.25                 |\n",
      "|5.2                  |\n",
      "|5.6                  |\n",
      "|7.25                 |\n",
      "+---------------------+\n",
      "only showing top 5 rows\n",
      "\n"
     ]
    }
   ],
   "source": [
    "#칼럼 이름 변경 withColumnRenamed()\n",
    "#Delay-> ResponseDelayedinMins 로변경\n",
    "\n",
    "new_fire_df= fire_df.withColumnRenamed(\"Delay\", \"ResponseDelayedinMins\")\n",
    "(new_fire_df\n",
    "    .select(\"ResponseDelayedinMins\")\n",
    "    .where(F.col(\"ResponseDelayedinMins\")>5)\n",
    "     .show(5, False))"
   ]
  },
  {
   "cell_type": "code",
   "execution_count": 54,
   "id": "6396c6c4",
   "metadata": {
    "scrolled": true
   },
   "outputs": [],
   "source": [
    "#칼럼 타입 변경\n",
    "\n",
    "fire_ts_df= (new_fire_df\n",
    "    .withColumn(\"IncidentDate\", F.to_timestamp(F.col(\"CallDate\"), \"MM/dd/yyyy\"))\n",
    "    .drop(\"CallDate\")\n",
    "    .withColumn(\"OnWatchDate\", F.to_timestamp(F.col(\"WatchDate\"), \"MM/dd/yyyy\"))\n",
    "    .drop(\"WatchDate\")\n",
    "    .withColumn(\"AvailableDtTS\", F.to_timestamp(F.col(\"AvailableDtTm\"), \"MM/dd/yyyy hh:mm:ssa\"))\n",
    "    .drop(\"AvailableDtTm\"))\n"
   ]
  },
  {
   "cell_type": "code",
   "execution_count": 57,
   "id": "f6c72c6e",
   "metadata": {},
   "outputs": [
    {
     "data": {
      "text/plain": [
       "['CallNumber',\n",
       " 'UnitID',\n",
       " 'IncidentNumber',\n",
       " 'CallType',\n",
       " 'CallFinalDisposition',\n",
       " 'Address',\n",
       " 'City',\n",
       " 'Zipcode',\n",
       " 'Battalion',\n",
       " 'StationArea',\n",
       " 'Box',\n",
       " 'OriginalPriority',\n",
       " 'Priority',\n",
       " 'FinalPriority',\n",
       " 'ALSUnit',\n",
       " 'CallTypeGroup',\n",
       " 'NumAlarms',\n",
       " 'UnitType',\n",
       " 'UnitSequenceInCallDispatch',\n",
       " 'FirePreventionDistrict',\n",
       " 'SupervisorDistrict',\n",
       " 'Neighborhood',\n",
       " 'Location',\n",
       " 'RowID',\n",
       " 'ResponseDelayedinMins',\n",
       " 'IncidentDate',\n",
       " 'OnWatchDate']"
      ]
     },
     "execution_count": 57,
     "metadata": {},
     "output_type": "execute_result"
    }
   ],
   "source": [
    "fire_ts_df.columns"
   ]
  },
  {
   "cell_type": "code",
   "execution_count": 60,
   "id": "e24aaa8b",
   "metadata": {
    "scrolled": false
   },
   "outputs": [
    {
     "name": "stdout",
     "output_type": "stream",
     "text": [
      "+----------+------+--------------+----------------+--------------------+---------------------------+----+-------+---------+-----------+----+----------------+--------+-------------+-------+-------------+---------+--------+--------------------------+----------------------+------------------+---------------------+-------------------------------------+-------------+---------------------+-------------------+-------------------+\n",
      "|CallNumber|UnitID|IncidentNumber|CallType        |CallFinalDisposition|Address                    |City|Zipcode|Battalion|StationArea|Box |OriginalPriority|Priority|FinalPriority|ALSUnit|CallTypeGroup|NumAlarms|UnitType|UnitSequenceInCallDispatch|FirePreventionDistrict|SupervisorDistrict|Neighborhood         |Location                             |RowID        |ResponseDelayedinMins|IncidentDate       |OnWatchDate        |\n",
      "+----------+------+--------------+----------------+--------------------+---------------------------+----+-------+---------+-----------+----+----------------+--------+-------------+-------+-------------+---------+--------+--------------------------+----------------------+------------------+---------------------+-------------------------------------+-------------+---------------------+-------------------+-------------------+\n",
      "|20110016  |T13   |2003235       |Structure Fire  |Other               |2000 Block of CALIFORNIA ST|SF  |94109  |B04      |38         |3362|3               |3       |3            |false  |null         |1        |TRUCK   |2                         |4                     |5                 |Pacific Heights      |(37.7895840679362, -122.428071912459)|020110016-T13|2.95                 |2002-01-11 00:00:00|2002-01-10 00:00:00|\n",
      "|20110022  |M17   |2003241       |Medical Incident|Other               |0 Block of SILVERVIEW DR   |SF  |94124  |B10      |42         |6495|3               |3       |3            |true   |null         |1        |MEDIC   |1                         |10                    |10                |Bayview Hunters Point|(37.7337623673897, -122.396113802632)|020110022-M17|4.7                  |2002-01-11 00:00:00|2002-01-10 00:00:00|\n",
      "|20110023  |M41   |2003242       |Medical Incident|Other               |MARKET ST/MCALLISTER ST    |SF  |94102  |B03      |01         |1455|3               |3       |3            |true   |null         |1        |MEDIC   |2                         |3                     |6                 |Tenderloin           |(37.7811772186856, -122.411699931232)|020110023-M41|2.4333334            |2002-01-11 00:00:00|2002-01-10 00:00:00|\n",
      "|20110032  |E11   |2003250       |Vehicle Fire    |Other               |APPLETON AV/MISSION ST     |SF  |94110  |B06      |32         |5626|3               |3       |3            |false  |null         |1        |ENGINE  |1                         |6                     |9                 |Bernal Heights       |(37.7388432849018, -122.423948785199)|020110032-E11|1.5                  |2002-01-11 00:00:00|2002-01-10 00:00:00|\n",
      "|20110043  |B04   |2003259       |Alarms          |Other               |1400 Block of SUTTER ST    |SF  |94109  |B04      |03         |3223|3               |3       |3            |false  |null         |1        |CHIEF   |2                         |4                     |2                 |Western Addition     |(37.7872890372638, -122.424236212664)|020110043-B04|3.4833333            |2002-01-11 00:00:00|2002-01-10 00:00:00|\n",
      "+----------+------+--------------+----------------+--------------------+---------------------------+----+-------+---------+-----------+----+----------------+--------+-------------+-------+-------------+---------+--------+--------------------------+----------------------+------------------+---------------------+-------------------------------------+-------------+---------------------+-------------------+-------------------+\n",
      "only showing top 5 rows\n",
      "\n"
     ]
    }
   ],
   "source": [
    "fire_ts_df.filter(F.col(\"AvailableDtTm\").isNull()).show(5, False)"
   ]
  },
  {
   "cell_type": "code",
   "execution_count": 56,
   "id": "aef8444d",
   "metadata": {},
   "outputs": [
    {
     "ename": "AnalysisException",
     "evalue": "cannot resolve '`AvailableDtTS`' given input columns: [ALSUnit, Address, Battalion, Box, CallFinalDisposition, CallNumber, CallType, CallTypeGroup, City, FinalPriority, FirePreventionDistrict, IncidentDate, IncidentNumber, Location, Neighborhood, NumAlarms, OnWatchDate, OriginalPriority, Priority, ResponseDelayedinMins, RowID, StationArea, SupervisorDistrict, UnitID, UnitSequenceInCallDispatch, UnitType, Zipcode];\n'Project [IncidentDate#1174, OnWatchDate#1232, 'AvailableDtTS]\n+- Project [CallNumber#88, UnitID#89, IncidentNumber#90, CallType#91, CallFinalDisposition#94, Address#96, City#97, Zipcode#98, Battalion#99, StationArea#100, Box#101, OriginalPriority#102, Priority#103, FinalPriority#104, ALSUnit#105, CallTypeGroup#106, NumAlarms#107, UnitType#108, UnitSequenceInCallDispatch#109, FirePreventionDistrict#110, SupervisorDistrict#111, Neighborhood#112, Location#113, RowID#114, ... 3 more fields]\n   +- Project [CallNumber#88, UnitID#89, IncidentNumber#90, CallType#91, CallFinalDisposition#94, to_timestamp('AvailableDtTm, Some(MM/dd/yyyy hh:mm:ssa)) AS AvailableDtTm#1290, Address#96, City#97, Zipcode#98, Battalion#99, StationArea#100, Box#101, OriginalPriority#102, Priority#103, FinalPriority#104, ALSUnit#105, CallTypeGroup#106, NumAlarms#107, UnitType#108, UnitSequenceInCallDispatch#109, FirePreventionDistrict#110, SupervisorDistrict#111, Neighborhood#112, Location#113, ... 4 more fields]\n      +- Project [CallNumber#88, UnitID#89, IncidentNumber#90, CallType#91, CallFinalDisposition#94, AvailableDtTm#95, Address#96, City#97, Zipcode#98, Battalion#99, StationArea#100, Box#101, OriginalPriority#102, Priority#103, FinalPriority#104, ALSUnit#105, CallTypeGroup#106, NumAlarms#107, UnitType#108, UnitSequenceInCallDispatch#109, FirePreventionDistrict#110, SupervisorDistrict#111, Neighborhood#112, Location#113, ... 4 more fields]\n         +- Project [CallNumber#88, UnitID#89, IncidentNumber#90, CallType#91, WatchDate#93, CallFinalDisposition#94, AvailableDtTm#95, Address#96, City#97, Zipcode#98, Battalion#99, StationArea#100, Box#101, OriginalPriority#102, Priority#103, FinalPriority#104, ALSUnit#105, CallTypeGroup#106, NumAlarms#107, UnitType#108, UnitSequenceInCallDispatch#109, FirePreventionDistrict#110, SupervisorDistrict#111, Neighborhood#112, ... 5 more fields]\n            +- Project [CallNumber#88, UnitID#89, IncidentNumber#90, CallType#91, WatchDate#93, CallFinalDisposition#94, AvailableDtTm#95, Address#96, City#97, Zipcode#98, Battalion#99, StationArea#100, Box#101, OriginalPriority#102, Priority#103, FinalPriority#104, ALSUnit#105, CallTypeGroup#106, NumAlarms#107, UnitType#108, UnitSequenceInCallDispatch#109, FirePreventionDistrict#110, SupervisorDistrict#111, Neighborhood#112, ... 4 more fields]\n               +- Project [CallNumber#88, UnitID#89, IncidentNumber#90, CallType#91, CallDate#92, WatchDate#93, CallFinalDisposition#94, AvailableDtTm#95, Address#96, City#97, Zipcode#98, Battalion#99, StationArea#100, Box#101, OriginalPriority#102, Priority#103, FinalPriority#104, ALSUnit#105, CallTypeGroup#106, NumAlarms#107, UnitType#108, UnitSequenceInCallDispatch#109, FirePreventionDistrict#110, SupervisorDistrict#111, ... 5 more fields]\n                  +- Project [CallNumber#88, UnitID#89, IncidentNumber#90, CallType#91, CallDate#92, WatchDate#93, CallFinalDisposition#94, AvailableDtTm#95, Address#96, City#97, Zipcode#98, Battalion#99, StationArea#100, Box#101, OriginalPriority#102, Priority#103, FinalPriority#104, ALSUnit#105, CallTypeGroup#106, NumAlarms#107, UnitType#108, UnitSequenceInCallDispatch#109, FirePreventionDistrict#110, SupervisorDistrict#111, ... 4 more fields]\n                     +- Relation[CallNumber#88,UnitID#89,IncidentNumber#90,CallType#91,CallDate#92,WatchDate#93,CallFinalDisposition#94,AvailableDtTm#95,Address#96,City#97,Zipcode#98,Battalion#99,StationArea#100,Box#101,OriginalPriority#102,Priority#103,FinalPriority#104,ALSUnit#105,CallTypeGroup#106,NumAlarms#107,UnitType#108,UnitSequenceInCallDispatch#109,FirePreventionDistrict#110,SupervisorDistrict#111,... 4 more fields] csv\n",
     "output_type": "error",
     "traceback": [
      "\u001b[0;31m---------------------------------------------------------------------------\u001b[0m",
      "\u001b[0;31mAnalysisException\u001b[0m                         Traceback (most recent call last)",
      "Cell \u001b[0;32mIn[56], line 1\u001b[0m\n\u001b[0;32m----> 1\u001b[0m (\u001b[43mfire_ts_df\u001b[49m\n\u001b[1;32m      2\u001b[0m \u001b[43m    \u001b[49m\u001b[38;5;241;43m.\u001b[39;49m\u001b[43mselect\u001b[49m\u001b[43m(\u001b[49m\u001b[38;5;124;43m\"\u001b[39;49m\u001b[38;5;124;43mIncidentDate\u001b[39;49m\u001b[38;5;124;43m\"\u001b[39;49m\u001b[43m,\u001b[49m\u001b[38;5;124;43m\"\u001b[39;49m\u001b[38;5;124;43mOnWatchDate\u001b[39;49m\u001b[38;5;124;43m\"\u001b[39;49m\u001b[43m,\u001b[49m\u001b[38;5;124;43m\"\u001b[39;49m\u001b[38;5;124;43mAvailableDtTS\u001b[39;49m\u001b[38;5;124;43m\"\u001b[39;49m\u001b[43m)\u001b[49m\n\u001b[1;32m      3\u001b[0m     \u001b[38;5;241m.\u001b[39mshow(\u001b[38;5;241m5\u001b[39m,\u001b[38;5;28;01mFalse\u001b[39;00m))\n",
      "File \u001b[0;32m/opt/spark/python/pyspark/sql/dataframe.py:1669\u001b[0m, in \u001b[0;36mDataFrame.select\u001b[0;34m(self, *cols)\u001b[0m\n\u001b[1;32m   1648\u001b[0m \u001b[38;5;28;01mdef\u001b[39;00m \u001b[38;5;21mselect\u001b[39m(\u001b[38;5;28mself\u001b[39m, \u001b[38;5;241m*\u001b[39mcols):\n\u001b[1;32m   1649\u001b[0m \u001b[38;5;250m    \u001b[39m\u001b[38;5;124;03m\"\"\"Projects a set of expressions and returns a new :class:`DataFrame`.\u001b[39;00m\n\u001b[1;32m   1650\u001b[0m \n\u001b[1;32m   1651\u001b[0m \u001b[38;5;124;03m    .. versionadded:: 1.3.0\u001b[39;00m\n\u001b[0;32m   (...)\u001b[0m\n\u001b[1;32m   1667\u001b[0m \u001b[38;5;124;03m    [Row(name='Alice', age=12), Row(name='Bob', age=15)]\u001b[39;00m\n\u001b[1;32m   1668\u001b[0m \u001b[38;5;124;03m    \"\"\"\u001b[39;00m\n\u001b[0;32m-> 1669\u001b[0m     jdf \u001b[38;5;241m=\u001b[39m \u001b[38;5;28;43mself\u001b[39;49m\u001b[38;5;241;43m.\u001b[39;49m\u001b[43m_jdf\u001b[49m\u001b[38;5;241;43m.\u001b[39;49m\u001b[43mselect\u001b[49m\u001b[43m(\u001b[49m\u001b[38;5;28;43mself\u001b[39;49m\u001b[38;5;241;43m.\u001b[39;49m\u001b[43m_jcols\u001b[49m\u001b[43m(\u001b[49m\u001b[38;5;241;43m*\u001b[39;49m\u001b[43mcols\u001b[49m\u001b[43m)\u001b[49m\u001b[43m)\u001b[49m\n\u001b[1;32m   1670\u001b[0m     \u001b[38;5;28;01mreturn\u001b[39;00m DataFrame(jdf, \u001b[38;5;28mself\u001b[39m\u001b[38;5;241m.\u001b[39msql_ctx)\n",
      "File \u001b[0;32m/opt/spark/python/lib/py4j-0.10.9-src.zip/py4j/java_gateway.py:1304\u001b[0m, in \u001b[0;36mJavaMember.__call__\u001b[0;34m(self, *args)\u001b[0m\n\u001b[1;32m   1298\u001b[0m command \u001b[38;5;241m=\u001b[39m proto\u001b[38;5;241m.\u001b[39mCALL_COMMAND_NAME \u001b[38;5;241m+\u001b[39m\\\n\u001b[1;32m   1299\u001b[0m     \u001b[38;5;28mself\u001b[39m\u001b[38;5;241m.\u001b[39mcommand_header \u001b[38;5;241m+\u001b[39m\\\n\u001b[1;32m   1300\u001b[0m     args_command \u001b[38;5;241m+\u001b[39m\\\n\u001b[1;32m   1301\u001b[0m     proto\u001b[38;5;241m.\u001b[39mEND_COMMAND_PART\n\u001b[1;32m   1303\u001b[0m answer \u001b[38;5;241m=\u001b[39m \u001b[38;5;28mself\u001b[39m\u001b[38;5;241m.\u001b[39mgateway_client\u001b[38;5;241m.\u001b[39msend_command(command)\n\u001b[0;32m-> 1304\u001b[0m return_value \u001b[38;5;241m=\u001b[39m \u001b[43mget_return_value\u001b[49m\u001b[43m(\u001b[49m\n\u001b[1;32m   1305\u001b[0m \u001b[43m    \u001b[49m\u001b[43manswer\u001b[49m\u001b[43m,\u001b[49m\u001b[43m \u001b[49m\u001b[38;5;28;43mself\u001b[39;49m\u001b[38;5;241;43m.\u001b[39;49m\u001b[43mgateway_client\u001b[49m\u001b[43m,\u001b[49m\u001b[43m \u001b[49m\u001b[38;5;28;43mself\u001b[39;49m\u001b[38;5;241;43m.\u001b[39;49m\u001b[43mtarget_id\u001b[49m\u001b[43m,\u001b[49m\u001b[43m \u001b[49m\u001b[38;5;28;43mself\u001b[39;49m\u001b[38;5;241;43m.\u001b[39;49m\u001b[43mname\u001b[49m\u001b[43m)\u001b[49m\n\u001b[1;32m   1307\u001b[0m \u001b[38;5;28;01mfor\u001b[39;00m temp_arg \u001b[38;5;129;01min\u001b[39;00m temp_args:\n\u001b[1;32m   1308\u001b[0m     temp_arg\u001b[38;5;241m.\u001b[39m_detach()\n",
      "File \u001b[0;32m/opt/spark/python/pyspark/sql/utils.py:117\u001b[0m, in \u001b[0;36mcapture_sql_exception.<locals>.deco\u001b[0;34m(*a, **kw)\u001b[0m\n\u001b[1;32m    113\u001b[0m converted \u001b[38;5;241m=\u001b[39m convert_exception(e\u001b[38;5;241m.\u001b[39mjava_exception)\n\u001b[1;32m    114\u001b[0m \u001b[38;5;28;01mif\u001b[39;00m \u001b[38;5;129;01mnot\u001b[39;00m \u001b[38;5;28misinstance\u001b[39m(converted, UnknownException):\n\u001b[1;32m    115\u001b[0m     \u001b[38;5;66;03m# Hide where the exception came from that shows a non-Pythonic\u001b[39;00m\n\u001b[1;32m    116\u001b[0m     \u001b[38;5;66;03m# JVM exception message.\u001b[39;00m\n\u001b[0;32m--> 117\u001b[0m     \u001b[38;5;28;01mraise\u001b[39;00m converted \u001b[38;5;28;01mfrom\u001b[39;00m \u001b[38;5;28;01mNone\u001b[39;00m\n\u001b[1;32m    118\u001b[0m \u001b[38;5;28;01melse\u001b[39;00m:\n\u001b[1;32m    119\u001b[0m     \u001b[38;5;28;01mraise\u001b[39;00m\n",
      "\u001b[0;31mAnalysisException\u001b[0m: cannot resolve '`AvailableDtTS`' given input columns: [ALSUnit, Address, Battalion, Box, CallFinalDisposition, CallNumber, CallType, CallTypeGroup, City, FinalPriority, FirePreventionDistrict, IncidentDate, IncidentNumber, Location, Neighborhood, NumAlarms, OnWatchDate, OriginalPriority, Priority, ResponseDelayedinMins, RowID, StationArea, SupervisorDistrict, UnitID, UnitSequenceInCallDispatch, UnitType, Zipcode];\n'Project [IncidentDate#1174, OnWatchDate#1232, 'AvailableDtTS]\n+- Project [CallNumber#88, UnitID#89, IncidentNumber#90, CallType#91, CallFinalDisposition#94, Address#96, City#97, Zipcode#98, Battalion#99, StationArea#100, Box#101, OriginalPriority#102, Priority#103, FinalPriority#104, ALSUnit#105, CallTypeGroup#106, NumAlarms#107, UnitType#108, UnitSequenceInCallDispatch#109, FirePreventionDistrict#110, SupervisorDistrict#111, Neighborhood#112, Location#113, RowID#114, ... 3 more fields]\n   +- Project [CallNumber#88, UnitID#89, IncidentNumber#90, CallType#91, CallFinalDisposition#94, to_timestamp('AvailableDtTm, Some(MM/dd/yyyy hh:mm:ssa)) AS AvailableDtTm#1290, Address#96, City#97, Zipcode#98, Battalion#99, StationArea#100, Box#101, OriginalPriority#102, Priority#103, FinalPriority#104, ALSUnit#105, CallTypeGroup#106, NumAlarms#107, UnitType#108, UnitSequenceInCallDispatch#109, FirePreventionDistrict#110, SupervisorDistrict#111, Neighborhood#112, Location#113, ... 4 more fields]\n      +- Project [CallNumber#88, UnitID#89, IncidentNumber#90, CallType#91, CallFinalDisposition#94, AvailableDtTm#95, Address#96, City#97, Zipcode#98, Battalion#99, StationArea#100, Box#101, OriginalPriority#102, Priority#103, FinalPriority#104, ALSUnit#105, CallTypeGroup#106, NumAlarms#107, UnitType#108, UnitSequenceInCallDispatch#109, FirePreventionDistrict#110, SupervisorDistrict#111, Neighborhood#112, Location#113, ... 4 more fields]\n         +- Project [CallNumber#88, UnitID#89, IncidentNumber#90, CallType#91, WatchDate#93, CallFinalDisposition#94, AvailableDtTm#95, Address#96, City#97, Zipcode#98, Battalion#99, StationArea#100, Box#101, OriginalPriority#102, Priority#103, FinalPriority#104, ALSUnit#105, CallTypeGroup#106, NumAlarms#107, UnitType#108, UnitSequenceInCallDispatch#109, FirePreventionDistrict#110, SupervisorDistrict#111, Neighborhood#112, ... 5 more fields]\n            +- Project [CallNumber#88, UnitID#89, IncidentNumber#90, CallType#91, WatchDate#93, CallFinalDisposition#94, AvailableDtTm#95, Address#96, City#97, Zipcode#98, Battalion#99, StationArea#100, Box#101, OriginalPriority#102, Priority#103, FinalPriority#104, ALSUnit#105, CallTypeGroup#106, NumAlarms#107, UnitType#108, UnitSequenceInCallDispatch#109, FirePreventionDistrict#110, SupervisorDistrict#111, Neighborhood#112, ... 4 more fields]\n               +- Project [CallNumber#88, UnitID#89, IncidentNumber#90, CallType#91, CallDate#92, WatchDate#93, CallFinalDisposition#94, AvailableDtTm#95, Address#96, City#97, Zipcode#98, Battalion#99, StationArea#100, Box#101, OriginalPriority#102, Priority#103, FinalPriority#104, ALSUnit#105, CallTypeGroup#106, NumAlarms#107, UnitType#108, UnitSequenceInCallDispatch#109, FirePreventionDistrict#110, SupervisorDistrict#111, ... 5 more fields]\n                  +- Project [CallNumber#88, UnitID#89, IncidentNumber#90, CallType#91, CallDate#92, WatchDate#93, CallFinalDisposition#94, AvailableDtTm#95, Address#96, City#97, Zipcode#98, Battalion#99, StationArea#100, Box#101, OriginalPriority#102, Priority#103, FinalPriority#104, ALSUnit#105, CallTypeGroup#106, NumAlarms#107, UnitType#108, UnitSequenceInCallDispatch#109, FirePreventionDistrict#110, SupervisorDistrict#111, ... 4 more fields]\n                     +- Relation[CallNumber#88,UnitID#89,IncidentNumber#90,CallType#91,CallDate#92,WatchDate#93,CallFinalDisposition#94,AvailableDtTm#95,Address#96,City#97,Zipcode#98,Battalion#99,StationArea#100,Box#101,OriginalPriority#102,Priority#103,FinalPriority#104,ALSUnit#105,CallTypeGroup#106,NumAlarms#107,UnitType#108,UnitSequenceInCallDispatch#109,FirePreventionDistrict#110,SupervisorDistrict#111,... 4 more fields] csv\n"
     ]
    }
   ],
   "source": [
    "(fire_ts_df\n",
    "    .select(\"IncidentDate\",\"OnWatchDate\",\"AvailableDtTS\")\n",
    "    .show(5,False))"
   ]
  },
  {
   "cell_type": "code",
   "execution_count": 37,
   "id": "ee9f7cad",
   "metadata": {},
   "outputs": [
    {
     "name": "stdout",
     "output_type": "stream",
     "text": [
      "+----------+\n",
      "|  CallDate|\n",
      "+----------+\n",
      "|01/11/2002|\n",
      "|01/11/2002|\n",
      "|01/11/2002|\n",
      "|01/11/2002|\n",
      "|01/11/2002|\n",
      "+----------+\n",
      "only showing top 5 rows\n",
      "\n"
     ]
    }
   ],
   "source": [
    "new_fire_df.select(\"CallDate\").show(5)"
   ]
  },
  {
   "cell_type": "code",
   "execution_count": 40,
   "id": "1d9195a2",
   "metadata": {
    "scrolled": true
   },
   "outputs": [
    {
     "ename": "AnalysisException",
     "evalue": "cannot resolve '`OnWatchDate`' given input columns: [ALSUnit, Address, AvailableDtTm, Battalion, Box, CallDate, CallFinalDisposition, CallNumber, CallType, CallTypeGroup, City, FinalPriority, FirePreventionDistrict, IncidentNumber, Location, Neighborhood, NumAlarms, OriginalPriority, Priority, ResponseDelayedinMins, RowID, StationArea, SupervisorDistrict, UnitID, UnitSequenceInCallDispatch, UnitType, WatchDate, Zipcode];\n'Project ['OnWatchDate]\n+- Project [CallNumber#88, UnitID#89, IncidentNumber#90, CallType#91, CallDate#92, WatchDate#93, CallFinalDisposition#94, AvailableDtTm#95, Address#96, City#97, Zipcode#98, Battalion#99, StationArea#100, Box#101, OriginalPriority#102, Priority#103, FinalPriority#104, ALSUnit#105, CallTypeGroup#106, NumAlarms#107, UnitType#108, UnitSequenceInCallDispatch#109, FirePreventionDistrict#110, SupervisorDistrict#111, ... 4 more fields]\n   +- Relation[CallNumber#88,UnitID#89,IncidentNumber#90,CallType#91,CallDate#92,WatchDate#93,CallFinalDisposition#94,AvailableDtTm#95,Address#96,City#97,Zipcode#98,Battalion#99,StationArea#100,Box#101,OriginalPriority#102,Priority#103,FinalPriority#104,ALSUnit#105,CallTypeGroup#106,NumAlarms#107,UnitType#108,UnitSequenceInCallDispatch#109,FirePreventionDistrict#110,SupervisorDistrict#111,... 4 more fields] csv\n",
     "output_type": "error",
     "traceback": [
      "\u001b[0;31m---------------------------------------------------------------------------\u001b[0m",
      "\u001b[0;31mAnalysisException\u001b[0m                         Traceback (most recent call last)",
      "Cell \u001b[0;32mIn[40], line 1\u001b[0m\n\u001b[0;32m----> 1\u001b[0m \u001b[43mnew_fire_df\u001b[49m\u001b[38;5;241;43m.\u001b[39;49m\u001b[43mselect\u001b[49m\u001b[43m(\u001b[49m\u001b[38;5;124;43m\"\u001b[39;49m\u001b[38;5;124;43mOnWatchDate\u001b[39;49m\u001b[38;5;124;43m\"\u001b[39;49m\u001b[43m)\u001b[49m\u001b[38;5;241m.\u001b[39mshow(\u001b[38;5;241m5\u001b[39m)\n",
      "File \u001b[0;32m/opt/spark/python/pyspark/sql/dataframe.py:1669\u001b[0m, in \u001b[0;36mDataFrame.select\u001b[0;34m(self, *cols)\u001b[0m\n\u001b[1;32m   1648\u001b[0m \u001b[38;5;28;01mdef\u001b[39;00m \u001b[38;5;21mselect\u001b[39m(\u001b[38;5;28mself\u001b[39m, \u001b[38;5;241m*\u001b[39mcols):\n\u001b[1;32m   1649\u001b[0m \u001b[38;5;250m    \u001b[39m\u001b[38;5;124;03m\"\"\"Projects a set of expressions and returns a new :class:`DataFrame`.\u001b[39;00m\n\u001b[1;32m   1650\u001b[0m \n\u001b[1;32m   1651\u001b[0m \u001b[38;5;124;03m    .. versionadded:: 1.3.0\u001b[39;00m\n\u001b[0;32m   (...)\u001b[0m\n\u001b[1;32m   1667\u001b[0m \u001b[38;5;124;03m    [Row(name='Alice', age=12), Row(name='Bob', age=15)]\u001b[39;00m\n\u001b[1;32m   1668\u001b[0m \u001b[38;5;124;03m    \"\"\"\u001b[39;00m\n\u001b[0;32m-> 1669\u001b[0m     jdf \u001b[38;5;241m=\u001b[39m \u001b[38;5;28;43mself\u001b[39;49m\u001b[38;5;241;43m.\u001b[39;49m\u001b[43m_jdf\u001b[49m\u001b[38;5;241;43m.\u001b[39;49m\u001b[43mselect\u001b[49m\u001b[43m(\u001b[49m\u001b[38;5;28;43mself\u001b[39;49m\u001b[38;5;241;43m.\u001b[39;49m\u001b[43m_jcols\u001b[49m\u001b[43m(\u001b[49m\u001b[38;5;241;43m*\u001b[39;49m\u001b[43mcols\u001b[49m\u001b[43m)\u001b[49m\u001b[43m)\u001b[49m\n\u001b[1;32m   1670\u001b[0m     \u001b[38;5;28;01mreturn\u001b[39;00m DataFrame(jdf, \u001b[38;5;28mself\u001b[39m\u001b[38;5;241m.\u001b[39msql_ctx)\n",
      "File \u001b[0;32m/opt/spark/python/lib/py4j-0.10.9-src.zip/py4j/java_gateway.py:1304\u001b[0m, in \u001b[0;36mJavaMember.__call__\u001b[0;34m(self, *args)\u001b[0m\n\u001b[1;32m   1298\u001b[0m command \u001b[38;5;241m=\u001b[39m proto\u001b[38;5;241m.\u001b[39mCALL_COMMAND_NAME \u001b[38;5;241m+\u001b[39m\\\n\u001b[1;32m   1299\u001b[0m     \u001b[38;5;28mself\u001b[39m\u001b[38;5;241m.\u001b[39mcommand_header \u001b[38;5;241m+\u001b[39m\\\n\u001b[1;32m   1300\u001b[0m     args_command \u001b[38;5;241m+\u001b[39m\\\n\u001b[1;32m   1301\u001b[0m     proto\u001b[38;5;241m.\u001b[39mEND_COMMAND_PART\n\u001b[1;32m   1303\u001b[0m answer \u001b[38;5;241m=\u001b[39m \u001b[38;5;28mself\u001b[39m\u001b[38;5;241m.\u001b[39mgateway_client\u001b[38;5;241m.\u001b[39msend_command(command)\n\u001b[0;32m-> 1304\u001b[0m return_value \u001b[38;5;241m=\u001b[39m \u001b[43mget_return_value\u001b[49m\u001b[43m(\u001b[49m\n\u001b[1;32m   1305\u001b[0m \u001b[43m    \u001b[49m\u001b[43manswer\u001b[49m\u001b[43m,\u001b[49m\u001b[43m \u001b[49m\u001b[38;5;28;43mself\u001b[39;49m\u001b[38;5;241;43m.\u001b[39;49m\u001b[43mgateway_client\u001b[49m\u001b[43m,\u001b[49m\u001b[43m \u001b[49m\u001b[38;5;28;43mself\u001b[39;49m\u001b[38;5;241;43m.\u001b[39;49m\u001b[43mtarget_id\u001b[49m\u001b[43m,\u001b[49m\u001b[43m \u001b[49m\u001b[38;5;28;43mself\u001b[39;49m\u001b[38;5;241;43m.\u001b[39;49m\u001b[43mname\u001b[49m\u001b[43m)\u001b[49m\n\u001b[1;32m   1307\u001b[0m \u001b[38;5;28;01mfor\u001b[39;00m temp_arg \u001b[38;5;129;01min\u001b[39;00m temp_args:\n\u001b[1;32m   1308\u001b[0m     temp_arg\u001b[38;5;241m.\u001b[39m_detach()\n",
      "File \u001b[0;32m/opt/spark/python/pyspark/sql/utils.py:117\u001b[0m, in \u001b[0;36mcapture_sql_exception.<locals>.deco\u001b[0;34m(*a, **kw)\u001b[0m\n\u001b[1;32m    113\u001b[0m converted \u001b[38;5;241m=\u001b[39m convert_exception(e\u001b[38;5;241m.\u001b[39mjava_exception)\n\u001b[1;32m    114\u001b[0m \u001b[38;5;28;01mif\u001b[39;00m \u001b[38;5;129;01mnot\u001b[39;00m \u001b[38;5;28misinstance\u001b[39m(converted, UnknownException):\n\u001b[1;32m    115\u001b[0m     \u001b[38;5;66;03m# Hide where the exception came from that shows a non-Pythonic\u001b[39;00m\n\u001b[1;32m    116\u001b[0m     \u001b[38;5;66;03m# JVM exception message.\u001b[39;00m\n\u001b[0;32m--> 117\u001b[0m     \u001b[38;5;28;01mraise\u001b[39;00m converted \u001b[38;5;28;01mfrom\u001b[39;00m \u001b[38;5;28;01mNone\u001b[39;00m\n\u001b[1;32m    118\u001b[0m \u001b[38;5;28;01melse\u001b[39;00m:\n\u001b[1;32m    119\u001b[0m     \u001b[38;5;28;01mraise\u001b[39;00m\n",
      "\u001b[0;31mAnalysisException\u001b[0m: cannot resolve '`OnWatchDate`' given input columns: [ALSUnit, Address, AvailableDtTm, Battalion, Box, CallDate, CallFinalDisposition, CallNumber, CallType, CallTypeGroup, City, FinalPriority, FirePreventionDistrict, IncidentNumber, Location, Neighborhood, NumAlarms, OriginalPriority, Priority, ResponseDelayedinMins, RowID, StationArea, SupervisorDistrict, UnitID, UnitSequenceInCallDispatch, UnitType, WatchDate, Zipcode];\n'Project ['OnWatchDate]\n+- Project [CallNumber#88, UnitID#89, IncidentNumber#90, CallType#91, CallDate#92, WatchDate#93, CallFinalDisposition#94, AvailableDtTm#95, Address#96, City#97, Zipcode#98, Battalion#99, StationArea#100, Box#101, OriginalPriority#102, Priority#103, FinalPriority#104, ALSUnit#105, CallTypeGroup#106, NumAlarms#107, UnitType#108, UnitSequenceInCallDispatch#109, FirePreventionDistrict#110, SupervisorDistrict#111, ... 4 more fields]\n   +- Relation[CallNumber#88,UnitID#89,IncidentNumber#90,CallType#91,CallDate#92,WatchDate#93,CallFinalDisposition#94,AvailableDtTm#95,Address#96,City#97,Zipcode#98,Battalion#99,StationArea#100,Box#101,OriginalPriority#102,Priority#103,FinalPriority#104,ALSUnit#105,CallTypeGroup#106,NumAlarms#107,UnitType#108,UnitSequenceInCallDispatch#109,FirePreventionDistrict#110,SupervisorDistrict#111,... 4 more fields] csv\n"
     ]
    }
   ],
   "source": [
    "new_fire_df.select(\"OnWatchDate\").show(5)"
   ]
  },
  {
   "cell_type": "code",
   "execution_count": 41,
   "id": "0492cc2b",
   "metadata": {},
   "outputs": [
    {
     "ename": "AnalysisException",
     "evalue": "cannot resolve '`AvailableDtTS`' given input columns: [ALSUnit, Address, AvailableDtTm, Battalion, Box, CallDate, CallFinalDisposition, CallNumber, CallType, CallTypeGroup, City, FinalPriority, FirePreventionDistrict, IncidentNumber, Location, Neighborhood, NumAlarms, OriginalPriority, Priority, ResponseDelayedinMins, RowID, StationArea, SupervisorDistrict, UnitID, UnitSequenceInCallDispatch, UnitType, WatchDate, Zipcode];\n'Project ['AvailableDtTS]\n+- Project [CallNumber#88, UnitID#89, IncidentNumber#90, CallType#91, CallDate#92, WatchDate#93, CallFinalDisposition#94, AvailableDtTm#95, Address#96, City#97, Zipcode#98, Battalion#99, StationArea#100, Box#101, OriginalPriority#102, Priority#103, FinalPriority#104, ALSUnit#105, CallTypeGroup#106, NumAlarms#107, UnitType#108, UnitSequenceInCallDispatch#109, FirePreventionDistrict#110, SupervisorDistrict#111, ... 4 more fields]\n   +- Relation[CallNumber#88,UnitID#89,IncidentNumber#90,CallType#91,CallDate#92,WatchDate#93,CallFinalDisposition#94,AvailableDtTm#95,Address#96,City#97,Zipcode#98,Battalion#99,StationArea#100,Box#101,OriginalPriority#102,Priority#103,FinalPriority#104,ALSUnit#105,CallTypeGroup#106,NumAlarms#107,UnitType#108,UnitSequenceInCallDispatch#109,FirePreventionDistrict#110,SupervisorDistrict#111,... 4 more fields] csv\n",
     "output_type": "error",
     "traceback": [
      "\u001b[0;31m---------------------------------------------------------------------------\u001b[0m",
      "\u001b[0;31mAnalysisException\u001b[0m                         Traceback (most recent call last)",
      "Cell \u001b[0;32mIn[41], line 1\u001b[0m\n\u001b[0;32m----> 1\u001b[0m \u001b[43mnew_fire_df\u001b[49m\u001b[38;5;241;43m.\u001b[39;49m\u001b[43mselect\u001b[49m\u001b[43m(\u001b[49m\u001b[38;5;124;43m\"\u001b[39;49m\u001b[38;5;124;43mAvailableDtTS\u001b[39;49m\u001b[38;5;124;43m\"\u001b[39;49m\u001b[43m)\u001b[49m\u001b[38;5;241m.\u001b[39mshow(\u001b[38;5;241m5\u001b[39m)\n",
      "File \u001b[0;32m/opt/spark/python/pyspark/sql/dataframe.py:1669\u001b[0m, in \u001b[0;36mDataFrame.select\u001b[0;34m(self, *cols)\u001b[0m\n\u001b[1;32m   1648\u001b[0m \u001b[38;5;28;01mdef\u001b[39;00m \u001b[38;5;21mselect\u001b[39m(\u001b[38;5;28mself\u001b[39m, \u001b[38;5;241m*\u001b[39mcols):\n\u001b[1;32m   1649\u001b[0m \u001b[38;5;250m    \u001b[39m\u001b[38;5;124;03m\"\"\"Projects a set of expressions and returns a new :class:`DataFrame`.\u001b[39;00m\n\u001b[1;32m   1650\u001b[0m \n\u001b[1;32m   1651\u001b[0m \u001b[38;5;124;03m    .. versionadded:: 1.3.0\u001b[39;00m\n\u001b[0;32m   (...)\u001b[0m\n\u001b[1;32m   1667\u001b[0m \u001b[38;5;124;03m    [Row(name='Alice', age=12), Row(name='Bob', age=15)]\u001b[39;00m\n\u001b[1;32m   1668\u001b[0m \u001b[38;5;124;03m    \"\"\"\u001b[39;00m\n\u001b[0;32m-> 1669\u001b[0m     jdf \u001b[38;5;241m=\u001b[39m \u001b[38;5;28;43mself\u001b[39;49m\u001b[38;5;241;43m.\u001b[39;49m\u001b[43m_jdf\u001b[49m\u001b[38;5;241;43m.\u001b[39;49m\u001b[43mselect\u001b[49m\u001b[43m(\u001b[49m\u001b[38;5;28;43mself\u001b[39;49m\u001b[38;5;241;43m.\u001b[39;49m\u001b[43m_jcols\u001b[49m\u001b[43m(\u001b[49m\u001b[38;5;241;43m*\u001b[39;49m\u001b[43mcols\u001b[49m\u001b[43m)\u001b[49m\u001b[43m)\u001b[49m\n\u001b[1;32m   1670\u001b[0m     \u001b[38;5;28;01mreturn\u001b[39;00m DataFrame(jdf, \u001b[38;5;28mself\u001b[39m\u001b[38;5;241m.\u001b[39msql_ctx)\n",
      "File \u001b[0;32m/opt/spark/python/lib/py4j-0.10.9-src.zip/py4j/java_gateway.py:1304\u001b[0m, in \u001b[0;36mJavaMember.__call__\u001b[0;34m(self, *args)\u001b[0m\n\u001b[1;32m   1298\u001b[0m command \u001b[38;5;241m=\u001b[39m proto\u001b[38;5;241m.\u001b[39mCALL_COMMAND_NAME \u001b[38;5;241m+\u001b[39m\\\n\u001b[1;32m   1299\u001b[0m     \u001b[38;5;28mself\u001b[39m\u001b[38;5;241m.\u001b[39mcommand_header \u001b[38;5;241m+\u001b[39m\\\n\u001b[1;32m   1300\u001b[0m     args_command \u001b[38;5;241m+\u001b[39m\\\n\u001b[1;32m   1301\u001b[0m     proto\u001b[38;5;241m.\u001b[39mEND_COMMAND_PART\n\u001b[1;32m   1303\u001b[0m answer \u001b[38;5;241m=\u001b[39m \u001b[38;5;28mself\u001b[39m\u001b[38;5;241m.\u001b[39mgateway_client\u001b[38;5;241m.\u001b[39msend_command(command)\n\u001b[0;32m-> 1304\u001b[0m return_value \u001b[38;5;241m=\u001b[39m \u001b[43mget_return_value\u001b[49m\u001b[43m(\u001b[49m\n\u001b[1;32m   1305\u001b[0m \u001b[43m    \u001b[49m\u001b[43manswer\u001b[49m\u001b[43m,\u001b[49m\u001b[43m \u001b[49m\u001b[38;5;28;43mself\u001b[39;49m\u001b[38;5;241;43m.\u001b[39;49m\u001b[43mgateway_client\u001b[49m\u001b[43m,\u001b[49m\u001b[43m \u001b[49m\u001b[38;5;28;43mself\u001b[39;49m\u001b[38;5;241;43m.\u001b[39;49m\u001b[43mtarget_id\u001b[49m\u001b[43m,\u001b[49m\u001b[43m \u001b[49m\u001b[38;5;28;43mself\u001b[39;49m\u001b[38;5;241;43m.\u001b[39;49m\u001b[43mname\u001b[49m\u001b[43m)\u001b[49m\n\u001b[1;32m   1307\u001b[0m \u001b[38;5;28;01mfor\u001b[39;00m temp_arg \u001b[38;5;129;01min\u001b[39;00m temp_args:\n\u001b[1;32m   1308\u001b[0m     temp_arg\u001b[38;5;241m.\u001b[39m_detach()\n",
      "File \u001b[0;32m/opt/spark/python/pyspark/sql/utils.py:117\u001b[0m, in \u001b[0;36mcapture_sql_exception.<locals>.deco\u001b[0;34m(*a, **kw)\u001b[0m\n\u001b[1;32m    113\u001b[0m converted \u001b[38;5;241m=\u001b[39m convert_exception(e\u001b[38;5;241m.\u001b[39mjava_exception)\n\u001b[1;32m    114\u001b[0m \u001b[38;5;28;01mif\u001b[39;00m \u001b[38;5;129;01mnot\u001b[39;00m \u001b[38;5;28misinstance\u001b[39m(converted, UnknownException):\n\u001b[1;32m    115\u001b[0m     \u001b[38;5;66;03m# Hide where the exception came from that shows a non-Pythonic\u001b[39;00m\n\u001b[1;32m    116\u001b[0m     \u001b[38;5;66;03m# JVM exception message.\u001b[39;00m\n\u001b[0;32m--> 117\u001b[0m     \u001b[38;5;28;01mraise\u001b[39;00m converted \u001b[38;5;28;01mfrom\u001b[39;00m \u001b[38;5;28;01mNone\u001b[39;00m\n\u001b[1;32m    118\u001b[0m \u001b[38;5;28;01melse\u001b[39;00m:\n\u001b[1;32m    119\u001b[0m     \u001b[38;5;28;01mraise\u001b[39;00m\n",
      "\u001b[0;31mAnalysisException\u001b[0m: cannot resolve '`AvailableDtTS`' given input columns: [ALSUnit, Address, AvailableDtTm, Battalion, Box, CallDate, CallFinalDisposition, CallNumber, CallType, CallTypeGroup, City, FinalPriority, FirePreventionDistrict, IncidentNumber, Location, Neighborhood, NumAlarms, OriginalPriority, Priority, ResponseDelayedinMins, RowID, StationArea, SupervisorDistrict, UnitID, UnitSequenceInCallDispatch, UnitType, WatchDate, Zipcode];\n'Project ['AvailableDtTS]\n+- Project [CallNumber#88, UnitID#89, IncidentNumber#90, CallType#91, CallDate#92, WatchDate#93, CallFinalDisposition#94, AvailableDtTm#95, Address#96, City#97, Zipcode#98, Battalion#99, StationArea#100, Box#101, OriginalPriority#102, Priority#103, FinalPriority#104, ALSUnit#105, CallTypeGroup#106, NumAlarms#107, UnitType#108, UnitSequenceInCallDispatch#109, FirePreventionDistrict#110, SupervisorDistrict#111, ... 4 more fields]\n   +- Relation[CallNumber#88,UnitID#89,IncidentNumber#90,CallType#91,CallDate#92,WatchDate#93,CallFinalDisposition#94,AvailableDtTm#95,Address#96,City#97,Zipcode#98,Battalion#99,StationArea#100,Box#101,OriginalPriority#102,Priority#103,FinalPriority#104,ALSUnit#105,CallTypeGroup#106,NumAlarms#107,UnitType#108,UnitSequenceInCallDispatch#109,FirePreventionDistrict#110,SupervisorDistrict#111,... 4 more fields] csv\n"
     ]
    }
   ],
   "source": [
    "new_fire_df.select(\"AvailableDtTS\").show(5)"
   ]
  },
  {
   "cell_type": "code",
   "execution_count": 29,
   "id": "6ac013aa",
   "metadata": {},
   "outputs": [
    {
     "ename": "NameError",
     "evalue": "name 'fire_ts_df' is not defined",
     "output_type": "error",
     "traceback": [
      "\u001b[0;31m---------------------------------------------------------------------------\u001b[0m",
      "\u001b[0;31mNameError\u001b[0m                                 Traceback (most recent call last)",
      "Cell \u001b[0;32mIn[29], line 3\u001b[0m\n\u001b[1;32m      1\u001b[0m \u001b[38;5;66;03m#가장 흔한 형태의 신고는?\u001b[39;00m\n\u001b[0;32m----> 3\u001b[0m (\u001b[43mfire_ts_df\u001b[49m\n\u001b[1;32m      4\u001b[0m     \u001b[38;5;241m.\u001b[39mselect(\u001b[38;5;124m\"\u001b[39m\u001b[38;5;124mCallType\u001b[39m\u001b[38;5;124m\"\u001b[39m)\n\u001b[1;32m      5\u001b[0m     \u001b[38;5;241m.\u001b[39mwhere(F\u001b[38;5;241m.\u001b[39mcol(\u001b[38;5;124m\"\u001b[39m\u001b[38;5;124mCallType\u001b[39m\u001b[38;5;124m\"\u001b[39m)\u001b[38;5;241m.\u001b[39misNotNull())\n\u001b[1;32m      6\u001b[0m     \u001b[38;5;241m.\u001b[39mgroupBy(\u001b[38;5;124m\"\u001b[39m\u001b[38;5;124mCallType\u001b[39m\u001b[38;5;124m\"\u001b[39m)\n\u001b[1;32m      7\u001b[0m     \u001b[38;5;241m.\u001b[39mcount()\n\u001b[1;32m      8\u001b[0m     \u001b[38;5;241m.\u001b[39morderBy(\u001b[38;5;124m\"\u001b[39m\u001b[38;5;124mcount\u001b[39m\u001b[38;5;124m\"\u001b[39m, ascending\u001b[38;5;241m=\u001b[39m\u001b[38;5;28;01mFalse\u001b[39;00m)\n\u001b[1;32m      9\u001b[0m     \u001b[38;5;241m.\u001b[39mshow(n\u001b[38;5;241m=\u001b[39m\u001b[38;5;241m10\u001b[39m, truncate\u001b[38;5;241m=\u001b[39m\u001b[38;5;28;01mFalse\u001b[39;00m))\n",
      "\u001b[0;31mNameError\u001b[0m: name 'fire_ts_df' is not defined"
     ]
    }
   ],
   "source": [
    "#가장 흔한 형태의 신고는?\n",
    "\n",
    "(fire_ts_df\n",
    "    .select(\"CallType\")\n",
    "    .where(F.col(\"CallType\").isNotNull())\n",
    "    .groupBy(\"CallType\")\n",
    "    .count()\n",
    "    .orderBy(\"count\", ascending=False)\n",
    "    .show(n=10, truncate=False))"
   ]
  },
  {
   "cell_type": "code",
   "execution_count": null,
   "id": "3f7f55e5",
   "metadata": {},
   "outputs": [],
   "source": []
  },
  {
   "cell_type": "code",
   "execution_count": 51,
   "id": "c8478bc3",
   "metadata": {},
   "outputs": [
    {
     "name": "stdout",
     "output_type": "stream",
     "text": [
      "+--------+\n",
      "|CallType|\n",
      "+--------+\n",
      "+--------+\n",
      "\n"
     ]
    }
   ],
   "source": [
    "fire_df.filter(F.year(F.col(\"CallDate\")) == 2018) .select(\"CallType\") .where(F.col(\"CallType\").isNotNull()).distinct() .show()"
   ]
  },
  {
   "cell_type": "code",
   "execution_count": null,
   "id": "1f04e340",
   "metadata": {},
   "outputs": [],
   "source": []
  },
  {
   "cell_type": "code",
   "execution_count": null,
   "id": "3ab54981",
   "metadata": {},
   "outputs": [],
   "source": []
  },
  {
   "cell_type": "code",
   "execution_count": null,
   "id": "e5c4f3e4",
   "metadata": {},
   "outputs": [],
   "source": []
  }
 ],
 "metadata": {
  "kernelspec": {
   "display_name": "Python (spark_start)",
   "language": "python",
   "name": "spark_start"
  },
  "language_info": {
   "codemirror_mode": {
    "name": "ipython",
    "version": 3
   },
   "file_extension": ".py",
   "mimetype": "text/x-python",
   "name": "python",
   "nbconvert_exporter": "python",
   "pygments_lexer": "ipython3",
   "version": "3.8.20"
  }
 },
 "nbformat": 4,
 "nbformat_minor": 5
}
