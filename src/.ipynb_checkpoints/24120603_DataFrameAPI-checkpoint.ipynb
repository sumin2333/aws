{
 "cells": [
  {
   "cell_type": "code",
   "execution_count": 1,
   "id": "8a490909",
   "metadata": {},
   "outputs": [
    {
     "name": "stderr",
     "output_type": "stream",
     "text": [
      "24/12/09 10:21:38 WARN NativeCodeLoader: Unable to load native-hadoop library for your platform... using builtin-java classes where applicable\n",
      "Using Spark's default log4j profile: org/apache/spark/log4j-defaults.properties\n",
      "Setting default log level to \"WARN\".\n",
      "To adjust logging level use sc.setLogLevel(newLevel). For SparkR, use setLogLevel(newLevel).\n"
     ]
    }
   ],
   "source": [
    "from pyspark.sql import SparkSession\n",
    "spark = SparkSession.builder.appName(\"FirstSparkSessionApp\").getOrCreate()"
   ]
  },
  {
   "cell_type": "code",
   "execution_count": 2,
   "id": "5d7357c4",
   "metadata": {},
   "outputs": [
    {
     "name": "stderr",
     "output_type": "stream",
     "text": [
      "                                                                                \r"
     ]
    }
   ],
   "source": [
    "df = spark.read.format('json').load('data/2015-summary.json', inferSchema=True, header=True )"
   ]
  },
  {
   "cell_type": "code",
   "execution_count": 3,
   "id": "dad5e51c",
   "metadata": {},
   "outputs": [
    {
     "data": {
      "text/plain": [
       "StructType(List(StructField(DEST_COUNTRY_NAME,StringType,true),StructField(ORIGIN_COUNTRY_NAME,StringType,true),StructField(count,LongType,true)))"
      ]
     },
     "execution_count": 3,
     "metadata": {},
     "output_type": "execute_result"
    }
   ],
   "source": [
    "df.schema"
   ]
  },
  {
   "cell_type": "code",
   "execution_count": 4,
   "id": "2a0beb44",
   "metadata": {},
   "outputs": [
    {
     "name": "stdout",
     "output_type": "stream",
     "text": [
      "root\n",
      " |-- DEST_COUNTRY_NAME: string (nullable = true)\n",
      " |-- ORIGIN_COUNTRY_NAME: string (nullable = true)\n",
      " |-- count: long (nullable = true)\n",
      "\n"
     ]
    }
   ],
   "source": [
    "df.printSchema()"
   ]
  },
  {
   "cell_type": "markdown",
   "id": "f24be124",
   "metadata": {},
   "source": [
    "# ROW클래스, 단일 레코드(행)을 나타내는 객체 "
   ]
  },
  {
   "cell_type": "code",
   "execution_count": 5,
   "id": "4a60ec1e",
   "metadata": {},
   "outputs": [
    {
     "data": {
      "text/plain": [
       "[Row(DEST_COUNTRY_NAME='United States', ORIGIN_COUNTRY_NAME='Romania', count=15),\n",
       " Row(DEST_COUNTRY_NAME='United States', ORIGIN_COUNTRY_NAME='Croatia', count=1),\n",
       " Row(DEST_COUNTRY_NAME='United States', ORIGIN_COUNTRY_NAME='Ireland', count=344),\n",
       " Row(DEST_COUNTRY_NAME='Egypt', ORIGIN_COUNTRY_NAME='United States', count=15),\n",
       " Row(DEST_COUNTRY_NAME='United States', ORIGIN_COUNTRY_NAME='India', count=62)]"
      ]
     },
     "execution_count": 5,
     "metadata": {},
     "output_type": "execute_result"
    }
   ],
   "source": [
    "df.take(5)"
   ]
  },
  {
   "cell_type": "code",
   "execution_count": 6,
   "id": "3ee55ed5",
   "metadata": {},
   "outputs": [
    {
     "name": "stdout",
     "output_type": "stream",
     "text": [
      "+-----------------+-------------------+-----+\n",
      "|DEST_COUNTRY_NAME|ORIGIN_COUNTRY_NAME|count|\n",
      "+-----------------+-------------------+-----+\n",
      "|    United States|            Romania|   15|\n",
      "|    United States|            Croatia|    1|\n",
      "|    United States|            Ireland|  344|\n",
      "|            Egypt|      United States|   15|\n",
      "|    United States|              India|   62|\n",
      "+-----------------+-------------------+-----+\n",
      "only showing top 5 rows\n",
      "\n"
     ]
    }
   ],
   "source": [
    "df.show(5)"
   ]
  },
  {
   "cell_type": "code",
   "execution_count": 7,
   "id": "bb36bc29",
   "metadata": {},
   "outputs": [
    {
     "name": "stdout",
     "output_type": "stream",
     "text": [
      "+-----------------+\n",
      "|DEST_COUNTRY_NAME|\n",
      "+-----------------+\n",
      "|    United States|\n",
      "|    United States|\n",
      "|    United States|\n",
      "|            Egypt|\n",
      "|    United States|\n",
      "+-----------------+\n",
      "only showing top 5 rows\n",
      "\n"
     ]
    }
   ],
   "source": [
    "#spark DataTable\n",
    "df.select(\"DEST_COUNTRY_NAME\").show(5)"
   ]
  },
  {
   "cell_type": "code",
   "execution_count": 8,
   "id": "a5952710",
   "metadata": {},
   "outputs": [],
   "source": [
    "df.createOrReplaceTempView(\"mobility_data\")"
   ]
  },
  {
   "cell_type": "code",
   "execution_count": 9,
   "id": "2612a37c",
   "metadata": {
    "scrolled": true
   },
   "outputs": [
    {
     "data": {
      "text/plain": [
       "256"
      ]
     },
     "execution_count": 9,
     "metadata": {},
     "output_type": "execute_result"
    }
   ],
   "source": [
    "df.count()"
   ]
  },
  {
   "cell_type": "code",
   "execution_count": 10,
   "id": "51ed1138",
   "metadata": {},
   "outputs": [
    {
     "name": "stdout",
     "output_type": "stream",
     "text": [
      "+-----------------+\n",
      "|DEST_COUNTRY_NAME|\n",
      "+-----------------+\n",
      "|         Anguilla|\n",
      "|           Russia|\n",
      "|         Paraguay|\n",
      "|          Senegal|\n",
      "|           Sweden|\n",
      "+-----------------+\n",
      "only showing top 5 rows\n",
      "\n"
     ]
    }
   ],
   "source": [
    "df_dup2= df.select('DEST_COUNTRY_NAME').dropDuplicates()\n",
    "df_dup2.show(5)"
   ]
  },
  {
   "cell_type": "code",
   "execution_count": 11,
   "id": "2ce21aa6",
   "metadata": {},
   "outputs": [
    {
     "name": "stdout",
     "output_type": "stream",
     "text": [
      "+--------------------+\n",
      "|   DEST_COUNTRY_NAME|\n",
      "+--------------------+\n",
      "|            Anguilla|\n",
      "|              Russia|\n",
      "|            Paraguay|\n",
      "|             Senegal|\n",
      "|              Sweden|\n",
      "|            Kiribati|\n",
      "|              Guyana|\n",
      "|         Philippines|\n",
      "|            Djibouti|\n",
      "|            Malaysia|\n",
      "|           Singapore|\n",
      "|                Fiji|\n",
      "|              Turkey|\n",
      "|                Iraq|\n",
      "|             Germany|\n",
      "|              Jordan|\n",
      "|               Palau|\n",
      "|Turks and Caicos ...|\n",
      "|              France|\n",
      "|              Greece|\n",
      "+--------------------+\n",
      "only showing top 20 rows\n",
      "\n"
     ]
    }
   ],
   "source": [
    "df_dup3= df.select('DEST_COUNTRY_NAME').dropDuplicates().cache() #중복제거 #cache- 메모리에 올리기 \n",
    "df_dup3.show()"
   ]
  },
  {
   "cell_type": "code",
   "execution_count": 12,
   "id": "755bf3d2",
   "metadata": {
    "scrolled": true
   },
   "outputs": [
    {
     "ename": "NameError",
     "evalue": "name 'df_dup' is not defined",
     "output_type": "error",
     "traceback": [
      "\u001b[0;31m---------------------------------------------------------------------------\u001b[0m",
      "\u001b[0;31mNameError\u001b[0m                                 Traceback (most recent call last)",
      "Cell \u001b[0;32mIn[12], line 1\u001b[0m\n\u001b[0;32m----> 1\u001b[0m \u001b[43mdf_dup\u001b[49m\u001b[38;5;241m.\u001b[39mcount()\n",
      "\u001b[0;31mNameError\u001b[0m: name 'df_dup' is not defined"
     ]
    }
   ],
   "source": [
    "df_dup.count()"
   ]
  },
  {
   "cell_type": "code",
   "execution_count": 13,
   "id": "e0df8966",
   "metadata": {},
   "outputs": [
    {
     "ename": "NameError",
     "evalue": "name 'df_dup' is not defined",
     "output_type": "error",
     "traceback": [
      "\u001b[0;31m---------------------------------------------------------------------------\u001b[0m",
      "\u001b[0;31mNameError\u001b[0m                                 Traceback (most recent call last)",
      "Cell \u001b[0;32mIn[13], line 1\u001b[0m\n\u001b[0;32m----> 1\u001b[0m \u001b[43mdf_dup\u001b[49m\u001b[38;5;241m.\u001b[39mdistinct()\u001b[38;5;241m.\u001b[39mcount()\n",
      "\u001b[0;31mNameError\u001b[0m: name 'df_dup' is not defined"
     ]
    }
   ],
   "source": [
    "df_dup.distinct().count()"
   ]
  },
  {
   "cell_type": "code",
   "execution_count": 14,
   "id": "8203951b",
   "metadata": {},
   "outputs": [
    {
     "name": "stdout",
     "output_type": "stream",
     "text": [
      "+--------------------+-------------------+-----+\n",
      "|   DEST_COUNTRY_NAME|ORIGIN_COUNTRY_NAME|count|\n",
      "+--------------------+-------------------+-----+\n",
      "|             Algeria|      United States|    4|\n",
      "|              Angola|      United States|   15|\n",
      "|            Anguilla|      United States|   41|\n",
      "| Antigua and Barbuda|      United States|  126|\n",
      "|           Argentina|      United States|  180|\n",
      "|               Aruba|      United States|  346|\n",
      "|           Australia|      United States|  329|\n",
      "|             Austria|      United States|   62|\n",
      "|          Azerbaijan|      United States|   21|\n",
      "|             Bahrain|      United States|   19|\n",
      "|            Barbados|      United States|  154|\n",
      "|             Belgium|      United States|  259|\n",
      "|              Belize|      United States|  188|\n",
      "|             Bermuda|      United States|  183|\n",
      "|             Bolivia|      United States|   30|\n",
      "|Bonaire, Sint Eus...|      United States|   58|\n",
      "|              Brazil|      United States|  853|\n",
      "|British Virgin Is...|      United States|  107|\n",
      "|            Bulgaria|      United States|    3|\n",
      "|        Burkina Faso|      United States|    1|\n",
      "+--------------------+-------------------+-----+\n",
      "only showing top 20 rows\n",
      "\n"
     ]
    }
   ],
   "source": [
    "df.sort('DEST_COUNTRY_NAME').show() #셔플 "
   ]
  },
  {
   "cell_type": "code",
   "execution_count": 15,
   "id": "9e2e24f7",
   "metadata": {},
   "outputs": [],
   "source": [
    "from pyspark.sql.functions import expr"
   ]
  },
  {
   "cell_type": "code",
   "execution_count": 16,
   "id": "51d8cb8e",
   "metadata": {},
   "outputs": [],
   "source": [
    "df3= df.withColumn('withInCountry', expr('ORIGIN_COUNTRY_NAME==DEST_COUNTRY_NAME')) #컬럼 추가  expr"
   ]
  },
  {
   "cell_type": "code",
   "execution_count": 17,
   "id": "e496a74b",
   "metadata": {},
   "outputs": [
    {
     "name": "stdout",
     "output_type": "stream",
     "text": [
      "+-----------------+-------------------+-----+-------------+\n",
      "|DEST_COUNTRY_NAME|ORIGIN_COUNTRY_NAME|count|withInCountry|\n",
      "+-----------------+-------------------+-----+-------------+\n",
      "|    United States|            Romania|   15|        false|\n",
      "|    United States|            Croatia|    1|        false|\n",
      "+-----------------+-------------------+-----+-------------+\n",
      "only showing top 2 rows\n",
      "\n"
     ]
    }
   ],
   "source": [
    "df3.show(2)"
   ]
  },
  {
   "cell_type": "code",
   "execution_count": 18,
   "id": "ab8ab9f0",
   "metadata": {},
   "outputs": [],
   "source": [
    "#SQL 구문 CASE WHEN > 수치형 변수 > 명목형 변수로 변환 >파생변수 \n",
    "df4= df.withColumn('category', expr('CASE WHEN count<10 THEN \"under\" WHEN count>=10 THEN \"upper\" END'))"
   ]
  },
  {
   "cell_type": "code",
   "execution_count": 19,
   "id": "40936d7a",
   "metadata": {},
   "outputs": [
    {
     "name": "stdout",
     "output_type": "stream",
     "text": [
      "+-----------------+-------------------+-----+--------+\n",
      "|DEST_COUNTRY_NAME|ORIGIN_COUNTRY_NAME|count|category|\n",
      "+-----------------+-------------------+-----+--------+\n",
      "|    United States|            Romania|   15|   upper|\n",
      "|    United States|            Croatia|    1|   under|\n",
      "|    United States|            Ireland|  344|   upper|\n",
      "|            Egypt|      United States|   15|   upper|\n",
      "|    United States|              India|   62|   upper|\n",
      "+-----------------+-------------------+-----+--------+\n",
      "only showing top 5 rows\n",
      "\n"
     ]
    }
   ],
   "source": [
    "df4.show(5)"
   ]
  },
  {
   "cell_type": "code",
   "execution_count": 20,
   "id": "a17cf261",
   "metadata": {},
   "outputs": [],
   "source": [
    "#count 2배 "
   ]
  },
  {
   "cell_type": "code",
   "execution_count": 21,
   "id": "82c1d35c",
   "metadata": {},
   "outputs": [],
   "source": [
    "df5 = df4.withColumn('withInCountry', expr('ORIGIN_COUNTRY_NAME==DEST_COUNTRY_NAME'))"
   ]
  },
  {
   "cell_type": "code",
   "execution_count": 22,
   "id": "a987a19c",
   "metadata": {},
   "outputs": [
    {
     "name": "stdout",
     "output_type": "stream",
     "text": [
      "+--------------------+-------------------+-----+--------+-------------+\n",
      "|   DEST_COUNTRY_NAME|ORIGIN_COUNTRY_NAME|count|category|withInCountry|\n",
      "+--------------------+-------------------+-----+--------+-------------+\n",
      "|       United States|            Romania|   15|   upper|        false|\n",
      "|       United States|            Croatia|    1|   under|        false|\n",
      "|       United States|            Ireland|  344|   upper|        false|\n",
      "|               Egypt|      United States|   15|   upper|        false|\n",
      "|       United States|              India|   62|   upper|        false|\n",
      "|       United States|          Singapore|    1|   under|        false|\n",
      "|       United States|            Grenada|   62|   upper|        false|\n",
      "|          Costa Rica|      United States|  588|   upper|        false|\n",
      "|             Senegal|      United States|   40|   upper|        false|\n",
      "|             Moldova|      United States|    1|   under|        false|\n",
      "|       United States|       Sint Maarten|  325|   upper|        false|\n",
      "|       United States|   Marshall Islands|   39|   upper|        false|\n",
      "|              Guyana|      United States|   64|   upper|        false|\n",
      "|               Malta|      United States|    1|   under|        false|\n",
      "|            Anguilla|      United States|   41|   upper|        false|\n",
      "|             Bolivia|      United States|   30|   upper|        false|\n",
      "|       United States|           Paraguay|    6|   under|        false|\n",
      "|             Algeria|      United States|    4|   under|        false|\n",
      "|Turks and Caicos ...|      United States|  230|   upper|        false|\n",
      "|       United States|          Gibraltar|    1|   under|        false|\n",
      "+--------------------+-------------------+-----+--------+-------------+\n",
      "only showing top 20 rows\n",
      "\n"
     ]
    }
   ],
   "source": [
    "df5.show()"
   ]
  },
  {
   "cell_type": "code",
   "execution_count": 23,
   "id": "9bf57c1a",
   "metadata": {},
   "outputs": [],
   "source": [
    "#groupby 집계  "
   ]
  },
  {
   "cell_type": "code",
   "execution_count": 24,
   "id": "4bfc202e",
   "metadata": {},
   "outputs": [
    {
     "name": "stdout",
     "output_type": "stream",
     "text": [
      "+-------------+-----+\n",
      "|withInCountry|count|\n",
      "+-------------+-----+\n",
      "|         true|    1|\n",
      "|        false|  255|\n",
      "+-------------+-----+\n",
      "\n"
     ]
    }
   ],
   "source": [
    "df5.groupBy(\"withInCountry\").count().show()"
   ]
  },
  {
   "cell_type": "code",
   "execution_count": 25,
   "id": "e1f869f2",
   "metadata": {
    "scrolled": true
   },
   "outputs": [
    {
     "name": "stdout",
     "output_type": "stream",
     "text": [
      "+--------+-----+\n",
      "|category|count|\n",
      "+--------+-----+\n",
      "|   under|   48|\n",
      "|   upper|  208|\n",
      "+--------+-----+\n",
      "\n"
     ]
    }
   ],
   "source": [
    "df5.groupBy(\"category\").count().show()"
   ]
  },
  {
   "cell_type": "markdown",
   "id": "59a8e1cd",
   "metadata": {},
   "source": [
    "# Projection 과 Filter\n",
    "### select a,b,c from TableA  # projection > column > Transformation select('colname')\n",
    "### where a>10  #filter > Row >Transformation where('cond')"
   ]
  },
  {
   "cell_type": "code",
   "execution_count": 26,
   "id": "8cac39be",
   "metadata": {},
   "outputs": [],
   "source": [
    "df6 = df5.where('count<5' ) #행 꺼내기 "
   ]
  },
  {
   "cell_type": "code",
   "execution_count": 27,
   "id": "8d6ae3f6",
   "metadata": {},
   "outputs": [
    {
     "name": "stdout",
     "output_type": "stream",
     "text": [
      "+--------------------+-------------------+-----+--------+-------------+\n",
      "|   DEST_COUNTRY_NAME|ORIGIN_COUNTRY_NAME|count|category|withInCountry|\n",
      "+--------------------+-------------------+-----+--------+-------------+\n",
      "|       United States|            Croatia|    1|   under|        false|\n",
      "|       United States|          Singapore|    1|   under|        false|\n",
      "|             Moldova|      United States|    1|   under|        false|\n",
      "|               Malta|      United States|    1|   under|        false|\n",
      "|             Algeria|      United States|    4|   under|        false|\n",
      "|       United States|          Gibraltar|    1|   under|        false|\n",
      "|Saint Vincent and...|      United States|    1|   under|        false|\n",
      "|            Suriname|      United States|    1|   under|        false|\n",
      "|       United States|             Cyprus|    1|   under|        false|\n",
      "|       United States|           Malaysia|    3|   under|        false|\n",
      "|            Thailand|      United States|    3|   under|        false|\n",
      "|             Liberia|      United States|    2|   under|        false|\n",
      "|             Hungary|      United States|    2|   under|        false|\n",
      "|       United States|            Vietnam|    2|   under|        false|\n",
      "|        Burkina Faso|      United States|    1|   under|        false|\n",
      "|            Djibouti|      United States|    1|   under|        false|\n",
      "|       United States|            Estonia|    1|   under|        false|\n",
      "|       United States|            Hungary|    3|   under|        false|\n",
      "|              Zambia|      United States|    1|   under|        false|\n",
      "|            Malaysia|      United States|    2|   under|        false|\n",
      "+--------------------+-------------------+-----+--------+-------------+\n",
      "only showing top 20 rows\n",
      "\n"
     ]
    }
   ],
   "source": [
    "df6.show()"
   ]
  },
  {
   "cell_type": "code",
   "execution_count": 45,
   "id": "51872590",
   "metadata": {},
   "outputs": [
    {
     "data": {
      "text/plain": [
       "46"
      ]
     },
     "execution_count": 45,
     "metadata": {},
     "output_type": "execute_result"
    }
   ],
   "source": [
    "df6.count()"
   ]
  },
  {
   "cell_type": "code",
   "execution_count": null,
   "id": "7c3dc2b3",
   "metadata": {},
   "outputs": [],
   "source": [
    "where a>10 and b!=1"
   ]
  },
  {
   "cell_type": "code",
   "execution_count": 28,
   "id": "bd7120a0",
   "metadata": {
    "scrolled": true
   },
   "outputs": [
    {
     "name": "stdout",
     "output_type": "stream",
     "text": [
      "+-----------------+-------------------+-----+--------+-------------+\n",
      "|DEST_COUNTRY_NAME|ORIGIN_COUNTRY_NAME|count|category|withInCountry|\n",
      "+-----------------+-------------------+-----+--------+-------------+\n",
      "|    United States|            Croatia|    1|   under|        false|\n",
      "|    United States|          Singapore|    1|   under|        false|\n",
      "|    United States|          Gibraltar|    1|   under|        false|\n",
      "|    United States|             Cyprus|    1|   under|        false|\n",
      "|    United States|           Malaysia|    3|   under|        false|\n",
      "|    United States|            Vietnam|    2|   under|        false|\n",
      "|    United States|            Estonia|    1|   under|        false|\n",
      "|    United States|            Hungary|    3|   under|        false|\n",
      "|    United States|           Thailand|    4|   under|        false|\n",
      "|    United States|            Liberia|    2|   under|        false|\n",
      "|    United States|              Malta|    2|   under|        false|\n",
      "|    United States|          Lithuania|    1|   under|        false|\n",
      "|    United States|           Bulgaria|    1|   under|        false|\n",
      "|    United States|            Georgia|    1|   under|        false|\n",
      "|    United States|            Bahrain|    1|   under|        false|\n",
      "|    United States|   Papua New Guinea|    1|   under|        false|\n",
      "|    United States|          Greenland|    4|   under|        false|\n",
      "|    United States|          Indonesia|    2|   under|        false|\n",
      "|    United States|         Montenegro|    1|   under|        false|\n",
      "|    United States|            Namibia|    1|   under|        false|\n",
      "+-----------------+-------------------+-----+--------+-------------+\n",
      "\n"
     ]
    }
   ],
   "source": [
    "df7 = df5.where('count<5' ).where('ORIGIN_COUNTRY_NAME != \"United States\"')\n",
    "df7.show()"
   ]
  },
  {
   "cell_type": "code",
   "execution_count": 29,
   "id": "fa1dc8c8",
   "metadata": {},
   "outputs": [],
   "source": [
    "#프로젝션, 필터링 연습"
   ]
  },
  {
   "cell_type": "code",
   "execution_count": null,
   "id": "fe6de048",
   "metadata": {},
   "outputs": [],
   "source": [
    "df5.groupBy('withInCountry').count().show()"
   ]
  },
  {
   "cell_type": "code",
   "execution_count": null,
   "id": "8ac5e624",
   "metadata": {},
   "outputs": [],
   "source": [
    "#국내 여행 카운트를 확인합니다.\n",
    "df5.where('withInCountry==true').show()"
   ]
  },
  {
   "cell_type": "code",
   "execution_count": null,
   "id": "cbf92ad9",
   "metadata": {},
   "outputs": [],
   "source": [
    "#국내 여행이 아니면서 가장 횟수가 많은 ORIGIN_COUNTRY_NAME top 10을  추출해보세요"
   ]
  },
  {
   "cell_type": "code",
   "execution_count": null,
   "id": "f9294c4c",
   "metadata": {},
   "outputs": [],
   "source": [
    "#국내 여행이 아니면서 가장 횟수가 적은 ORIGIN_COUNTRY_NAME top 10을  추출해보세요"
   ]
  },
  {
   "cell_type": "code",
   "execution_count": null,
   "id": "c9523d1a",
   "metadata": {},
   "outputs": [],
   "source": [
    "#도착국가별 count 총합이 가장 많은 top10을 추출해 보세요"
   ]
  },
  {
   "cell_type": "code",
   "execution_count": 35,
   "id": "0855185e",
   "metadata": {},
   "outputs": [],
   "source": [
    "spark.stop()"
   ]
  },
  {
   "cell_type": "markdown",
   "id": "989a74d9",
   "metadata": {},
   "source": [
    "# 집계함수\n",
    "ㅡ"
   ]
  },
  {
   "cell_type": "code",
   "execution_count": 36,
   "id": "79d4ef2b",
   "metadata": {},
   "outputs": [],
   "source": [
    "from pyspark.sql import SparkSession\n",
    "spark = SparkSession.builder.appName(\"SecondSparkSessionApp\").getOrCreate()"
   ]
  },
  {
   "cell_type": "code",
   "execution_count": 37,
   "id": "0cc1e0c3",
   "metadata": {},
   "outputs": [],
   "source": [
    "df= spark.read.format(\"csv\")\\\n",
    "    .option(\"header\", 'true')\\\n",
    "    .option('inferSchema', 'true')\\\n",
    "    .load('data/emp.csv')"
   ]
  },
  {
   "cell_type": "code",
   "execution_count": 38,
   "id": "eab6a965",
   "metadata": {},
   "outputs": [
    {
     "name": "stdout",
     "output_type": "stream",
     "text": [
      "root\n",
      " |-- empno: integer (nullable = true)\n",
      " |-- ename: string (nullable = true)\n",
      " |-- job: string (nullable = true)\n",
      " |-- mgr: integer (nullable = true)\n",
      " |-- hiredate: string (nullable = true)\n",
      " |-- sal: integer (nullable = true)\n",
      " |-- comm: integer (nullable = true)\n",
      " |-- deptno: integer (nullable = true)\n",
      "\n"
     ]
    }
   ],
   "source": [
    "df.printSchema()"
   ]
  },
  {
   "cell_type": "code",
   "execution_count": 39,
   "id": "cad431f0",
   "metadata": {},
   "outputs": [
    {
     "name": "stdout",
     "output_type": "stream",
     "text": [
      "+------+------+\n",
      "| ename|deptno|\n",
      "+------+------+\n",
      "| SMITH|    20|\n",
      "| ALLEN|    30|\n",
      "|  WARD|    30|\n",
      "| JONES|    20|\n",
      "|MARTIN|    30|\n",
      "| BLAKE|    30|\n",
      "| CLARK|    10|\n",
      "| SCOTT|    20|\n",
      "|  KING|    10|\n",
      "|TURNER|    30|\n",
      "| ADAMS|    20|\n",
      "| JAMES|    30|\n",
      "|  FORD|    20|\n",
      "|MILLER|    10|\n",
      "|  JACK|    70|\n",
      "+------+------+\n",
      "\n"
     ]
    }
   ],
   "source": [
    "df.select('ename', 'deptno').show()"
   ]
  },
  {
   "cell_type": "code",
   "execution_count": 40,
   "id": "f6321905",
   "metadata": {},
   "outputs": [
    {
     "name": "stdout",
     "output_type": "stream",
     "text": [
      "+-----+------+\n",
      "|ename|deptno|\n",
      "+-----+------+\n",
      "|SMITH|    20|\n",
      "|JONES|    20|\n",
      "|SCOTT|    20|\n",
      "|ADAMS|    20|\n",
      "| FORD|    20|\n",
      "+-----+------+\n",
      "\n"
     ]
    }
   ],
   "source": [
    "df.select('ename', 'deptno').where('deptno=20').show() #선택 추출 "
   ]
  },
  {
   "cell_type": "code",
   "execution_count": null,
   "id": "bb6a19e6",
   "metadata": {},
   "outputs": [],
   "source": [
    "#카운트 집계 "
   ]
  },
  {
   "cell_type": "code",
   "execution_count": 42,
   "id": "29869368",
   "metadata": {},
   "outputs": [],
   "source": [
    "from pyspark.sql.functions import count"
   ]
  },
  {
   "cell_type": "code",
   "execution_count": 43,
   "id": "3d76d9bf",
   "metadata": {},
   "outputs": [
    {
     "name": "stdout",
     "output_type": "stream",
     "text": [
      "+----------+\n",
      "|count(job)|\n",
      "+----------+\n",
      "|        15|\n",
      "+----------+\n",
      "\n"
     ]
    }
   ],
   "source": [
    "df.select(count('job')).show() #job 몇번 들어있는지 #null값 제외 "
   ]
  },
  {
   "cell_type": "code",
   "execution_count": 44,
   "id": "f7004276",
   "metadata": {},
   "outputs": [
    {
     "name": "stdout",
     "output_type": "stream",
     "text": [
      "+--------+\n",
      "|count(1)|\n",
      "+--------+\n",
      "|      15|\n",
      "+--------+\n",
      "\n"
     ]
    }
   ],
   "source": [
    "df.selectExpr('count(*)').show() #안에 들어가는게 표현식이다.  ,null값 포함 , 위와 차이로 null값 유무 파악 "
   ]
  },
  {
   "cell_type": "code",
   "execution_count": 45,
   "id": "3e3c2a00",
   "metadata": {},
   "outputs": [
    {
     "name": "stdout",
     "output_type": "stream",
     "text": [
      "+---------+\n",
      "|      job|\n",
      "+---------+\n",
      "|  ANALYST|\n",
      "| SALESMAN|\n",
      "|    CLERK|\n",
      "|  MANAGER|\n",
      "|PRESIDENT|\n",
      "+---------+\n",
      "\n"
     ]
    }
   ],
   "source": [
    "df.select('job').distinct().show()"
   ]
  },
  {
   "cell_type": "code",
   "execution_count": 46,
   "id": "0a3a52c0",
   "metadata": {},
   "outputs": [
    {
     "name": "stderr",
     "output_type": "stream",
     "text": [
      "                                                                                \r"
     ]
    },
    {
     "data": {
      "text/plain": [
       "5"
      ]
     },
     "execution_count": 46,
     "metadata": {},
     "output_type": "execute_result"
    }
   ],
   "source": [
    "df.select('job').distinct().count() #정확 "
   ]
  },
  {
   "cell_type": "code",
   "execution_count": 53,
   "id": "2e107199",
   "metadata": {},
   "outputs": [],
   "source": [
    "from pyspark.sql.functions import countDistinct, approx_count_distinct"
   ]
  },
  {
   "cell_type": "code",
   "execution_count": 54,
   "id": "e54612f0",
   "metadata": {},
   "outputs": [
    {
     "name": "stderr",
     "output_type": "stream",
     "text": [
      "\r",
      "[Stage 25:======================================>               (143 + 3) / 200]\r",
      "\r",
      "[Stage 25:====================================================> (194 + 4) / 200]\r"
     ]
    },
    {
     "name": "stdout",
     "output_type": "stream",
     "text": [
      "+-------------------+\n",
      "|count(DISTINCT job)|\n",
      "+-------------------+\n",
      "|                  5|\n",
      "+-------------------+\n",
      "\n"
     ]
    },
    {
     "name": "stderr",
     "output_type": "stream",
     "text": [
      "\r",
      "                                                                                \r"
     ]
    }
   ],
   "source": [
    "df.select(countDistinct('job')).show() #성능 더 좋음 , 꺼낼 때 바로 시행 , #근사치 "
   ]
  },
  {
   "cell_type": "code",
   "execution_count": 56,
   "id": "005a56b6",
   "metadata": {},
   "outputs": [
    {
     "name": "stdout",
     "output_type": "stream",
     "text": [
      "+--------------------------+\n",
      "|approx_count_distinct(job)|\n",
      "+--------------------------+\n",
      "|                         5|\n",
      "+--------------------------+\n",
      "\n"
     ]
    }
   ],
   "source": [
    "df.select(approx_count_distinct('job', 0.1)).show()  #오차범위 "
   ]
  },
  {
   "cell_type": "code",
   "execution_count": 57,
   "id": "e8970007",
   "metadata": {},
   "outputs": [],
   "source": [
    "from pyspark.sql.functions import first,last #API다 외울 수는 없음. 코드를 작성해서 필요한 기능 찾기 "
   ]
  },
  {
   "cell_type": "code",
   "execution_count": 58,
   "id": "ba7dae10",
   "metadata": {},
   "outputs": [
    {
     "name": "stdout",
     "output_type": "stream",
     "text": [
      "+------------+-----------+\n",
      "|first(ename)|last(ename)|\n",
      "+------------+-----------+\n",
      "|       SMITH|       JACK|\n",
      "+------------+-----------+\n",
      "\n"
     ]
    }
   ],
   "source": [
    "df. select(first('ename'), last('ename')).show()"
   ]
  },
  {
   "cell_type": "code",
   "execution_count": null,
   "id": "e4838ab2",
   "metadata": {},
   "outputs": [],
   "source": [
    "#min, max"
   ]
  },
  {
   "cell_type": "code",
   "execution_count": 69,
   "id": "e6a137d4",
   "metadata": {},
   "outputs": [],
   "source": [
    "from pyspark.sql.functions import max, min , sum, avg"
   ]
  },
  {
   "cell_type": "code",
   "execution_count": 61,
   "id": "99068141",
   "metadata": {},
   "outputs": [
    {
     "name": "stdout",
     "output_type": "stream",
     "text": [
      "+----------+----------+\n",
      "|max(ename)|min(ename)|\n",
      "+----------+----------+\n",
      "|      WARD|     ADAMS|\n",
      "+----------+----------+\n",
      "\n"
     ]
    }
   ],
   "source": [
    "df.select(max('ename'), min('ename')).show() "
   ]
  },
  {
   "cell_type": "code",
   "execution_count": 64,
   "id": "8ccd783a",
   "metadata": {},
   "outputs": [
    {
     "name": "stdout",
     "output_type": "stream",
     "text": [
      "+------------+--------+----------+----------+\n",
      "|count(empno)|count(1)|max(ename)|min(ename)|\n",
      "+------------+--------+----------+----------+\n",
      "|          15|      15|      WARD|     ADAMS|\n",
      "+------------+--------+----------+----------+\n",
      "\n"
     ]
    }
   ],
   "source": [
    "df.select(count('empno'),count('*'), max('ename'), min('ename')).show()"
   ]
  },
  {
   "cell_type": "code",
   "execution_count": 67,
   "id": "67d2a7dc",
   "metadata": {},
   "outputs": [
    {
     "name": "stdout",
     "output_type": "stream",
     "text": [
      "+--------+\n",
      "|sum(sal)|\n",
      "+--------+\n",
      "|   32225|\n",
      "+--------+\n",
      "\n"
     ]
    }
   ],
   "source": [
    "df.select(sum('sal')).show()"
   ]
  },
  {
   "cell_type": "code",
   "execution_count": 68,
   "id": "12f00211",
   "metadata": {},
   "outputs": [
    {
     "name": "stdout",
     "output_type": "stream",
     "text": [
      "+-----------------+\n",
      "|sum(DISTINCT sal)|\n",
      "+-----------------+\n",
      "|            27975|\n",
      "+-----------------+\n",
      "\n"
     ]
    },
    {
     "name": "stderr",
     "output_type": "stream",
     "text": [
      "\r",
      "[Stage 38:=============================================>        (169 + 2) / 200]\r",
      "\r",
      "                                                                                \r"
     ]
    }
   ],
   "source": [
    "#sal 컬럼값의 중복을 제거하고 합산 \n",
    "#df.select('sal').distinct().sum()\n",
    "df.selectExpr('sum( distinct sal)').show() #distinct를 해서 가져옴 ,sum( distinct saㅣ- 이건 표현식이기에 selectExpr 사용 "
   ]
  },
  {
   "cell_type": "code",
   "execution_count": 71,
   "id": "c813d5a6",
   "metadata": {},
   "outputs": [
    {
     "name": "stdout",
     "output_type": "stream",
     "text": [
      "+--------+------------+------------------+\n",
      "|total_tx|total_salary|       mean_salary|\n",
      "+--------+------------+------------------+\n",
      "|      15|       32225|2148.3333333333335|\n",
      "+--------+------------+------------------+\n",
      "\n"
     ]
    }
   ],
   "source": [
    "#alias\n",
    "dfs= df.select(count('sal').alias('total_tx') , \n",
    "                   sum('sal').alias('total_salary'),\n",
    "                   #avg('sal').alias('avg_salary')\n",
    "                   expr('mean(sal)').alias('mean_salary')\n",
    "              )\n",
    "dfs.show()"
   ]
  },
  {
   "cell_type": "code",
   "execution_count": 83,
   "id": "15e2878d",
   "metadata": {},
   "outputs": [],
   "source": [
    "from pyspark.sql.functions import round\n",
    "\n",
    "#round (data, 자릿수)- 해보기 \n",
    "dfs= df.select(count('sal').alias('total_tx') , \n",
    "                   sum('sal').alias('total_salary'),\n",
    "                   #avg('sal').alias('avg_salary')\n",
    "                   round(expr('mean(sal)'),2).alias('mean_salary')\n",
    "              )\n"
   ]
  },
  {
   "cell_type": "code",
   "execution_count": 84,
   "id": "9841936e",
   "metadata": {},
   "outputs": [
    {
     "name": "stdout",
     "output_type": "stream",
     "text": [
      "+--------+------------+-----------+\n",
      "|total_tx|total_salary|mean_salary|\n",
      "+--------+------------+-----------+\n",
      "|      15|       32225|    2148.33|\n",
      "+--------+------------+-----------+\n",
      "\n"
     ]
    }
   ],
   "source": [
    "dfs.show()"
   ]
  },
  {
   "cell_type": "markdown",
   "id": "a5ea6c12",
   "metadata": {},
   "source": [
    "# 그룹화"
   ]
  },
  {
   "cell_type": "code",
   "execution_count": 73,
   "id": "d4744f37",
   "metadata": {},
   "outputs": [
    {
     "name": "stdout",
     "output_type": "stream",
     "text": [
      "+---------+-----+\n",
      "|      job|count|\n",
      "+---------+-----+\n",
      "|  ANALYST|    2|\n",
      "| SALESMAN|    4|\n",
      "|    CLERK|    5|\n",
      "|  MANAGER|    3|\n",
      "|PRESIDENT|    1|\n",
      "+---------+-----+\n",
      "\n"
     ]
    }
   ],
   "source": [
    "df.groupBy('job').count().show() #집계 후 그룹화 해줘야 됨. "
   ]
  },
  {
   "cell_type": "code",
   "execution_count": 75,
   "id": "c296fa41",
   "metadata": {},
   "outputs": [],
   "source": [
    "#agg() 집계함수 적용 \n",
    "dfs= df.groupBy('job').agg( expr('avg(sal) as_SAL_AVG'))"
   ]
  },
  {
   "cell_type": "code",
   "execution_count": 76,
   "id": "ea0d33e6",
   "metadata": {},
   "outputs": [
    {
     "name": "stdout",
     "output_type": "stream",
     "text": [
      "+---------+------------------+\n",
      "|      job|        as_SAL_AVG|\n",
      "+---------+------------------+\n",
      "|  ANALYST|            3000.0|\n",
      "| SALESMAN|            1400.0|\n",
      "|    CLERK|            1470.0|\n",
      "|  MANAGER|2758.3333333333335|\n",
      "|PRESIDENT|            5000.0|\n",
      "+---------+------------------+\n",
      "\n"
     ]
    }
   ],
   "source": [
    "dfs.show()"
   ]
  },
  {
   "cell_type": "code",
   "execution_count": 77,
   "id": "a7b67aae",
   "metadata": {},
   "outputs": [
    {
     "name": "stdout",
     "output_type": "stream",
     "text": [
      "+---------+------------------+\n",
      "|      job|         SAL_STDEV|\n",
      "+---------+------------------+\n",
      "|  ANALYST|               0.0|\n",
      "| SALESMAN|154.11035007422439|\n",
      "|    CLERK| 880.6815542521599|\n",
      "|  MANAGER|223.91714737574006|\n",
      "|PRESIDENT|               0.0|\n",
      "+---------+------------------+\n",
      "\n"
     ]
    }
   ],
   "source": [
    "#표준펴ㄴ차 \n",
    "\n",
    "#1. sql=function - stddev()\n",
    "dfs= df.groupBy('job').agg(expr('stddev_pop(sal) as SAL_STDEV')).show()\n",
    "#2. sql expression"
   ]
  },
  {
   "cell_type": "code",
   "execution_count": null,
   "id": "52ef0680",
   "metadata": {},
   "outputs": [],
   "source": [
    "#round() 처리"
   ]
  },
  {
   "cell_type": "code",
   "execution_count": 85,
   "id": "44dd05cd",
   "metadata": {},
   "outputs": [
    {
     "name": "stdout",
     "output_type": "stream",
     "text": [
      "+---------+----------------------------------------+\n",
      "|      job|round(stddev_pop(sal) AS `SAL_STDEV`, 2)|\n",
      "+---------+----------------------------------------+\n",
      "|  ANALYST|                                     0.0|\n",
      "| SALESMAN|                                  154.11|\n",
      "|    CLERK|                                  880.68|\n",
      "|  MANAGER|                                  223.92|\n",
      "|PRESIDENT|                                     0.0|\n",
      "+---------+----------------------------------------+\n",
      "\n"
     ]
    }
   ],
   "source": [
    "dfs= df.groupBy('job').agg(round(expr('stddev_pop(sal) as SAL_STDEV'),2)).show()"
   ]
  },
  {
   "cell_type": "code",
   "execution_count": null,
   "id": "d43a055d",
   "metadata": {},
   "outputs": [],
   "source": [
    "#groupBy집계 "
   ]
  },
  {
   "cell_type": "code",
   "execution_count": null,
   "id": "b3e725df",
   "metadata": {},
   "outputs": [],
   "source": []
  },
  {
   "cell_type": "markdown",
   "id": "d2874970",
   "metadata": {},
   "source": [
    "# 윈도우 함수 "
   ]
  },
  {
   "cell_type": "code",
   "execution_count": null,
   "id": "95fbf446",
   "metadata": {},
   "outputs": [],
   "source": [
    "순위, 정렬, - rank, row_number , dense_rank\n",
    "누계 - sum, avg, max, min + over()\n",
    "이동평균, 이동합계 - over+ rowsBetween, rangeBetween\n",
    "시차, 서행 -leg, lead \n",
    "\n",
    "ex) 세션 구간내 분석, 특정시간 동안 일어난 활동 그룹화 \n"
   ]
  },
  {
   "cell_type": "code",
   "execution_count": null,
   "id": "72d3a67f",
   "metadata": {},
   "outputs": [],
   "source": [
    "1. partitionBy() > 소그룹으로 나눈다.\n",
    "2. orderBy() > 소그룹 내 정렬\n",
    "3. rowBetween() , rangeBetween()\n",
    "4. over()"
   ]
  },
  {
   "cell_type": "code",
   "execution_count": 88,
   "id": "bff0bfc0",
   "metadata": {},
   "outputs": [],
   "source": [
    "from pyspark.sql.window import Window\n",
    "from pyspark.sql.functions import desc,rank\n",
    "\n",
    "#윈도우 명세 설정\n",
    "windowspec=Window.orderBy(desc('sal'))  # 범위 정함 "
   ]
  },
  {
   "cell_type": "code",
   "execution_count": 89,
   "id": "49956eff",
   "metadata": {},
   "outputs": [],
   "source": [
    "#순위객체 \n",
    "salAllRank= rank().over(windowspec) #rank 데이터 생성 "
   ]
  },
  {
   "cell_type": "code",
   "execution_count": 90,
   "id": "aa699ee3",
   "metadata": {},
   "outputs": [
    {
     "data": {
      "text/plain": [
       "Column<'RANK() OVER (ORDER BY sal DESC NULLS LAST unspecifiedframe$())'>"
      ]
     },
     "execution_count": 90,
     "metadata": {},
     "output_type": "execute_result"
    }
   ],
   "source": [
    "salAllRank"
   ]
  },
  {
   "cell_type": "code",
   "execution_count": 91,
   "id": "a5f3a57a",
   "metadata": {},
   "outputs": [
    {
     "name": "stderr",
     "output_type": "stream",
     "text": [
      "24/12/09 13:39:04 WARN WindowExec: No Partition Defined for Window operation! Moving all data to a single partition, this can cause serious performance degradation.\n"
     ]
    },
    {
     "name": "stdout",
     "output_type": "stream",
     "text": [
      "+-----+------+---------+----+----------+----+----+------+-----------+\n",
      "|empno| ename|      job| mgr|  hiredate| sal|comm|deptno|salary_rank|\n",
      "+-----+------+---------+----+----------+----+----+------+-----------+\n",
      "| 7839|  KING|PRESIDENT|null|1981-11-17|5000|null|    10|          1|\n",
      "| 9292|  JACK|    CLERK|7782|1982-01-23|3200|null|    70|          2|\n",
      "| 7788| SCOTT|  ANALYST|7566|1987-04-19|3000|null|    20|          3|\n",
      "| 7902|  FORD|  ANALYST|7566|1981-12-03|3000|null|    20|          3|\n",
      "| 7566| JONES|  MANAGER|7839|1981-04-02|2975|null|    20|          5|\n",
      "| 7698| BLAKE|  MANAGER|7839|1981-05-01|2850|null|    30|          6|\n",
      "| 7782| CLARK|  MANAGER|7839|1981-06-09|2450|null|    10|          7|\n",
      "| 7499| ALLEN| SALESMAN|7698|1981-02-20|1600| 300|    30|          8|\n",
      "| 7844|TURNER| SALESMAN|7698|1981-09-08|1500|   0|    30|          9|\n",
      "| 7934|MILLER|    CLERK|7782|1982-01-23|1300|null|    10|         10|\n",
      "| 7521|  WARD| SALESMAN|7698|1981-02-22|1250| 500|    30|         11|\n",
      "| 7654|MARTIN| SALESMAN|7698|1981-09-28|1250|1400|    30|         11|\n",
      "| 7876| ADAMS|    CLERK|7788|1987-05-23|1100|null|    20|         13|\n",
      "| 7900| JAMES|    CLERK|7698|1981-12-03| 950|null|    30|         14|\n",
      "| 7369| SMITH|    CLERK|7902|1980-12-17| 800|null|    20|         15|\n",
      "+-----+------+---------+----+----------+----+----+------+-----------+\n",
      "\n"
     ]
    }
   ],
   "source": [
    "#데이터프레임에 컬럼으로 추가 > 액션 \n",
    "df.withColumn(\"salary_rank\",salAllRank).show()"
   ]
  },
  {
   "cell_type": "code",
   "execution_count": null,
   "id": "adbcf963",
   "metadata": {},
   "outputs": [],
   "source": []
  },
  {
   "cell_type": "code",
   "execution_count": 101,
   "id": "5b02a29f",
   "metadata": {},
   "outputs": [
    {
     "ename": "ImportError",
     "evalue": "cannot import name 'col' from 'pyspark.sql.window' (/opt/spark/python/pyspark/sql/window.py)",
     "output_type": "error",
     "traceback": [
      "\u001b[0;31m---------------------------------------------------------------------------\u001b[0m",
      "\u001b[0;31mImportError\u001b[0m                               Traceback (most recent call last)",
      "Cell \u001b[0;32mIn[101], line 1\u001b[0m\n\u001b[0;32m----> 1\u001b[0m \u001b[38;5;28;01mfrom\u001b[39;00m \u001b[38;5;21;01mpyspark\u001b[39;00m\u001b[38;5;21;01m.\u001b[39;00m\u001b[38;5;21;01msql\u001b[39;00m\u001b[38;5;21;01m.\u001b[39;00m\u001b[38;5;21;01mwindow\u001b[39;00m \u001b[38;5;28;01mimport\u001b[39;00m col\n\u001b[1;32m      2\u001b[0m df\u001b[38;5;241m.\u001b[39mselect(\u001b[38;5;124m'\u001b[39m\u001b[38;5;124mempno\u001b[39m\u001b[38;5;124m'\u001b[39m, salAllRank\u001b[38;5;241m.\u001b[39malias(\u001b[38;5;124m'\u001b[39m\u001b[38;5;124msalary_rank\u001b[39m\u001b[38;5;124m'\u001b[39m))\u001b[38;5;241m.\u001b[39mshow()  \u001b[38;5;66;03m# d오류남  수정하기 \u001b[39;00m\n",
      "\u001b[0;31mImportError\u001b[0m: cannot import name 'col' from 'pyspark.sql.window' (/opt/spark/python/pyspark/sql/window.py)"
     ]
    }
   ],
   "source": [
    "from pyspark.sql.functions import col\n",
    "df.select( 'empno', salAllRank.alias('salary_rank') ).show()  "
   ]
  },
  {
   "cell_type": "code",
   "execution_count": 98,
   "id": "9fe13411",
   "metadata": {},
   "outputs": [],
   "source": [
    "#windowspec=Window.orderBy(desc('sal'))\n",
    "windowspec1= Window.partitionBy('job').orderBy(desc('sal'))"
   ]
  },
  {
   "cell_type": "code",
   "execution_count": 102,
   "id": "b7af7419",
   "metadata": {},
   "outputs": [],
   "source": [
    "salJobRank= rank().over(windowspec)"
   ]
  },
  {
   "cell_type": "code",
   "execution_count": 104,
   "id": "f1fe19e6",
   "metadata": {},
   "outputs": [
    {
     "name": "stdout",
     "output_type": "stream",
     "text": [
      "+---------+------+----+----------+\n",
      "|      job| ename| sal|salJobRank|\n",
      "+---------+------+----+----------+\n",
      "|  ANALYST| SCOTT|3000|         1|\n",
      "|  ANALYST|  FORD|3000|         1|\n",
      "| SALESMAN| ALLEN|1600|         1|\n",
      "| SALESMAN|TURNER|1500|         2|\n",
      "| SALESMAN|  WARD|1250|         3|\n",
      "| SALESMAN|MARTIN|1250|         3|\n",
      "|    CLERK|  JACK|3200|         1|\n",
      "|    CLERK|MILLER|1300|         2|\n",
      "|    CLERK| ADAMS|1100|         3|\n",
      "|    CLERK| JAMES| 950|         4|\n",
      "|    CLERK| SMITH| 800|         5|\n",
      "|  MANAGER| JONES|2975|         1|\n",
      "|  MANAGER| BLAKE|2850|         2|\n",
      "|  MANAGER| CLARK|2450|         3|\n",
      "|PRESIDENT|  KING|5000|         1|\n",
      "+---------+------+----+----------+\n",
      "\n"
     ]
    }
   ],
   "source": [
    "df.select(\n",
    "    'job', 'ename', 'sal',\n",
    "    salJobRank.alias('salJobRank')\n",
    ").show()"
   ]
  },
  {
   "cell_type": "code",
   "execution_count": 107,
   "id": "e378fb9e",
   "metadata": {},
   "outputs": [],
   "source": [
    "# 부서별 급여 순위 생성  - 강사님 참고하기 \n",
    "\n",
    "dept_window_spec = Window.partitionBy('deptno').orderBy(desc('sal'))"
   ]
  },
  {
   "cell_type": "code",
   "execution_count": null,
   "id": "492331fd",
   "metadata": {},
   "outputs": [],
   "source": [
    "new_df = df.withColumn( 'dept_salary_rank', rank().over(dept_window_spec))\n",
    "new_df.select(\n",
    "    'ename', 'deptno', 'sal', 'dept_salary_rank'\n",
    ").show()"
   ]
  },
  {
   "cell_type": "code",
   "execution_count": null,
   "id": "34ce67e7",
   "metadata": {},
   "outputs": [],
   "source": [
    "from pyspark.sql.functions import row_number\n",
    "new_df = df.withColumn( 'dept_salary_rank', row_number().over(dept_window_spec))\n",
    "new_df.select(\n",
    "    'ename', 'deptno', 'sal', 'dept_salary_rank'\n",
    ").show()"
   ]
  },
  {
   "cell_type": "code",
   "execution_count": null,
   "id": "faaedf50",
   "metadata": {},
   "outputs": [],
   "source": [
    "from pyspark.sql.functions import dense_rank\n",
    "new_df = df.withColumn( 'dept_salary_rank', dense_rank().over(dept_window_spec))\n",
    "new_df.select(\n",
    "    'ename', 'deptno', 'sal', 'dept_salary_rank'\n",
    ").show()"
   ]
  },
  {
   "cell_type": "code",
   "execution_count": null,
   "id": "2e5728b6",
   "metadata": {},
   "outputs": [],
   "source": [
    "#누적 급여 계산 "
   ]
  },
  {
   "cell_type": "code",
   "execution_count": 112,
   "id": "e8e12376",
   "metadata": {},
   "outputs": [],
   "source": [
    "from pyspark.sql.functions import dense_rank\n",
    "sum_window_spec= Window.partitionBy('deptno').orderBy('empno')\n"
   ]
  },
  {
   "cell_type": "code",
   "execution_count": 114,
   "id": "1ad2f234",
   "metadata": {},
   "outputs": [
    {
     "name": "stdout",
     "output_type": "stream",
     "text": [
      "+------+------+----+----------+\n",
      "| ename|deptno| sal|cum_salary|\n",
      "+------+------+----+----------+\n",
      "| SMITH|    20| 800|       800|\n",
      "| JONES|    20|2975|      3775|\n",
      "| SCOTT|    20|3000|      6775|\n",
      "| ADAMS|    20|1100|      7875|\n",
      "|  FORD|    20|3000|     10875|\n",
      "| CLARK|    10|2450|      2450|\n",
      "|  KING|    10|5000|      7450|\n",
      "|MILLER|    10|1300|      8750|\n",
      "|  JACK|    70|3200|      3200|\n",
      "| ALLEN|    30|1600|      1600|\n",
      "|  WARD|    30|1250|      2850|\n",
      "|MARTIN|    30|1250|      4100|\n",
      "| BLAKE|    30|2850|      6950|\n",
      "|TURNER|    30|1500|      8450|\n",
      "| JAMES|    30| 950|      9400|\n",
      "+------+------+----+----------+\n",
      "\n"
     ]
    }
   ],
   "source": [
    "new_df= df.withColumn('cum_salary',sum('sal').over(sum_window_spec))\n",
    "new_df.select(\n",
    "    'ename', 'deptno', 'sal', 'cum_salary'\n",
    ").show()"
   ]
  },
  {
   "cell_type": "code",
   "execution_count": null,
   "id": "ae980c90",
   "metadata": {},
   "outputs": [],
   "source": [
    "#부서별 평균 급여 avg('sal')"
   ]
  },
  {
   "cell_type": "markdown",
   "id": "81e57137",
   "metadata": {},
   "source": [
    "#sql select 문 \n",
    "\n",
    "SELECT #projsction\n",
    "ename, deptno, sal,\n",
    "avg('sal').over(partition by deptno) as dept_avg_salary\n",
    "from emp; #filter "
   ]
  },
  {
   "cell_type": "code",
   "execution_count": null,
   "id": "575380a6",
   "metadata": {},
   "outputs": [],
   "source": [
    "from pyspark.sql.functions import dense_rank\n",
    "avg_window_spec = Window.partitionBy('deptno')\n",
    "new_avg_df = df.withColumn('dept_avg_salary', avg('sal').over(avg_window_spec))\n",
    "new_avg_df.select('empno', 'deptno', 'dept_avg_salary',).show()"
   ]
  },
  {
   "cell_type": "code",
   "execution_count": null,
   "id": "ab88073a",
   "metadata": {},
   "outputs": [],
   "source": []
  },
  {
   "cell_type": "code",
   "execution_count": 115,
   "id": "700c9740",
   "metadata": {},
   "outputs": [],
   "source": [
    "windowspec= Window.partitionBy('deptno')"
   ]
  },
  {
   "cell_type": "code",
   "execution_count": 119,
   "id": "e61d84b0",
   "metadata": {},
   "outputs": [],
   "source": [
    "df_with_avg_sal= df.withColumn('avg_sal',round(avg('sal').over(windowspec),2))"
   ]
  },
  {
   "cell_type": "code",
   "execution_count": 121,
   "id": "8bd3c598",
   "metadata": {},
   "outputs": [
    {
     "name": "stdout",
     "output_type": "stream",
     "text": [
      "+------+----+-------+\n",
      "|deptno| sal|avg_sal|\n",
      "+------+----+-------+\n",
      "|    20| 800| 2175.0|\n",
      "|    20|2975| 2175.0|\n",
      "|    20|3000| 2175.0|\n",
      "|    20|1100| 2175.0|\n",
      "|    20|3000| 2175.0|\n",
      "|    10|2450|2916.67|\n",
      "|    10|5000|2916.67|\n",
      "|    10|1300|2916.67|\n",
      "|    70|3200| 3200.0|\n",
      "|    30|1600|1566.67|\n",
      "|    30|1250|1566.67|\n",
      "|    30|1250|1566.67|\n",
      "|    30|2850|1566.67|\n",
      "|    30|1500|1566.67|\n",
      "|    30| 950|1566.67|\n",
      "+------+----+-------+\n",
      "\n"
     ]
    }
   ],
   "source": [
    "df_with_avg_sal.select('deptno', 'sal', 'avg_sal').show() #F import 해보기 / groupBy 해보기 "
   ]
  },
  {
   "cell_type": "code",
   "execution_count": 125,
   "id": "356427b7",
   "metadata": {},
   "outputs": [
    {
     "name": "stderr",
     "output_type": "stream",
     "text": [
      "\r",
      "[Stage 165:=====================================================>(99 + 1) / 100]\r",
      "\r",
      "                                                                                \r"
     ]
    },
    {
     "name": "stdout",
     "output_type": "stream",
     "text": [
      "+------+------------------+\n",
      "|deptno|   dept_avg_salary|\n",
      "+------+------------------+\n",
      "|    20|            2175.0|\n",
      "|    20|            2175.0|\n",
      "|    20|            2175.0|\n",
      "|    20|            2175.0|\n",
      "|    20|            2175.0|\n",
      "|    10|2916.6666666666665|\n",
      "|    10|2916.6666666666665|\n",
      "|    10|2916.6666666666665|\n",
      "|    70|            3200.0|\n",
      "|    30|1566.6666666666667|\n",
      "|    30|1566.6666666666667|\n",
      "|    30|1566.6666666666667|\n",
      "|    30|1566.6666666666667|\n",
      "|    30|1566.6666666666667|\n",
      "|    30|1566.6666666666667|\n",
      "+------+------------------+\n",
      "\n"
     ]
    }
   ],
   "source": [
    "#강사님\n",
    "from pyspark.sql.functions import dense_rank\n",
    "avg_window_spec = Window.partitionBy('deptno')\n",
    "new_avg_df= df.withColumn('dept_avg_salary', avg('sal').over(avg_window_spec))\n",
    "new_avg_df.select('deptno', 'dept_avg_salary').show()"
   ]
  },
  {
   "cell_type": "code",
   "execution_count": null,
   "id": "87836ce3",
   "metadata": {},
   "outputs": [],
   "source": [
    "#sql select 문으로 바꿔보기 - 연습 많이 해보기 \n",
    "select \n",
    "ename, deptno, sal\n",
    "LAG(sal) OVER()"
   ]
  },
  {
   "cell_type": "code",
   "execution_count": null,
   "id": "738c3ba4",
   "metadata": {},
   "outputs": [],
   "source": []
  },
  {
   "cell_type": "code",
   "execution_count": null,
   "id": "ee230bb1",
   "metadata": {},
   "outputs": [],
   "source": [
    "#Lead, Lag 이전 급여, 이후 급여 "
   ]
  },
  {
   "cell_type": "code",
   "execution_count": null,
   "id": "788c3398",
   "metadata": {},
   "outputs": [],
   "source": [
    "#DF\n",
    "from pyspark.sql.import functions as F\n",
    "\n",
    "row_window_spec = Window.partitionBy('deptno').orderBy('empno')\n",
    "\n",
    "#이전 급여\n",
    "lead_lagg_df= df.withColumn('prev_salary', lag('sal').over(row_window_spec))\\\n",
    "            .withColumn('next_salary', lag('sal').over(row_window_spec))\n",
    " \n",
    "new_avg_df.select('ename' ,'deptno','sal', 'prev_salary',  'dept_avg_salary').show()   # 다시 봐보기 "
   ]
  },
  {
   "cell_type": "markdown",
   "id": "01da9f13",
   "metadata": {},
   "source": [
    "# rollup, cube\n",
    "\n",
    "over(), groupBy()\n",
    "rollup : 계층적집계, 부분합(subtotal), 총합(grandtotal) (대부류,중부류)\n",
    "cube : 모든 값으로 부분합 , 결합가능한 모든 값의 부분합을 구한다. "
   ]
  },
  {
   "cell_type": "code",
   "execution_count": 1,
   "id": "49ac1490",
   "metadata": {
    "scrolled": true
   },
   "outputs": [
    {
     "name": "stdout",
     "output_type": "stream",
     "text": [
      "/bin/bash: -c: line 0: syntax error near unexpected token `attachment:c3d0c6ad-29c8-4d6c-81c3-360a6ac841ad.png'\r\n",
      "/bin/bash: -c: line 0: `[image.png](attachment:c3d0c6ad-29c8-4d6c-81c3-360a6ac841ad.png)'\r\n"
     ]
    }
   ],
   "source": [
    "![image.png](attachment:c3d0c6ad-29c8-4d6c-81c3-360a6ac841ad.png)"
   ]
  },
  {
   "cell_type": "code",
   "execution_count": null,
   "id": "f1d3653b",
   "metadata": {},
   "outputs": [],
   "source": []
  },
  {
   "cell_type": "code",
   "execution_count": 126,
   "id": "4bbd6421",
   "metadata": {},
   "outputs": [
    {
     "data": {
      "text/plain": [
       "DataFrame[empno: int, ename: string, job: string, mgr: int, hiredate: string, sal: int, comm: int, deptno: int]"
      ]
     },
     "execution_count": 126,
     "metadata": {},
     "output_type": "execute_result"
    }
   ],
   "source": [
    "df"
   ]
  },
  {
   "cell_type": "code",
   "execution_count": 132,
   "id": "86529914",
   "metadata": {},
   "outputs": [
    {
     "name": "stderr",
     "output_type": "stream",
     "text": [
      "\r",
      "[Stage 179:=================================>                   (128 + 2) / 200]\r",
      "\r",
      "[Stage 179:=================================================>   (188 + 2) / 200]\r"
     ]
    },
    {
     "name": "stdout",
     "output_type": "stream",
     "text": [
      "+------+---------+--------+--------+\n",
      "|deptno|      job|count(1)|sum(sal)|\n",
      "+------+---------+--------+--------+\n",
      "|    10|    CLERK|       1|    1300|\n",
      "|    10|  MANAGER|       1|    2450|\n",
      "|    10|PRESIDENT|       1|    5000|\n",
      "|    20|  ANALYST|       2|    6000|\n",
      "|    20|    CLERK|       2|    1900|\n",
      "|    20|  MANAGER|       1|    2975|\n",
      "|    30|    CLERK|       1|     950|\n",
      "|    30|  MANAGER|       1|    2850|\n",
      "|    30| SALESMAN|       4|    5600|\n",
      "|    70|    CLERK|       1|    3200|\n",
      "+------+---------+--------+--------+\n",
      "\n"
     ]
    },
    {
     "name": "stderr",
     "output_type": "stream",
     "text": [
      "\r",
      "                                                                                \r"
     ]
    }
   ],
   "source": [
    "#그룹화 >소계 \n",
    "\n",
    "df.groupBy('deptno', 'job').agg(count('*'),sum('sal')).orderBy('deptno', 'job').show()"
   ]
  },
  {
   "cell_type": "code",
   "execution_count": 133,
   "id": "f6b5f82b",
   "metadata": {},
   "outputs": [
    {
     "name": "stdout",
     "output_type": "stream",
     "text": [
      "+------+---------+--------+--------+\n",
      "|deptno|      job|count(1)|sum(sal)|\n",
      "+------+---------+--------+--------+\n",
      "|  null|     null|      15|   32225|\n",
      "|    10|     null|       3|    8750|\n",
      "|    10|    CLERK|       1|    1300|\n",
      "|    10|  MANAGER|       1|    2450|\n",
      "|    10|PRESIDENT|       1|    5000|\n",
      "|    20|     null|       5|   10875|\n",
      "|    20|  ANALYST|       2|    6000|\n",
      "|    20|    CLERK|       2|    1900|\n",
      "|    20|  MANAGER|       1|    2975|\n",
      "|    30|     null|       6|    9400|\n",
      "|    30|    CLERK|       1|     950|\n",
      "|    30|  MANAGER|       1|    2850|\n",
      "|    30| SALESMAN|       4|    5600|\n",
      "|    70|     null|       1|    3200|\n",
      "|    70|    CLERK|       1|    3200|\n",
      "+------+---------+--------+--------+\n",
      "\n"
     ]
    },
    {
     "name": "stderr",
     "output_type": "stream",
     "text": [
      "\r",
      "[Stage 181:=============================================>       (172 + 2) / 200]\r",
      "\r",
      "                                                                                \r"
     ]
    }
   ],
   "source": [
    "df.rollup('deptno', 'job').agg(count('*'),sum('sal')).orderBy('deptno', 'job').show()"
   ]
  },
  {
   "cell_type": "code",
   "execution_count": 134,
   "id": "7b14a0bc",
   "metadata": {},
   "outputs": [
    {
     "name": "stdout",
     "output_type": "stream",
     "text": [
      "+------+---------+--------+--------+\n",
      "|deptno|      job|count(1)|sum(sal)|\n",
      "+------+---------+--------+--------+\n",
      "|  null|     null|      15|   32225|\n",
      "|  null|  ANALYST|       2|    6000|\n",
      "|  null|    CLERK|       5|    7350|\n",
      "|  null|  MANAGER|       3|    8275|\n",
      "|  null|PRESIDENT|       1|    5000|\n",
      "|  null| SALESMAN|       4|    5600|\n",
      "|    10|     null|       3|    8750|\n",
      "|    10|    CLERK|       1|    1300|\n",
      "|    10|  MANAGER|       1|    2450|\n",
      "|    10|PRESIDENT|       1|    5000|\n",
      "|    20|     null|       5|   10875|\n",
      "|    20|  ANALYST|       2|    6000|\n",
      "|    20|    CLERK|       2|    1900|\n",
      "|    20|  MANAGER|       1|    2975|\n",
      "|    30|     null|       6|    9400|\n",
      "|    30|    CLERK|       1|     950|\n",
      "|    30|  MANAGER|       1|    2850|\n",
      "|    30| SALESMAN|       4|    5600|\n",
      "|    70|     null|       1|    3200|\n",
      "|    70|    CLERK|       1|    3200|\n",
      "+------+---------+--------+--------+\n",
      "\n"
     ]
    },
    {
     "name": "stderr",
     "output_type": "stream",
     "text": [
      "\r",
      "[Stage 183:======================================>              (145 + 2) / 200]\r",
      "\r",
      "                                                                                \r"
     ]
    }
   ],
   "source": [
    "df.cube('deptno', 'job').agg(count('*'),sum('sal')).orderBy('deptno', 'job').show() "
   ]
  },
  {
   "cell_type": "code",
   "execution_count": null,
   "id": "e3438975",
   "metadata": {},
   "outputs": [],
   "source": [
    "# 롤업 - > 대 중분류 최대 / 최솟값"
   ]
  },
  {
   "cell_type": "markdown",
   "id": "ce412172",
   "metadata": {},
   "source": [
    "#sql 버전 \n",
    "select\n",
    "    deptno, job,\n",
    "    max(sal) as max_sal,\n",
    "    min(sal) as min_sal,\n",
    "from emp\n",
    "group by rollup(deptno, job)\n",
    "order by deptno, job ;\n"
   ]
  },
  {
   "cell_type": "code",
   "execution_count": 135,
   "id": "e626fde8",
   "metadata": {},
   "outputs": [
    {
     "name": "stdout",
     "output_type": "stream",
     "text": [
      "+------+---------+-----+------------+----------+----------+\n",
      "|deptno|      job|count|total_salary|max_salary|min_salary|\n",
      "+------+---------+-----+------------+----------+----------+\n",
      "|  null|     null|   15|       32225|      5000|       800|\n",
      "|    10|     null|    3|        8750|      5000|      1300|\n",
      "|    10|    CLERK|    1|        1300|      1300|      1300|\n",
      "|    10|  MANAGER|    1|        2450|      2450|      2450|\n",
      "|    10|PRESIDENT|    1|        5000|      5000|      5000|\n",
      "|    20|     null|    5|       10875|      3000|       800|\n",
      "|    20|  ANALYST|    2|        6000|      3000|      3000|\n",
      "|    20|    CLERK|    2|        1900|      1100|       800|\n",
      "|    20|  MANAGER|    1|        2975|      2975|      2975|\n",
      "|    30|     null|    6|        9400|      2850|       950|\n",
      "|    30|    CLERK|    1|         950|       950|       950|\n",
      "|    30|  MANAGER|    1|        2850|      2850|      2850|\n",
      "|    30| SALESMAN|    4|        5600|      1600|      1250|\n",
      "|    70|     null|    1|        3200|      3200|      3200|\n",
      "|    70|    CLERK|    1|        3200|      3200|      3200|\n",
      "+------+---------+-----+------------+----------+----------+\n",
      "\n"
     ]
    }
   ],
   "source": [
    "# 롤업 - > 대 중분류 최대 / 최솟값\n",
    "\n",
    "de_rollup= df.rollup('deptno', 'job').agg(\n",
    "    count('*').alias('count'),\n",
    "    sum('sal').alias('total_salary'),\n",
    "    max('sal').alias('max_salary'),\n",
    "    min('sal').alias('min_salary')\n",
    ").orderBy('deptno', 'job')\n",
    "\n",
    "de_rollup.show()"
   ]
  },
  {
   "cell_type": "code",
   "execution_count": 137,
   "id": "832ba187",
   "metadata": {},
   "outputs": [
    {
     "name": "stdout",
     "output_type": "stream",
     "text": [
      "+------+---------+--------+--------+\n",
      "|deptno|      job|max(sal)|min(sal)|\n",
      "+------+---------+--------+--------+\n",
      "|  null|     null|    5000|     800|\n",
      "|    10|     null|    5000|    1300|\n",
      "|    10|    CLERK|    1300|    1300|\n",
      "|    10|  MANAGER|    2450|    2450|\n",
      "|    10|PRESIDENT|    5000|    5000|\n",
      "|    20|     null|    3000|     800|\n",
      "|    20|  ANALYST|    3000|    3000|\n",
      "|    20|    CLERK|    1100|     800|\n",
      "|    20|  MANAGER|    2975|    2975|\n",
      "|    30|     null|    2850|     950|\n",
      "|    30|    CLERK|     950|     950|\n",
      "|    30|  MANAGER|    2850|    2850|\n",
      "|    30| SALESMAN|    1600|    1250|\n",
      "|    70|     null|    3200|    3200|\n",
      "|    70|    CLERK|    3200|    3200|\n",
      "+------+---------+--------+--------+\n",
      "\n"
     ]
    },
    {
     "name": "stderr",
     "output_type": "stream",
     "text": [
      "\r",
      "[Stage 187:=============================================>       (172 + 2) / 200]\r",
      "\r",
      "                                                                                \r"
     ]
    }
   ],
   "source": [
    "# 강사님\n",
    "df.rollup('deptno', 'job').agg(max('sal'), min('sal')).orderBy('deptno', 'job').show()"
   ]
  },
  {
   "cell_type": "code",
   "execution_count": null,
   "id": "1768344c",
   "metadata": {},
   "outputs": [],
   "source": [
    "#select 로도  "
   ]
  },
  {
   "cell_type": "code",
   "execution_count": 138,
   "id": "4f277729",
   "metadata": {},
   "outputs": [],
   "source": [
    "#job 별 평균급여 job, avg_salary, total_salary \n",
    "df_job_salary = df.groupBy('job').agg(\n",
    "    round(avg('sal'),2).alias('avg_salary'),\n",
    "    sum('sal').alias('total_salary'))"
   ]
  },
  {
   "cell_type": "code",
   "execution_count": 139,
   "id": "417b5f17",
   "metadata": {},
   "outputs": [
    {
     "name": "stdout",
     "output_type": "stream",
     "text": [
      "+---------+----------+------------+\n",
      "|      job|avg_salary|total_salary|\n",
      "+---------+----------+------------+\n",
      "|  ANALYST|    3000.0|        6000|\n",
      "| SALESMAN|    1400.0|        5600|\n",
      "|    CLERK|    1470.0|        7350|\n",
      "|  MANAGER|   2758.33|        8275|\n",
      "|PRESIDENT|    5000.0|        5000|\n",
      "+---------+----------+------------+\n",
      "\n"
     ]
    }
   ],
   "source": [
    "df_job_salary.show()"
   ]
  },
  {
   "cell_type": "code",
   "execution_count": null,
   "id": "ec6bd824",
   "metadata": {},
   "outputs": [],
   "source": [
    "#deptno, job 평균급여, 최대급여를 모두 소계를 냅니다. cube "
   ]
  },
  {
   "cell_type": "code",
   "execution_count": 142,
   "id": "1623bb54",
   "metadata": {},
   "outputs": [
    {
     "name": "stdout",
     "output_type": "stream",
     "text": [
      "+------+---------+--------+----------+----------+\n",
      "|deptno|      job|count(1)|avg_salary|max_salary|\n",
      "+------+---------+--------+----------+----------+\n",
      "|  null|     null|      15|   2148.33|      5000|\n",
      "|  null|  ANALYST|       2|    3000.0|      3000|\n",
      "|  null|    CLERK|       5|    1470.0|      3200|\n",
      "|  null|  MANAGER|       3|   2758.33|      2975|\n",
      "|  null|PRESIDENT|       1|    5000.0|      5000|\n",
      "|  null| SALESMAN|       4|    1400.0|      1600|\n",
      "|    10|     null|       3|   2916.67|      5000|\n",
      "|    10|    CLERK|       1|    1300.0|      1300|\n",
      "|    10|  MANAGER|       1|    2450.0|      2450|\n",
      "|    10|PRESIDENT|       1|    5000.0|      5000|\n",
      "|    20|     null|       5|    2175.0|      3000|\n",
      "|    20|  ANALYST|       2|    3000.0|      3000|\n",
      "|    20|    CLERK|       2|     950.0|      1100|\n",
      "|    20|  MANAGER|       1|    2975.0|      2975|\n",
      "|    30|     null|       6|   1566.67|      2850|\n",
      "|    30|    CLERK|       1|     950.0|       950|\n",
      "|    30|  MANAGER|       1|    2850.0|      2850|\n",
      "|    30| SALESMAN|       4|    1400.0|      1600|\n",
      "|    70|     null|       1|    3200.0|      3200|\n",
      "|    70|    CLERK|       1|    3200.0|      3200|\n",
      "+------+---------+--------+----------+----------+\n",
      "\n"
     ]
    },
    {
     "name": "stderr",
     "output_type": "stream",
     "text": [
      "\r",
      "[Stage 201:=============================================>       (173 + 2) / 200]\r",
      "\r",
      "                                                                                \r"
     ]
    }
   ],
   "source": [
    "df_cube= df.cube('deptno', 'job').agg(count('*'),\n",
    "     round(avg('sal'),2).alias('avg_salary'),\n",
    "     max('sal').alias('max_salary')\n",
    "          ).orderBy('deptno', 'job')\n",
    "\n",
    "df_cube.show()   #더 봐보기 "
   ]
  },
  {
   "cell_type": "code",
   "execution_count": 143,
   "id": "f337dbe1",
   "metadata": {},
   "outputs": [],
   "source": [
    "spark.stop()"
   ]
  },
  {
   "cell_type": "code",
   "execution_count": null,
   "id": "e85f0e0b",
   "metadata": {},
   "outputs": [],
   "source": []
  }
 ],
 "metadata": {
  "kernelspec": {
   "display_name": "Python (spark_start)",
   "language": "python",
   "name": "spark_start"
  },
  "language_info": {
   "codemirror_mode": {
    "name": "ipython",
    "version": 3
   },
   "file_extension": ".py",
   "mimetype": "text/x-python",
   "name": "python",
   "nbconvert_exporter": "python",
   "pygments_lexer": "ipython3",
   "version": "3.8.20"
  }
 },
 "nbformat": 4,
 "nbformat_minor": 5
}
