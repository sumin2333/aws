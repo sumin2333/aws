{
 "cells": [
  {
   "cell_type": "code",
   "execution_count": null,
   "id": "e0daf72a",
   "metadata": {},
   "outputs": [],
   "source": [
    "1. 데이터 RDD 생성 map\n",
    "2.collect()\n",
    "3.blue mnms 만 꺼내기 \n",
    "4. 전체 합계 구하기\n",
    "5. 도시별 합계 구하기 "
   ]
  },
  {
   "cell_type": "code",
   "execution_count": 1,
   "id": "03c69a37",
   "metadata": {},
   "outputs": [
    {
     "name": "stderr",
     "output_type": "stream",
     "text": [
      "24/12/03 15:38:07 WARN NativeCodeLoader: Unable to load native-hadoop library for your platform... using builtin-java classes where applicable\n",
      "Using Spark's default log4j profile: org/apache/spark/log4j-defaults.properties\n",
      "Setting default log level to \"WARN\".\n",
      "To adjust logging level use sc.setLogLevel(newLevel). For SparkR, use setLogLevel(newLevel).\n",
      "24/12/03 15:38:09 WARN Utils: Service 'SparkUI' could not bind on port 4040. Attempting port 4041.\n",
      "24/12/03 15:38:09 WARN Utils: Service 'SparkUI' could not bind on port 4041. Attempting port 4042.\n"
     ]
    }
   ],
   "source": [
    "from pyspark import SparkConf, SparkContext \n",
    "conf =SparkConf().setMaster(\"local\").setAppName(\"mnm-rdd-counts\")\n",
    "spark=SparkContext(conf=conf)"
   ]
  },
  {
   "cell_type": "code",
   "execution_count": 2,
   "id": "530b342d",
   "metadata": {},
   "outputs": [],
   "source": [
    "import os\n",
    "directory= os.path.join(os.getcwd(), \"data\")\n",
    "filename= \"mnm_dataset.csv\"\n",
    "filepath= os.path.join(directory, filename)"
   ]
  },
  {
   "cell_type": "code",
   "execution_count": 3,
   "id": "141823a8",
   "metadata": {},
   "outputs": [
    {
     "data": {
      "text/plain": [
       "file:///home/lab10/src/data/mnm_dataset.csv MapPartitionsRDD[1] at textFile at NativeMethodAccessorImpl.java:0"
      ]
     },
     "execution_count": 3,
     "metadata": {},
     "output_type": "execute_result"
    }
   ],
   "source": [
    "#RDD 생성\n",
    "lines= spark.textFile(\"file://\"+filepath.replace(\"\\\\\",\"/\"))\n",
    "lines"
   ]
  },
  {
   "cell_type": "code",
   "execution_count": 4,
   "id": "cb2e592c",
   "metadata": {},
   "outputs": [
    {
     "name": "stderr",
     "output_type": "stream",
     "text": [
      "                                                                                \r"
     ]
    },
    {
     "data": {
      "text/plain": [
       "['State,Color,Count', 'TX,Red,20', 'NV,Blue,66', 'CO,Blue,79', 'OR,Blue,71']"
      ]
     },
     "execution_count": 4,
     "metadata": {},
     "output_type": "execute_result"
    }
   ],
   "source": [
    "lines.take(5)"
   ]
  },
  {
   "cell_type": "code",
   "execution_count": 7,
   "id": "48da063e",
   "metadata": {},
   "outputs": [],
   "source": [
    "header= lines.first()\n",
    "filtered_lines= lines.filter(lambda row:row !=header)"
   ]
  },
  {
   "cell_type": "code",
   "execution_count": 8,
   "id": "295aa576",
   "metadata": {},
   "outputs": [
    {
     "data": {
      "text/plain": [
       "['TX,Red,20', 'NV,Blue,66', 'CO,Blue,79', 'OR,Blue,71', 'WA,Yellow,93']"
      ]
     },
     "execution_count": 8,
     "metadata": {},
     "output_type": "execute_result"
    }
   ],
   "source": [
    "filtered_lines.take(5)"
   ]
  },
  {
   "cell_type": "code",
   "execution_count": 14,
   "id": "ded00c4d",
   "metadata": {},
   "outputs": [],
   "source": [
    "def parse(row):\n",
    "    fields = row.split(\",\")\n",
    "    state = fields[0]\n",
    "    color = fields[1]\n",
    "    count = int(fields[2])\n",
    "    return state, color,count"
   ]
  },
  {
   "cell_type": "code",
   "execution_count": 15,
   "id": "b5d06183",
   "metadata": {},
   "outputs": [
    {
     "data": {
      "text/plain": [
       "('TX', 'Red', 20)"
      ]
     },
     "execution_count": 15,
     "metadata": {},
     "output_type": "execute_result"
    }
   ],
   "source": [
    "parse('TX,Red,20')"
   ]
  },
  {
   "cell_type": "code",
   "execution_count": 16,
   "id": "6996b544",
   "metadata": {},
   "outputs": [],
   "source": [
    "parsed_data= filtered_lines.map(parse)"
   ]
  },
  {
   "cell_type": "code",
   "execution_count": 17,
   "id": "78d28f08",
   "metadata": {},
   "outputs": [
    {
     "data": {
      "text/plain": [
       "[('TX', 'Red', 20),\n",
       " ('NV', 'Blue', 66),\n",
       " ('CO', 'Blue', 79),\n",
       " ('OR', 'Blue', 71),\n",
       " ('WA', 'Yellow', 93)]"
      ]
     },
     "execution_count": 17,
     "metadata": {},
     "output_type": "execute_result"
    }
   ],
   "source": [
    "parsed_data.take(5)"
   ]
  },
  {
   "cell_type": "code",
   "execution_count": 19,
   "id": "a4eb6414",
   "metadata": {},
   "outputs": [
    {
     "data": {
      "text/plain": [
       "[(('TX', 'Red'), 20),\n",
       " (('NV', 'Blue'), 66),\n",
       " (('CO', 'Blue'), 79),\n",
       " (('OR', 'Blue'), 71),\n",
       " (('WA', 'Yellow'), 93)]"
      ]
     },
     "execution_count": 19,
     "metadata": {},
     "output_type": "execute_result"
    }
   ],
   "source": [
    "state_color_count = parsed_data.map(lambda x: ((x[0], x[1]),x[2]))\n",
    "state_color_count.take(5)"
   ]
  },
  {
   "cell_type": "code",
   "execution_count": 20,
   "id": "1ef746df",
   "metadata": {},
   "outputs": [],
   "source": [
    "state_color_count_with_1= state_color_count.mapValues(lambda x: (x,1))"
   ]
  },
  {
   "cell_type": "code",
   "execution_count": 21,
   "id": "0caba999",
   "metadata": {},
   "outputs": [
    {
     "data": {
      "text/plain": [
       "[(('TX', 'Red'), (20, 1)),\n",
       " (('NV', 'Blue'), (66, 1)),\n",
       " (('CO', 'Blue'), (79, 1)),\n",
       " (('OR', 'Blue'), (71, 1)),\n",
       " (('WA', 'Yellow'), (93, 1))]"
      ]
     },
     "execution_count": 21,
     "metadata": {},
     "output_type": "execute_result"
    }
   ],
   "source": [
    "state_color_count_with_1.take(5)"
   ]
  },
  {
   "cell_type": "code",
   "execution_count": 22,
   "id": "90ca0f76",
   "metadata": {},
   "outputs": [],
   "source": [
    "reduced_rdd = state_color_count_with_1.reduceByKey(lambda x,y: (x[0]+y[0], x[1]+ y[1]))"
   ]
  },
  {
   "cell_type": "code",
   "execution_count": 23,
   "id": "df353951",
   "metadata": {},
   "outputs": [
    {
     "name": "stderr",
     "output_type": "stream",
     "text": [
      "                                                                                \r"
     ]
    },
    {
     "data": {
      "text/plain": [
       "[(('TX', 'Red'), (95404, 1725)),\n",
       " (('NV', 'Blue'), (90003, 1673)),\n",
       " (('CO', 'Blue'), (93412, 1695)),\n",
       " (('OR', 'Blue'), (90526, 1646)),\n",
       " (('WA', 'Yellow'), (92920, 1663))]"
      ]
     },
     "execution_count": 23,
     "metadata": {},
     "output_type": "execute_result"
    }
   ],
   "source": [
    "reduced_rdd.take(5)"
   ]
  },
  {
   "cell_type": "code",
   "execution_count": 24,
   "id": "f2efcf86",
   "metadata": {
    "scrolled": false
   },
   "outputs": [
    {
     "data": {
      "text/plain": [
       "[(('TX', 'Red'), 95404, 1725),\n",
       " (('NV', 'Blue'), 90003, 1673),\n",
       " (('CO', 'Blue'), 93412, 1695),\n",
       " (('OR', 'Blue'), 90526, 1646),\n",
       " (('WA', 'Yellow'), 92920, 1663),\n",
       " (('WY', 'Blue'), 91002, 1664),\n",
       " (('CA', 'Yellow'), 100956, 1807),\n",
       " (('WA', 'Green'), 96486, 1779),\n",
       " (('OR', 'Green'), 89578, 1634),\n",
       " (('TX', 'Green'), 95753, 1737),\n",
       " (('NV', 'Green'), 91331, 1698),\n",
       " (('AZ', 'Brown'), 92287, 1698),\n",
       " (('AZ', 'Blue'), 89971, 1636),\n",
       " (('OR', 'Brown'), 89136, 1621),\n",
       " (('NV', 'Red'), 89346, 1610),\n",
       " (('WY', 'Orange'), 87956, 1595),\n",
       " (('TX', 'Brown'), 90736, 1641),\n",
       " (('CO', 'Red'), 89465, 1624),\n",
       " (('AZ', 'Green'), 91882, 1676),\n",
       " (('NM', 'Yellow'), 92747, 1688),\n",
       " (('WA', 'Red'), 93332, 1671),\n",
       " (('WY', 'Red'), 91768, 1670),\n",
       " (('TX', 'Orange'), 92315, 1652),\n",
       " (('WY', 'Yellow'), 87800, 1626),\n",
       " (('CO', 'Orange'), 90971, 1642),\n",
       " (('NV', 'Orange'), 93929, 1712),\n",
       " (('WY', 'Green'), 94339, 1695),\n",
       " (('CA', 'Green'), 93505, 1723),\n",
       " (('UT', 'Red'), 90995, 1680),\n",
       " (('CA', 'Red'), 91527, 1656),\n",
       " (('TX', 'Yellow'), 93819, 1703),\n",
       " (('WA', 'Orange'), 91521, 1658),\n",
       " (('AZ', 'Orange'), 91684, 1689),\n",
       " (('AZ', 'Red'), 90042, 1648),\n",
       " (('CA', 'Blue'), 89123, 1603),\n",
       " (('CO', 'Brown'), 93692, 1656),\n",
       " (('UT', 'Green'), 88392, 1591),\n",
       " (('NM', 'Green'), 91160, 1682),\n",
       " (('NV', 'Yellow'), 91390, 1675),\n",
       " (('TX', 'Blue'), 88466, 1614),\n",
       " (('WA', 'Brown'), 93082, 1669),\n",
       " (('OR', 'Red'), 90286, 1645),\n",
       " (('UT', 'Blue'), 89977, 1655),\n",
       " (('NM', 'Brown'), 93447, 1687),\n",
       " (('UT', 'Yellow'), 89264, 1645),\n",
       " (('UT', 'Brown'), 88973, 1631),\n",
       " (('WY', 'Brown'), 86110, 1532),\n",
       " (('WA', 'Blue'), 89886, 1625),\n",
       " (('CA', 'Orange'), 90311, 1657),\n",
       " (('OR', 'Orange'), 94514, 1743),\n",
       " (('AZ', 'Yellow'), 90946, 1654),\n",
       " (('CA', 'Brown'), 95762, 1718),\n",
       " (('NM', 'Blue'), 90150, 1638),\n",
       " (('CO', 'Green'), 93724, 1713),\n",
       " (('NV', 'Brown'), 92478, 1657),\n",
       " (('NM', 'Orange'), 91251, 1665),\n",
       " (('OR', 'Yellow'), 88129, 1614),\n",
       " (('UT', 'Orange'), 91341, 1684),\n",
       " (('NM', 'Red'), 94699, 1690),\n",
       " (('CO', 'Yellow'), 95038, 1721)]"
      ]
     },
     "execution_count": 24,
     "metadata": {},
     "output_type": "execute_result"
    }
   ],
   "source": [
    "final_result = reduced_rdd.map(lambda x: (x[0], x[1][0], x[1][1]))\n",
    "final_result.collect()"
   ]
  },
  {
   "cell_type": "code",
   "execution_count": 29,
   "id": "17ab70ae",
   "metadata": {},
   "outputs": [
    {
     "data": {
      "text/plain": [
       "[(('NV', 'Blue'), (90003, 1673)),\n",
       " (('CO', 'Blue'), (93412, 1695)),\n",
       " (('OR', 'Blue'), (90526, 1646)),\n",
       " (('WY', 'Blue'), (91002, 1664)),\n",
       " (('AZ', 'Blue'), (89971, 1636)),\n",
       " (('CA', 'Blue'), (89123, 1603)),\n",
       " (('TX', 'Blue'), (88466, 1614)),\n",
       " (('UT', 'Blue'), (89977, 1655)),\n",
       " (('WA', 'Blue'), (89886, 1625)),\n",
       " (('NM', 'Blue'), (90150, 1638))]"
      ]
     },
     "execution_count": 29,
     "metadata": {},
     "output_type": "execute_result"
    }
   ],
   "source": [
    "blue_mnms= reduced_rdd.filter(lambda x:x[0][1]==\"Blue\")\n",
    "blue_mnms.collect()"
   ]
  },
  {
   "cell_type": "code",
   "execution_count": 30,
   "id": "baad7eff",
   "metadata": {},
   "outputs": [
    {
     "name": "stdout",
     "output_type": "stream",
     "text": [
      "Total Count: 5500035, Total Records: 99999\n"
     ]
    }
   ],
   "source": [
    "total_count = final_result.map(lambda x: x[1]).sum()\n",
    "total_records= final_result.map(lambda x:x[2]).sum()\n",
    "print(f\"Total Count: {total_count}, Total Records: {total_records}\")"
   ]
  },
  {
   "cell_type": "code",
   "execution_count": 31,
   "id": "2f85fac8",
   "metadata": {
    "scrolled": false
   },
   "outputs": [
    {
     "data": {
      "text/plain": [
       "[('TX', 556493),\n",
       " ('NV', 548477),\n",
       " ('CO', 556302),\n",
       " ('OR', 542169),\n",
       " ('WA', 557227),\n",
       " ('WY', 538975),\n",
       " ('CA', 561184),\n",
       " ('AZ', 546812),\n",
       " ('NM', 553454),\n",
       " ('UT', 538942)]"
      ]
     },
     "execution_count": 31,
     "metadata": {},
     "output_type": "execute_result"
    }
   ],
   "source": [
    "#도시별 합계\n",
    "\n",
    "state_totals= final_result.map(dlambda x:(x[0][0], x[1])).reduceByKey(lambda a,b: a+b)\n",
    "state_totals.collect()"
   ]
  },
  {
   "cell_type": "code",
   "execution_count": null,
   "id": "32bcd37f",
   "metadata": {},
   "outputs": [],
   "source": []
  },
  {
   "cell_type": "code",
   "execution_count": null,
   "id": "7f853ba3",
   "metadata": {},
   "outputs": [],
   "source": []
  },
  {
   "cell_type": "code",
   "execution_count": null,
   "id": "949477c5",
   "metadata": {},
   "outputs": [],
   "source": []
  }
 ],
 "metadata": {
  "kernelspec": {
   "display_name": "Python (spark_start)",
   "language": "python",
   "name": "spark_start"
  },
  "language_info": {
   "codemirror_mode": {
    "name": "ipython",
    "version": 3
   },
   "file_extension": ".py",
   "mimetype": "text/x-python",
   "name": "python",
   "nbconvert_exporter": "python",
   "pygments_lexer": "ipython3",
   "version": "3.8.20"
  }
 },
 "nbformat": 4,
 "nbformat_minor": 5
}
