{
 "cells": [
  {
   "cell_type": "code",
   "execution_count": 15,
   "id": "4b82f554",
   "metadata": {},
   "outputs": [],
   "source": [
    "from pyspark import SparkConf, SparkContext\n",
    "# 스파크 환경 설정 객체 생성\n",
    "conf = SparkConf().setMaster(\"local\").setAppName(\"241205_02_partition\")\n",
    "spark =SparkContext(conf=conf).getOrCreate()"
   ]
  },
  {
   "cell_type": "code",
   "execution_count": null,
   "id": "a6a2bc5c",
   "metadata": {},
   "outputs": [],
   "source": [
    "# 사용자가 지정하는 파티션\n",
    "\n",
    "#--- partitionBy()"
   ]
  },
  {
   "cell_type": "code",
   "execution_count": 4,
   "id": "04e4b72e",
   "metadata": {},
   "outputs": [],
   "source": [
    "pairs= spark.parallelize(\n",
    "    [\n",
    "        1,2,3,4,2,4,1,\n",
    "\n",
    "    ]\n",
    ").map(lambda x:(x,x)) #객체 생성 "
   ]
  },
  {
   "cell_type": "code",
   "execution_count": 5,
   "id": "eb36dfdf",
   "metadata": {},
   "outputs": [
    {
     "name": "stderr",
     "output_type": "stream",
     "text": [
      "                                                                                \r"
     ]
    },
    {
     "data": {
      "text/plain": [
       "[(1, 1), (2, 2), (3, 3)]"
      ]
     },
     "execution_count": 5,
     "metadata": {},
     "output_type": "execute_result"
    }
   ],
   "source": [
    "pairs.take(3)"
   ]
  },
  {
   "cell_type": "code",
   "execution_count": null,
   "id": "70975e5c",
   "metadata": {},
   "outputs": [],
   "source": []
  },
  {
   "cell_type": "code",
   "execution_count": 8,
   "id": "cab36507",
   "metadata": {},
   "outputs": [
    {
     "name": "stderr",
     "output_type": "stream",
     "text": [
      "                                                                                \r"
     ]
    },
    {
     "data": {
      "text/plain": [
       "[[(2, 2), (4, 4), (2, 2), (4, 4)], [(1, 1), (3, 3), (1, 1)]]"
      ]
     },
     "execution_count": 8,
     "metadata": {},
     "output_type": "execute_result"
    }
   ],
   "source": [
    "#파티션 현황 확인 glom()\n",
    "\n",
    "pairs.partitionBy(2).glom().collect() # partitionBy 두 파트로 나눔 "
   ]
  },
  {
   "cell_type": "code",
   "execution_count": 9,
   "id": "91e941d1",
   "metadata": {},
   "outputs": [
    {
     "data": {
      "text/plain": [
       "[[(1, 1), (2, 2), (3, 3), (4, 4), (2, 2), (4, 4), (1, 1)]]"
      ]
     },
     "execution_count": 9,
     "metadata": {},
     "output_type": "execute_result"
    }
   ],
   "source": [
    "pairs.glom().collect() #데이터 맘대로 지정해줌 "
   ]
  },
  {
   "cell_type": "code",
   "execution_count": 10,
   "id": "46daf223",
   "metadata": {},
   "outputs": [
    {
     "data": {
      "text/plain": [
       "[[(2, 2), (4, 4), (2, 2), (4, 4)], [(1, 1), (3, 3), (1, 1)]]"
      ]
     },
     "execution_count": 10,
     "metadata": {},
     "output_type": "execute_result"
    }
   ],
   "source": [
    "#파티션별로 규칙에 따라 데이터를 넣을 수 있다. >lambda 식으로 정의\n",
    "#파티션 배치함수 \n",
    "\n",
    "pairs.partitionBy(2,lambda x: x%2).glom().collect() #어느 파티션에 어떤 것을 넣을지 \n",
    "#transformation 할 때마다 파티션 위치 바뀜 "
   ]
  },
  {
   "cell_type": "code",
   "execution_count": 11,
   "id": "fbf2a5a6",
   "metadata": {},
   "outputs": [],
   "source": [
    "new_pairs= pairs.partitionBy(2,lambda x: x%2).glom().persist() #그래서,persist 사용 고정 파티션 "
   ]
  },
  {
   "cell_type": "code",
   "execution_count": 14,
   "id": "85db16f0",
   "metadata": {},
   "outputs": [],
   "source": [
    "spark.stop()"
   ]
  },
  {
   "cell_type": "code",
   "execution_count": null,
   "id": "5bdb3084",
   "metadata": {},
   "outputs": [],
   "source": []
  },
  {
   "cell_type": "code",
   "execution_count": null,
   "id": "1b34174d",
   "metadata": {},
   "outputs": [],
   "source": []
  }
 ],
 "metadata": {
  "kernelspec": {
   "display_name": "Python (spark_start)",
   "language": "python",
   "name": "spark_start"
  },
  "language_info": {
   "codemirror_mode": {
    "name": "ipython",
    "version": 3
   },
   "file_extension": ".py",
   "mimetype": "text/x-python",
   "name": "python",
   "nbconvert_exporter": "python",
   "pygments_lexer": "ipython3",
   "version": "3.8.20"
  }
 },
 "nbformat": 4,
 "nbformat_minor": 5
}
