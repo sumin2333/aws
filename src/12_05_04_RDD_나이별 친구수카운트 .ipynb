{
 "cells": [
  {
   "cell_type": "code",
   "execution_count": null,
   "id": "e2f94925",
   "metadata": {},
   "outputs": [],
   "source": [
    "#fakefriends.csv\n",
    "\n",
    "user_id: 사용자 ID name: 사용자 이름 age: 사용자 나이 num_friends: 친구 수"
   ]
  },
  {
   "cell_type": "code",
   "execution_count": 1,
   "id": "f18fa53f",
   "metadata": {},
   "outputs": [
    {
     "name": "stderr",
     "output_type": "stream",
     "text": [
      "24/12/05 16:15:47 WARN NativeCodeLoader: Unable to load native-hadoop library for your platform... using builtin-java classes where applicable\n",
      "Using Spark's default log4j profile: org/apache/spark/log4j-defaults.properties\n",
      "Setting default log level to \"WARN\".\n",
      "To adjust logging level use sc.setLogLevel(newLevel). For SparkR, use setLogLevel(newLevel).\n",
      "24/12/05 16:15:48 WARN Utils: Service 'SparkUI' could not bind on port 4040. Attempting port 4041.\n",
      "24/12/05 16:15:48 WARN Utils: Service 'SparkUI' could not bind on port 4041. Attempting port 4042.\n"
     ]
    }
   ],
   "source": [
    "from pyspark import SparkConf, SparkContext\n",
    "# 스파크 환경 설정 객체 생성\n",
    "conf = SparkConf().setMaster(\"local\").setAppName(\"241205_04_RDDEXAM\")\n",
    "spark =SparkContext(conf=conf).getOrCreate()"
   ]
  },
  {
   "cell_type": "code",
   "execution_count": 2,
   "id": "cf26b1d8",
   "metadata": {},
   "outputs": [
    {
     "data": {
      "text/plain": [
       "file:///home/lab10/src/data/fakefriends.csv MapPartitionsRDD[1] at textFile at NativeMethodAccessorImpl.java:0"
      ]
     },
     "execution_count": 2,
     "metadata": {},
     "output_type": "execute_result"
    }
   ],
   "source": [
    "import os\n",
    "directory= os.path.join(os.getcwd(), \"data\")\n",
    "filename= \"fakefriends.csv\"\n",
    "filepath= os.path.join(directory, filename)\n",
    "\n",
    "#RDD생성 \n",
    "lines= spark.textFile(\"file://\"+filepath.replace(\"\\\\\", \"/\"))\n",
    "lines"
   ]
  },
  {
   "cell_type": "code",
   "execution_count": 13,
   "id": "ce39a6d1",
   "metadata": {},
   "outputs": [],
   "source": [
    "def parse(row):\n",
    "    fields=row.split(\",\")\n",
    "    user_id= fields[0]\n",
    "    id_name= fields[1]\n",
    "    age= int(fields[2])\n",
    "    num_friends= int(fields[3])\n",
    "    return user_id,id_name,age,num_friends  #변수 이름 공백 x "
   ]
  },
  {
   "cell_type": "code",
   "execution_count": 3,
   "id": "2ba4cf89",
   "metadata": {},
   "outputs": [
    {
     "name": "stderr",
     "output_type": "stream",
     "text": [
      "                                                                                \r"
     ]
    },
    {
     "data": {
      "text/plain": [
       "['0,Will,33,385',\n",
       " '1,Jean-Luc,26,2',\n",
       " '2,Hugh,55,221',\n",
       " '3,Deanna,40,465',\n",
       " '4,Quark,68,21']"
      ]
     },
     "execution_count": 3,
     "metadata": {},
     "output_type": "execute_result"
    }
   ],
   "source": [
    "lines.take(5)"
   ]
  },
  {
   "cell_type": "code",
   "execution_count": 4,
   "id": "e1f34a26",
   "metadata": {},
   "outputs": [],
   "source": [
    " #1. 평균 친구수 구하기\n",
    "\n",
    "average_friends= (lines.map(lambda row: int(row.split(\",\")[3])).mean())"
   ]
  },
  {
   "cell_type": "code",
   "execution_count": 5,
   "id": "c6842368",
   "metadata": {},
   "outputs": [
    {
     "data": {
      "text/plain": [
       "248.53200000000015"
      ]
     },
     "execution_count": 5,
     "metadata": {},
     "output_type": "execute_result"
    }
   ],
   "source": [
    "average_friends"
   ]
  },
  {
   "cell_type": "code",
   "execution_count": null,
   "id": "c7dffa10",
   "metadata": {},
   "outputs": [],
   "source": [
    "#2. 가장 친구가 많은 사용자 찾기"
   ]
  },
  {
   "cell_type": "code",
   "execution_count": 6,
   "id": "a58295a8",
   "metadata": {},
   "outputs": [],
   "source": [
    "#1\n",
    "#각 사용자에 대해 user_id와 친구 수를 튜플로 저장\n",
    "user_fr= lines.map(lambda row: (row.split(\",\")[1], int(row.split(\",\")[3])))"
   ]
  },
  {
   "cell_type": "code",
   "execution_count": 7,
   "id": "54ed3869",
   "metadata": {},
   "outputs": [],
   "source": [
    "most_f= user_fr.reduce(lambda a,b: a if a[1]> b[1] else b)"
   ]
  },
  {
   "cell_type": "code",
   "execution_count": 9,
   "id": "1b058a2d",
   "metadata": {},
   "outputs": [
    {
     "name": "stdout",
     "output_type": "stream",
     "text": [
      "가장 친구가 많은 사용자: Julian (499명)\n"
     ]
    }
   ],
   "source": [
    "print(f\"가장 친구가 많은 사용자: {most_f[0]} ({most_f[1]}명)\")"
   ]
  },
  {
   "cell_type": "code",
   "execution_count": null,
   "id": "c2d48b9b",
   "metadata": {},
   "outputs": [],
   "source": [
    "# 3.친구 수가 100 이상인 사용자 필터링"
   ]
  },
  {
   "cell_type": "code",
   "execution_count": 14,
   "id": "92b55afd",
   "metadata": {},
   "outputs": [],
   "source": [
    "parsed_data = lines.map(parse)"
   ]
  },
  {
   "cell_type": "code",
   "execution_count": 17,
   "id": "5a761bdc",
   "metadata": {},
   "outputs": [
    {
     "data": {
      "text/plain": [
       "[('0', 'Will', 33, 385),\n",
       " ('1', 'Jean-Luc', 26, 2),\n",
       " ('2', 'Hugh', 55, 221),\n",
       " ('3', 'Deanna', 40, 465),\n",
       " ('4', 'Quark', 68, 21)]"
      ]
     },
     "execution_count": 17,
     "metadata": {},
     "output_type": "execute_result"
    }
   ],
   "source": [
    "parsed_data.take(5)"
   ]
  },
  {
   "cell_type": "code",
   "execution_count": 18,
   "id": "f05ade16",
   "metadata": {},
   "outputs": [],
   "source": [
    "filtered_user= parsed_data.filter(lambda x: x[3]>=100)"
   ]
  },
  {
   "cell_type": "code",
   "execution_count": 19,
   "id": "b7601f60",
   "metadata": {},
   "outputs": [
    {
     "data": {
      "text/plain": [
       "[('0', 'Will', 33, 385),\n",
       " ('2', 'Hugh', 55, 221),\n",
       " ('3', 'Deanna', 40, 465),\n",
       " ('5', 'Weyoun', 59, 318),\n",
       " ('6', 'Gowron', 37, 220)]"
      ]
     },
     "execution_count": 19,
     "metadata": {},
     "output_type": "execute_result"
    }
   ],
   "source": [
    "filtered_user.take(5)"
   ]
  },
  {
   "cell_type": "code",
   "execution_count": 20,
   "id": "b9110c58",
   "metadata": {},
   "outputs": [],
   "source": [
    "filtered_user_list=filtered_user.collect()"
   ]
  },
  {
   "cell_type": "code",
   "execution_count": 25,
   "id": "06cb4207",
   "metadata": {},
   "outputs": [
    {
     "name": "stdout",
     "output_type": "stream",
     "text": [
      "사용자: Will, 친구수: 385\n",
      "사용자: Hugh, 친구수: 221\n",
      "사용자: Deanna, 친구수: 465\n",
      "사용자: Weyoun, 친구수: 318\n",
      "사용자: Gowron, 친구수: 220\n",
      "사용자: Will, 친구수: 307\n",
      "사용자: Jadzia, 친구수: 380\n",
      "사용자: Hugh, 친구수: 181\n",
      "사용자: Odo, 친구수: 191\n",
      "사용자: Ben, 친구수: 372\n",
      "사용자: Keiko, 친구수: 253\n",
      "사용자: Jean-Luc, 친구수: 444\n",
      "사용자: Weyoun, 친구수: 323\n",
      "사용자: Jean-Luc, 친구수: 455\n",
      "사용자: Geordi, 친구수: 246\n",
      "사용자: Odo, 친구수: 220\n",
      "사용자: Miles, 친구수: 268\n",
      "사용자: Keiko, 친구수: 271\n",
      "사용자: Ben, 친구수: 445\n",
      "사용자: Julian, 친구수: 100\n",
      "사용자: Leeta, 친구수: 363\n",
      "사용자: Martok, 친구수: 476\n",
      "사용자: Nog, 친구수: 364\n",
      "사용자: Keiko, 친구수: 175\n",
      "사용자: Miles, 친구수: 161\n",
      "사용자: Nog, 친구수: 281\n",
      "사용자: Dukat, 친구수: 197\n",
      "사용자: Jean-Luc, 친구수: 249\n",
      "사용자: Beverly, 친구수: 305\n",
      "사용자: Morn, 친구수: 192\n",
      "사용자: Odo, 친구수: 413\n",
      "사용자: Hugh, 친구수: 167\n",
      "사용자: Guinan, 친구수: 345\n",
      "사용자: Nerys, 친구수: 244\n",
      "사용자: Ezri, 친구수: 254\n",
      "사용자: Quark, 친구수: 283\n",
      "사용자: Lwaxana, 친구수: 212\n",
      "사용자: Beverly, 친구수: 269\n",
      "사용자: Keiko, 친구수: 278\n",
      "사용자: Gowron, 친구수: 194\n",
      "사용자: Odo, 친구수: 294\n",
      "사용자: Hugh, 친구수: 158\n",
      "사용자: Morn, 친구수: 284\n",
      "사용자: Geordi, 친구수: 100\n",
      "사용자: Kasidy, 친구수: 442\n",
      "사용자: Guinan, 친구수: 169\n",
      "사용자: Geordi, 친구수: 477\n",
      "사용자: Jadzia, 친구수: 135\n",
      "사용자: Jean-Luc, 친구수: 204\n",
      "사용자: Brunt, 친구수: 393\n",
      "사용자: Geordi, 친구수: 184\n",
      "사용자: Kasidy, 친구수: 179\n",
      "사용자: Brunt, 친구수: 384\n",
      "사용자: Leeta, 친구수: 208\n",
      "사용자: Morn, 친구수: 459\n",
      "사용자: Will, 친구수: 201\n",
      "사용자: Weyoun, 친구수: 407\n",
      "사용자: Data, 친구수: 337\n",
      "사용자: Leeta, 친구수: 348\n",
      "사용자: Dukat, 친구수: 445\n",
      "사용자: Jadzia, 친구수: 440\n",
      "사용자: Hugh, 친구수: 465\n",
      "사용자: Geordi, 친구수: 308\n",
      "사용자: Ben, 친구수: 311\n",
      "사용자: Quark, 친구수: 383\n",
      "사용자: Hugh, 친구수: 257\n",
      "사용자: Ezri, 친구수: 481\n",
      "사용자: Ben, 친구수: 188\n",
      "사용자: Worf, 친구수: 492\n",
      "사용자: Kasidy, 친구수: 471\n",
      "사용자: Morn, 친구수: 133\n",
      "사용자: Odo, 친구수: 173\n",
      "사용자: Ezri, 친구수: 233\n",
      "사용자: Nerys, 친구수: 361\n",
      "사용자: Will, 친구수: 178\n",
      "사용자: Keiko, 친구수: 491\n",
      "사용자: Jean-Luc, 친구수: 460\n",
      "사용자: Morn, 친구수: 123\n",
      "사용자: Dukat, 친구수: 142\n",
      "사용자: Morn, 친구수: 417\n",
      "사용자: Beverly, 친구수: 499\n",
      "사용자: Will, 친구수: 419\n",
      "사용자: Leeta, 친구수: 274\n",
      "사용자: Quark, 친구수: 417\n",
      "사용자: Nog, 친구수: 137\n",
      "사용자: Quark, 친구수: 244\n",
      "사용자: Worf, 친구수: 275\n",
      "사용자: Dukat, 친구수: 397\n",
      "사용자: Rom, 친구수: 487\n",
      "사용자: Ben, 친구수: 304\n",
      "사용자: Worf, 친구수: 344\n",
      "사용자: Jean-Luc, 친구수: 264\n",
      "사용자: Deanna, 친구수: 355\n",
      "사용자: Data, 친구수: 400\n",
      "사용자: Jadzia, 친구수: 439\n",
      "사용자: Data, 친구수: 429\n",
      "사용자: Rom, 친구수: 284\n",
      "사용자: Miles, 친구수: 284\n",
      "사용자: Julian, 친구수: 221\n",
      "사용자: Kasidy, 친구수: 252\n",
      "사용자: Gowron, 친구수: 350\n",
      "사용자: Hugh, 친구수: 309\n",
      "사용자: Odo, 친구수: 462\n",
      "사용자: Quark, 친구수: 265\n",
      "사용자: Ben, 친구수: 340\n",
      "사용자: Rom, 친구수: 427\n",
      "사용자: Will, 친구수: 335\n",
      "사용자: Dukat, 친구수: 384\n",
      "사용자: Nog, 친구수: 193\n",
      "사용자: Elim, 친구수: 234\n",
      "사용자: Miles, 친구수: 424\n",
      "사용자: Guinan, 친구수: 335\n",
      "사용자: Data, 친구수: 124\n",
      "사용자: Leeta, 친구수: 470\n",
      "사용자: Nerys, 친구수: 174\n",
      "사용자: Quark, 친구수: 373\n",
      "사용자: Nerys, 친구수: 248\n",
      "사용자: Beverly, 친구수: 340\n",
      "사용자: Nerys, 친구수: 313\n",
      "사용자: Keiko, 친구수: 441\n",
      "사용자: Kasidy, 친구수: 235\n",
      "사용자: Morn, 친구수: 342\n",
      "사용자: Geordi, 친구수: 389\n",
      "사용자: Beverly, 친구수: 126\n",
      "사용자: Deanna, 친구수: 360\n",
      "사용자: Dukat, 친구수: 319\n",
      "사용자: Odo, 친구수: 340\n",
      "사용자: Kasidy, 친구수: 438\n",
      "사용자: Beverly, 친구수: 112\n",
      "사용자: Odo, 친구수: 207\n",
      "사용자: Nerys, 친구수: 204\n",
      "사용자: Will, 친구수: 172\n",
      "사용자: Leeta, 친구수: 282\n",
      "사용자: Martok, 친구수: 112\n",
      "사용자: Jean-Luc, 친구수: 490\n",
      "사용자: Weyoun, 친구수: 126\n",
      "사용자: Kasidy, 친구수: 204\n",
      "사용자: Leeta, 친구수: 129\n",
      "사용자: Will, 친구수: 459\n",
      "사용자: Worf, 친구수: 474\n",
      "사용자: Brunt, 친구수: 316\n",
      "사용자: Kasidy, 친구수: 381\n",
      "사용자: Elim, 친구수: 426\n",
      "사용자: Kasidy, 친구수: 108\n",
      "사용자: Rom, 친구수: 404\n",
      "사용자: Weyoun, 친구수: 145\n",
      "사용자: Ben, 친구수: 488\n",
      "사용자: Weyoun, 친구수: 287\n",
      "사용자: Miles, 친구수: 109\n",
      "사용자: Nerys, 친구수: 225\n",
      "사용자: Keiko, 친구수: 369\n",
      "사용자: Geordi, 친구수: 294\n",
      "사용자: Nog, 친구수: 349\n",
      "사용자: Jadzia, 친구수: 497\n",
      "사용자: Nerys, 친구수: 125\n",
      "사용자: Ben, 친구수: 376\n",
      "사용자: Data, 친구수: 173\n",
      "사용자: Brunt, 친구수: 381\n",
      "사용자: Hugh, 친구수: 180\n",
      "사용자: Kasidy, 친구수: 472\n",
      "사용자: Ezri, 친구수: 174\n",
      "사용자: Lwaxana, 친구수: 469\n",
      "사용자: Ezri, 친구수: 125\n",
      "사용자: Deanna, 친구수: 164\n",
      "사용자: Morn, 친구수: 236\n",
      "사용자: Will, 친구수: 491\n",
      "사용자: Lwaxana, 친구수: 206\n",
      "사용자: Nog, 친구수: 271\n",
      "사용자: Brunt, 친구수: 174\n",
      "사용자: Data, 친구수: 245\n",
      "사용자: Geordi, 친구수: 284\n",
      "사용자: Worf, 친구수: 312\n",
      "사용자: Miles, 친구수: 182\n",
      "사용자: Brunt, 친구수: 116\n",
      "사용자: Keiko, 친구수: 260\n",
      "사용자: Gowron, 친구수: 350\n",
      "사용자: Lwaxana, 친구수: 345\n",
      "사용자: Jean-Luc, 친구수: 394\n",
      "사용자: Dukat, 친구수: 150\n",
      "사용자: Rom, 친구수: 346\n",
      "사용자: Odo, 친구수: 406\n",
      "사용자: Keiko, 친구수: 277\n",
      "사용자: Elim, 친구수: 106\n",
      "사용자: Lwaxana, 친구수: 207\n",
      "사용자: Ezri, 친구수: 198\n",
      "사용자: Martok, 친구수: 293\n",
      "사용자: Gowron, 친구수: 150\n",
      "사용자: Beverly, 친구수: 397\n",
      "사용자: Worf, 친구수: 481\n",
      "사용자: Brunt, 친구수: 442\n",
      "사용자: Nerys, 친구수: 469\n",
      "사용자: Deanna, 친구수: 305\n",
      "사용자: Nog, 친구수: 345\n",
      "사용자: Deanna, 친구수: 154\n",
      "사용자: Quark, 친구수: 332\n",
      "사용자: Data, 친구수: 101\n",
      "사용자: Dukat, 친구수: 471\n",
      "사용자: Jean-Luc, 친구수: 174\n",
      "사용자: Leeta, 친구수: 260\n",
      "사용자: Ezri, 친구수: 338\n",
      "사용자: Dukat, 친구수: 138\n",
      "사용자: Hugh, 친구수: 342\n",
      "사용자: Will, 친구수: 174\n",
      "사용자: Leeta, 친구수: 116\n",
      "사용자: Deanna, 친구수: 324\n",
      "사용자: Worf, 친구수: 412\n",
      "사용자: Data, 친구수: 161\n",
      "사용자: Worf, 친구수: 217\n",
      "사용자: Jadzia, 친구수: 172\n",
      "사용자: Will, 친구수: 334\n",
      "사용자: Julian, 친구수: 228\n",
      "사용자: Gowron, 친구수: 471\n",
      "사용자: Jean-Luc, 친구수: 496\n",
      "사용자: Dukat, 친구수: 106\n",
      "사용자: Ezri, 친구수: 298\n",
      "사용자: Beverly, 친구수: 289\n",
      "사용자: Data, 친구수: 353\n",
      "사용자: Morn, 친구수: 446\n",
      "사용자: Quark, 친구수: 367\n",
      "사용자: Data, 친구수: 493\n",
      "사용자: Julian, 친구수: 244\n",
      "사용자: Dukat, 친구수: 462\n",
      "사용자: Hugh, 친구수: 300\n",
      "사용자: Data, 친구수: 499\n",
      "사용자: Beverly, 친구수: 133\n",
      "사용자: Nerys, 친구수: 492\n",
      "사용자: Geordi, 친구수: 404\n",
      "사용자: Dukat, 친구수: 443\n",
      "사용자: Nog, 친구수: 269\n",
      "사용자: Data, 친구수: 101\n",
      "사용자: Lwaxana, 친구수: 384\n",
      "사용자: Beverly, 친구수: 396\n",
      "사용자: Hugh, 친구수: 354\n",
      "사용자: Ezri, 친구수: 221\n",
      "사용자: Beverly, 친구수: 290\n",
      "사용자: Dukat, 친구수: 373\n",
      "사용자: Nog, 친구수: 380\n",
      "사용자: Leeta, 친구수: 410\n",
      "사용자: Data, 친구수: 454\n",
      "사용자: Ben, 친구수: 395\n",
      "사용자: Guinan, 친구수: 207\n",
      "사용자: Rom, 친구수: 311\n",
      "사용자: Beverly, 친구수: 147\n",
      "사용자: Weyoun, 친구수: 108\n",
      "사용자: Beverly, 친구수: 263\n",
      "사용자: Deanna, 친구수: 319\n",
      "사용자: Will, 친구수: 404\n",
      "사용자: Quark, 친구수: 182\n",
      "사용자: Beverly, 친구수: 323\n",
      "사용자: Keiko, 친구수: 340\n",
      "사용자: Geordi, 친구수: 153\n",
      "사용자: Odo, 친구수: 189\n",
      "사용자: Jadzia, 친구수: 421\n",
      "사용자: Dukat, 친구수: 169\n",
      "사용자: Geordi, 친구수: 168\n",
      "사용자: Weyoun, 친구수: 208\n",
      "사용자: Hugh, 친구수: 391\n",
      "사용자: Guinan, 친구수: 439\n",
      "사용자: Deanna, 친구수: 251\n",
      "사용자: Leeta, 친구수: 476\n",
      "사용자: Worf, 친구수: 450\n",
      "사용자: Nog, 친구수: 236\n",
      "사용자: Miles, 친구수: 343\n",
      "사용자: Keiko, 친구수: 492\n",
      "사용자: Beverly, 친구수: 407\n",
      "사용자: Ezri, 친구수: 356\n",
      "사용자: Julian, 친구수: 362\n",
      "사용자: Ben, 친구수: 207\n",
      "사용자: Odo, 친구수: 337\n",
      "사용자: Will, 친구수: 180\n",
      "사용자: Morn, 친구수: 305\n",
      "사용자: Nerys, 친구수: 275\n",
      "사용자: Data, 친구수: 326\n",
      "사용자: Guinan, 친구수: 151\n",
      "사용자: Odo, 친구수: 254\n",
      "사용자: Data, 친구수: 487\n",
      "사용자: Ezri, 친구수: 394\n",
      "사용자: Hugh, 친구수: 329\n",
      "사용자: Weyoun, 친구수: 460\n",
      "사용자: Kasidy, 친구수: 277\n",
      "사용자: Nog, 친구수: 464\n",
      "사용자: Julian, 친구수: 499\n",
      "사용자: Keiko, 친구수: 352\n",
      "사용자: Weyoun, 친구수: 149\n",
      "사용자: Will, 친구수: 276\n",
      "사용자: Nog, 친구수: 442\n",
      "사용자: Worf, 친구수: 206\n",
      "사용자: Ezri, 친구수: 120\n",
      "사용자: Dukat, 친구수: 397\n",
      "사용자: Lwaxana, 친구수: 115\n",
      "사용자: Brunt, 친구수: 430\n",
      "사용자: Keiko, 친구수: 119\n",
      "사용자: Data, 친구수: 106\n",
      "사용자: Elim, 친구수: 383\n",
      "사용자: Quark, 친구수: 266\n",
      "사용자: Guinan, 친구수: 435\n",
      "사용자: Brunt, 친구수: 273\n",
      "사용자: Quark, 친구수: 272\n",
      "사용자: Nog, 친구수: 293\n",
      "사용자: Hugh, 친구수: 201\n",
      "사용자: Gowron, 친구수: 392\n",
      "사용자: Beverly, 친구수: 418\n",
      "사용자: Data, 친구수: 304\n",
      "사용자: Worf, 친구수: 240\n",
      "사용자: Data, 친구수: 148\n",
      "사용자: Martok, 친구수: 355\n",
      "사용자: Beverly, 친구수: 436\n",
      "사용자: Data, 친구수: 428\n",
      "사용자: Will, 친구수: 335\n",
      "사용자: Nog, 친구수: 184\n",
      "사용자: Martok, 친구수: 266\n",
      "사용자: Ben, 친구수: 309\n",
      "사용자: Data, 친구수: 343\n",
      "사용자: Quark, 친구수: 436\n",
      "사용자: Keiko, 친구수: 230\n",
      "사용자: Quark, 친구수: 470\n",
      "사용자: Lwaxana, 친구수: 124\n",
      "사용자: Beverly, 친구수: 401\n",
      "사용자: Data, 친구수: 128\n",
      "사용자: Jean-Luc, 친구수: 467\n",
      "사용자: Weyoun, 친구수: 224\n",
      "사용자: Nog, 친구수: 371\n",
      "사용자: Ben, 친구수: 121\n",
      "사용자: Dukat, 친구수: 496\n",
      "사용자: Nog, 친구수: 267\n",
      "사용자: Odo, 친구수: 299\n",
      "사용자: Jadzia, 친구수: 451\n",
      "사용자: Hugh, 친구수: 147\n",
      "사용자: Martok, 친구수: 313\n",
      "사용자: Nerys, 친구수: 294\n",
      "사용자: Julian, 친구수: 106\n",
      "사용자: Guinan, 친구수: 212\n",
      "사용자: Kasidy, 친구수: 176\n",
      "사용자: Jadzia, 친구수: 391\n",
      "사용자: Will, 친구수: 261\n",
      "사용자: Ben, 친구수: 292\n",
      "사용자: Will, 친구수: 388\n",
      "사용자: Keiko, 친구수: 470\n",
      "사용자: Quark, 친구수: 243\n",
      "사용자: Brunt, 친구수: 258\n",
      "사용자: Lwaxana, 친구수: 423\n",
      "사용자: Jean-Luc, 친구수: 345\n",
      "사용자: Geordi, 친구수: 493\n",
      "사용자: Quark, 친구수: 343\n",
      "사용자: Ezri, 친구수: 203\n",
      "사용자: Deanna, 친구수: 289\n",
      "사용자: Guinan, 친구수: 275\n",
      "사용자: Geordi, 친구수: 229\n",
      "사용자: Morn, 친구수: 221\n",
      "사용자: Data, 친구수: 417\n",
      "사용자: Elim, 친구수: 394\n",
      "사용자: Jadzia, 친구수: 143\n",
      "사용자: Nog, 친구수: 105\n",
      "사용자: Geordi, 친구수: 175\n",
      "사용자: Keiko, 친구수: 472\n",
      "사용자: Guinan, 친구수: 286\n",
      "사용자: Nerys, 친구수: 439\n",
      "사용자: Data, 친구수: 419\n",
      "사용자: Weyoun, 친구수: 234\n",
      "사용자: Julian, 친구수: 337\n",
      "사용자: Weyoun, 친구수: 456\n",
      "사용자: Elim, 친구수: 463\n",
      "사용자: Ezri, 친구수: 471\n",
      "사용자: Elim, 친구수: 335\n",
      "사용자: Hugh, 친구수: 400\n",
      "사용자: Geordi, 친구수: 236\n",
      "사용자: Nerys, 친구수: 287\n",
      "사용자: Keiko, 친구수: 220\n",
      "사용자: Beverly, 친구수: 485\n",
      "사용자: Morn, 친구수: 126\n",
      "사용자: Brunt, 친구수: 228\n",
      "사용자: Weyoun, 친구수: 194\n",
      "사용자: Ezri, 친구수: 227\n",
      "사용자: Brunt, 친구수: 271\n",
      "사용자: Deanna, 친구수: 160\n",
      "사용자: Brunt, 친구수: 273\n",
      "사용자: Nog, 친구수: 154\n",
      "사용자: Ben, 친구수: 446\n",
      "사용자: Jean-Luc, 친구수: 378\n",
      "사용자: Gowron, 친구수: 119\n",
      "사용자: Kasidy, 친구수: 320\n",
      "사용자: Geordi, 친구수: 428\n",
      "사용자: Ben, 친구수: 146\n",
      "사용자: Leeta, 친구수: 478\n",
      "사용자: Rom, 친구수: 356\n",
      "사용자: Brunt, 친구수: 431\n",
      "사용자: Nog, 친구수: 103\n",
      "사용자: Odo, 친구수: 410\n",
      "사용자: Nerys, 친구수: 101\n",
      "사용자: Hugh, 친구수: 357\n",
      "사용자: Kasidy, 친구수: 194\n",
      "사용자: Data, 친구수: 155\n",
      "사용자: Gowron, 친구수: 275\n",
      "사용자: Lwaxana, 친구수: 423\n"
     ]
    }
   ],
   "source": [
    "for user in filtered_user_list:\n",
    "    print(f\"사용자: {user[1]}, 친구수: {user[3]}\")"
   ]
  },
  {
   "cell_type": "code",
   "execution_count": null,
   "id": "c56dbe1c",
   "metadata": {},
   "outputs": [],
   "source": [
    "# 특정 나이에 속한 사람들의 친구 수 합계"
   ]
  },
  {
   "cell_type": "code",
   "execution_count": 34,
   "id": "1b8f9512",
   "metadata": {},
   "outputs": [],
   "source": [
    "def get_age_group(age):\n",
    "    if 10 <= age <= 19:\n",
    "        return \"10대\"\n",
    "    elif 20 <= age <= 29:\n",
    "        return \"20대\"\n",
    "    elif 30 <= age <= 39:\n",
    "        return \"30대\"\n",
    "    elif 40 <= age <= 49:\n",
    "        return \"40대\"\n",
    "    elif 50 <= age <= 59:\n",
    "        return \"50대\"\n",
    "    elif 60 <= age <= 69:\n",
    "        return \"60대\"\n",
    "    else:\n",
    "        return \"기타\""
   ]
  },
  {
   "cell_type": "code",
   "execution_count": 35,
   "id": "988fbc17",
   "metadata": {},
   "outputs": [],
   "source": [
    "age_groups_rdd= parsed_data.map(lambda x:(get_age_group(x[2]),x[3]))"
   ]
  },
  {
   "cell_type": "code",
   "execution_count": 36,
   "id": "beb383cd",
   "metadata": {},
   "outputs": [
    {
     "data": {
      "text/plain": [
       "[('30대', 385), ('20대', 2), ('50대', 221), ('40대', 465), ('60대', 21)]"
      ]
     },
     "execution_count": 36,
     "metadata": {},
     "output_type": "execute_result"
    }
   ],
   "source": [
    "age_groups_rdd.take(5)"
   ]
  },
  {
   "cell_type": "code",
   "execution_count": 37,
   "id": "dc919759",
   "metadata": {},
   "outputs": [],
   "source": [
    "age_group_sum= age_groups_rdd.groupByKey().mapValues(lambda friends: sum(friends))"
   ]
  },
  {
   "cell_type": "code",
   "execution_count": 38,
   "id": "30581d4c",
   "metadata": {},
   "outputs": [
    {
     "name": "stdout",
     "output_type": "stream",
     "text": [
      "30대 친구 수 합계: 22887\n",
      "20대 친구 수 합계: 21503\n",
      "50대 친구 수 합계: 24360\n",
      "40대 친구 수 합계: 26455\n",
      "60대 친구 수 합계: 23968\n",
      "10대 친구 수 합계: 5093\n"
     ]
    }
   ],
   "source": [
    "for group, total_friends in age_group_sum.collect():\n",
    "    print(f\"{group} 친구 수 합계: {total_friends}\")\n",
    "    "
   ]
  },
  {
   "cell_type": "code",
   "execution_count": null,
   "id": "a3509932",
   "metadata": {},
   "outputs": [],
   "source": []
  },
  {
   "cell_type": "code",
   "execution_count": null,
   "id": "8bf53ae8",
   "metadata": {},
   "outputs": [],
   "source": []
  },
  {
   "cell_type": "code",
   "execution_count": null,
   "id": "5aa5eba8",
   "metadata": {},
   "outputs": [],
   "source": []
  },
  {
   "cell_type": "code",
   "execution_count": null,
   "id": "69f3428f",
   "metadata": {},
   "outputs": [],
   "source": []
  },
  {
   "cell_type": "code",
   "execution_count": null,
   "id": "e9535e70",
   "metadata": {},
   "outputs": [],
   "source": []
  },
  {
   "cell_type": "code",
   "execution_count": null,
   "id": "664958dd",
   "metadata": {},
   "outputs": [],
   "source": []
  },
  {
   "cell_type": "code",
   "execution_count": null,
   "id": "1d7ae69a",
   "metadata": {},
   "outputs": [],
   "source": []
  }
 ],
 "metadata": {
  "kernelspec": {
   "display_name": "Python (spark_start)",
   "language": "python",
   "name": "spark_start"
  },
  "language_info": {
   "codemirror_mode": {
    "name": "ipython",
    "version": 3
   },
   "file_extension": ".py",
   "mimetype": "text/x-python",
   "name": "python",
   "nbconvert_exporter": "python",
   "pygments_lexer": "ipython3",
   "version": "3.8.20"
  }
 },
 "nbformat": 4,
 "nbformat_minor": 5
}
