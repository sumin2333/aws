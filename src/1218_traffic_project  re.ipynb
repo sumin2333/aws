{
 "cells": [
  {
   "cell_type": "markdown",
   "id": "da6ae78d",
   "metadata": {},
   "source": [
    "# 도로 혼잡 예측 모델 구축 프로젝트\n",
    "\n",
    "## 프로젝트 목표\n",
    "서울시 도로별 통행속도와 지점별 교통량 데이터를 활용하여 도로의 혼잡 상태(원활, 지체, 정체)를 예측하는 머신러닝 모델 구축 \n",
    "\n",
    "##  결과 요약\n",
    "- **데이터 분석**: 도로별 통행속도와 지점별 교통량 데이터를 병합하여 일자별, 시간대별 혼잡 상태를 분석.\n",
    "- **모델 구축**: PySpark의 MLlib을 활용\n",
    "- **모델 평가**\n",
    "- **활용 가능성**: 특정 도로의 시간대별 혼잡 상태를 예측하여 실시간 교통 관리에 기여.\n",
    "\n",
    "##  아키텍처 정의\n",
    "\n",
    "1. **데이터 수집 및 준비**\n",
    "   - 데이터: 서울시 도로별 통행속도(1월~11월), 지점별 교통량(1월~11월).\n",
    "   - 병합: 날짜(`date`)를 기준으로 두 데이터를 병합.\n",
    "\n",
    "2. **데이터 전처리**\n",
    "   - 결측치 처리 및 이상치 제거.\n",
    "   - 혼잡 상태 라벨링(원활, 지체, 정체).\n",
    "\n",
    "3. **모델 학습 및 평가**\n",
    "   - 입력 변수: `avg_speed`(평균 속도), `traffic_volume`(교통량).\n",
    "   - 출력 변수: `traffic_status`(혼잡 상태).\n",
    "   - MLlib 모델 활용.\n",
    "\n",
    "4. **결과 저장 및 시각화**\n",
    "   - 예측 결과 저장 및 모델 성능 시각화.\n",
    "\n",
    "## 환경 구축\n",
    "### 4.1 개발 환경\n",
    "- **운영체제**: Windows 10 \n",
    "- **프로그래밍 언어**: Python \n",
    "- **분석 환경**: Jupyter Notebook.\n",
    "- **주요 라이브러리**:\n",
    "  - PySpark: 데이터 처리 및 머신러닝.\n",
    "  - Pandas: 데이터 로드 및 초기 탐색.\n",
    "  - Matplotlib/Seaborn: 시각화.\n",
    "\n",
    "\n",
    "##  개발 계획\n",
    "### 1 데이터 로드 및 전처리\n",
    "1. **데이터 로드**:\n",
    "   - 통행속도 데이터와 교통량 데이터를 불러옴.\n",
    "2. **병합 및 전처리**:\n",
    "   - 두 데이터를 `date`를 기준으로 병합.\n",
    "   - 결측치 처리 및 이상치 제거.\n",
    "   - `avg_speed`를 기반으로 혼잡 상태(`traffic_status`) 생성.\n",
    "\n",
    "### 2 모델 학습 및 평가\n",
    "1. **데이터 준비**:\n",
    "   - `VectorAssembler`를 사용하여 `avg_speed`와 `traffic_volume`을 `features`로 변환.\n",
    "   - `StringIndexer`로 `traffic_status`를 라벨 인코딩.\n",
    "2. **Random Forest 모델 학습**:\n",
    "   - PySpark MLlib의 `RandomForestClassifier` 사용.\n",
    "   - 데이터셋을 80% 학습, 20% 테스트로 분리.\n",
    "3. **모델 평가**:\n",
    "   - 정확도(Accuracy), F1-score 계산.\n",
    "\n",
    "### 3 결과 시각화 및 저장\n",
    "- 예측 결과를 시각화하여 혼잡 상태 분포와 모델 성능 분석.\n",
    "- 결과 데이터를 CSV로 저장.\n",
    "\n",
    "##  테스트 계획\n",
    "### 1 테스트 시나리오\n",
    "1. **데이터 정합성 테스트**:\n",
    "   - 병합된 데이터에서 결측치와 이상치 확인.\n",
    "2. **모델 성능 테스트**:\n",
    "   - 테스트 데이터로 모델의 예측 정확도 확인.\n",
    "3. **시각화 결과 테스트**:\n",
    "   - 시각화 그래프에서 혼잡 상태 분포가 논리적인지 확인.\n",
    "\n",
    "### 2 성능 목표\n",
    "- 정확도: 80% 이상.\n",
    "- F1-score: 75% 이상.\n",
    "\n",
    "##  보고서 작성 및 제출\n",
    "- 분석 내용과 모델 결과를 Markdown 형식으로 정리하여 GitHub에 업로드.\n",
    "- 주요 내용:\n",
    "  - 데이터 설명.\n",
    "  - 모델 구축 과정.\n",
    "  - 성능 평가 결과.\n"
   ]
  },
  {
   "cell_type": "code",
   "execution_count": null,
   "id": "5e6bfd6f",
   "metadata": {},
   "outputs": [],
   "source": []
  },
  {
   "cell_type": "code",
   "execution_count": 14,
   "id": "3c4b62ef",
   "metadata": {},
   "outputs": [],
   "source": [
    "from pyspark.sql import SparkSession\n",
    "import pandas as pd\n",
    "from pyspark.sql.functions import col, sum"
   ]
  },
  {
   "cell_type": "code",
   "execution_count": 3,
   "id": "ca4a14f8",
   "metadata": {},
   "outputs": [
    {
     "name": "stderr",
     "output_type": "stream",
     "text": [
      "24/12/19 11:01:51 WARN NativeCodeLoader: Unable to load native-hadoop library for your platform... using builtin-java classes where applicable\n",
      "Using Spark's default log4j profile: org/apache/spark/log4j-defaults.properties\n",
      "Setting default log level to \"WARN\".\n",
      "To adjust logging level use sc.setLogLevel(newLevel). For SparkR, use setLogLevel(newLevel).\n"
     ]
    }
   ],
   "source": [
    "spark = SparkSession.builder.appName(\"SeoulTrafficAnalysis\").getOrCreate()"
   ]
  },
  {
   "cell_type": "code",
   "execution_count": 116,
   "id": "b35dbaa1",
   "metadata": {},
   "outputs": [],
   "source": [
    "# 파일경로 설정 \n",
    "import os\n",
    "speed_files= '/speed/*'\n",
    "volume_file= '/traffic/*'\n",
    "mapping_file= '서울시 표준링크 매핑정보.csv'\n",
    "directory = os.path.join(os.getcwd(), 'data')"
   ]
  },
  {
   "cell_type": "code",
   "execution_count": 117,
   "id": "14126680",
   "metadata": {},
   "outputs": [
    {
     "name": "stderr",
     "output_type": "stream",
     "text": [
      "                                                                                \r"
     ]
    }
   ],
   "source": [
    "# 데이터 로드 \n",
    "speed_df= spark.read.csv(f'file:///{directory}/{speed_files}', inferSchema=True, header=True)\n",
    "volume_df= spark.read.csv(f'file:///{directory}/{volume_file}', inferSchema=True, header=True)\n",
    "mapping_df= spark.read.csv(f'file:///{directory}/{mapping_file}', inferSchema=True, header=True)\n"
   ]
  },
  {
   "cell_type": "code",
   "execution_count": 118,
   "id": "265a68ed",
   "metadata": {},
   "outputs": [
    {
     "name": "stdout",
     "output_type": "stream",
     "text": [
      "+----------+--------------+\n",
      "|서비스링크|표준링크아이디|\n",
      "+----------+--------------+\n",
      "|1040004100|    1040004101|\n",
      "|1040002100|    1040002102|\n",
      "|1040001500|    1040001502|\n",
      "|1040001500|    1040001501|\n",
      "|1040001100|    1040001104|\n",
      "+----------+--------------+\n",
      "only showing top 5 rows\n",
      "\n"
     ]
    }
   ],
   "source": [
    "mapping_df.show(5)"
   ]
  },
  {
   "cell_type": "markdown",
   "id": "5840e0c4",
   "metadata": {},
   "source": [
    "# 속도 데이터\n",
    "\n",
    "## 서울시 차량통행속도 데이터\n",
    "\n",
    "### 수집기간 : 2024년 01 ~ 10월, 24시간 (00~24시)\n",
    "\n",
    "#### Topis 서울시 도로별 일자별 통행속도 데이터 중 2021년 01~06월까지 데이터 다운 후, csv 변환\n",
    "#### 일자, 요일, 도로명, 링크아이디, 시점명, 종점명, 방향(상/하행), 거리, 차선수,기능유형구분(보조간선도로/기타도로) , 도심/외곽구분, 권역구분, 시간대별 속도로 구성\n"
   ]
  },
  {
   "cell_type": "code",
   "execution_count": null,
   "id": "ad81622d",
   "metadata": {},
   "outputs": [],
   "source": []
  },
  {
   "cell_type": "code",
   "execution_count": null,
   "id": "78bba06e",
   "metadata": {},
   "outputs": [],
   "source": []
  },
  {
   "cell_type": "code",
   "execution_count": 121,
   "id": "4942771f",
   "metadata": {
    "scrolled": true
   },
   "outputs": [
    {
     "name": "stdout",
     "output_type": "stream",
     "text": [
      "root\n",
      " |-- 일자: integer (nullable = true)\n",
      " |-- 요일: string (nullable = true)\n",
      " |-- 도로명: string (nullable = true)\n",
      " |-- 링크아이디: string (nullable = true)\n",
      " |-- 시점명: string (nullable = true)\n",
      " |-- 종점명: string (nullable = true)\n",
      " |-- 방향: string (nullable = true)\n",
      " |-- 거리: string (nullable = true)\n",
      " |-- 차선수: string (nullable = true)\n",
      " |-- 기능유형구분: string (nullable = true)\n",
      " |-- 도심/외곽구분: string (nullable = true)\n",
      " |-- 권역구분: string (nullable = true)\n",
      " |-- ~01시: string (nullable = true)\n",
      " |-- ~02시: string (nullable = true)\n",
      " |-- ~03시: string (nullable = true)\n",
      " |-- ~04시: string (nullable = true)\n",
      " |-- ~05시: string (nullable = true)\n",
      " |-- ~06시: string (nullable = true)\n",
      " |-- ~07시: string (nullable = true)\n",
      " |-- ~08시: string (nullable = true)\n",
      " |-- ~09시: string (nullable = true)\n",
      " |-- ~10시: string (nullable = true)\n",
      " |-- ~11시: string (nullable = true)\n",
      " |-- ~12시: string (nullable = true)\n",
      " |-- ~13시: string (nullable = true)\n",
      " |-- ~14시: string (nullable = true)\n",
      " |-- ~15시: string (nullable = true)\n",
      " |-- ~16시: string (nullable = true)\n",
      " |-- ~17시: string (nullable = true)\n",
      " |-- ~18시: string (nullable = true)\n",
      " |-- ~19시: string (nullable = true)\n",
      " |-- ~20시: string (nullable = true)\n",
      " |-- ~21시: string (nullable = true)\n",
      " |-- ~22시: string (nullable = true)\n",
      " |-- ~23시: string (nullable = true)\n",
      " |-- ~24시: string (nullable = true)\n",
      "\n"
     ]
    }
   ],
   "source": [
    "speed_df.printSchema()"
   ]
  },
  {
   "cell_type": "code",
   "execution_count": 122,
   "id": "638ccf20",
   "metadata": {
    "scrolled": true
   },
   "outputs": [
    {
     "name": "stdout",
     "output_type": "stream",
     "text": [
      "root\n",
      " |-- 일자: integer (nullable = true)\n",
      " |-- 요일: string (nullable = true)\n",
      " |-- 지점명: string (nullable = true)\n",
      " |-- 지점번호: string (nullable = true)\n",
      " |-- 방향: string (nullable = true)\n",
      " |-- 구분: string (nullable = true)\n",
      " |-- 0시: double (nullable = true)\n",
      " |-- 1시: double (nullable = true)\n",
      " |-- 2시: double (nullable = true)\n",
      " |-- 3시: double (nullable = true)\n",
      " |-- 4시: double (nullable = true)\n",
      " |-- 5시: double (nullable = true)\n",
      " |-- 6시: string (nullable = true)\n",
      " |-- 7시: string (nullable = true)\n",
      " |-- 8시: string (nullable = true)\n",
      " |-- 9시: string (nullable = true)\n",
      " |-- 10시: string (nullable = true)\n",
      " |-- 11시: string (nullable = true)\n",
      " |-- 12시: string (nullable = true)\n",
      " |-- 13시: string (nullable = true)\n",
      " |-- 14시: string (nullable = true)\n",
      " |-- 15시: string (nullable = true)\n",
      " |-- 16시: string (nullable = true)\n",
      " |-- 17시: string (nullable = true)\n",
      " |-- 18시: string (nullable = true)\n",
      " |-- 19시: string (nullable = true)\n",
      " |-- 20시: string (nullable = true)\n",
      " |-- 21시: string (nullable = true)\n",
      " |-- 22시: string (nullable = true)\n",
      " |-- 23시: string (nullable = true)\n",
      "\n"
     ]
    }
   ],
   "source": [
    "volume_df.printSchema()"
   ]
  },
  {
   "cell_type": "code",
   "execution_count": 119,
   "id": "580d49ed",
   "metadata": {},
   "outputs": [],
   "source": [
    "#컬럼 타입 통일\n",
    "from pyspark.sql.functions import col\n",
    "from pyspark.sql.types import IntegerType\n",
    "\n",
    "# speed_df의 일자 컬럼을 int로 변환\n",
    "speed_df = speed_df.withColumn(\"일자\", col(\"일자\").cast(IntegerType()))"
   ]
  },
  {
   "cell_type": "code",
   "execution_count": 123,
   "id": "e1ba8b82",
   "metadata": {},
   "outputs": [],
   "source": [
    "#컬럼명 전처리\n",
    "#speed_df의 시간 컬럼(~01시,-> 01시)\n",
    "for c in speed_df.columns:\n",
    "    if c.startswith('~'):\n",
    "        new_c = c.replace('~', '')\n",
    "        speed_df = speed_df.withColumnRenamed(c, new_c)"
   ]
  },
  {
   "cell_type": "code",
   "execution_count": 125,
   "id": "b1a34b59",
   "metadata": {},
   "outputs": [],
   "source": [
    "# 매핑 DataFrame을 통해 speed_df에 표준링크아이디 추가\n",
    "# mapping_df에는 표준링크아이디, 서비스링크 컬럼 존재\n",
    "# speed_df에 링크아이디 -> mapping_df의 서비스링크 조인\n",
    "\n",
    "\n",
    "merged_speed_df = speed_df.join(mapping_df, speed_df[\"링크아이디\"] == mapping_df[\"서비스링크\"], \"inner\")"
   ]
  },
  {
   "cell_type": "code",
   "execution_count": 130,
   "id": "7043e3a3",
   "metadata": {},
   "outputs": [
    {
     "name": "stdout",
     "output_type": "stream",
     "text": [
      "+--------+----+------+----------+----------------+----------------+----+----+------+------------+-------------+--------+-----+-----+-----+-----+-----+-----+-----+-----+-----+-----+-----+-----+-----+-----+-----+-----+-----+-----+-----+-----+-----+-----+-----+-----+----------+--------------+\n",
      "|    일자|요일|도로명|링크아이디|          시점명|          종점명|방향|거리|차선수|기능유형구분|도심/외곽구분|권역구분| 01시| 02시| 03시| 04시| 05시| 06시| 07시| 08시| 09시| 10시| 11시| 12시| 13시| 14시| 15시| 16시| 17시| 18시| 19시| 20시| 21시| 22시| 23시| 24시|서비스링크|표준링크아이디|\n",
      "+--------+----+------+----------+----------------+----------------+----+----+------+------------+-------------+--------+-----+-----+-----+-----+-----+-----+-----+-----+-----+-----+-----+-----+-----+-----+-----+-----+-----+-----+-----+-----+-----+-----+-----+-----+----------+--------------+\n",
      "|20241001|  화|4.19로|1080012200|  아카데미하우스|    국립4.19묘지|상행|1179|     1|보조간선도로|         외곽|  강북구|43.63|29.15| 49.6| 60.1|58.75| 44.6|37.24|38.44|31.08|33.08|41.59|39.45| 36.2|34.21| 32.1|34.95|44.99|38.29|36.28|36.56|30.35|42.14|50.12| 48.4|1080012200|    1080012200|\n",
      "|20241001|  화|4.19로|1080012800|    국립4.19묘지|국립4.19묘지입구|상행| 352|     1|보조간선도로|         외곽|  강북구|19.39|16.37|11.65|28.84|15.73|17.84|14.58|12.66|13.58|11.61|15.51|12.51|13.89|13.14|13.75|14.02|13.06| 16.5|16.17|16.17|15.31| 17.3|22.91|20.99|1080012800|    1080012800|\n",
      "|20241001|  화|4.19로|1080012700|국립4.19묘지입구|    국립4.19묘지|하행| 354|     2|보조간선도로|         외곽|  강북구|24.62|25.96|24.02|32.73|22.32|28.42|18.73|23.66|19.26|17.33|18.87|21.91|21.26| 15.6|18.48|18.96|18.77|18.34|17.71|19.41| 20.4|18.12|21.75|27.53|1080012700|    1080012700|\n",
      "|20241001|  화|4.19로|1080012100|    국립4.19묘지|  아카데미하우스|하행|1190|     2|보조간선도로|         외곽|  강북구|48.56|40.97|44.93|66.25|87.24|51.61|46.12|37.36|48.37|44.88|51.09|58.75|41.55|42.89|43.59|44.07|62.28|61.14|47.81|50.33|46.09|49.38| 51.1|39.82|1080012100|    1080012100|\n",
      "|20241001|  화|가락로|1230024700|        방이초교|      백제고분군|상행| 844|     1|    기타도로|         외곽|  송파구|14.99|16.37|20.16|18.86| 17.7| 18.6|19.17|19.73|18.78|13.59|15.04|17.46|14.29|19.34|21.21|16.78|15.11|12.79|12.64|16.71|18.79|20.35|19.18|18.09|1230024700|    1230024703|\n",
      "+--------+----+------+----------+----------------+----------------+----+----+------+------------+-------------+--------+-----+-----+-----+-----+-----+-----+-----+-----+-----+-----+-----+-----+-----+-----+-----+-----+-----+-----+-----+-----+-----+-----+-----+-----+----------+--------------+\n",
      "only showing top 5 rows\n",
      "\n"
     ]
    }
   ],
   "source": [
    "merged_speed_df.show(5)"
   ]
  },
  {
   "cell_type": "code",
   "execution_count": null,
   "id": "1ae29f12",
   "metadata": {},
   "outputs": [],
   "source": [
    "  # 표준링크아이디와 traffic_df의 지점번호가 동일한 의미라고 가정 - 확인 필요****"
   ]
  },
  {
   "cell_type": "code",
   "execution_count": 131,
   "id": "0570857b",
   "metadata": {},
   "outputs": [],
   "source": [
    "#traffic_df와 merged_speed_df 조인\n",
    "# 조인 키: 일자, 방향, 표준링크아이디 == 지점번호\n",
    "# 방향 맞추기 유입= 상행 / 유출 =하행 \n",
    "from pyspark.sql.functions import when, col\n",
    "\n",
    "# 상행 -> 유입\n",
    "# 하행 -> 유출\n",
    "merged_speed_df = merged_speed_df.withColumn(\n",
    "    \"방향\",\n",
    "    when(col(\"방향\") == \"상행\", \"유입\")\n",
    "    .when(col(\"방향\") == \"하행\", \"유출\")\n",
    "    .otherwise(col(\"방향\"))\n",
    ")"
   ]
  },
  {
   "cell_type": "code",
   "execution_count": 132,
   "id": "d45c9edc",
   "metadata": {},
   "outputs": [
    {
     "name": "stdout",
     "output_type": "stream",
     "text": [
      "+--------+----+------+----------+----------------+----------------+----+----+------+------------+-------------+--------+-----+-----+-----+-----+-----+-----+-----+-----+-----+-----+-----+-----+-----+-----+-----+-----+-----+-----+-----+-----+-----+-----+-----+-----+----------+--------------+\n",
      "|    일자|요일|도로명|링크아이디|          시점명|          종점명|방향|거리|차선수|기능유형구분|도심/외곽구분|권역구분| 01시| 02시| 03시| 04시| 05시| 06시| 07시| 08시| 09시| 10시| 11시| 12시| 13시| 14시| 15시| 16시| 17시| 18시| 19시| 20시| 21시| 22시| 23시| 24시|서비스링크|표준링크아이디|\n",
      "+--------+----+------+----------+----------------+----------------+----+----+------+------------+-------------+--------+-----+-----+-----+-----+-----+-----+-----+-----+-----+-----+-----+-----+-----+-----+-----+-----+-----+-----+-----+-----+-----+-----+-----+-----+----------+--------------+\n",
      "|20241001|  화|4.19로|1080012200|  아카데미하우스|    국립4.19묘지|유입|1179|     1|보조간선도로|         외곽|  강북구|43.63|29.15| 49.6| 60.1|58.75| 44.6|37.24|38.44|31.08|33.08|41.59|39.45| 36.2|34.21| 32.1|34.95|44.99|38.29|36.28|36.56|30.35|42.14|50.12| 48.4|1080012200|    1080012200|\n",
      "|20241001|  화|4.19로|1080012800|    국립4.19묘지|국립4.19묘지입구|유입| 352|     1|보조간선도로|         외곽|  강북구|19.39|16.37|11.65|28.84|15.73|17.84|14.58|12.66|13.58|11.61|15.51|12.51|13.89|13.14|13.75|14.02|13.06| 16.5|16.17|16.17|15.31| 17.3|22.91|20.99|1080012800|    1080012800|\n",
      "|20241001|  화|4.19로|1080012700|국립4.19묘지입구|    국립4.19묘지|유출| 354|     2|보조간선도로|         외곽|  강북구|24.62|25.96|24.02|32.73|22.32|28.42|18.73|23.66|19.26|17.33|18.87|21.91|21.26| 15.6|18.48|18.96|18.77|18.34|17.71|19.41| 20.4|18.12|21.75|27.53|1080012700|    1080012700|\n",
      "|20241001|  화|4.19로|1080012100|    국립4.19묘지|  아카데미하우스|유출|1190|     2|보조간선도로|         외곽|  강북구|48.56|40.97|44.93|66.25|87.24|51.61|46.12|37.36|48.37|44.88|51.09|58.75|41.55|42.89|43.59|44.07|62.28|61.14|47.81|50.33|46.09|49.38| 51.1|39.82|1080012100|    1080012100|\n",
      "|20241001|  화|가락로|1230024700|        방이초교|      백제고분군|유입| 844|     1|    기타도로|         외곽|  송파구|14.99|16.37|20.16|18.86| 17.7| 18.6|19.17|19.73|18.78|13.59|15.04|17.46|14.29|19.34|21.21|16.78|15.11|12.79|12.64|16.71|18.79|20.35|19.18|18.09|1230024700|    1230024703|\n",
      "+--------+----+------+----------+----------------+----------------+----+----+------+------------+-------------+--------+-----+-----+-----+-----+-----+-----+-----+-----+-----+-----+-----+-----+-----+-----+-----+-----+-----+-----+-----+-----+-----+-----+-----+-----+----------+--------------+\n",
      "only showing top 5 rows\n",
      "\n"
     ]
    }
   ],
   "source": [
    "merged_speed_df.show(5)"
   ]
  },
  {
   "cell_type": "code",
   "execution_count": 135,
   "id": "b8758d36",
   "metadata": {},
   "outputs": [
    {
     "name": "stdout",
     "output_type": "stream",
     "text": [
      "root\n",
      " |-- 일자: integer (nullable = true)\n",
      " |-- 요일: string (nullable = true)\n",
      " |-- 도로명: string (nullable = true)\n",
      " |-- 링크아이디: string (nullable = true)\n",
      " |-- 시점명: string (nullable = true)\n",
      " |-- 종점명: string (nullable = true)\n",
      " |-- 방향: string (nullable = true)\n",
      " |-- 거리: string (nullable = true)\n",
      " |-- 차선수: string (nullable = true)\n",
      " |-- 기능유형구분: string (nullable = true)\n",
      " |-- 도심/외곽구분: string (nullable = true)\n",
      " |-- 권역구분: string (nullable = true)\n",
      " |-- 01시: string (nullable = true)\n",
      " |-- 02시: string (nullable = true)\n",
      " |-- 03시: string (nullable = true)\n",
      " |-- 04시: string (nullable = true)\n",
      " |-- 05시: string (nullable = true)\n",
      " |-- 06시: string (nullable = true)\n",
      " |-- 07시: string (nullable = true)\n",
      " |-- 08시: string (nullable = true)\n",
      " |-- 09시: string (nullable = true)\n",
      " |-- 10시: string (nullable = true)\n",
      " |-- 11시: string (nullable = true)\n",
      " |-- 12시: string (nullable = true)\n",
      " |-- 13시: string (nullable = true)\n",
      " |-- 14시: string (nullable = true)\n",
      " |-- 15시: string (nullable = true)\n",
      " |-- 16시: string (nullable = true)\n",
      " |-- 17시: string (nullable = true)\n",
      " |-- 18시: string (nullable = true)\n",
      " |-- 19시: string (nullable = true)\n",
      " |-- 20시: string (nullable = true)\n",
      " |-- 21시: string (nullable = true)\n",
      " |-- 22시: string (nullable = true)\n",
      " |-- 23시: string (nullable = true)\n",
      " |-- 24시: string (nullable = true)\n",
      " |-- 서비스링크: long (nullable = true)\n",
      " |-- 표준링크아이디: long (nullable = true)\n",
      "\n"
     ]
    }
   ],
   "source": [
    "merged_speed_df.printSchema()"
   ]
  },
  {
   "cell_type": "code",
   "execution_count": 136,
   "id": "76cb952e",
   "metadata": {
    "scrolled": true
   },
   "outputs": [
    {
     "name": "stdout",
     "output_type": "stream",
     "text": [
      "root\n",
      " |-- 일자: integer (nullable = true)\n",
      " |-- 요일: string (nullable = true)\n",
      " |-- 지점명: string (nullable = true)\n",
      " |-- 지점번호: string (nullable = true)\n",
      " |-- 방향: string (nullable = true)\n",
      " |-- 구분: string (nullable = true)\n",
      " |-- 0시: double (nullable = true)\n",
      " |-- 1시: double (nullable = true)\n",
      " |-- 2시: double (nullable = true)\n",
      " |-- 3시: double (nullable = true)\n",
      " |-- 4시: double (nullable = true)\n",
      " |-- 5시: double (nullable = true)\n",
      " |-- 6시: string (nullable = true)\n",
      " |-- 7시: string (nullable = true)\n",
      " |-- 8시: string (nullable = true)\n",
      " |-- 9시: string (nullable = true)\n",
      " |-- 10시: string (nullable = true)\n",
      " |-- 11시: string (nullable = true)\n",
      " |-- 12시: string (nullable = true)\n",
      " |-- 13시: string (nullable = true)\n",
      " |-- 14시: string (nullable = true)\n",
      " |-- 15시: string (nullable = true)\n",
      " |-- 16시: string (nullable = true)\n",
      " |-- 17시: string (nullable = true)\n",
      " |-- 18시: string (nullable = true)\n",
      " |-- 19시: string (nullable = true)\n",
      " |-- 20시: string (nullable = true)\n",
      " |-- 21시: string (nullable = true)\n",
      " |-- 22시: string (nullable = true)\n",
      " |-- 23시: string (nullable = true)\n",
      "\n"
     ]
    }
   ],
   "source": [
    "volume_df.printSchema()"
   ]
  },
  {
   "cell_type": "code",
   "execution_count": 138,
   "id": "e19d00a9",
   "metadata": {},
   "outputs": [],
   "source": [
    "#서비스링크: long (nullable = true)\n",
    "# 표준링크아이디: long (nullable = true) string으로 변환 \n",
    "from pyspark.sql.functions import col\n",
    "from pyspark.sql.types import StringType\n",
    "merged_speed_df = merged_speed_df.withColumn(\"표준링크아이디\", col(\"표준링크아이디\").cast(StringType()))\n",
    "merged_speed_df = merged_speed_df.withColumn(\"서비스링크\", col(\"서비스링크\").cast(StringType()))"
   ]
  },
  {
   "cell_type": "code",
   "execution_count": 139,
   "id": "c9074cf9",
   "metadata": {},
   "outputs": [],
   "source": [
    "final_df = merged_speed_df.join(\n",
    "    volume_df,\n",
    "    (merged_speed_df[\"표준링크아이디\"] == volume_df[\"지점번호\"]) &\n",
    "    (merged_speed_df[\"일자\"] == volume_df[\"일자\"]) &\n",
    "    (merged_speed_df[\"방향\"] == volume_df[\"방향\"]),\n",
    "    \"inner\"\n",
    ")"
   ]
  },
  {
   "cell_type": "code",
   "execution_count": null,
   "id": "4b9b9461",
   "metadata": {},
   "outputs": [],
   "source": [
    " #final_df는 표준링크 기준으로 속도와 교통량 데이터가 하나의 테이블에 결합됨. - 실패 ..... "
   ]
  },
  {
   "cell_type": "code",
   "execution_count": 140,
   "id": "8d7acf10",
   "metadata": {},
   "outputs": [
    {
     "name": "stderr",
     "output_type": "stream",
     "text": [
      "24/12/19 16:13:32 WARN CSVHeaderChecker: CSV header does not conform to the schema.\n",
      " Header: 일자, 요일, 도로명, 링크아이디, 시점명, 종점명, 방향, 거리, 차선수, 기능유형구분, 도심/외곽구분, 권역구분, 01시, 02시, 03시, 04시, 05시, 06시, 07시, 08시, 09시, 10시, 11시, 12시, 13시, 14시, 15시, 16시, 17시, 18시, 19시, 20시, 21시, 22시, 23시, 24시\n",
      " Schema: 일자, 요일, 도로명, 링크아이디, 시점명, 종점명, 방향, 거리, 차선수, 기능유형구분, 도심/외곽구분, 권역구분, ~01시, ~02시, ~03시, ~04시, ~05시, ~06시, ~07시, ~08시, ~09시, ~10시, ~11시, ~12시, ~13시, ~14시, ~15시, ~16시, ~17시, ~18시, ~19시, ~20시, ~21시, ~22시, ~23시, ~24시\n",
      "Expected: ~01시 but found: 01시\n",
      "CSV file: file:///home/lab10/git_project/src/data/speed/road_speed_2024_1.csv\n",
      "24/12/19 16:13:40 WARN CSVHeaderChecker: CSV header does not conform to the schema.\n",
      " Header: 일자, 요일, 도로명, 링크아이디, 시점명, 종점명, 방향, 거리, 차선수, 기능유형구분, 도심/외곽구분, 권역구분, 01시, 02시, 03시, 04시, 05시, 06시, 07시, 08시, 09시, 10시, 11시, 12시, 13시, 14시, 15시, 16시, 17시, 18시, 19시, 20시, 21시, 22시, 23시, 24시\n",
      " Schema: 일자, 요일, 도로명, 링크아이디, 시점명, 종점명, 방향, 거리, 차선수, 기능유형구분, 도심/외곽구분, 권역구분, ~01시, ~02시, ~03시, ~04시, ~05시, ~06시, ~07시, ~08시, ~09시, ~10시, ~11시, ~12시, ~13시, ~14시, ~15시, ~16시, ~17시, ~18시, ~19시, ~20시, ~21시, ~22시, ~23시, ~24시\n",
      "Expected: ~01시 but found: 01시\n",
      "CSV file: file:///home/lab10/git_project/src/data/speed/road_speed_2024_2.csv\n",
      "[Stage 155:=============================================>         (62 + 2) / 75]\r"
     ]
    },
    {
     "name": "stdout",
     "output_type": "stream",
     "text": [
      "+----+----+------+----------+------+------+----+----+------+------------+-------------+--------+----+----+----+----+----+----+----+----+----+----+----+----+----+----+----+----+----+----+----+----+----+----+----+----+----------+--------------+----+----+------+--------+----+----+---+---+---+---+---+---+---+---+---+---+----+----+----+----+----+----+----+----+----+----+----+----+----+----+\n",
      "|일자|요일|도로명|링크아이디|시점명|종점명|방향|거리|차선수|기능유형구분|도심/외곽구분|권역구분|01시|02시|03시|04시|05시|06시|07시|08시|09시|10시|11시|12시|13시|14시|15시|16시|17시|18시|19시|20시|21시|22시|23시|24시|서비스링크|표준링크아이디|일자|요일|지점명|지점번호|방향|구분|0시|1시|2시|3시|4시|5시|6시|7시|8시|9시|10시|11시|12시|13시|14시|15시|16시|17시|18시|19시|20시|21시|22시|23시|\n",
      "+----+----+------+----------+------+------+----+----+------+------------+-------------+--------+----+----+----+----+----+----+----+----+----+----+----+----+----+----+----+----+----+----+----+----+----+----+----+----+----------+--------------+----+----+------+--------+----+----+---+---+---+---+---+---+---+---+---+---+----+----+----+----+----+----+----+----+----+----+----+----+----+----+\n",
      "+----+----+------+----------+------+------+----+----+------+------------+-------------+--------+----+----+----+----+----+----+----+----+----+----+----+----+----+----+----+----+----+----+----+----+----+----+----+----+----------+--------------+----+----+------+--------+----+----+---+---+---+---+---+---+---+---+---+---+----+----+----+----+----+----+----+----+----+----+----+----+----+----+\n",
      "\n"
     ]
    },
    {
     "name": "stderr",
     "output_type": "stream",
     "text": [
      "\r",
      "[Stage 155:==================================================>    (69 + 2) / 75]\r",
      "\r",
      "                                                                                \r"
     ]
    }
   ],
   "source": [
    "final_df.show(5)"
   ]
  },
  {
   "cell_type": "code",
   "execution_count": 141,
   "id": "a0dc5389",
   "metadata": {
    "scrolled": true
   },
   "outputs": [
    {
     "name": "stderr",
     "output_type": "stream",
     "text": [
      "[Stage 157:==========================================>              (3 + 1) / 4]\r"
     ]
    },
    {
     "name": "stdout",
     "output_type": "stream",
     "text": [
      "+--------------+--------+----+\n",
      "|표준링크아이디|    일자|방향|\n",
      "+--------------+--------+----+\n",
      "|    1170004200|20241001|유출|\n",
      "|    1240021600|20241001|유출|\n",
      "|    1240019602|20241001|유출|\n",
      "|    1030015203|20241001|유입|\n",
      "|    1060019006|20241001|유출|\n",
      "+--------------+--------+----+\n",
      "only showing top 5 rows\n",
      "\n"
     ]
    },
    {
     "name": "stderr",
     "output_type": "stream",
     "text": [
      "\r",
      "                                                                                \r"
     ]
    }
   ],
   "source": [
    "merged_speed_df.select(\"표준링크아이디\", \"일자\", \"방향\").distinct().show(5)"
   ]
  },
  {
   "cell_type": "code",
   "execution_count": 143,
   "id": "5a5c95ab",
   "metadata": {},
   "outputs": [
    {
     "name": "stdout",
     "output_type": "stream",
     "text": [
      "+--------+--------+----+\n",
      "|지점번호|    일자|방향|\n",
      "+--------+--------+----+\n",
      "|    A-09|20240307|유출|\n",
      "|    A-11|20240323|유입|\n",
      "|    A-11|20240304|유출|\n",
      "|    A-13|20240311|유출|\n",
      "|    A-21|20240327|유출|\n",
      "+--------+--------+----+\n",
      "only showing top 5 rows\n",
      "\n"
     ]
    }
   ],
   "source": [
    "volume_df.select(\"지점번호\", \"일자\", \"방향\").distinct().show(5)"
   ]
  },
  {
   "cell_type": "code",
   "execution_count": 124,
   "id": "93b84b9d",
   "metadata": {},
   "outputs": [
    {
     "name": "stdout",
     "output_type": "stream",
     "text": [
      "root\n",
      " |-- 일자: integer (nullable = true)\n",
      " |-- 요일: string (nullable = true)\n",
      " |-- 도로명: string (nullable = true)\n",
      " |-- 링크아이디: string (nullable = true)\n",
      " |-- 시점명: string (nullable = true)\n",
      " |-- 종점명: string (nullable = true)\n",
      " |-- 방향: string (nullable = true)\n",
      " |-- 거리: string (nullable = true)\n",
      " |-- 차선수: string (nullable = true)\n",
      " |-- 기능유형구분: string (nullable = true)\n",
      " |-- 도심/외곽구분: string (nullable = true)\n",
      " |-- 권역구분: string (nullable = true)\n",
      " |-- 01시: string (nullable = true)\n",
      " |-- 02시: string (nullable = true)\n",
      " |-- 03시: string (nullable = true)\n",
      " |-- 04시: string (nullable = true)\n",
      " |-- 05시: string (nullable = true)\n",
      " |-- 06시: string (nullable = true)\n",
      " |-- 07시: string (nullable = true)\n",
      " |-- 08시: string (nullable = true)\n",
      " |-- 09시: string (nullable = true)\n",
      " |-- 10시: string (nullable = true)\n",
      " |-- 11시: string (nullable = true)\n",
      " |-- 12시: string (nullable = true)\n",
      " |-- 13시: string (nullable = true)\n",
      " |-- 14시: string (nullable = true)\n",
      " |-- 15시: string (nullable = true)\n",
      " |-- 16시: string (nullable = true)\n",
      " |-- 17시: string (nullable = true)\n",
      " |-- 18시: string (nullable = true)\n",
      " |-- 19시: string (nullable = true)\n",
      " |-- 20시: string (nullable = true)\n",
      " |-- 21시: string (nullable = true)\n",
      " |-- 22시: string (nullable = true)\n",
      " |-- 23시: string (nullable = true)\n",
      " |-- 24시: string (nullable = true)\n",
      "\n"
     ]
    }
   ],
   "source": [
    "speed_df.printSchema()"
   ]
  },
  {
   "cell_type": "code",
   "execution_count": 144,
   "id": "28fca3a0",
   "metadata": {},
   "outputs": [],
   "source": [
    "from pyspark.sql import SparkSession\n",
    "from pyspark.sql.functions import udf, col, when\n",
    "from pyspark.sql.types import StringType\n",
    "import re\n",
    "\n",
    "# 도로명 전처리 함수 정의\n",
    "def clean_road_name(road_name):\n",
    "    if road_name is None:\n",
    "        return road_name\n",
    "    # 괄호와 그 안의 내용 제거\n",
    "    cleaned_name = re.sub(r'\\(.*?\\)', '', road_name)\n",
    "    # 공백 제거 및 대소문자 통일 (모두 대문자로 변환)\n",
    "    cleaned_name = cleaned_name.strip().upper()\n",
    "    return cleaned_name\n",
    "\n",
    "# UDF 등록\n",
    "clean_road_name_udf = udf(clean_road_name, StringType())"
   ]
  },
  {
   "cell_type": "code",
   "execution_count": 146,
   "id": "c5ac942b",
   "metadata": {},
   "outputs": [],
   "source": [
    "# 도로명 전처리\n",
    "merged_speed_df = merged_speed_df.withColumn(\"도로명_clean\", clean_road_name_udf(col(\"도로명\")))\n",
    "volume_df = volume_df.withColumn(\"지점명_clean\", clean_road_name_udf(col(\"지점명\")))"
   ]
  },
  {
   "cell_type": "code",
   "execution_count": 150,
   "id": "0f6676fa",
   "metadata": {},
   "outputs": [
    {
     "name": "stdout",
     "output_type": "stream",
     "text": [
      "+--------+----+------+----------+----------------+----------------+----+----+------+------------+-------------+--------+-----+-----+-----+-----+-----+-----+-----+-----+-----+-----+-----+-----+-----+-----+-----+-----+-----+-----+-----+-----+-----+-----+-----+-----+----------+--------------+\n",
      "|    일자|요일|도로명|링크아이디|          시점명|          종점명|방향|거리|차선수|기능유형구분|도심/외곽구분|권역구분| 01시| 02시| 03시| 04시| 05시| 06시| 07시| 08시| 09시| 10시| 11시| 12시| 13시| 14시| 15시| 16시| 17시| 18시| 19시| 20시| 21시| 22시| 23시| 24시|서비스링크|표준링크아이디|\n",
      "+--------+----+------+----------+----------------+----------------+----+----+------+------------+-------------+--------+-----+-----+-----+-----+-----+-----+-----+-----+-----+-----+-----+-----+-----+-----+-----+-----+-----+-----+-----+-----+-----+-----+-----+-----+----------+--------------+\n",
      "|20241001|  화|4.19로|1080012200|  아카데미하우스|    국립4.19묘지|유입|1179|     1|보조간선도로|         외곽|  강북구|43.63|29.15| 49.6| 60.1|58.75| 44.6|37.24|38.44|31.08|33.08|41.59|39.45| 36.2|34.21| 32.1|34.95|44.99|38.29|36.28|36.56|30.35|42.14|50.12| 48.4|1080012200|    1080012200|\n",
      "|20241001|  화|4.19로|1080012800|    국립4.19묘지|국립4.19묘지입구|유입| 352|     1|보조간선도로|         외곽|  강북구|19.39|16.37|11.65|28.84|15.73|17.84|14.58|12.66|13.58|11.61|15.51|12.51|13.89|13.14|13.75|14.02|13.06| 16.5|16.17|16.17|15.31| 17.3|22.91|20.99|1080012800|    1080012800|\n",
      "|20241001|  화|4.19로|1080012700|국립4.19묘지입구|    국립4.19묘지|유출| 354|     2|보조간선도로|         외곽|  강북구|24.62|25.96|24.02|32.73|22.32|28.42|18.73|23.66|19.26|17.33|18.87|21.91|21.26| 15.6|18.48|18.96|18.77|18.34|17.71|19.41| 20.4|18.12|21.75|27.53|1080012700|    1080012700|\n",
      "|20241001|  화|4.19로|1080012100|    국립4.19묘지|  아카데미하우스|유출|1190|     2|보조간선도로|         외곽|  강북구|48.56|40.97|44.93|66.25|87.24|51.61|46.12|37.36|48.37|44.88|51.09|58.75|41.55|42.89|43.59|44.07|62.28|61.14|47.81|50.33|46.09|49.38| 51.1|39.82|1080012100|    1080012100|\n",
      "|20241001|  화|가락로|1230024700|        방이초교|      백제고분군|유입| 844|     1|    기타도로|         외곽|  송파구|14.99|16.37|20.16|18.86| 17.7| 18.6|19.17|19.73|18.78|13.59|15.04|17.46|14.29|19.34|21.21|16.78|15.11|12.79|12.64|16.71|18.79|20.35|19.18|18.09|1230024700|    1230024703|\n",
      "+--------+----+------+----------+----------------+----------------+----+----+------+------------+-------------+--------+-----+-----+-----+-----+-----+-----+-----+-----+-----+-----+-----+-----+-----+-----+-----+-----+-----+-----+-----+-----+-----+-----+-----+-----+----------+--------------+\n",
      "only showing top 5 rows\n",
      "\n"
     ]
    }
   ],
   "source": [
    "merged_speed_df.show(5)"
   ]
  },
  {
   "cell_type": "code",
   "execution_count": 151,
   "id": "5e54f80f",
   "metadata": {},
   "outputs": [
    {
     "name": "stdout",
     "output_type": "stream",
     "text": [
      "+--------+----+----------------+--------+----+----------------------+-----+-----+-----+-----+-----+-----+-----+-----+-----+-----+-----+-----+-----+-----+-----+-----+-----+-----+-----+-----+-----+-----+-----+----+------------+\n",
      "|    일자|요일|          지점명|지점번호|방향|                  구분|  0시|  1시|  2시|  3시|  4시|  5시|  6시|  7시|  8시|  9시| 10시| 11시| 12시| 13시| 14시| 15시| 16시| 17시| 18시| 19시| 20시| 21시| 22시|23시|지점명_clean|\n",
      "+--------+----+----------------+--------+----+----------------------+-----+-----+-----+-----+-----+-----+-----+-----+-----+-----+-----+-----+-----+-----+-----+-----+-----+-----+-----+-----+-----+-----+-----+----+------------+\n",
      "|20240301|  일|성산로(금화터널)|    A-01|유입|봉원고가차도->독립문역|465.0|396.0|328.0|279.0|292.0|394.0| 736 | 798 |1016 |1322 |1595 |1798 |1686 |1575 |1598 |1459 |1585 |1424 |1232 | 966 | 948 | 941 | 747 |548 |      성산로|\n",
      "|20240302|  토|성산로(금화터널)|    A-01|유입|봉원고가차도->독립문역|407.0|269.0|199.0|164.0|205.0|367.0| 658 | 785 |1217 |1427 |1705 |1724 |1896 |1813 |1674 |1583 |1580 |1631 |1277 | 953 | 872 | 902 | 780 |563 |      성산로|\n",
      "|20240303|  일|성산로(금화터널)|    A-01|유입|봉원고가차도->독립문역|388.0|259.0|241.0|149.0|142.0|313.0| 427 | 671 | 991 |1336 |1449 |1438 |1462 |1406 |1514 |1341 |1423 |1364 |1072 |1031 | 890 | 800 | 649 |432 |      성산로|\n",
      "|20240304|  월|성산로(금화터널)|    A-01|유입|봉원고가차도->독립문역|295.0|199.0|152.0|143.0|252.0|678.0|1595 |2484 |2437 |1993 |1926 |1900 |1672 |1686 |1705 |1714 |1584 |1853 |1560 |1335 |1123 |1127 | 932 |697 |      성산로|\n",
      "|20240305|  화|성산로(금화터널)|    A-01|유입|봉원고가차도->독립문역|487.0|320.0|218.0|171.0|241.0|634.0|1548 |2459 |2492 |2060 |1916 |1905 |1634 |1715 |1733 |1805 |1724 |1936 |1703 |1374 |1206 |1211 |1091 |787 |      성산로|\n",
      "+--------+----+----------------+--------+----+----------------------+-----+-----+-----+-----+-----+-----+-----+-----+-----+-----+-----+-----+-----+-----+-----+-----+-----+-----+-----+-----+-----+-----+-----+----+------------+\n",
      "only showing top 5 rows\n",
      "\n"
     ]
    },
    {
     "name": "stderr",
     "output_type": "stream",
     "text": [
      "\r",
      "[Stage 163:>                                                        (0 + 1) / 1]\r",
      "Traceback (most recent call last):\n",
      "  File \"/opt/spark/python/lib/pyspark.zip/pyspark/daemon.py\", line 186, in manager\n",
      "  File \"/opt/spark/python/lib/pyspark.zip/pyspark/daemon.py\", line 74, in worker\n",
      "  File \"/opt/spark/python/lib/pyspark.zip/pyspark/worker.py\", line 643, in main\n",
      "    if read_int(infile) == SpecialLengths.END_OF_STREAM:\n",
      "  File \"/opt/spark/python/lib/pyspark.zip/pyspark/serializers.py\", line 564, in read_int\n",
      "    raise EOFError\n",
      "EOFError\n",
      "\r",
      "                                                                                \r"
     ]
    }
   ],
   "source": [
    "volume_df.show(5)"
   ]
  },
  {
   "cell_type": "code",
   "execution_count": 148,
   "id": "3c22a9d2",
   "metadata": {},
   "outputs": [
    {
     "ename": "AnalysisException",
     "evalue": "Cannot resolve column name \"도로명_clean\" among (일자, 요일, 도로명, 링크아이디, 시점명, 종점명, 방향, 거리, 차선수, 기능유형구분, 도심/외곽구분, 권역구분, 01시, 02시, 03시, 04시, 05시, 06시, 07시, 08시, 09시, 10시, 11시, 12시, 13시, 14시, 15시, 16시, 17시, 18시, 19시, 20시, 21시, 22시, 23시, 24시, 서비스링크, 표준링크아이디)",
     "output_type": "error",
     "traceback": [
      "\u001b[0;31m---------------------------------------------------------------------------\u001b[0m",
      "\u001b[0;31mAnalysisException\u001b[0m                         Traceback (most recent call last)",
      "Cell \u001b[0;32mIn[148], line 3\u001b[0m\n\u001b[1;32m      1\u001b[0m final_df \u001b[38;5;241m=\u001b[39m merged_speed_df\u001b[38;5;241m.\u001b[39mjoin(\n\u001b[1;32m      2\u001b[0m     volume_df,\n\u001b[0;32m----> 3\u001b[0m     (\u001b[43mmerged_speed_df\u001b[49m\u001b[43m[\u001b[49m\u001b[38;5;124;43m\"\u001b[39;49m\u001b[38;5;124;43m도로명_clean\u001b[39;49m\u001b[38;5;124;43m\"\u001b[39;49m\u001b[43m]\u001b[49m \u001b[38;5;241m==\u001b[39m volume_df[\u001b[38;5;124m\"\u001b[39m\u001b[38;5;124m지점명_clean\u001b[39m\u001b[38;5;124m\"\u001b[39m]) \u001b[38;5;241m&\u001b[39m\n\u001b[1;32m      4\u001b[0m     (merged_speed_df[\u001b[38;5;124m\"\u001b[39m\u001b[38;5;124m방향\u001b[39m\u001b[38;5;124m\"\u001b[39m] \u001b[38;5;241m==\u001b[39mvolume_df[\u001b[38;5;124m\"\u001b[39m\u001b[38;5;124m방향\u001b[39m\u001b[38;5;124m\"\u001b[39m]),\n\u001b[1;32m      5\u001b[0m     (merged_speed_df[\u001b[38;5;124m\"\u001b[39m\u001b[38;5;124m일자\u001b[39m\u001b[38;5;124m\"\u001b[39m] \u001b[38;5;241m==\u001b[39m volume_df[\u001b[38;5;124m\"\u001b[39m\u001b[38;5;124m일자\u001b[39m\u001b[38;5;124m\"\u001b[39m]) ,\n\u001b[1;32m      6\u001b[0m     \u001b[38;5;124m\"\u001b[39m\u001b[38;5;124minner\u001b[39m\u001b[38;5;124m\"\u001b[39m\n\u001b[1;32m      7\u001b[0m )\n",
      "File \u001b[0;32m/opt/spark/python/pyspark/sql/dataframe.py:1620\u001b[0m, in \u001b[0;36mDataFrame.__getitem__\u001b[0;34m(self, item)\u001b[0m\n\u001b[1;32m   1604\u001b[0m \u001b[38;5;250m\u001b[39m\u001b[38;5;124;03m\"\"\"Returns the column as a :class:`Column`.\u001b[39;00m\n\u001b[1;32m   1605\u001b[0m \n\u001b[1;32m   1606\u001b[0m \u001b[38;5;124;03m.. versionadded:: 1.3.0\u001b[39;00m\n\u001b[0;32m   (...)\u001b[0m\n\u001b[1;32m   1617\u001b[0m \u001b[38;5;124;03m[Row(age=5, name='Bob')]\u001b[39;00m\n\u001b[1;32m   1618\u001b[0m \u001b[38;5;124;03m\"\"\"\u001b[39;00m\n\u001b[1;32m   1619\u001b[0m \u001b[38;5;28;01mif\u001b[39;00m \u001b[38;5;28misinstance\u001b[39m(item, \u001b[38;5;28mstr\u001b[39m):\n\u001b[0;32m-> 1620\u001b[0m     jc \u001b[38;5;241m=\u001b[39m \u001b[38;5;28;43mself\u001b[39;49m\u001b[38;5;241;43m.\u001b[39;49m\u001b[43m_jdf\u001b[49m\u001b[38;5;241;43m.\u001b[39;49m\u001b[43mapply\u001b[49m\u001b[43m(\u001b[49m\u001b[43mitem\u001b[49m\u001b[43m)\u001b[49m\n\u001b[1;32m   1621\u001b[0m     \u001b[38;5;28;01mreturn\u001b[39;00m Column(jc)\n\u001b[1;32m   1622\u001b[0m \u001b[38;5;28;01melif\u001b[39;00m \u001b[38;5;28misinstance\u001b[39m(item, Column):\n",
      "File \u001b[0;32m/opt/spark/python/lib/py4j-0.10.9-src.zip/py4j/java_gateway.py:1304\u001b[0m, in \u001b[0;36mJavaMember.__call__\u001b[0;34m(self, *args)\u001b[0m\n\u001b[1;32m   1298\u001b[0m command \u001b[38;5;241m=\u001b[39m proto\u001b[38;5;241m.\u001b[39mCALL_COMMAND_NAME \u001b[38;5;241m+\u001b[39m\\\n\u001b[1;32m   1299\u001b[0m     \u001b[38;5;28mself\u001b[39m\u001b[38;5;241m.\u001b[39mcommand_header \u001b[38;5;241m+\u001b[39m\\\n\u001b[1;32m   1300\u001b[0m     args_command \u001b[38;5;241m+\u001b[39m\\\n\u001b[1;32m   1301\u001b[0m     proto\u001b[38;5;241m.\u001b[39mEND_COMMAND_PART\n\u001b[1;32m   1303\u001b[0m answer \u001b[38;5;241m=\u001b[39m \u001b[38;5;28mself\u001b[39m\u001b[38;5;241m.\u001b[39mgateway_client\u001b[38;5;241m.\u001b[39msend_command(command)\n\u001b[0;32m-> 1304\u001b[0m return_value \u001b[38;5;241m=\u001b[39m \u001b[43mget_return_value\u001b[49m\u001b[43m(\u001b[49m\n\u001b[1;32m   1305\u001b[0m \u001b[43m    \u001b[49m\u001b[43manswer\u001b[49m\u001b[43m,\u001b[49m\u001b[43m \u001b[49m\u001b[38;5;28;43mself\u001b[39;49m\u001b[38;5;241;43m.\u001b[39;49m\u001b[43mgateway_client\u001b[49m\u001b[43m,\u001b[49m\u001b[43m \u001b[49m\u001b[38;5;28;43mself\u001b[39;49m\u001b[38;5;241;43m.\u001b[39;49m\u001b[43mtarget_id\u001b[49m\u001b[43m,\u001b[49m\u001b[43m \u001b[49m\u001b[38;5;28;43mself\u001b[39;49m\u001b[38;5;241;43m.\u001b[39;49m\u001b[43mname\u001b[49m\u001b[43m)\u001b[49m\n\u001b[1;32m   1307\u001b[0m \u001b[38;5;28;01mfor\u001b[39;00m temp_arg \u001b[38;5;129;01min\u001b[39;00m temp_args:\n\u001b[1;32m   1308\u001b[0m     temp_arg\u001b[38;5;241m.\u001b[39m_detach()\n",
      "File \u001b[0;32m/opt/spark/python/pyspark/sql/utils.py:117\u001b[0m, in \u001b[0;36mcapture_sql_exception.<locals>.deco\u001b[0;34m(*a, **kw)\u001b[0m\n\u001b[1;32m    113\u001b[0m converted \u001b[38;5;241m=\u001b[39m convert_exception(e\u001b[38;5;241m.\u001b[39mjava_exception)\n\u001b[1;32m    114\u001b[0m \u001b[38;5;28;01mif\u001b[39;00m \u001b[38;5;129;01mnot\u001b[39;00m \u001b[38;5;28misinstance\u001b[39m(converted, UnknownException):\n\u001b[1;32m    115\u001b[0m     \u001b[38;5;66;03m# Hide where the exception came from that shows a non-Pythonic\u001b[39;00m\n\u001b[1;32m    116\u001b[0m     \u001b[38;5;66;03m# JVM exception message.\u001b[39;00m\n\u001b[0;32m--> 117\u001b[0m     \u001b[38;5;28;01mraise\u001b[39;00m converted \u001b[38;5;28;01mfrom\u001b[39;00m \u001b[38;5;28;01mNone\u001b[39;00m\n\u001b[1;32m    118\u001b[0m \u001b[38;5;28;01melse\u001b[39;00m:\n\u001b[1;32m    119\u001b[0m     \u001b[38;5;28;01mraise\u001b[39;00m\n",
      "\u001b[0;31mAnalysisException\u001b[0m: Cannot resolve column name \"도로명_clean\" among (일자, 요일, 도로명, 링크아이디, 시점명, 종점명, 방향, 거리, 차선수, 기능유형구분, 도심/외곽구분, 권역구분, 01시, 02시, 03시, 04시, 05시, 06시, 07시, 08시, 09시, 10시, 11시, 12시, 13시, 14시, 15시, 16시, 17시, 18시, 19시, 20시, 21시, 22시, 23시, 24시, 서비스링크, 표준링크아이디)"
     ]
    }
   ],
   "source": [
    "final_df = merged_speed_df.join(\n",
    "    volume_df,\n",
    "    (merged_speed_df[\"도로명_clean\"] == volume_df[\"지점명_clean\"]) &\n",
    "    (merged_speed_df[\"방향\"] ==volume_df[\"방향\"]),\n",
    "    (merged_speed_df[\"일자\"] == volume_df[\"일자\"]) ,\n",
    "    \"inner\"\n",
    ")"
   ]
  },
  {
   "cell_type": "code",
   "execution_count": null,
   "id": "4f3fc816",
   "metadata": {},
   "outputs": [],
   "source": []
  },
  {
   "cell_type": "code",
   "execution_count": null,
   "id": "7705634e",
   "metadata": {},
   "outputs": [],
   "source": []
  },
  {
   "cell_type": "code",
   "execution_count": 62,
   "id": "0a8693e4",
   "metadata": {},
   "outputs": [],
   "source": [
    "## 스키마와 컬럼 이름에서 ~ 제거\n",
    "#cleaned_columns = {col: col.lstrip(\"~~\") for col in speed_df.columns}\n",
    "\n",
    "## 컬럼 이름 변경\n",
    "#for old_name, new_name in cleaned_columns.items():\n",
    "   # speed_df = speed_df.withColumnRenamed(old_name, new_name)\n"
   ]
  },
  {
   "cell_type": "code",
   "execution_count": 94,
   "id": "1c8c83d9",
   "metadata": {
    "scrolled": true
   },
   "outputs": [
    {
     "name": "stdout",
     "output_type": "stream",
     "text": [
      "+--------+----+------+----------+----------------+----------------+----+----+------+------------+-------------+--------+-----+-----+-----+-----+-----+-----+-----+-----+-----+-----+-----+-----+-----+-----+-----+-----+-----+-----+-----+-----+-----+-----+-----+-----+\n",
      "|    일자|요일|도로명|링크아이디|          시점명|          종점명|방향|거리|차선수|기능유형구분|도심/외곽구분|권역구분| 01시| 02시| 03시| 04시| 05시| 06시| 07시| 08시| 09시| 10시| 11시| 12시| 13시| 14시| 15시| 16시| 17시| 18시| 19시| 20시| 21시| 22시| 23시| 24시|\n",
      "+--------+----+------+----------+----------------+----------------+----+----+------+------------+-------------+--------+-----+-----+-----+-----+-----+-----+-----+-----+-----+-----+-----+-----+-----+-----+-----+-----+-----+-----+-----+-----+-----+-----+-----+-----+\n",
      "|20241001|  화|4.19로|1080012200|  아카데미하우스|    국립4.19묘지|상행|1179|     1|보조간선도로|         외곽|  강북구|43.63|29.15| 49.6| 60.1|58.75| 44.6|37.24|38.44|31.08|33.08|41.59|39.45| 36.2|34.21| 32.1|34.95|44.99|38.29|36.28|36.56|30.35|42.14|50.12| 48.4|\n",
      "|20241001|  화|4.19로|1080012800|    국립4.19묘지|국립4.19묘지입구|상행| 352|     1|보조간선도로|         외곽|  강북구|19.39|16.37|11.65|28.84|15.73|17.84|14.58|12.66|13.58|11.61|15.51|12.51|13.89|13.14|13.75|14.02|13.06| 16.5|16.17|16.17|15.31| 17.3|22.91|20.99|\n",
      "|20241001|  화|4.19로|1080012700|국립4.19묘지입구|    국립4.19묘지|하행| 354|     2|보조간선도로|         외곽|  강북구|24.62|25.96|24.02|32.73|22.32|28.42|18.73|23.66|19.26|17.33|18.87|21.91|21.26| 15.6|18.48|18.96|18.77|18.34|17.71|19.41| 20.4|18.12|21.75|27.53|\n",
      "|20241001|  화|4.19로|1080012100|    국립4.19묘지|  아카데미하우스|하행|1190|     2|보조간선도로|         외곽|  강북구|48.56|40.97|44.93|66.25|87.24|51.61|46.12|37.36|48.37|44.88|51.09|58.75|41.55|42.89|43.59|44.07|62.28|61.14|47.81|50.33|46.09|49.38| 51.1|39.82|\n",
      "|20241001|  화|가락로|1230024700|        방이초교|      백제고분군|상행| 844|     1|    기타도로|         외곽|  송파구|14.99|16.37|20.16|18.86| 17.7| 18.6|19.17|19.73|18.78|13.59|15.04|17.46|14.29|19.34|21.21|16.78|15.11|12.79|12.64|16.71|18.79|20.35|19.18|18.09|\n",
      "+--------+----+------+----------+----------------+----------------+----+----+------+------------+-------------+--------+-----+-----+-----+-----+-----+-----+-----+-----+-----+-----+-----+-----+-----+-----+-----+-----+-----+-----+-----+-----+-----+-----+-----+-----+\n",
      "only showing top 5 rows\n",
      "\n"
     ]
    }
   ],
   "source": [
    "speed_df.show(5)"
   ]
  },
  {
   "cell_type": "code",
   "execution_count": null,
   "id": "c7fb5637",
   "metadata": {},
   "outputs": [],
   "source": []
  },
  {
   "cell_type": "code",
   "execution_count": 53,
   "id": "eda3532c",
   "metadata": {
    "scrolled": true
   },
   "outputs": [
    {
     "name": "stderr",
     "output_type": "stream",
     "text": [
      "                                                                                \r"
     ]
    },
    {
     "data": {
      "text/plain": [
       "1546771"
      ]
     },
     "execution_count": 53,
     "metadata": {},
     "output_type": "execute_result"
    }
   ],
   "source": [
    "speed_df.count()"
   ]
  },
  {
   "cell_type": "code",
   "execution_count": 112,
   "id": "c8c28f79",
   "metadata": {
    "scrolled": false
   },
   "outputs": [
    {
     "name": "stderr",
     "output_type": "stream",
     "text": [
      "24/12/19 14:42:44 WARN CSVHeaderChecker: CSV header does not conform to the schema.\n",
      " Header: 일자, 요일, 도로명, 링크아이디, 시점명, 종점명, 방향, 거리, 차선수, 기능유형구분, 도심/외곽구분, 권역구분, 01시, 02시, 03시, 04시, 05시, 06시, 07시, 08시, 09시, 10시, 11시, 12시, 13시, 14시, 15시, 16시, 17시, 18시, 19시, 20시, 21시, 22시, 23시, 24시\n",
      " Schema: 일자, 요일, 도로명, 링크아이디, 시점명, 종점명, 방향, 거리, 차선수, 기능유형구분, 도심/외곽구분, 권역구분, ~01시, ~02시, ~03시, ~04시, ~05시, ~06시, ~07시, ~08시, ~09시, ~10시, ~11시, ~12시, ~13시, ~14시, ~15시, ~16시, ~17시, ~18시, ~19시, ~20시, ~21시, ~22시, ~23시, ~24시\n",
      "Expected: ~01시 but found: 01시\n",
      "CSV file: file:///home/lab10/git_project/src/data/speed/road_speed_2024_1.csv\n",
      "24/12/19 14:42:48 WARN CSVHeaderChecker: CSV header does not conform to the schema.\n",
      " Header: 일자, 요일, 도로명, 링크아이디, 시점명, 종점명, 방향, 거리, 차선수, 기능유형구분, 도심/외곽구분, 권역구분, 01시, 02시, 03시, 04시, 05시, 06시, 07시, 08시, 09시, 10시, 11시, 12시, 13시, 14시, 15시, 16시, 17시, 18시, 19시, 20시, 21시, 22시, 23시, 24시\n",
      " Schema: 일자, 요일, 도로명, 링크아이디, 시점명, 종점명, 방향, 거리, 차선수, 기능유형구분, 도심/외곽구분, 권역구분, ~01시, ~02시, ~03시, ~04시, ~05시, ~06시, ~07시, ~08시, ~09시, ~10시, ~11시, ~12시, ~13시, ~14시, ~15시, ~16시, ~17시, ~18시, ~19시, ~20시, ~21시, ~22시, ~23시, ~24시\n",
      "Expected: ~01시 but found: 01시\n",
      "CSV file: file:///home/lab10/git_project/src/data/speed/road_speed_2024_2.csv\n",
      "[Stage 107:==========================================>              (3 + 1) / 4]\r"
     ]
    },
    {
     "name": "stdout",
     "output_type": "stream",
     "text": [
      "+----+----+------+----------+------+------+----+----+------+------------+-------------+--------+-----+-----+-----+-----+-----+-----+-----+-----+-----+-----+-----+-----+-----+-----+-----+-----+-----+-----+-----+-----+-----+-----+-----+-----+\n",
      "|일자|요일|도로명|링크아이디|시점명|종점명|방향|거리|차선수|기능유형구분|도심/외곽구분|권역구분|~01시|~02시|~03시|~04시|~05시|~06시|~07시|~08시|~09시|~10시|~11시|~12시|~13시|~14시|~15시|~16시|~17시|~18시|~19시|~20시|~21시|~22시|~23시|~24시|\n",
      "+----+----+------+----------+------+------+----+----+------+------------+-------------+--------+-----+-----+-----+-----+-----+-----+-----+-----+-----+-----+-----+-----+-----+-----+-----+-----+-----+-----+-----+-----+-----+-----+-----+-----+\n",
      "|   1|   1|     1|         1|     1|     1|   1|   1|     1|           1|            1|     243|  799|  896| 1032| 1180| 1296|  939|  895|  795|  652|  683|  994| 1070|  894|  765|  899|  861|  840|  766|  758|  742|  750|  559|  746|  742|\n",
      "+----+----+------+----------+------+------+----+----+------+------------+-------------+--------+-----+-----+-----+-----+-----+-----+-----+-----+-----+-----+-----+-----+-----+-----+-----+-----+-----+-----+-----+-----+-----+-----+-----+-----+\n",
      "\n"
     ]
    },
    {
     "name": "stderr",
     "output_type": "stream",
     "text": [
      "\r",
      "                                                                                \r"
     ]
    }
   ],
   "source": [
    "from pyspark.sql.functions import col, sum\n",
    "\n",
    "speed_df.select([sum(col(c).isNull().cast(\"int\")).alias(c) for c in speed_df.columns]).show()"
   ]
  },
  {
   "cell_type": "code",
   "execution_count": 96,
   "id": "d3d0273c",
   "metadata": {},
   "outputs": [
    {
     "name": "stderr",
     "output_type": "stream",
     "text": [
      "24/12/19 13:43:43 WARN CSVHeaderChecker: CSV header does not conform to the schema.\n",
      " Header: 04시\n",
      " Schema: ~04시\n",
      "Expected: ~04시 but found: 04시\n",
      "CSV file: file:///home/lab10/git_project/src/data/speed/road_speed_2024_1.csv\n",
      "24/12/19 13:43:44 WARN CSVHeaderChecker: CSV header does not conform to the schema.\n",
      " Header: 04시\n",
      " Schema: ~04시\n",
      "Expected: ~04시 but found: 04시\n",
      "CSV file: file:///home/lab10/git_project/src/data/speed/road_speed_2024_2.csv\n",
      "                                                                                \r"
     ]
    },
    {
     "data": {
      "text/plain": [
       "1180"
      ]
     },
     "execution_count": 96,
     "metadata": {},
     "output_type": "execute_result"
    }
   ],
   "source": [
    "speed_df.filter(col(\"04시\").isNull()).count()"
   ]
  },
  {
   "cell_type": "code",
   "execution_count": 25,
   "id": "c7f35852",
   "metadata": {},
   "outputs": [],
   "source": [
    "speed_df_cleaned = speed_df.na.drop()"
   ]
  },
  {
   "cell_type": "code",
   "execution_count": 26,
   "id": "473f01a7",
   "metadata": {},
   "outputs": [
    {
     "name": "stderr",
     "output_type": "stream",
     "text": [
      "24/12/19 11:45:27 WARN CSVHeaderChecker: CSV header does not conform to the schema.\n",
      " Header: 일자, 요일, 도로명, 링크아이디, 시점명, 종점명, 방향, 거리, 차선수, 기능유형구분, 도심/외곽구분, 권역구분, 01시, 02시, 03시, 04시, 05시, 06시, 07시, 08시, 09시, 10시, 11시, 12시, 13시, 14시, 15시, 16시, 17시, 18시, 19시, 20시, 21시, 22시, 23시, 24시\n",
      " Schema: 일자, 요일, 도로명, 링크아이디, 시점명, 종점명, 방향, 거리, 차선수, 기능유형구분, 도심/외곽구분, 권역구분, ~01시, ~02시, ~03시, ~04시, ~05시, ~06시, ~07시, ~08시, ~09시, ~10시, ~11시, ~12시, ~13시, ~14시, ~15시, ~16시, ~17시, ~18시, ~19시, ~20시, ~21시, ~22시, ~23시, ~24시\n",
      "Expected: ~01시 but found: 01시\n",
      "CSV file: file:///home/lab10/git_project/src/data/speed/road_speed_2024_1.csv\n",
      "24/12/19 11:45:30 WARN CSVHeaderChecker: CSV header does not conform to the schema.\n",
      " Header: 일자, 요일, 도로명, 링크아이디, 시점명, 종점명, 방향, 거리, 차선수, 기능유형구분, 도심/외곽구분, 권역구분, 01시, 02시, 03시, 04시, 05시, 06시, 07시, 08시, 09시, 10시, 11시, 12시, 13시, 14시, 15시, 16시, 17시, 18시, 19시, 20시, 21시, 22시, 23시, 24시\n",
      " Schema: 일자, 요일, 도로명, 링크아이디, 시점명, 종점명, 방향, 거리, 차선수, 기능유형구분, 도심/외곽구분, 권역구분, ~01시, ~02시, ~03시, ~04시, ~05시, ~06시, ~07시, ~08시, ~09시, ~10시, ~11시, ~12시, ~13시, ~14시, ~15시, ~16시, ~17시, ~18시, ~19시, ~20시, ~21시, ~22시, ~23시, ~24시\n",
      "Expected: ~01시 but found: 01시\n",
      "CSV file: file:///home/lab10/git_project/src/data/speed/road_speed_2024_2.csv\n",
      "                                                                                \r"
     ]
    },
    {
     "data": {
      "text/plain": [
       "1543554"
      ]
     },
     "execution_count": 26,
     "metadata": {},
     "output_type": "execute_result"
    }
   ],
   "source": [
    "speed_df_cleaned.count()"
   ]
  },
  {
   "cell_type": "code",
   "execution_count": null,
   "id": "c45879a7",
   "metadata": {},
   "outputs": [],
   "source": []
  },
  {
   "cell_type": "code",
   "execution_count": 97,
   "id": "cc74bbb3",
   "metadata": {},
   "outputs": [],
   "source": [
    "time_columns = [f\"{str(i).zfill(2)}시\" for i in range(1, 25)]"
   ]
  },
  {
   "cell_type": "code",
   "execution_count": 98,
   "id": "c927f837",
   "metadata": {
    "scrolled": true
   },
   "outputs": [
    {
     "name": "stderr",
     "output_type": "stream",
     "text": [
      "24/12/19 13:43:58 WARN CSVHeaderChecker: CSV header does not conform to the schema.\n",
      " Header: 01시, 02시, 03시, 04시, 05시, 06시, 07시, 08시, 09시, 10시, 11시, 12시, 13시, 14시, 15시, 16시, 17시, 18시, 19시, 20시, 21시, 22시, 23시, 24시\n",
      " Schema: ~01시, ~02시, ~03시, ~04시, ~05시, ~06시, ~07시, ~08시, ~09시, ~10시, ~11시, ~12시, ~13시, ~14시, ~15시, ~16시, ~17시, ~18시, ~19시, ~20시, ~21시, ~22시, ~23시, ~24시\n",
      "Expected: ~01시 but found: 01시\n",
      "CSV file: file:///home/lab10/git_project/src/data/speed/road_speed_2024_1.csv\n",
      "24/12/19 13:44:02 WARN CSVHeaderChecker: CSV header does not conform to the schema.\n",
      " Header: 01시, 02시, 03시, 04시, 05시, 06시, 07시, 08시, 09시, 10시, 11시, 12시, 13시, 14시, 15시, 16시, 17시, 18시, 19시, 20시, 21시, 22시, 23시, 24시\n",
      " Schema: ~01시, ~02시, ~03시, ~04시, ~05시, ~06시, ~07시, ~08시, ~09시, ~10시, ~11시, ~12시, ~13시, ~14시, ~15시, ~16시, ~17시, ~18시, ~19시, ~20시, ~21시, ~22시, ~23시, ~24시\n",
      "Expected: ~01시 but found: 01시\n",
      "CSV file: file:///home/lab10/git_project/src/data/speed/road_speed_2024_2.csv\n",
      "[Stage 86:===========================================>              (3 + 1) / 4]\r"
     ]
    },
    {
     "name": "stdout",
     "output_type": "stream",
     "text": [
      "+------------------+------------------+------------------+------------------+------------------+------------------+------------------+------------------+-----------------+------------------+------------------+------------------+-----------------+-----------------+-----------------+------------------+------------------+-----------------+------------------+------------------+------------------+-----------------+-----------------+------------------+\n",
      "|              01시|              02시|              03시|              04시|              05시|              06시|              07시|              08시|             09시|              10시|              11시|              12시|             13시|             14시|             15시|              16시|              17시|             18시|              19시|              20시|              21시|             22시|             23시|              24시|\n",
      "+------------------+------------------+------------------+------------------+------------------+------------------+------------------+------------------+-----------------+------------------+------------------+------------------+-----------------+-----------------+-----------------+------------------+------------------+-----------------+------------------+------------------+------------------+-----------------+-----------------+------------------+\n",
      "|30.113729446775537|31.077745215508923|31.766850142492437|32.176817955460024|31.967655774329305|30.691032889174807|28.992065387022933|27.019077599453503|25.17064004008405|24.599085171626932|24.275355509383182|24.361979661030304|24.65577958321957|24.36819728697211|23.88312140584684|23.488547453830662|22.922558791260883|22.37989740890752|22.375942251552438|23.890960660441152|25.533806601035433|26.41067966733532|27.18503402400521|28.806814897990204|\n",
      "+------------------+------------------+------------------+------------------+------------------+------------------+------------------+------------------+-----------------+------------------+------------------+------------------+-----------------+-----------------+-----------------+------------------+------------------+-----------------+------------------+------------------+------------------+-----------------+-----------------+------------------+\n",
      "\n"
     ]
    },
    {
     "name": "stderr",
     "output_type": "stream",
     "text": [
      "\r",
      "                                                                                \r"
     ]
    }
   ],
   "source": [
    "from pyspark.sql.functions import mean, col\n",
    "\n",
    "# 시간대별 평균 계산\n",
    "average_speed_df = speed_df.select(*time_columns).select(\n",
    "    *[mean(col(c).cast(\"float\")).alias(c) for c in time_columns]\n",
    ")\n",
    "average_speed_df.show()"
   ]
  },
  {
   "cell_type": "code",
   "execution_count": 99,
   "id": "bf4ff6b8",
   "metadata": {},
   "outputs": [
    {
     "name": "stderr",
     "output_type": "stream",
     "text": [
      "24/12/19 13:44:23 WARN CSVHeaderChecker: CSV header does not conform to the schema.\n",
      " Header: 01시, 02시, 03시, 04시, 05시, 06시, 07시, 08시, 09시, 10시, 11시, 12시, 13시, 14시, 15시, 16시, 17시, 18시, 19시, 20시, 21시, 22시, 23시, 24시\n",
      " Schema: ~01시, ~02시, ~03시, ~04시, ~05시, ~06시, ~07시, ~08시, ~09시, ~10시, ~11시, ~12시, ~13시, ~14시, ~15시, ~16시, ~17시, ~18시, ~19시, ~20시, ~21시, ~22시, ~23시, ~24시\n",
      "Expected: ~01시 but found: 01시\n",
      "CSV file: file:///home/lab10/git_project/src/data/speed/road_speed_2024_1.csv\n",
      "24/12/19 13:44:27 WARN CSVHeaderChecker: CSV header does not conform to the schema.\n",
      " Header: 01시, 02시, 03시, 04시, 05시, 06시, 07시, 08시, 09시, 10시, 11시, 12시, 13시, 14시, 15시, 16시, 17시, 18시, 19시, 20시, 21시, 22시, 23시, 24시\n",
      " Schema: ~01시, ~02시, ~03시, ~04시, ~05시, ~06시, ~07시, ~08시, ~09시, ~10시, ~11시, ~12시, ~13시, ~14시, ~15시, ~16시, ~17시, ~18시, ~19시, ~20시, ~21시, ~22시, ~23시, ~24시\n",
      "Expected: ~01시 but found: 01시\n",
      "CSV file: file:///home/lab10/git_project/src/data/speed/road_speed_2024_2.csv\n",
      "                                                                                \r"
     ]
    }
   ],
   "source": [
    "# 평균값 한 행을 딕셔너리로 추출\n",
    "mean_values = average_speed_df.collect()[0].asDict()"
   ]
  },
  {
   "cell_type": "code",
   "execution_count": 100,
   "id": "cbba2d10",
   "metadata": {},
   "outputs": [],
   "source": [
    "filled_df = speed_df.na.fill(mean_values)"
   ]
  },
  {
   "cell_type": "code",
   "execution_count": 86,
   "id": "b5c518ae",
   "metadata": {},
   "outputs": [],
   "source": [
    "speed_df_filled = speed_df.na.fill({col: 0 for col in time_columns})"
   ]
  },
  {
   "cell_type": "code",
   "execution_count": 101,
   "id": "79fc71cf",
   "metadata": {
    "scrolled": true
   },
   "outputs": [
    {
     "name": "stderr",
     "output_type": "stream",
     "text": [
      "24/12/19 13:44:40 WARN CSVHeaderChecker: CSV header does not conform to the schema.\n",
      " Header: 04시\n",
      " Schema: ~04시\n",
      "Expected: ~04시 but found: 04시\n",
      "CSV file: file:///home/lab10/git_project/src/data/speed/road_speed_2024_1.csv\n",
      "24/12/19 13:44:41 WARN CSVHeaderChecker: CSV header does not conform to the schema.\n",
      " Header: 04시\n",
      " Schema: ~04시\n",
      "Expected: ~04시 but found: 04시\n",
      "CSV file: file:///home/lab10/git_project/src/data/speed/road_speed_2024_2.csv\n",
      "                                                                                \r"
     ]
    },
    {
     "data": {
      "text/plain": [
       "1180"
      ]
     },
     "execution_count": 101,
     "metadata": {},
     "output_type": "execute_result"
    }
   ],
   "source": [
    "speed_df.filter(col(\"04시\").isNull()).count()"
   ]
  },
  {
   "cell_type": "code",
   "execution_count": 103,
   "id": "e9d6e476",
   "metadata": {},
   "outputs": [],
   "source": [
    "# 속도 데이터 샘플링 (10%, seed 설정)\n",
    "sample_speed_data = speed_df.sample(fraction=0.1, seed=42)"
   ]
  },
  {
   "cell_type": "code",
   "execution_count": 104,
   "id": "4777d712",
   "metadata": {},
   "outputs": [
    {
     "name": "stderr",
     "output_type": "stream",
     "text": [
      "                                                                                \r"
     ]
    },
    {
     "data": {
      "text/plain": [
       "154506"
      ]
     },
     "execution_count": 104,
     "metadata": {},
     "output_type": "execute_result"
    }
   ],
   "source": [
    "sample_speed_data.count()"
   ]
  },
  {
   "cell_type": "code",
   "execution_count": 105,
   "id": "09a60ab1",
   "metadata": {},
   "outputs": [
    {
     "name": "stdout",
     "output_type": "stream",
     "text": [
      "+--------+----+-------------+----------+--------------------+--------------+----+----+------+------------+-------------+--------+-----+-----+-----+-----+-----+-----+-----+-----+-----+-----+-----+-----+-----+-----+-----+-----+-----+-----+-----+-----+-----+-----+-----+-----+\n",
      "|    일자|요일|       도로명|링크아이디|              시점명|        종점명|방향|거리|차선수|기능유형구분|도심/외곽구분|권역구분| 01시| 02시| 03시| 04시| 05시| 06시| 07시| 08시| 09시| 10시| 11시| 12시| 13시| 14시| 15시| 16시| 17시| 18시| 19시| 20시| 21시| 22시| 23시| 24시|\n",
      "+--------+----+-------------+----------+--------------------+--------------+----+----+------+------------+-------------+--------+-----+-----+-----+-----+-----+-----+-----+-----+-----+-----+-----+-----+-----+-----+-----+-----+-----+-----+-----+-----+-----+-----+-----+-----+\n",
      "|20241001|  화|       가락로|1230014100|          송파사거리|      배명고교|상행|1288|     1|    기타도로|         외곽|  송파구|23.05|22.51| 21.4|24.23|28.59|26.07|23.82|18.32|17.46|16.34|16.77|16.45|17.67|18.69|18.14|18.75|19.24|17.58|18.58|17.68|20.52|18.19|19.95|23.87|\n",
      "|20241001|  화|   가로공원로|1150009000|        화곡터널입구|강서나누리병원|하행| 513|     2|보조간선도로|         외곽|  강서구|25.69|26.87|27.24|   24| 20.1|24.92|22.85|24.17|22.14|24.88|19.56|20.57|22.05|21.96|19.42| 22.4|21.51|19.94|20.89|20.98|24.68|24.67|24.11| 18.6|\n",
      "|20241001|  화|   가로공원로|1140034700|          월정초교앞|    신월사거리|하행| 530|     2|보조간선도로|         외곽|  양천구|23.19| 19.5|23.96|23.86|26.22|20.72|17.24|21.19|23.79|21.09|16.95|20.99| 17.9|16.75|19.01|19.27|19.34|18.66|21.17|23.09|23.21|23.41|21.54|22.36|\n",
      "|20241001|  화|가산디지털1로|1170007000|    구로한국후지필름|SK트윈테크타워|하행| 422|     3|    기타도로|         외곽|  금천구|24.69|22.72|25.83|35.96|33.84|   33|27.34|24.75|25.23| 19.5|19.96|17.56|17.94|18.99|   23|20.63|27.11| 20.5|20.97| 21.7|25.03| 24.5|28.87|25.97|\n",
      "|20241001|  화|가산디지털2로|1170010800|디지털산업단지운동장|한일유앤아이앞|상행| 322|     2|    기타도로|         외곽|  금천구|24.78| 20.6|21.91|19.39|25.61|16.41|19.91|   18|16.04|14.08|17.58| 16.1|17.87|15.08|17.21|19.47|15.57|13.27|18.56|17.25|19.35|22.23|16.51|18.48|\n",
      "+--------+----+-------------+----------+--------------------+--------------+----+----+------+------------+-------------+--------+-----+-----+-----+-----+-----+-----+-----+-----+-----+-----+-----+-----+-----+-----+-----+-----+-----+-----+-----+-----+-----+-----+-----+-----+\n",
      "only showing top 5 rows\n",
      "\n"
     ]
    }
   ],
   "source": [
    "sample_speed_data.show(5)"
   ]
  },
  {
   "cell_type": "code",
   "execution_count": 106,
   "id": "492cff93",
   "metadata": {},
   "outputs": [
    {
     "name": "stderr",
     "output_type": "stream",
     "text": [
      "24/12/19 13:59:02 WARN CSVHeaderChecker: CSV header does not conform to the schema.\n",
      " Header: 01시, 02시, 03시, 04시, 05시, 06시, 07시, 08시, 09시, 10시, 11시, 12시, 13시, 14시, 15시, 16시, 17시, 18시, 19시, 20시, 21시, 22시, 23시, 24시\n",
      " Schema: ~01시, ~02시, ~03시, ~04시, ~05시, ~06시, ~07시, ~08시, ~09시, ~10시, ~11시, ~12시, ~13시, ~14시, ~15시, ~16시, ~17시, ~18시, ~19시, ~20시, ~21시, ~22시, ~23시, ~24시\n",
      "Expected: ~01시 but found: 01시\n",
      "CSV file: file:///home/lab10/git_project/src/data/speed/road_speed_2024_1.csv\n",
      "24/12/19 13:59:06 WARN CSVHeaderChecker: CSV header does not conform to the schema.\n",
      " Header: 01시, 02시, 03시, 04시, 05시, 06시, 07시, 08시, 09시, 10시, 11시, 12시, 13시, 14시, 15시, 16시, 17시, 18시, 19시, 20시, 21시, 22시, 23시, 24시\n",
      " Schema: ~01시, ~02시, ~03시, ~04시, ~05시, ~06시, ~07시, ~08시, ~09시, ~10시, ~11시, ~12시, ~13시, ~14시, ~15시, ~16시, ~17시, ~18시, ~19시, ~20시, ~21시, ~22시, ~23시, ~24시\n",
      "Expected: ~01시 but found: 01시\n",
      "CSV file: file:///home/lab10/git_project/src/data/speed/road_speed_2024_2.csv\n",
      "/home/ubuntu/anaconda3/envs/spark_start/lib/python3.8/site-packages/IPython/core/pylabtools.py:152: UserWarning: Glyph 54217 (\\N{HANGUL SYLLABLE PYEONG}) missing from current font.\n",
      "  fig.canvas.print_figure(bytes_io, **kw)\n",
      "/home/ubuntu/anaconda3/envs/spark_start/lib/python3.8/site-packages/IPython/core/pylabtools.py:152: UserWarning: Glyph 44512 (\\N{HANGUL SYLLABLE GYUN}) missing from current font.\n",
      "  fig.canvas.print_figure(bytes_io, **kw)\n",
      "/home/ubuntu/anaconda3/envs/spark_start/lib/python3.8/site-packages/IPython/core/pylabtools.py:152: UserWarning: Glyph 49549 (\\N{HANGUL SYLLABLE SOG}) missing from current font.\n",
      "  fig.canvas.print_figure(bytes_io, **kw)\n",
      "/home/ubuntu/anaconda3/envs/spark_start/lib/python3.8/site-packages/IPython/core/pylabtools.py:152: UserWarning: Glyph 46020 (\\N{HANGUL SYLLABLE DO}) missing from current font.\n",
      "  fig.canvas.print_figure(bytes_io, **kw)\n",
      "/home/ubuntu/anaconda3/envs/spark_start/lib/python3.8/site-packages/IPython/core/pylabtools.py:152: UserWarning: Glyph 49884 (\\N{HANGUL SYLLABLE SI}) missing from current font.\n",
      "  fig.canvas.print_figure(bytes_io, **kw)\n",
      "/home/ubuntu/anaconda3/envs/spark_start/lib/python3.8/site-packages/IPython/core/pylabtools.py:152: UserWarning: Glyph 44036 (\\N{HANGUL SYLLABLE GAN}) missing from current font.\n",
      "  fig.canvas.print_figure(bytes_io, **kw)\n",
      "/home/ubuntu/anaconda3/envs/spark_start/lib/python3.8/site-packages/IPython/core/pylabtools.py:152: UserWarning: Glyph 45824 (\\N{HANGUL SYLLABLE DAE}) missing from current font.\n",
      "  fig.canvas.print_figure(bytes_io, **kw)\n",
      "/home/ubuntu/anaconda3/envs/spark_start/lib/python3.8/site-packages/IPython/core/pylabtools.py:152: UserWarning: Glyph 48324 (\\N{HANGUL SYLLABLE BYEOL}) missing from current font.\n",
      "  fig.canvas.print_figure(bytes_io, **kw)\n"
     ]
    },
    {
     "data": {
      "image/png": "[encoded data removed]",
      "text/plain": [
       "<Figure size 1200x600 with 1 Axes>"
      ]
     },
     "metadata": {},
     "output_type": "display_data"
    }
   ],
   "source": [
    "from pyspark.sql.functions import col, mean\n",
    "import matplotlib.pyplot as plt\n",
    "\n",
    "# 시간대 컬럼 리스트\n",
    "time_columns = [f\"{str(i).zfill(2)}시\" for i in range(1, 25)]\n",
    "\n",
    "# 시간대별 평균 속도 계산\n",
    "time_avg_speed = speed_df.select(\n",
    "    *[mean(col(c).cast(\"float\")).alias(c) for c in time_columns]\n",
    ").toPandas()\n",
    "\n",
    "# 시각화\n",
    "plt.figure(figsize=(12, 6))\n",
    "plt.plot(time_avg_speed.columns, time_avg_speed.iloc[0], marker='o')\n",
    "plt.title(\"시간대별 평균 속도\")\n",
    "plt.xlabel(\"시간대\")\n",
    "plt.ylabel(\"평균 속도 (km/h)\")\n",
    "plt.grid()\n",
    "plt.show()"
   ]
  },
  {
   "cell_type": "code",
   "execution_count": null,
   "id": "7c02595b",
   "metadata": {},
   "outputs": [],
   "source": []
  },
  {
   "cell_type": "code",
   "execution_count": null,
   "id": "a5281aaa",
   "metadata": {},
   "outputs": [],
   "source": []
  }
 ],
 "metadata": {
  "kernelspec": {
   "display_name": "Python (spark_start)",
   "language": "python",
   "name": "spark_start"
  },
  "language_info": {
   "codemirror_mode": {
    "name": "ipython",
    "version": 3
   },
   "file_extension": ".py",
   "mimetype": "text/x-python",
   "name": "python",
   "nbconvert_exporter": "python",
   "pygments_lexer": "ipython3",
   "version": "3.8.20"
  }
 },
 "nbformat": 4,
 "nbformat_minor": 5
}
