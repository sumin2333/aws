{
 "cells": [
  {
   "cell_type": "code",
   "execution_count": 2,
   "id": "1f15d42a",
   "metadata": {},
   "outputs": [
    {
     "name": "stderr",
     "output_type": "stream",
     "text": [
      "24/12/11 15:28:47 WARN NativeCodeLoader: Unable to load native-hadoop library for your platform... using builtin-java classes where applicable\n",
      "Using Spark's default log4j profile: org/apache/spark/log4j-defaults.properties\n",
      "Setting default log level to \"WARN\".\n",
      "To adjust logging level use sc.setLogLevel(newLevel). For SparkR, use setLogLevel(newLevel).\n"
     ]
    }
   ],
   "source": [
    "from pyspark.sql import SparkSession\n",
    "spark = SparkSession.builder.appName(\"241211_02_SparkSQL\").getOrCreate()"
   ]
  },
  {
   "cell_type": "code",
   "execution_count": 3,
   "id": "71c3e310",
   "metadata": {},
   "outputs": [
    {
     "name": "stderr",
     "output_type": "stream",
     "text": [
      "                                                                                \r"
     ]
    }
   ],
   "source": [
    "trips_df = spark.read.csv('data/fhvhv_tripdata_2020-03.csv', inferSchema=True, header=True)"
   ]
  },
  {
   "cell_type": "code",
   "execution_count": 4,
   "id": "be26ec2f",
   "metadata": {},
   "outputs": [
    {
     "name": "stdout",
     "output_type": "stream",
     "text": [
      "+-----------------+--------------------+-------------------+-------------------+------------+------------+-------+\n",
      "|hvfhs_license_num|dispatching_base_num|    pickup_datetime|   dropoff_datetime|PULocationID|DOLocationID|SR_Flag|\n",
      "+-----------------+--------------------+-------------------+-------------------+------------+------------+-------+\n",
      "|           HV0005|              B02510|2020-03-01 00:03:40|2020-03-01 00:23:39|          81|         159|   null|\n",
      "|           HV0005|              B02510|2020-03-01 00:28:05|2020-03-01 00:38:57|         168|         119|   null|\n",
      "|           HV0003|              B02764|2020-03-01 00:03:07|2020-03-01 00:15:04|         137|         209|      1|\n",
      "|           HV0003|              B02764|2020-03-01 00:18:42|2020-03-01 00:38:42|         209|          80|   null|\n",
      "|           HV0003|              B02764|2020-03-01 00:44:24|2020-03-01 00:58:44|         256|         226|   null|\n",
      "+-----------------+--------------------+-------------------+-------------------+------------+------------+-------+\n",
      "only showing top 5 rows\n",
      "\n"
     ]
    }
   ],
   "source": [
    "trips_df.show(5)"
   ]
  },
  {
   "cell_type": "code",
   "execution_count": 5,
   "id": "fc9ac717",
   "metadata": {},
   "outputs": [],
   "source": [
    "trips_df.createOrReplaceTempView('mobility_data')"
   ]
  },
  {
   "cell_type": "code",
   "execution_count": null,
   "id": "bb956ae7",
   "metadata": {},
   "outputs": [],
   "source": [
    "query = '''\n",
    "select *\n",
    "from mobility_data\n",
    "limit 5\n",
    "'''\n",
    "spark.sql(query).show()"
   ]
  },
  {
   "cell_type": "code",
   "execution_count": 9,
   "id": "5cefd7cb",
   "metadata": {},
   "outputs": [
    {
     "name": "stderr",
     "output_type": "stream",
     "text": [
      "                                                                                \r"
     ]
    },
    {
     "name": "stdout",
     "output_type": "stream",
     "text": [
      "+-----------+------+\n",
      "|pickup_date| trips|\n",
      "+-----------+------+\n",
      "| 2020-03-16|391518|\n",
      "| 2020-03-03|697880|\n",
      "| 2020-03-06|872012|\n",
      "| 2020-03-26|141607|\n",
      "| 2020-03-05|731165|\n",
      "| 2020-03-02|648986|\n",
      "| 2020-03-25|141088|\n",
      "| 2020-03-20|261900|\n",
      "| 2020-03-24|141686|\n",
      "| 2020-03-04|707879|\n",
      "| 2020-03-10|626474|\n",
      "| 2020-03-12|643257|\n",
      "| 2020-03-11|628601|\n",
      "| 2020-03-13|660914|\n",
      "| 2020-03-27|159339|\n",
      "| 2020-03-22|162165|\n",
      "| 2020-03-28|138456|\n",
      "| 2020-03-01|784246|\n",
      "| 2020-03-19|252773|\n",
      "| 2020-03-09|628940|\n",
      "+-----------+------+\n",
      "only showing top 20 rows\n",
      "\n"
     ]
    }
   ],
   "source": [
    "query_1='''\n",
    "select split(pickup_datetime, ' ')[0] as pickup_date, count(*) as trips\n",
    "from mobility_data\n",
    "group by pickup_date\n",
    "'''\n",
    "spark.sql(query_1).show()\n",
    "#전체가 대상인 코드 "
   ]
  },
  {
   "cell_type": "code",
   "execution_count": 8,
   "id": "356e8672",
   "metadata": {},
   "outputs": [],
   "source": [
    "query_2='''\n",
    "SELECT \n",
    "     pickup_date, \n",
    "    count(*) as trips\n",
    "FROM ( SELECT\n",
    "    split(pickup_datetime, ' ')[0] as pickup_date\n",
    "    FROM mobility_data )\n",
    "group by pickup_date\n",
    "''' #FROM 안에 먼저 처리 위와 아래 차이  "
   ]
  },
  {
   "cell_type": "code",
   "execution_count": 10,
   "id": "f7321e17",
   "metadata": {},
   "outputs": [
    {
     "name": "stderr",
     "output_type": "stream",
     "text": [
      "                                                                                \r"
     ]
    },
    {
     "name": "stdout",
     "output_type": "stream",
     "text": [
      "+-----------+------+\n",
      "|pickup_date| trips|\n",
      "+-----------+------+\n",
      "| 2020-03-16|391518|\n",
      "| 2020-03-03|697880|\n",
      "| 2020-03-06|872012|\n",
      "| 2020-03-26|141607|\n",
      "| 2020-03-05|731165|\n",
      "| 2020-03-02|648986|\n",
      "| 2020-03-25|141088|\n",
      "| 2020-03-20|261900|\n",
      "| 2020-03-24|141686|\n",
      "| 2020-03-04|707879|\n",
      "| 2020-03-10|626474|\n",
      "| 2020-03-12|643257|\n",
      "| 2020-03-11|628601|\n",
      "| 2020-03-13|660914|\n",
      "| 2020-03-27|159339|\n",
      "| 2020-03-22|162165|\n",
      "| 2020-03-28|138456|\n",
      "| 2020-03-01|784246|\n",
      "| 2020-03-19|252773|\n",
      "| 2020-03-09|628940|\n",
      "+-----------+------+\n",
      "only showing top 20 rows\n",
      "\n"
     ]
    }
   ],
   "source": [
    "spark.sql(query_2).show()"
   ]
  },
  {
   "cell_type": "code",
   "execution_count": 11,
   "id": "535124da",
   "metadata": {},
   "outputs": [
    {
     "name": "stdout",
     "output_type": "stream",
     "text": [
      "== Physical Plan ==\n",
      "*(2) HashAggregate(keys=[split(pickup_datetime#18,  , -1)[0]#106], functions=[count(1)])\n",
      "+- Exchange hashpartitioning(split(pickup_datetime#18,  , -1)[0]#106, 200), ENSURE_REQUIREMENTS, [id=#100]\n",
      "   +- *(1) HashAggregate(keys=[split(pickup_datetime#18,  , -1)[0] AS split(pickup_datetime#18,  , -1)[0]#106], functions=[partial_count(1)])\n",
      "      +- FileScan csv [pickup_datetime#18] Batched: false, DataFilters: [], Format: CSV, Location: InMemoryFileIndex[file:/home/lab10/git_project/src/data/fhvhv_tripdata_2020-03.csv], PartitionFilters: [], PushedFilters: [], ReadSchema: struct<pickup_datetime:string>\n",
      "\n",
      "\n"
     ]
    }
   ],
   "source": [
    "spark.sql(query_1).explain()"
   ]
  },
  {
   "cell_type": "code",
   "execution_count": 12,
   "id": "bcaa191b",
   "metadata": {},
   "outputs": [
    {
     "name": "stdout",
     "output_type": "stream",
     "text": [
      "== Physical Plan ==\n",
      "*(2) HashAggregate(keys=[pickup_date#109], functions=[count(1)])\n",
      "+- Exchange hashpartitioning(pickup_date#109, 200), ENSURE_REQUIREMENTS, [id=#122]\n",
      "   +- *(1) HashAggregate(keys=[pickup_date#109], functions=[partial_count(1)])\n",
      "      +- *(1) Project [split(pickup_datetime#18,  , -1)[0] AS pickup_date#109]\n",
      "         +- FileScan csv [pickup_datetime#18] Batched: false, DataFilters: [], Format: CSV, Location: InMemoryFileIndex[file:/home/lab10/git_project/src/data/fhvhv_tripdata_2020-03.csv], PartitionFilters: [], PushedFilters: [], ReadSchema: struct<pickup_datetime:string>\n",
      "\n",
      "\n"
     ]
    }
   ],
   "source": [
    "spark.sql(query_2).explain()"
   ]
  },
  {
   "cell_type": "code",
   "execution_count": null,
   "id": "53f246fa",
   "metadata": {},
   "outputs": [],
   "source": [
    "#spark 안에서는 거의 차이가 없다. "
   ]
  },
  {
   "cell_type": "code",
   "execution_count": 13,
   "id": "83ea9038",
   "metadata": {},
   "outputs": [],
   "source": [
    "spark.stop()"
   ]
  },
  {
   "cell_type": "code",
   "execution_count": null,
   "id": "e4aa2fc1",
   "metadata": {},
   "outputs": [],
   "source": []
  }
 ],
 "metadata": {
  "kernelspec": {
   "display_name": "Python (spark_start)",
   "language": "python",
   "name": "spark_start"
  },
  "language_info": {
   "codemirror_mode": {
    "name": "ipython",
    "version": 3
   },
   "file_extension": ".py",
   "mimetype": "text/x-python",
   "name": "python",
   "nbconvert_exporter": "python",
   "pygments_lexer": "ipython3",
   "version": "3.8.20"
  }
 },
 "nbformat": 4,
 "nbformat_minor": 5
}
