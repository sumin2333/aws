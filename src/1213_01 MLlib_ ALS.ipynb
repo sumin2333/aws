{
 "cells": [
  {
   "cell_type": "markdown",
   "id": "eccaa95d",
   "metadata": {},
   "source": [
    "# 잠재요인기반 추천시스템 ALS 모델 만들기 "
   ]
  },
  {
   "cell_type": "code",
   "execution_count": 1,
   "id": "2e4913b4",
   "metadata": {},
   "outputs": [
    {
     "name": "stderr",
     "output_type": "stream",
     "text": [
      "24/12/16 11:46:18 WARN NativeCodeLoader: Unable to load native-hadoop library for your platform... using builtin-java classes where applicable\n",
      "Using Spark's default log4j profile: org/apache/spark/log4j-defaults.properties\n",
      "Setting default log level to \"WARN\".\n",
      "To adjust logging level use sc.setLogLevel(newLevel). For SparkR, use setLogLevel(newLevel).\n"
     ]
    }
   ],
   "source": [
    "from pyspark.sql import SparkSession\n",
    "\n",
    "#  Spark 세션 생성\n",
    "MAX_MEMORY='5g'\n",
    "spark = SparkSession.builder.appName(\"241212_01_MLlib_als\")\\\n",
    "            .config(\"spark.executor.memory\", MAX_MEMORY) \\\n",
    "            .config(\"spark.driver.memory\", MAX_MEMORY) \\\n",
    "            .getOrCreate()"
   ]
  },
  {
   "cell_type": "markdown",
   "id": "45c7be07",
   "metadata": {},
   "source": [
    "# data 적재 "
   ]
  },
  {
   "cell_type": "code",
   "execution_count": 2,
   "id": "a57460ae",
   "metadata": {},
   "outputs": [
    {
     "name": "stderr",
     "output_type": "stream",
     "text": [
      "                                                                                \r"
     ]
    }
   ],
   "source": [
    "rating_df = spark.read.format(\"csv\")\\\n",
    "    .option(\"header\", 'true')\\\n",
    "    .option('inferSchema', 'true')\\\n",
    "    .load('data/ratings.csv')"
   ]
  },
  {
   "cell_type": "code",
   "execution_count": 11,
   "id": "86fa7293",
   "metadata": {
    "scrolled": true
   },
   "outputs": [
    {
     "name": "stdout",
     "output_type": "stream",
     "text": [
      "root\n",
      " |-- userId: integer (nullable = true)\n",
      " |-- movieId: integer (nullable = true)\n",
      " |-- rating: double (nullable = true)\n",
      " |-- timestamp: integer (nullable = true)\n",
      "\n"
     ]
    }
   ],
   "source": [
    "rating_df.printSchema()"
   ]
  },
  {
   "cell_type": "code",
   "execution_count": 12,
   "id": "3927b22a",
   "metadata": {},
   "outputs": [
    {
     "name": "stdout",
     "output_type": "stream",
     "text": [
      "+------+-------+------+----------+\n",
      "|userId|movieId|rating| timestamp|\n",
      "+------+-------+------+----------+\n",
      "|     1|    296|   5.0|1147880044|\n",
      "|     1|    306|   3.5|1147868817|\n",
      "|     1|    307|   5.0|1147868828|\n",
      "|     1|    665|   5.0|1147878820|\n",
      "|     1|    899|   3.5|1147868510|\n",
      "|     1|   1088|   4.0|1147868495|\n",
      "|     1|   1175|   3.5|1147868826|\n",
      "|     1|   1217|   3.5|1147878326|\n",
      "|     1|   1237|   5.0|1147868839|\n",
      "|     1|   1250|   4.0|1147868414|\n",
      "|     1|   1260|   3.5|1147877857|\n",
      "|     1|   1653|   4.0|1147868097|\n",
      "|     1|   2011|   2.5|1147868079|\n",
      "|     1|   2012|   2.5|1147868068|\n",
      "|     1|   2068|   2.5|1147869044|\n",
      "|     1|   2161|   3.5|1147868609|\n",
      "|     1|   2351|   4.5|1147877957|\n",
      "|     1|   2573|   4.0|1147878923|\n",
      "|     1|   2632|   5.0|1147878248|\n",
      "|     1|   2692|   5.0|1147869100|\n",
      "+------+-------+------+----------+\n",
      "only showing top 20 rows\n",
      "\n"
     ]
    }
   ],
   "source": [
    "rating_df.show()"
   ]
  },
  {
   "cell_type": "markdown",
   "id": "edd30aca",
   "metadata": {},
   "source": [
    "# 전처리 \n",
    "- timestamp 제거 "
   ]
  },
  {
   "cell_type": "code",
   "execution_count": 3,
   "id": "cec4bc2a",
   "metadata": {},
   "outputs": [],
   "source": [
    "rating_df= rating_df.select([\"userId\", \"movieId\", \"rating\"])"
   ]
  },
  {
   "cell_type": "markdown",
   "id": "11a050ec",
   "metadata": {},
   "source": [
    "# 데이터 세트 분할"
   ]
  },
  {
   "cell_type": "code",
   "execution_count": null,
   "id": "ce83de4a",
   "metadata": {},
   "outputs": [],
   "source": []
  },
  {
   "cell_type": "code",
   "execution_count": 4,
   "id": "10a65e37",
   "metadata": {},
   "outputs": [],
   "source": [
    "train_ratio = 0.8\n",
    "test_ratio=0.2\n",
    "\n",
    "train_df, test_df= rating_df.randomSplit([train_ratio,test_ratio], seed=42 )"
   ]
  },
  {
   "cell_type": "code",
   "execution_count": null,
   "id": "ee46a42f",
   "metadata": {},
   "outputs": [],
   "source": []
  },
  {
   "cell_type": "markdown",
   "id": "76fbba8f",
   "metadata": {},
   "source": [
    "# ALS 모델 객체 생성 "
   ]
  },
  {
   "cell_type": "code",
   "execution_count": 5,
   "id": "1999819d",
   "metadata": {},
   "outputs": [],
   "source": [
    "from pyspark.ml.recommendation import ALS\n",
    "\n",
    "als = ALS(\n",
    "    maxIter=5,\n",
    "    regParam=0.1,\n",
    "    userCol=\"userId\",\n",
    "    itemCol=\"movieId\",\n",
    "    ratingCol=\"rating\",\n",
    "    coldStartStrategy=\"drop\"\n",
    ")"
   ]
  },
  {
   "cell_type": "markdown",
   "id": "9fe8f528",
   "metadata": {},
   "source": [
    "# 모델의 학습 "
   ]
  },
  {
   "cell_type": "code",
   "execution_count": 6,
   "id": "ccc380e7",
   "metadata": {},
   "outputs": [
    {
     "name": "stderr",
     "output_type": "stream",
     "text": [
      "24/12/16 11:48:02 WARN BLAS: Failed to load implementation from: com.github.fommil.netlib.NativeSystemBLAS\n",
      "24/12/16 11:48:02 WARN BLAS: Failed to load implementation from: com.github.fommil.netlib.NativeRefBLAS\n",
      "24/12/16 11:48:03 WARN LAPACK: Failed to load implementation from: com.github.fommil.netlib.NativeSystemLAPACK\n",
      "24/12/16 11:48:03 WARN LAPACK: Failed to load implementation from: com.github.fommil.netlib.NativeRefLAPACK\n",
      "                                                                                \r"
     ]
    }
   ],
   "source": [
    "als_model= als.fit(train_df)"
   ]
  },
  {
   "cell_type": "code",
   "execution_count": null,
   "id": "0f3da6b3",
   "metadata": {},
   "outputs": [],
   "source": [
    "#  예측 확인 "
   ]
  },
  {
   "cell_type": "code",
   "execution_count": 7,
   "id": "ec9f0ea3",
   "metadata": {
    "scrolled": true
   },
   "outputs": [
    {
     "name": "stderr",
     "output_type": "stream",
     "text": [
      "                                                                                \r"
     ]
    },
    {
     "name": "stdout",
     "output_type": "stream",
     "text": [
      "+------+-------+------+----------+\n",
      "|userId|movieId|rating|prediction|\n",
      "+------+-------+------+----------+\n",
      "| 26480|    148|   2.0| 1.9323642|\n",
      "|151614|    148|   1.0| 2.7285917|\n",
      "| 28229|    148|   1.0| 2.4264994|\n",
      "|  6491|    148|   4.0|  2.457274|\n",
      "| 14831|    148|   3.0| 2.6998045|\n",
      "|145182|    148|   3.0| 2.5584338|\n",
      "| 69123|    148|   4.5|  2.265552|\n",
      "|104825|    148|   4.0| 3.0939217|\n",
      "| 41703|    148|   2.0| 2.8506374|\n",
      "| 29213|    148|   5.0|  2.224452|\n",
      "| 75209|    148|   2.0| 2.5537493|\n",
      "|115912|    148|   3.0| 2.4819057|\n",
      "|118261|    148|   3.0| 3.0280035|\n",
      "|138552|    148|   4.0|   3.39528|\n",
      "| 70733|    148|   1.0|  2.884383|\n",
      "|115095|    148|   4.0| 3.3555832|\n",
      "|  7223|    148|   3.0| 2.5141237|\n",
      "| 65981|    148|   3.5|  2.942538|\n",
      "| 74794|    148|   3.0| 2.3509142|\n",
      "| 33145|    148|   5.0| 2.9147615|\n",
      "+------+-------+------+----------+\n",
      "only showing top 20 rows\n",
      "\n"
     ]
    }
   ],
   "source": [
    "\n",
    "#userid, movieid >rating\n",
    "predictions= als_model.transform(test_df)\n",
    "predictions.show()"
   ]
  },
  {
   "cell_type": "code",
   "execution_count": 8,
   "id": "efe36662",
   "metadata": {
    "scrolled": true
   },
   "outputs": [
    {
     "name": "stderr",
     "output_type": "stream",
     "text": [
      "[Stage 71:====================================================> (196 + 2) / 200]\r"
     ]
    },
    {
     "name": "stdout",
     "output_type": "stream",
     "text": [
      "+-------+------------------+------------------+\n",
      "|summary|            rating|        prediction|\n",
      "+-------+------------------+------------------+\n",
      "|  count|           4998109|           4998109|\n",
      "|   mean|3.5341648211353536|3.3989586474738536|\n",
      "| stddev|1.0609230261741123|0.6359828621868081|\n",
      "|    min|               0.5|        -2.1170578|\n",
      "|    max|               5.0|         6.4117255|\n",
      "+-------+------------------+------------------+\n",
      "\n"
     ]
    },
    {
     "name": "stderr",
     "output_type": "stream",
     "text": [
      "\r",
      "                                                                                \r"
     ]
    }
   ],
   "source": [
    "predictions.select(\"rating\", \"prediction\").describe().show()"
   ]
  },
  {
   "cell_type": "markdown",
   "id": "ae52f481",
   "metadata": {},
   "source": [
    "# ALS 모델의 하이퍼파라미터 조정¶\n",
    "- coldStartStrategy = 'drop' > 예측에 충분한지 않은 컬럼의 데이터의 경우 'drop'\n",
    "\n",
    "- 학습한 모델의 속성을 변경 > 다시 예측을 한 경우에도 조정이 안됨 > 학습부터 다시 실행"
   ]
  },
  {
   "cell_type": "code",
   "execution_count": 9,
   "id": "24918fde",
   "metadata": {},
   "outputs": [
    {
     "data": {
      "text/plain": [
       "ALS_3bf19907491e"
      ]
     },
     "execution_count": 9,
     "metadata": {},
     "output_type": "execute_result"
    }
   ],
   "source": [
    "als.setColdStartStrategy('drop') #데이터가 많지 않을 때 사용하는 전략 "
   ]
  },
  {
   "cell_type": "code",
   "execution_count": 10,
   "id": "08420cd0",
   "metadata": {},
   "outputs": [
    {
     "name": "stderr",
     "output_type": "stream",
     "text": [
      "[Stage 89:====================================================> (195 + 2) / 200]\r"
     ]
    },
    {
     "name": "stdout",
     "output_type": "stream",
     "text": [
      "+------+-------+------+----------+\n",
      "|userId|movieId|rating|prediction|\n",
      "+------+-------+------+----------+\n",
      "| 26480|    148|   2.0| 1.9323642|\n",
      "|151614|    148|   1.0| 2.7285917|\n",
      "| 28229|    148|   1.0| 2.4264994|\n",
      "|  6491|    148|   4.0|  2.457274|\n",
      "| 14831|    148|   3.0| 2.6998045|\n",
      "+------+-------+------+----------+\n",
      "only showing top 5 rows\n",
      "\n"
     ]
    },
    {
     "name": "stderr",
     "output_type": "stream",
     "text": [
      "\r",
      "                                                                                \r"
     ]
    }
   ],
   "source": [
    "#userid, movieid > rating \n",
    "predictions = als_model.transform(test_df)\n",
    "predictions.show(5)"
   ]
  },
  {
   "cell_type": "code",
   "execution_count": 11,
   "id": "6efdb926",
   "metadata": {},
   "outputs": [
    {
     "name": "stderr",
     "output_type": "stream",
     "text": [
      "[Stage 108:===================================================> (194 + 2) / 200]\r"
     ]
    },
    {
     "name": "stdout",
     "output_type": "stream",
     "text": [
      "+-------+------------------+------------------+\n",
      "|summary|            rating|        prediction|\n",
      "+-------+------------------+------------------+\n",
      "|  count|           4998109|           4998109|\n",
      "|   mean|3.5341648211353536|3.3989586474738536|\n",
      "| stddev|1.0609230261741123|0.6359828621868081|\n",
      "|    min|               0.5|        -2.1170578|\n",
      "|    max|               5.0|         6.4117255|\n",
      "+-------+------------------+------------------+\n",
      "\n"
     ]
    },
    {
     "name": "stderr",
     "output_type": "stream",
     "text": [
      "\r",
      "                                                                                \r"
     ]
    }
   ],
   "source": [
    "predictions.select(\"rating\", \"prediction\").describe().show()"
   ]
  },
  {
   "cell_type": "markdown",
   "id": "f1e810c3",
   "metadata": {},
   "source": [
    "# 평가 "
   ]
  },
  {
   "cell_type": "markdown",
   "id": "302404c4",
   "metadata": {},
   "source": [
    "RMSE 측정 "
   ]
  },
  {
   "cell_type": "code",
   "execution_count": 12,
   "id": "2c5c963b",
   "metadata": {},
   "outputs": [],
   "source": [
    "from pyspark.ml.evaluation import RegressionEvaluator\n",
    "\n",
    "evaluator = RegressionEvaluator(metricName='rmse', labelCol='rating', predictionCol='prediction')"
   ]
  },
  {
   "cell_type": "code",
   "execution_count": 13,
   "id": "3e014159",
   "metadata": {},
   "outputs": [
    {
     "name": "stderr",
     "output_type": "stream",
     "text": [
      "                                                                                \r"
     ]
    },
    {
     "data": {
      "text/plain": [
       "0.8132955975149425"
      ]
     },
     "execution_count": 13,
     "metadata": {},
     "output_type": "execute_result"
    }
   ],
   "source": [
    "rmse = evaluator.evaluate(predictions)\n",
    "rmse"
   ]
  },
  {
   "cell_type": "code",
   "execution_count": null,
   "id": "c6dca11d",
   "metadata": {},
   "outputs": [],
   "source": []
  },
  {
   "cell_type": "markdown",
   "id": "bdecb55f",
   "metadata": {},
   "source": [
    "#  활용\n",
    "\n",
    "- 1.사용자 id > 추천목록\n",
    "- 2. 영화 id> 사용자 목록 "
   ]
  },
  {
   "cell_type": "code",
   "execution_count": 59,
   "id": "190d1c37",
   "metadata": {},
   "outputs": [
    {
     "ename": "AttributeError",
     "evalue": "'ALSModel' object has no attribute 'getRecommentForAllUsers'",
     "output_type": "error",
     "traceback": [
      "\u001b[0;31m---------------------------------------------------------------------------\u001b[0m",
      "\u001b[0;31mAttributeError\u001b[0m                            Traceback (most recent call last)",
      "Cell \u001b[0;32mIn[59], line 1\u001b[0m\n\u001b[0;32m----> 1\u001b[0m \u001b[43mals_model\u001b[49m\u001b[38;5;241;43m.\u001b[39;49m\u001b[43mgetRecommentForAllUsers\u001b[49m(\u001b[38;5;241m3\u001b[39m) \u001b[38;5;66;03m# 사용자를 위한 추천을 만들어줌. \u001b[39;00m\n",
      "\u001b[0;31mAttributeError\u001b[0m: 'ALSModel' object has no attribute 'getRecommentForAllUsers'"
     ]
    }
   ],
   "source": [
    "als_model.getRecommentForAllUsers(3) # 사용자를 위한 추천을 만들어줌#실행x"
   ]
  },
  {
   "cell_type": "code",
   "execution_count": null,
   "id": "13fb101b",
   "metadata": {},
   "outputs": [],
   "source": [
    "als_model.recommandForAllItems(3) # item별로 추천할 유저 3명을 골라준다"
   ]
  },
  {
   "cell_type": "code",
   "execution_count": 47,
   "id": "59ec59f7",
   "metadata": {},
   "outputs": [],
   "source": [
    "from pyspark.sql.types import IntegerType"
   ]
  },
  {
   "cell_type": "code",
   "execution_count": 60,
   "id": "6fb6d627",
   "metadata": {},
   "outputs": [
    {
     "name": "stdout",
     "output_type": "stream",
     "text": [
      "+------+\n",
      "|userId|\n",
      "+------+\n",
      "|    65|\n",
      "|    78|\n",
      "|    81|\n",
      "+------+\n",
      "\n"
     ]
    }
   ],
   "source": [
    "user_list = [65, 78, 81]\n",
    "user_df = spark.createDataFrame(user_list, IntegerType()).toDF(\"userId\")\n",
    "user_df.show()"
   ]
  },
  {
   "cell_type": "code",
   "execution_count": 49,
   "id": "cd828a07",
   "metadata": {},
   "outputs": [
    {
     "name": "stderr",
     "output_type": "stream",
     "text": [
      "                                                                                \r"
     ]
    },
    {
     "name": "stdout",
     "output_type": "stream",
     "text": [
      "+------+--------------------+\n",
      "|userId|     recommendations|\n",
      "+------+--------------------+\n",
      "|    65|[{194434, 7.21672...|\n",
      "|    78|[{203086, 7.02569...|\n",
      "|    81|[{197433, 4.82499...|\n",
      "+------+--------------------+\n",
      "\n"
     ]
    }
   ],
   "source": [
    "user_recommend_movies= als_model.recommendForUserSubset(user_df,3 )\n",
    "user_recommend_movies.show()"
   ]
  },
  {
   "cell_type": "code",
   "execution_count": null,
   "id": "3174ae47",
   "metadata": {},
   "outputs": [],
   "source": [
    "# movie-list load"
   ]
  },
  {
   "cell_type": "code",
   "execution_count": 61,
   "id": "3c4df5c5",
   "metadata": {},
   "outputs": [],
   "source": [
    "movie_file = 'data/movies.csv'\n",
    "movies_df = spark.read.csv(movie_file, inferSchema=True, header=True)"
   ]
  },
  {
   "cell_type": "code",
   "execution_count": 62,
   "id": "e9661288",
   "metadata": {},
   "outputs": [
    {
     "name": "stdout",
     "output_type": "stream",
     "text": [
      "+-------+--------------------+--------------------+\n",
      "|movieId|               title|              genres|\n",
      "+-------+--------------------+--------------------+\n",
      "|      1|    Toy Story (1995)|Adventure|Animati...|\n",
      "|      2|      Jumanji (1995)|Adventure|Childre...|\n",
      "|      3|Grumpier Old Men ...|      Comedy|Romance|\n",
      "+-------+--------------------+--------------------+\n",
      "only showing top 3 rows\n",
      "\n"
     ]
    }
   ],
   "source": [
    "movies_df.show(3)"
   ]
  },
  {
   "cell_type": "code",
   "execution_count": null,
   "id": "3f7e3938",
   "metadata": {},
   "outputs": [],
   "source": []
  },
  {
   "cell_type": "code",
   "execution_count": null,
   "id": "1c66399f",
   "metadata": {},
   "outputs": [],
   "source": [
    "#65번 사용자의 추천영화목록 "
   ]
  },
  {
   "cell_type": "code",
   "execution_count": 71,
   "id": "462f47da",
   "metadata": {},
   "outputs": [
    {
     "name": "stderr",
     "output_type": "stream",
     "text": [
      "\r",
      "[Stage 274:===========================================>         (166 + 2) / 200]\r",
      "\r",
      "                                                                                \r"
     ]
    },
    {
     "data": {
      "text/plain": [
       "[Row(movieId=194434, rating=7.216722011566162),\n",
       " Row(movieId=205277, rating=6.863764762878418),\n",
       " Row(movieId=177209, rating=6.7588629722595215)]"
      ]
     },
     "execution_count": 71,
     "metadata": {},
     "output_type": "execute_result"
    }
   ],
   "source": [
    "movies_list = user_recommend_movies.collect()[0].recommendations\n",
    "movies_list"
   ]
  },
  {
   "cell_type": "code",
   "execution_count": 72,
   "id": "95a63653",
   "metadata": {},
   "outputs": [
    {
     "name": "stdout",
     "output_type": "stream",
     "text": [
      "+-------+------------------+\n",
      "|movieId|            rating|\n",
      "+-------+------------------+\n",
      "| 194434| 7.216722011566162|\n",
      "| 205277| 6.863764762878418|\n",
      "| 177209|6.7588629722595215|\n",
      "+-------+------------------+\n",
      "\n"
     ]
    }
   ],
   "source": [
    "rec_df= spark.createDataFrame(movies_list)\n",
    "rec_df.show()"
   ]
  },
  {
   "cell_type": "code",
   "execution_count": 73,
   "id": "0b9fb445",
   "metadata": {},
   "outputs": [],
   "source": [
    "# 영화정보와 추천영화 목록을 조인 "
   ]
  },
  {
   "cell_type": "code",
   "execution_count": 74,
   "id": "cae6f35e",
   "metadata": {},
   "outputs": [],
   "source": [
    "rec_df.createOrReplaceTempView('recommend')\n",
    "movies_df.createOrReplaceTempView('movies')"
   ]
  },
  {
   "cell_type": "code",
   "execution_count": 78,
   "id": "23699264",
   "metadata": {},
   "outputs": [],
   "source": [
    "query= '''\n",
    "select *\n",
    "from movies\n",
    "join recommend on movies.movieId = recommend.movieId\n",
    "ORDER by rating desc\n",
    "'''"
   ]
  },
  {
   "cell_type": "code",
   "execution_count": 79,
   "id": "ba922261",
   "metadata": {},
   "outputs": [],
   "source": [
    "recommend_movies = spark.sql(query)"
   ]
  },
  {
   "cell_type": "code",
   "execution_count": 80,
   "id": "095d6f08",
   "metadata": {},
   "outputs": [
    {
     "name": "stdout",
     "output_type": "stream",
     "text": [
      "+-------+-----------------+--------------------+-------+------------------+\n",
      "|movieId|            title|              genres|movieId|            rating|\n",
      "+-------+-----------------+--------------------+-------+------------------+\n",
      "| 194434|Adrenaline (1990)|  (no genres listed)| 194434| 7.216722011566162|\n",
      "| 205277|Inside Out (1991)|Comedy|Drama|Romance| 205277| 6.863764762878418|\n",
      "| 177209|   Acı Aşk (2009)|               Drama| 177209|6.7588629722595215|\n",
      "+-------+-----------------+--------------------+-------+------------------+\n",
      "\n"
     ]
    }
   ],
   "source": [
    "recommend_movies.show()"
   ]
  },
  {
   "cell_type": "code",
   "execution_count": null,
   "id": "21b9c15a",
   "metadata": {},
   "outputs": [],
   "source": [
    "# 택시비 예측 모델 만들기 "
   ]
  },
  {
   "cell_type": "code",
   "execution_count": 81,
   "id": "39d9f084",
   "metadata": {},
   "outputs": [],
   "source": [
    "spark.stop()"
   ]
  },
  {
   "cell_type": "code",
   "execution_count": null,
   "id": "e633d4be",
   "metadata": {},
   "outputs": [],
   "source": []
  }
 ],
 "metadata": {
  "kernelspec": {
   "display_name": "Python (spark_start)",
   "language": "python",
   "name": "spark_start"
  },
  "language_info": {
   "codemirror_mode": {
    "name": "ipython",
    "version": 3
   },
   "file_extension": ".py",
   "mimetype": "text/x-python",
   "name": "python",
   "nbconvert_exporter": "python",
   "pygments_lexer": "ipython3",
   "version": "3.8.20"
  }
 },
 "nbformat": 4,
 "nbformat_minor": 5
}
