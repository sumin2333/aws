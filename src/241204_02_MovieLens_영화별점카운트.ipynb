{
 "cells": [
  {
   "cell_type": "code",
   "execution_count": 1,
   "id": "5fbe3f27",
   "metadata": {},
   "outputs": [
    {
     "name": "stderr",
     "output_type": "stream",
     "text": [
      "24/12/04 14:42:25 WARN NativeCodeLoader: Unable to load native-hadoop library for your platform... using builtin-java classes where applicable\n",
      "Using Spark's default log4j profile: org/apache/spark/log4j-defaults.properties\n",
      "Setting default log level to \"WARN\".\n",
      "To adjust logging level use sc.setLogLevel(newLevel). For SparkR, use setLogLevel(newLevel).\n"
     ]
    }
   ],
   "source": [
    "from pyspark import SparkConf, SparkContext\n",
    "# 스파크 환경 설정 객체 생성\n",
    "conf = SparkConf().setMaster(\"local\").setAppName(\"241204_02_MovieLens\")\n",
    "spark =SparkContext(conf=conf).getOrCreate()"
   ]
  },
  {
   "cell_type": "code",
   "execution_count": null,
   "id": "d4731d43",
   "metadata": {},
   "outputs": [],
   "source": [
    "user_id : 사용자의 고유 ID\n",
    "movie_id 영화으의 고유 ID\n",
    "rating 사용자가 영화에 준 평점\n",
    "timestamp 평점이 기록된 시간. "
   ]
  },
  {
   "cell_type": "code",
   "execution_count": null,
   "id": "9cd8f725",
   "metadata": {},
   "outputs": [],
   "source": [
    "#별점 1,2,3 별로 카운트 "
   ]
  },
  {
   "cell_type": "code",
   "execution_count": 10,
   "id": "adc749e9",
   "metadata": {},
   "outputs": [],
   "source": [
    "#데이터 저장소 불러오기 \n",
    "import os\n",
    "directory= os.path.join(os.getcwd(), \"data\")\n",
    "filename= \"u.data\"\n",
    "filepath= os.path.join(directory, filename)"
   ]
  },
  {
   "cell_type": "code",
   "execution_count": 22,
   "id": "0a7c062b",
   "metadata": {},
   "outputs": [
    {
     "data": {
      "text/plain": [
       "file:///home/lab10/src/data/u.data MapPartitionsRDD[24] at textFile at NativeMethodAccessorImpl.java:0"
      ]
     },
     "execution_count": 22,
     "metadata": {},
     "output_type": "execute_result"
    }
   ],
   "source": [
    "#rdd 생성 \n",
    "rdd= spark.textFile(\"file://\"+filepath.replace(\"\\\\\",\"/\"))\n",
    "rdd"
   ]
  },
  {
   "cell_type": "code",
   "execution_count": 13,
   "id": "023cd450",
   "metadata": {},
   "outputs": [
    {
     "name": "stderr",
     "output_type": "stream",
     "text": [
      "                                                                                \r"
     ]
    },
    {
     "data": {
      "text/plain": [
       "['196\\t242\\t3\\t881250949',\n",
       " '186\\t302\\t3\\t891717742',\n",
       " '22\\t377\\t1\\t878887116',\n",
       " '244\\t51\\t2\\t880606923',\n",
       " '166\\t346\\t1\\t886397596']"
      ]
     },
     "execution_count": 13,
     "metadata": {},
     "output_type": "execute_result"
    }
   ],
   "source": [
    "rdd.take(5)"
   ]
  },
  {
   "cell_type": "code",
   "execution_count": 36,
   "id": "8ac29cb2",
   "metadata": {},
   "outputs": [],
   "source": [
    "def parse(row):\n",
    "    fields= row.split(\"\\t\")\n",
    "    user_id=fields[0] \n",
    "    movie_id=fields[1]\n",
    "    rating =int(fields[2])\n",
    "    timestamp=fields[3]\n",
    "    return user_id, movie_id, rating, timestamp"
   ]
  },
  {
   "cell_type": "code",
   "execution_count": 38,
   "id": "a4269d24",
   "metadata": {},
   "outputs": [
    {
     "data": {
      "text/plain": [
       "('196', '242', 3, '881250949')"
      ]
     },
     "execution_count": 38,
     "metadata": {},
     "output_type": "execute_result"
    }
   ],
   "source": [
    "parse('196\\t242\\t3\\t881250949')"
   ]
  },
  {
   "cell_type": "code",
   "execution_count": 47,
   "id": "cee9e18c",
   "metadata": {},
   "outputs": [],
   "source": [
    "# 데이터를 파싱하여 RDD로 변환  \n",
    "parsed_rdd=rdd.map(parse)"
   ]
  },
  {
   "cell_type": "code",
   "execution_count": 48,
   "id": "67b02491",
   "metadata": {},
   "outputs": [
    {
     "data": {
      "text/plain": [
       "[('196', '242', 3, '881250949'),\n",
       " ('186', '302', 3, '891717742'),\n",
       " ('22', '377', 1, '878887116'),\n",
       " ('244', '51', 2, '880606923'),\n",
       " ('166', '346', 1, '886397596')]"
      ]
     },
     "execution_count": 48,
     "metadata": {},
     "output_type": "execute_result"
    }
   ],
   "source": [
    "parsed_rdd.take(5)"
   ]
  },
  {
   "cell_type": "code",
   "execution_count": 68,
   "id": "186f3067",
   "metadata": {},
   "outputs": [],
   "source": [
    "rating_counts = parsed_rdd.map(lambda x: x[2]) \n",
    "rating_counts = rating_counts.countByValue() "
   ]
  },
  {
   "cell_type": "code",
   "execution_count": 70,
   "id": "967d14cd",
   "metadata": {},
   "outputs": [
    {
     "data": {
      "text/plain": [
       "defaultdict(int, {3: 27145, 1: 6110, 2: 11370, 4: 34174, 5: 21201})"
      ]
     },
     "execution_count": 70,
     "metadata": {},
     "output_type": "execute_result"
    }
   ],
   "source": [
    "rating_counts"
   ]
  },
  {
   "cell_type": "code",
   "execution_count": null,
   "id": "bd429d0b",
   "metadata": {},
   "outputs": [],
   "source": [
    "#3점 이상 별점 평균 "
   ]
  },
  {
   "cell_type": "code",
   "execution_count": 71,
   "id": "714a74df",
   "metadata": {},
   "outputs": [],
   "source": [
    "filtered_rdd=parsed_rdd.filter(lambda x: x[2] >=3)"
   ]
  },
  {
   "cell_type": "code",
   "execution_count": 72,
   "id": "77883712",
   "metadata": {},
   "outputs": [],
   "source": [
    "#영화 별점 총합과 영화 개수 \n",
    "sum_count= filtered_rdd.map(lambda x: (x[2],1))\n",
    "sum_count=sum_count.reduceByKey(lambda a,b:a+b)"
   ]
  },
  {
   "cell_type": "code",
   "execution_count": 73,
   "id": "7a04ad6f",
   "metadata": {},
   "outputs": [],
   "source": [
    "#평균 계산 \n",
    "total_sum = sum_count.map(lambda x:x[0]*x[1]).sum()\n",
    "total_count=sum_count.map(lambda x:x[1]).sum()"
   ]
  },
  {
   "cell_type": "code",
   "execution_count": 76,
   "id": "cae34255",
   "metadata": {},
   "outputs": [],
   "source": [
    "average_rating= total_sum/total_count if total_count >0 else 0"
   ]
  },
  {
   "cell_type": "raw",
   "id": "10bcb59c",
   "metadata": {},
   "source": [
    "average_rating"
   ]
  },
  {
   "cell_type": "code",
   "execution_count": 77,
   "id": "d310a93c",
   "metadata": {},
   "outputs": [
    {
     "name": "stdout",
     "output_type": "stream",
     "text": [
      "3점 이상의 평균 평점: 3.927968977217644\n"
     ]
    }
   ],
   "source": [
    "print(f\"3점 이상의 평균 평점: {average_rating}\")"
   ]
  },
  {
   "cell_type": "code",
   "execution_count": 78,
   "id": "44507e73",
   "metadata": {},
   "outputs": [],
   "source": [
    "spark.stop()\n"
   ]
  },
  {
   "cell_type": "code",
   "execution_count": null,
   "id": "894d1ce8",
   "metadata": {},
   "outputs": [],
   "source": []
  }
 ],
 "metadata": {
  "kernelspec": {
   "display_name": "Python (spark_start)",
   "language": "python",
   "name": "spark_start"
  },
  "language_info": {
   "codemirror_mode": {
    "name": "ipython",
    "version": 3
   },
   "file_extension": ".py",
   "mimetype": "text/x-python",
   "name": "python",
   "nbconvert_exporter": "python",
   "pygments_lexer": "ipython3",
   "version": "3.8.20"
  }
 },
 "nbformat": 4,
 "nbformat_minor": 5
}
