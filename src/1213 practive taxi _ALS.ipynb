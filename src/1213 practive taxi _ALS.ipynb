{
 "cells": [
  {
   "cell_type": "code",
   "execution_count": 2,
   "id": "a7733182",
   "metadata": {},
   "outputs": [],
   "source": [
    "from pyspark.sql import SparkSession \n",
    "spark= SparkSession.builder.appName(\"taxi_price\").getOrCreate()"
   ]
  },
  {
   "cell_type": "markdown",
   "id": "b64683fb",
   "metadata": {},
   "source": [
    "# 1. 데이터 준비 "
   ]
  },
  {
   "cell_type": "code",
   "execution_count": 3,
   "id": "d81e89cd",
   "metadata": {},
   "outputs": [],
   "source": [
    "# 파일경로 설정 \n",
    "import os\n",
    "trip_files= '/trip/*'\n",
    "zone_file= 'taxi+_zone_lookup.csv'\n",
    "directory = os.path.join(os.getcwd(), 'data')"
   ]
  },
  {
   "cell_type": "code",
   "execution_count": 4,
   "id": "2e6d5e03",
   "metadata": {},
   "outputs": [
    {
     "name": "stderr",
     "output_type": "stream",
     "text": [
      "                                                                                \r"
     ]
    }
   ],
   "source": [
    "# 데이터 로드 \n",
    "trips_df = spark.read.csv(f'file:///{directory}/{trip_files}', inferSchema=True, header=True)\n",
    "zone_df= spark.read.csv(f'file:///{directory}/{zone_file}', inferSchema=True, header=True)"
   ]
  },
  {
   "cell_type": "code",
   "execution_count": 5,
   "id": "0dd33503",
   "metadata": {},
   "outputs": [
    {
     "name": "stdout",
     "output_type": "stream",
     "text": [
      "root\n",
      " |-- VendorID: integer (nullable = true)\n",
      " |-- tpep_pickup_datetime: string (nullable = true)\n",
      " |-- tpep_dropoff_datetime: string (nullable = true)\n",
      " |-- passenger_count: integer (nullable = true)\n",
      " |-- trip_distance: double (nullable = true)\n",
      " |-- RatecodeID: integer (nullable = true)\n",
      " |-- store_and_fwd_flag: string (nullable = true)\n",
      " |-- PULocationID: integer (nullable = true)\n",
      " |-- DOLocationID: integer (nullable = true)\n",
      " |-- payment_type: integer (nullable = true)\n",
      " |-- fare_amount: double (nullable = true)\n",
      " |-- extra: double (nullable = true)\n",
      " |-- mta_tax: double (nullable = true)\n",
      " |-- tip_amount: double (nullable = true)\n",
      " |-- tolls_amount: double (nullable = true)\n",
      " |-- improvement_surcharge: double (nullable = true)\n",
      " |-- total_amount: double (nullable = true)\n",
      " |-- congestion_surcharge: double (nullable = true)\n",
      "\n"
     ]
    }
   ],
   "source": [
    "trips_df.printSchema()"
   ]
  },
  {
   "cell_type": "code",
   "execution_count": 6,
   "id": "cad03364",
   "metadata": {},
   "outputs": [
    {
     "name": "stdout",
     "output_type": "stream",
     "text": [
      "+--------+--------------------+---------------------+---------------+-------------+----------+------------------+------------+------------+------------+-----------+-----+-------+----------+------------+---------------------+------------+--------------------+\n",
      "|VendorID|tpep_pickup_datetime|tpep_dropoff_datetime|passenger_count|trip_distance|RatecodeID|store_and_fwd_flag|PULocationID|DOLocationID|payment_type|fare_amount|extra|mta_tax|tip_amount|tolls_amount|improvement_surcharge|total_amount|congestion_surcharge|\n",
      "+--------+--------------------+---------------------+---------------+-------------+----------+------------------+------------+------------+------------+-----------+-----+-------+----------+------------+---------------------+------------+--------------------+\n",
      "|       2| 2021-03-01 00:22:02|  2021-03-01 00:23:22|              1|          0.0|         1|                 N|         264|         264|           2|        3.0|  0.5|    0.5|       0.0|         0.0|                  0.3|         4.3|                 0.0|\n",
      "|       2| 2021-03-01 00:24:48|  2021-03-01 00:24:56|              1|          0.0|         1|                 N|         152|         152|           2|        2.5|  0.5|    0.5|       0.0|         0.0|                  0.3|         3.8|                 0.0|\n",
      "|       2| 2021-03-01 00:25:17|  2021-03-01 00:31:01|              1|          0.0|         1|                 N|         152|         152|           2|        3.5|  0.5|    0.5|       0.0|         0.0|                  0.3|         4.8|                 0.0|\n",
      "|       1| 2021-03-01 00:07:40|  2021-03-01 00:31:23|              0|         16.5|         4|                 N|         138|         265|           1|       51.0|  0.5|    0.5|     11.65|        6.12|                  0.3|       70.07|                 0.0|\n",
      "|       2| 2021-03-01 00:02:13|  2021-03-01 00:06:01|              1|         1.13|         1|                 N|          68|         264|           1|        5.5|  0.5|    0.5|      1.86|         0.0|                  0.3|       11.16|                 2.5|\n",
      "+--------+--------------------+---------------------+---------------+-------------+----------+------------------+------------+------------+------------+-----------+-----+-------+----------+------------+---------------------+------------+--------------------+\n",
      "only showing top 5 rows\n",
      "\n"
     ]
    }
   ],
   "source": [
    "trips_df.show(5)"
   ]
  },
  {
   "cell_type": "markdown",
   "id": "3c18c86a",
   "metadata": {},
   "source": [
    "# 2. 데이터 전처리 "
   ]
  },
  {
   "cell_type": "code",
   "execution_count": 7,
   "id": "5cecd213",
   "metadata": {},
   "outputs": [],
   "source": [
    "# 컬럼 선택\n",
    "selected_columns = [\"passenger_count\", \"trip_distance\", \"RatecodeID\", \"PULocationID\", \n",
    "    \"DOLocationID\", \"fare_amount\", \"extra\", \"mta_tax\", \"tip_amount\", \n",
    "    \"tolls_amount\", \"improvement_surcharge\", \"congestion_surcharge\", \"total_amount\"\n",
    "]\n",
    "trips_df= trips_df.select(selected_columns)"
   ]
  },
  {
   "cell_type": "code",
   "execution_count": 8,
   "id": "f542070b",
   "metadata": {},
   "outputs": [],
   "source": [
    "trips_df= trips_df.select(selected_columns)"
   ]
  },
  {
   "cell_type": "code",
   "execution_count": 9,
   "id": "bc93fc95",
   "metadata": {},
   "outputs": [],
   "source": [
    "trips_df = trips_df.fillna(0)"
   ]
  },
  {
   "cell_type": "code",
   "execution_count": 10,
   "id": "0ad44aff",
   "metadata": {},
   "outputs": [],
   "source": [
    "label_column = \"total_amount\""
   ]
  },
  {
   "cell_type": "markdown",
   "id": "021514bf",
   "metadata": {},
   "source": [
    "# 피처 "
   ]
  },
  {
   "cell_type": "code",
   "execution_count": 11,
   "id": "938dc01c",
   "metadata": {},
   "outputs": [],
   "source": [
    "from pyspark.ml.feature import VectorAssembler \n",
    "\n",
    "#독립 변수 (피처) 컬럼 정의 \n",
    "\n",
    "feature_columns = [\n",
    "    \"passenger_count\", \"trip_distance\", \"RatecodeID\", \"PULocationID\", \n",
    "    \"DOLocationID\", \"fare_amount\", \"extra\", \"mta_tax\", \"tip_amount\", \n",
    "    \"tolls_amount\", \"improvement_surcharge\", \"congestion_surcharge\"\n",
    "]\n",
    "\n",
    "assembler = VectorAssembler(inputCols=feature_columns, outputCol= \"features\")\n",
    "trips_df = assembler.transform(trips_df)"
   ]
  },
  {
   "cell_type": "code",
   "execution_count": 12,
   "id": "cfa74628",
   "metadata": {},
   "outputs": [
    {
     "name": "stdout",
     "output_type": "stream",
     "text": [
      "+----------------------------------------------------------+------------+\n",
      "|features                                                  |total_amount|\n",
      "+----------------------------------------------------------+------------+\n",
      "|[1.0,0.0,1.0,264.0,264.0,3.0,0.5,0.5,0.0,0.0,0.3,0.0]     |4.3         |\n",
      "|[1.0,0.0,1.0,152.0,152.0,2.5,0.5,0.5,0.0,0.0,0.3,0.0]     |3.8         |\n",
      "|[1.0,0.0,1.0,152.0,152.0,3.5,0.5,0.5,0.0,0.0,0.3,0.0]     |4.8         |\n",
      "|[0.0,16.5,4.0,138.0,265.0,51.0,0.5,0.5,11.65,6.12,0.3,0.0]|70.07       |\n",
      "|[1.0,1.13,1.0,68.0,264.0,5.5,0.5,0.5,1.86,0.0,0.3,2.5]    |11.16       |\n",
      "+----------------------------------------------------------+------------+\n",
      "only showing top 5 rows\n",
      "\n"
     ]
    }
   ],
   "source": [
    "trips_df.select(\"features\", label_column).show(5, truncate=False)"
   ]
  },
  {
   "cell_type": "code",
   "execution_count": 13,
   "id": "3481df5f",
   "metadata": {},
   "outputs": [],
   "source": [
    "train_df, test_df = trips_df.randomSplit([0.8, 0.2], seed=42)"
   ]
  },
  {
   "cell_type": "code",
   "execution_count": 14,
   "id": "81e3a0e5",
   "metadata": {},
   "outputs": [
    {
     "name": "stderr",
     "output_type": "stream",
     "text": [
      "24/12/13 17:22:46 WARN Instrumentation: [465a7462] regParam is zero, which might cause numerical instability and overfitting.\n",
      "24/12/13 17:23:02 WARN BLAS: Failed to load implementation from: com.github.fommil.netlib.NativeSystemBLAS\n",
      "24/12/13 17:23:02 WARN BLAS: Failed to load implementation from: com.github.fommil.netlib.NativeRefBLAS\n",
      "24/12/13 17:24:12 WARN LAPACK: Failed to load implementation from: com.github.fommil.netlib.NativeSystemLAPACK\n",
      "24/12/13 17:24:12 WARN LAPACK: Failed to load implementation from: com.github.fommil.netlib.NativeRefLAPACK\n",
      "                                                                                \r"
     ]
    }
   ],
   "source": [
    "from pyspark.ml.regression import LinearRegression\n",
    "\n",
    "# LinearRegression 모델 생성\n",
    "lr = LinearRegression(featuresCol=\"features\", labelCol=label_column, predictionCol=\"prediction\")\n",
    "\n",
    "# 모델 학습\n",
    "lr_model = lr.fit(train_df)"
   ]
  },
  {
   "cell_type": "code",
   "execution_count": 15,
   "id": "37ab507d",
   "metadata": {
    "scrolled": true
   },
   "outputs": [
    {
     "name": "stderr",
     "output_type": "stream",
     "text": [
      "[Stage 10:==================================================>     (10 + 1) / 11]\r"
     ]
    },
    {
     "name": "stdout",
     "output_type": "stream",
     "text": [
      "Root Mean Square Error (RMSE): 0.5400656154366438\n",
      "Coefficients: [0.012160979142100167,6.506610272354602e-06,-0.03454818574468199,-0.0003065896187344202,2.4886780039517477e-05,1.0000271713377529,0.22626341393251398,2.2498439879669663,1.0141778236708519,1.0551089219411338,1.5397333669115845,0.7283117087374027]\n",
      "Intercept: 0.006045128786987593\n"
     ]
    },
    {
     "name": "stderr",
     "output_type": "stream",
     "text": [
      "\r",
      "                                                                                \r"
     ]
    }
   ],
   "source": [
    "from pyspark.ml.evaluation import RegressionEvaluator\n",
    "\n",
    "# 테스트 데이터에서 예측 수행\n",
    "predictions = lr_model.transform(test_df)\n",
    "\n",
    "# RMSE 평가\n",
    "evaluator = RegressionEvaluator(\n",
    "    metricName=\"rmse\", labelCol=label_column, predictionCol=\"prediction\"\n",
    ")\n",
    "rmse = evaluator.evaluate(predictions)\n",
    "print(f\"Root Mean Square Error (RMSE): {rmse}\")\n",
    "\n",
    "# 모델 요약 정보 출력\n",
    "print(f\"Coefficients: {lr_model.coefficients}\")\n",
    "print(f\"Intercept: {lr_model.intercept}\")"
   ]
  },
  {
   "cell_type": "code",
   "execution_count": 16,
   "id": "44e358d7",
   "metadata": {},
   "outputs": [
    {
     "name": "stderr",
     "output_type": "stream",
     "text": [
      "\r",
      "[Stage 12:>                                                         (0 + 1) / 1]\r"
     ]
    },
    {
     "name": "stdout",
     "output_type": "stream",
     "text": [
      "+------------+-----------------+---------------------------------------------------+\n",
      "|total_amount|prediction       |features                                           |\n",
      "+------------+-----------------+---------------------------------------------------+\n",
      "|3.3         |4.051646007314969|(12,[2,3,4,5,7,10],[1.0,24.0,24.0,2.5,0.5,0.3])    |\n",
      "|4.3         |4.273120472989669|[0.0,0.0,1.0,41.0,41.0,2.5,1.0,0.5,0.0,0.0,0.3,0.0]|\n",
      "|3.3         |4.046575356218461|(12,[2,3,4,5,7,10],[1.0,42.0,42.0,2.5,0.5,0.3])    |\n",
      "|4.3         |4.272838770150974|[0.0,0.0,1.0,42.0,42.0,2.5,1.0,0.5,0.0,0.0,0.3,0.0]|\n",
      "|6.8         |6.657586359793597|[0.0,0.0,1.0,48.0,48.0,2.5,3.5,0.5,0.0,0.0,0.3,2.5]|\n",
      "+------------+-----------------+---------------------------------------------------+\n",
      "only showing top 5 rows\n",
      "\n"
     ]
    },
    {
     "name": "stderr",
     "output_type": "stream",
     "text": [
      "\r",
      "                                                                                \r"
     ]
    }
   ],
   "source": [
    "predictions.select(\"total_amount\", \"prediction\", \"features\").show(5, truncate=False)"
   ]
  },
  {
   "cell_type": "code",
   "execution_count": null,
   "id": "fe2c5fd0",
   "metadata": {},
   "outputs": [],
   "source": []
  }
 ],
 "metadata": {
  "kernelspec": {
   "display_name": "Python (spark_start)",
   "language": "python",
   "name": "spark_start"
  },
  "language_info": {
   "codemirror_mode": {
    "name": "ipython",
    "version": 3
   },
   "file_extension": ".py",
   "mimetype": "text/x-python",
   "name": "python",
   "nbconvert_exporter": "python",
   "pygments_lexer": "ipython3",
   "version": "3.8.20"
  }
 },
 "nbformat": 4,
 "nbformat_minor": 5
}
