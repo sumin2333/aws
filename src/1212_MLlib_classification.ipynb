{
 "cells": [
  {
   "cell_type": "code",
   "execution_count": 1,
   "id": "70fdfd78",
   "metadata": {},
   "outputs": [
    {
     "name": "stderr",
     "output_type": "stream",
     "text": [
      "24/12/12 15:22:30 WARN NativeCodeLoader: Unable to load native-hadoop library for your platform... using builtin-java classes where applicable\n",
      "Using Spark's default log4j profile: org/apache/spark/log4j-defaults.properties\n",
      "Setting default log level to \"WARN\".\n",
      "To adjust logging level use sc.setLogLevel(newLevel). For SparkR, use setLogLevel(newLevel).\n",
      "24/12/12 15:22:31 WARN Utils: Service 'SparkUI' could not bind on port 4040. Attempting port 4041.\n"
     ]
    }
   ],
   "source": [
    "from pyspark.sql import SparkSession\n",
    "\n",
    "spark = SparkSession.builder.appName(\"241212_01_MLlib_classification\").getOrCreate()"
   ]
  },
  {
   "cell_type": "markdown",
   "id": "a956663c",
   "metadata": {},
   "source": [
    "# data load"
   ]
  },
  {
   "cell_type": "code",
   "execution_count": 2,
   "id": "67a7cca0",
   "metadata": {},
   "outputs": [
    {
     "name": "stderr",
     "output_type": "stream",
     "text": [
      "\r",
      "[Stage 0:>                                                          (0 + 1) / 1]\r",
      "\r",
      "                                                                                \r"
     ]
    }
   ],
   "source": [
    "df = spark.read.format(\"csv\")\\\n",
    "    .option(\"header\", 'true')\\\n",
    "    .option('inferSchema', 'true')\\\n",
    "    .load('data/titanic.csv')"
   ]
  },
  {
   "cell_type": "code",
   "execution_count": 3,
   "id": "0a92d9ee",
   "metadata": {},
   "outputs": [
    {
     "name": "stdout",
     "output_type": "stream",
     "text": [
      "+--------+------+------+----+-----+-----+-------+-----------+\n",
      "|survived|pclass|   sex| age|sibsp|parch|   fare|embark_town|\n",
      "+--------+------+------+----+-----+-----+-------+-----------+\n",
      "|       0|     3|  male|22.0|    1|    0|   7.25|Southampton|\n",
      "|       1|     1|female|38.0|    1|    0|71.2833|  Cherbourg|\n",
      "|       1|     3|female|26.0|    0|    0|  7.925|Southampton|\n",
      "|       1|     1|female|35.0|    1|    0|   53.1|Southampton|\n",
      "|       0|     3|  male|35.0|    0|    0|   8.05|Southampton|\n",
      "|       0|     3|  male|null|    0|    0| 8.4583| Queenstown|\n",
      "|       0|     1|  male|54.0|    0|    0|51.8625|Southampton|\n",
      "|       0|     3|  male| 2.0|    3|    1| 21.075|Southampton|\n",
      "|       1|     3|female|27.0|    0|    2|11.1333|Southampton|\n",
      "|       1|     2|female|14.0|    1|    0|30.0708|  Cherbourg|\n",
      "+--------+------+------+----+-----+-----+-------+-----------+\n",
      "only showing top 10 rows\n",
      "\n"
     ]
    }
   ],
   "source": [
    "df.show(10)"
   ]
  },
  {
   "cell_type": "markdown",
   "id": "edff96ca",
   "metadata": {},
   "source": [
    "# missing value \n",
    "\n",
    "\n",
    "\n",
    "### 전처리 꼭 해줘야 됨"
   ]
  },
  {
   "cell_type": "code",
   "execution_count": 4,
   "id": "15c9a6ec",
   "metadata": {},
   "outputs": [
    {
     "name": "stdout",
     "output_type": "stream",
     "text": [
      "+--------+------+---+---+-----+-----+----+-----------+\n",
      "|survived|pclass|sex|age|sibsp|parch|fare|embark_town|\n",
      "+--------+------+---+---+-----+-----+----+-----------+\n",
      "|       0|     0|  0|177|    0|    0|   0|          2|\n",
      "+--------+------+---+---+-----+-----+----+-----------+\n",
      "\n"
     ]
    }
   ],
   "source": [
    "from pyspark.sql.functions import col, sum, isnan, when\n",
    "\n",
    "null_counts = df.select(\n",
    "    [\n",
    "        sum(when(col(c).isNull() | isnan(c), 1).otherwise(0)).alias(c)  for c in df.columns\n",
    "    ]\n",
    ")\n",
    "null_counts.show()"
   ]
  },
  {
   "cell_type": "markdown",
   "id": "ff21316c",
   "metadata": {},
   "source": [
    "# feature selection\n",
    "\n",
    "###골라야됨. 우리에게 필요한 것. 정확도를 높이는 것. "
   ]
  },
  {
   "cell_type": "code",
   "execution_count": 5,
   "id": "25b79b90",
   "metadata": {},
   "outputs": [
    {
     "name": "stdout",
     "output_type": "stream",
     "text": [
      "+--------+------+------+----+-----+-----+-------+\n",
      "|survived|pclass|   sex| age|sibsp|parch|   fare|\n",
      "+--------+------+------+----+-----+-----+-------+\n",
      "|       0|     3|  male|22.0|    1|    0|   7.25|\n",
      "|       1|     1|female|38.0|    1|    0|71.2833|\n",
      "|       1|     3|female|26.0|    0|    0|  7.925|\n",
      "|       1|     1|female|35.0|    1|    0|   53.1|\n",
      "|       0|     3|  male|35.0|    0|    0|   8.05|\n",
      "+--------+------+------+----+-----+-----+-------+\n",
      "only showing top 5 rows\n",
      "\n"
     ]
    }
   ],
   "source": [
    "# feature - ?? , target - survived\n",
    "data = df.select(\"survived\", \"pclass\", \"sex\", \"age\", \"sibsp\", \"parch\", \"fare\")\n",
    "data.show(5)"
   ]
  },
  {
   "cell_type": "code",
   "execution_count": 6,
   "id": "cfc7b7e8",
   "metadata": {},
   "outputs": [
    {
     "data": {
      "text/plain": [
       "29.69911764705882"
      ]
     },
     "execution_count": 6,
     "metadata": {},
     "output_type": "execute_result"
    }
   ],
   "source": [
    "#평균값으로 대체\n",
    "mean_age = data.select(\"age\").agg({\"age\" : \"mean\" }).collect()[0][0]\n",
    "mean_age"
   ]
  },
  {
   "cell_type": "code",
   "execution_count": 7,
   "id": "b1124207",
   "metadata": {},
   "outputs": [
    {
     "name": "stdout",
     "output_type": "stream",
     "text": [
      "+--------+------+------+-----------------+-----+-----+-------+\n",
      "|survived|pclass|   sex|              age|sibsp|parch|   fare|\n",
      "+--------+------+------+-----------------+-----+-----+-------+\n",
      "|       0|     3|  male|             22.0|    1|    0|   7.25|\n",
      "|       1|     1|female|             38.0|    1|    0|71.2833|\n",
      "|       1|     3|female|             26.0|    0|    0|  7.925|\n",
      "|       1|     1|female|             35.0|    1|    0|   53.1|\n",
      "|       0|     3|  male|             35.0|    0|    0|   8.05|\n",
      "|       0|     3|  male|29.69911764705882|    0|    0| 8.4583|\n",
      "|       0|     1|  male|             54.0|    0|    0|51.8625|\n",
      "|       0|     3|  male|              2.0|    3|    1| 21.075|\n",
      "|       1|     3|female|             27.0|    0|    2|11.1333|\n",
      "|       1|     2|female|             14.0|    1|    0|30.0708|\n",
      "+--------+------+------+-----------------+-----+-----+-------+\n",
      "only showing top 10 rows\n",
      "\n"
     ]
    }
   ],
   "source": [
    "data = data.fillna( { \"age\" : mean_age })\n",
    "data.show(10)"
   ]
  },
  {
   "cell_type": "markdown",
   "id": "92ac3e73",
   "metadata": {},
   "source": [
    "# encoding :: category type -> numeric "
   ]
  },
  {
   "cell_type": "code",
   "execution_count": 8,
   "id": "a0ed5cdc",
   "metadata": {},
   "outputs": [],
   "source": [
    "from pyspark.ml.feature import StringIndexer, VectorAssembler"
   ]
  },
  {
   "cell_type": "code",
   "execution_count": 9,
   "id": "5120bed3",
   "metadata": {
    "scrolled": true
   },
   "outputs": [
    {
     "name": "stdout",
     "output_type": "stream",
     "text": [
      "+--------+------+------+----+-----+-----+-------+--------+\n",
      "|survived|pclass|   sex| age|sibsp|parch|   fare|SexIndex|\n",
      "+--------+------+------+----+-----+-----+-------+--------+\n",
      "|       0|     3|  male|22.0|    1|    0|   7.25|     0.0|\n",
      "|       1|     1|female|38.0|    1|    0|71.2833|     1.0|\n",
      "|       1|     3|female|26.0|    0|    0|  7.925|     1.0|\n",
      "|       1|     1|female|35.0|    1|    0|   53.1|     1.0|\n",
      "|       0|     3|  male|35.0|    0|    0|   8.05|     0.0|\n",
      "+--------+------+------+----+-----+-----+-------+--------+\n",
      "only showing top 5 rows\n",
      "\n"
     ]
    }
   ],
   "source": [
    "indexer = StringIndexer(inputCol=\"sex\", outputCol=\"SexIndex\")\n",
    "data = indexer.fit(data).transform(data)\n",
    "data.show(5)"
   ]
  },
  {
   "cell_type": "markdown",
   "id": "45da0f40",
   "metadata": {},
   "source": [
    "# feature vector"
   ]
  },
  {
   "cell_type": "code",
   "execution_count": 10,
   "id": "0ed00c69",
   "metadata": {},
   "outputs": [
    {
     "data": {
      "text/plain": [
       "DataFrame[survived: int, pclass: int, sex: string, age: double, sibsp: int, parch: int, fare: double, SexIndex: double, features: vector]"
      ]
     },
     "execution_count": 10,
     "metadata": {},
     "output_type": "execute_result"
    }
   ],
   "source": [
    "#target 을 제외한 학습을 위한 피처를 \"features\" 라는 이름으로 assembler한다.\n",
    "assembler = VectorAssembler(\n",
    "    inputCols=[\"pclass\", \"SexIndex\", \"age\", \"sibsp\", \"parch\", \"fare\"],\n",
    "    outputCol=\"features\"\n",
    ")\n",
    "data = assembler.transform(data)\n",
    "data"
   ]
  },
  {
   "cell_type": "code",
   "execution_count": 11,
   "id": "8abbac63",
   "metadata": {},
   "outputs": [
    {
     "name": "stdout",
     "output_type": "stream",
     "text": [
      "+--------+--------------------+\n",
      "|survived|            features|\n",
      "+--------+--------------------+\n",
      "|       0|[3.0,0.0,22.0,1.0...|\n",
      "|       1|[1.0,1.0,38.0,1.0...|\n",
      "|       1|[3.0,1.0,26.0,0.0...|\n",
      "|       1|[1.0,1.0,35.0,1.0...|\n",
      "|       0|[3.0,0.0,35.0,0.0...|\n",
      "+--------+--------------------+\n",
      "only showing top 5 rows\n",
      "\n"
     ]
    }
   ],
   "source": [
    "#지도학습, 분류모델을 학습시키기 위한 데이터\n",
    "data.select(\"survived\", \"features\").show(5)"
   ]
  },
  {
   "cell_type": "code",
   "execution_count": 29,
   "id": "7b2063b5",
   "metadata": {},
   "outputs": [],
   "source": [
    "#ML 모델 : 데이터 학습 > 평가 > 모델 완성 "
   ]
  },
  {
   "cell_type": "markdown",
   "id": "4a3738dc",
   "metadata": {},
   "source": [
    "# dataset 분할 \n",
    "\n",
    "### 학습 -모델  / 테스트- 테스트"
   ]
  },
  {
   "cell_type": "code",
   "execution_count": 12,
   "id": "595fe868",
   "metadata": {},
   "outputs": [],
   "source": [
    "train_data, test_data = data.randomSplit([0.8, 0.2], seed = 42 )  #리턴한값목록1 , 목록2"
   ]
  },
  {
   "cell_type": "code",
   "execution_count": 13,
   "id": "9cd231ec",
   "metadata": {},
   "outputs": [
    {
     "name": "stdout",
     "output_type": "stream",
     "text": [
      "+--------+------+------+----+-----+-----+------+--------+--------------------+\n",
      "|survived|pclass|   sex| age|sibsp|parch|  fare|SexIndex|            features|\n",
      "+--------+------+------+----+-----+-----+------+--------+--------------------+\n",
      "|       0|     1|female| 2.0|    1|    2|151.55|     1.0|[1.0,1.0,2.0,1.0,...|\n",
      "|       0|     1|female|25.0|    1|    2|151.55|     1.0|[1.0,1.0,25.0,1.0...|\n",
      "|       0|     1|  male|18.0|    1|    0| 108.9|     0.0|[1.0,0.0,18.0,1.0...|\n",
      "|       0|     1|  male|19.0|    1|    0|  53.1|     0.0|[1.0,0.0,19.0,1.0...|\n",
      "|       0|     1|  male|19.0|    3|    2| 263.0|     0.0|[1.0,0.0,19.0,3.0...|\n",
      "+--------+------+------+----+-----+-----+------+--------+--------------------+\n",
      "only showing top 5 rows\n",
      "\n",
      "+--------+------+------+-----------------+-----+-----+-------+--------+--------------------+\n",
      "|survived|pclass|   sex|              age|sibsp|parch|   fare|SexIndex|            features|\n",
      "+--------+------+------+-----------------+-----+-----+-------+--------+--------------------+\n",
      "|       0|     1|female|             50.0|    0|    0|28.7125|     1.0|[1.0,1.0,50.0,0.0...|\n",
      "|       0|     1|  male|             21.0|    0|    1|77.2875|     0.0|[1.0,0.0,21.0,0.0...|\n",
      "|       0|     1|  male|             24.0|    0|    0|   79.2|     0.0|[1.0,0.0,24.0,0.0...|\n",
      "|       0|     1|  male|             29.0|    0|    0|   30.0|     0.0|[1.0,0.0,29.0,0.0...|\n",
      "|       0|     1|  male|29.69911764705882|    0|    0|  26.55|     0.0|[1.0,0.0,29.69911...|\n",
      "+--------+------+------+-----------------+-----+-----+-------+--------+--------------------+\n",
      "only showing top 5 rows\n",
      "\n"
     ]
    },
    {
     "data": {
      "text/plain": [
       "(None, None)"
      ]
     },
     "execution_count": 13,
     "metadata": {},
     "output_type": "execute_result"
    }
   ],
   "source": [
    "train_data.show(5), test_data.show(5)"
   ]
  },
  {
   "cell_type": "markdown",
   "id": "8f5cd6e3",
   "metadata": {},
   "source": [
    "# 분류 예측 model 생성- 로지스틱 회귀\n",
    "\n",
    "분류모델 : 라벨(타겟) , 피쳐 "
   ]
  },
  {
   "cell_type": "code",
   "execution_count": 14,
   "id": "98799679",
   "metadata": {},
   "outputs": [],
   "source": [
    "from pyspark.ml.classification import LogisticRegression"
   ]
  },
  {
   "cell_type": "code",
   "execution_count": 15,
   "id": "c5e7579c",
   "metadata": {},
   "outputs": [],
   "source": [
    "#로지스틱 회귀 모델 생성\n",
    "lr = LogisticRegression(featuresCol=\"features\", labelCol=\"survived\")"
   ]
  },
  {
   "cell_type": "code",
   "execution_count": 16,
   "id": "6b3099c8",
   "metadata": {},
   "outputs": [
    {
     "name": "stderr",
     "output_type": "stream",
     "text": [
      "24/12/12 15:25:16 WARN BLAS: Failed to load implementation from: com.github.fommil.netlib.NativeSystemBLAS\n",
      "24/12/12 15:25:16 WARN BLAS: Failed to load implementation from: com.github.fommil.netlib.NativeRefBLAS\n"
     ]
    }
   ],
   "source": [
    "#모델 학습\n",
    "lr_model = lr.fit( train_data )  #80% data > y(라벨, 타켓) 값을 결정할 수 있도록 매개변수를 확정"
   ]
  },
  {
   "cell_type": "code",
   "execution_count": 17,
   "id": "10024069",
   "metadata": {},
   "outputs": [
    {
     "name": "stdout",
     "output_type": "stream",
     "text": [
      "+--------+------+------+-----------------+-----+-----+-------+--------+--------------------+--------------------+--------------------+----------+\n",
      "|survived|pclass|   sex|              age|sibsp|parch|   fare|SexIndex|            features|       rawPrediction|         probability|prediction|\n",
      "+--------+------+------+-----------------+-----+-----+-------+--------+--------------------+--------------------+--------------------+----------+\n",
      "|       0|     1|female|             50.0|    0|    0|28.7125|     1.0|[1.0,1.0,50.0,0.0...|[-1.9520246347246...|[0.12433276014445...|       1.0|\n",
      "|       0|     1|  male|             21.0|    0|    1|77.2875|     0.0|[1.0,0.0,21.0,0.0...|[-0.5063684917057...|[0.37604522093222...|       1.0|\n",
      "|       0|     1|  male|             24.0|    0|    0|   79.2|     0.0|[1.0,0.0,24.0,0.0...|[-0.5000163743656...|[0.37753682076914...|       1.0|\n",
      "|       0|     1|  male|             29.0|    0|    0|   30.0|     0.0|[1.0,0.0,29.0,0.0...|[-0.1615623337462...|[0.45969704539401...|       1.0|\n",
      "|       0|     1|  male|29.69911764705882|    0|    0|  26.55|     0.0|[1.0,0.0,29.69911...|[-0.1231865060676...|[0.46924225915865...|       1.0|\n",
      "+--------+------+------+-----------------+-----+-----+-------+--------+--------------------+--------------------+--------------------+----------+\n",
      "only showing top 5 rows\n",
      "\n"
     ]
    }
   ],
   "source": [
    "# 모델 시험 :: 테스트 데이터 > 결과 확인 - 데이터의 답이 들어 있다 > 모델이 맞춘  y값\n",
    "predictions = lr_model.transform( test_data )\n",
    "predictions.show(5)"
   ]
  },
  {
   "cell_type": "code",
   "execution_count": 18,
   "id": "6506d486",
   "metadata": {},
   "outputs": [
    {
     "data": {
      "text/plain": [
       "[Row(features=DenseVector([3.0, 0.0, 29.6991, 0.0, 0.0, 56.4958]), survived=1, prediction=0.0),\n",
       " Row(features=DenseVector([3.0, 0.0, 29.6991, 2.0, 0.0, 23.25]), survived=1, prediction=0.0),\n",
       " Row(features=DenseVector([3.0, 0.0, 31.0, 0.0, 0.0, 7.925]), survived=1, prediction=0.0),\n",
       " Row(features=DenseVector([3.0, 0.0, 32.0, 0.0, 0.0, 56.4958]), survived=1, prediction=0.0),\n",
       " Row(features=DenseVector([3.0, 0.0, 39.0, 0.0, 0.0, 7.925]), survived=1, prediction=0.0)]"
      ]
     },
     "execution_count": 18,
     "metadata": {},
     "output_type": "execute_result"
    }
   ],
   "source": [
    "predictions.select(\"features\", \"survived\", \"prediction\").tail(5)"
   ]
  },
  {
   "cell_type": "markdown",
   "id": "37a57eda",
   "metadata": {},
   "source": [
    "# 정답갯수 확인 "
   ]
  },
  {
   "cell_type": "code",
   "execution_count": 19,
   "id": "3455e43a",
   "metadata": {},
   "outputs": [],
   "source": [
    "from pyspark.sql.types import IntegerType\n",
    "from pyspark.sql.functions import expr\n"
   ]
  },
  {
   "cell_type": "code",
   "execution_count": 20,
   "id": "f0bec127",
   "metadata": {},
   "outputs": [],
   "source": [
    "predictions = predictions.withColumn( \"survived\", col(\"survived\").cast(IntegerType()))\n",
    "predictions = predictions.withColumn( \"prediction\", col(\"prediction\").cast(IntegerType()))\n"
   ]
  },
  {
   "cell_type": "code",
   "execution_count": 21,
   "id": "17998e32",
   "metadata": {},
   "outputs": [
    {
     "data": {
      "text/plain": [
       "28"
      ]
     },
     "execution_count": 21,
     "metadata": {},
     "output_type": "execute_result"
    }
   ],
   "source": [
    "# correct column 추가\n",
    "compare = predictions.withColumn( \"correct\", expr(\"case when survived=prediction then 1 else 0 end\") )\n",
    "compare.where('correct=0').count() #틀린 갯수 확인"
   ]
  },
  {
   "cell_type": "markdown",
   "id": "9c64e597",
   "metadata": {},
   "source": [
    "# 정확도 계산 > 모델의 점수 "
   ]
  },
  {
   "cell_type": "code",
   "execution_count": 22,
   "id": "be2e2c8b",
   "metadata": {
    "scrolled": true
   },
   "outputs": [
    {
     "data": {
      "text/plain": [
       "0.8068965517241379"
      ]
     },
     "execution_count": 22,
     "metadata": {},
     "output_type": "execute_result"
    }
   ],
   "source": [
    "accu = compare.selectExpr(\"avg(correct) as accuracy\").collect()[0]['accuracy']\n",
    "accu"
   ]
  },
  {
   "cell_type": "markdown",
   "id": "cffa3805",
   "metadata": {},
   "source": [
    "# 평가기 evaluator"
   ]
  },
  {
   "cell_type": "code",
   "execution_count": 23,
   "id": "9061c8cd",
   "metadata": {},
   "outputs": [],
   "source": [
    "from pyspark.ml.evaluation import BinaryClassificationEvaluator"
   ]
  },
  {
   "cell_type": "code",
   "execution_count": 24,
   "id": "b1931786",
   "metadata": {},
   "outputs": [
    {
     "data": {
      "text/plain": [
       "BinaryClassificationEvaluator_bd7004783049"
      ]
     },
     "execution_count": 24,
     "metadata": {},
     "output_type": "execute_result"
    }
   ],
   "source": [
    "# 모델별로 평가지표, 메트릭\n",
    "# 분류모델의 평가지표 중에서 AUC 계산한다.\n",
    "\n",
    "evaluator = BinaryClassificationEvaluator(labelCol=\"survived\", rawPredictionCol='rawPrediction', metricName=\"areaUnderROC\")\n",
    "evaluator"
   ]
  },
  {
   "cell_type": "code",
   "execution_count": 27,
   "id": "cc482fdd",
   "metadata": {
    "scrolled": true
   },
   "outputs": [
    {
     "ename": "AttributeError",
     "evalue": "'NoneType' object has no attribute '_jvm'",
     "output_type": "error",
     "traceback": [
      "\u001b[0;31m---------------------------------------------------------------------------\u001b[0m",
      "\u001b[0;31mAttributeError\u001b[0m                            Traceback (most recent call last)",
      "Cell \u001b[0;32mIn[27], line 1\u001b[0m\n\u001b[0;32m----> 1\u001b[0m auc \u001b[38;5;241m=\u001b[39m \u001b[43mevaluator\u001b[49m\u001b[38;5;241;43m.\u001b[39;49m\u001b[43mevaluate\u001b[49m\u001b[43m(\u001b[49m\u001b[43mpredictions\u001b[49m\u001b[43m)\u001b[49m\n\u001b[1;32m      2\u001b[0m auc\n\u001b[1;32m      3\u001b[0m \u001b[38;5;66;03m#auc : 성능 분류 모델 하나 만듦 .로지스틱 회귀\u001b[39;00m\n\u001b[1;32m      4\u001b[0m \u001b[38;5;66;03m## feature 선택이 중요. 도메인 연구- 어떻게 하면 나은 성능이 나올지 87% 이 확률을 높여줘야 된다. \u001b[39;00m\n",
      "File \u001b[0;32m/opt/spark/python/pyspark/ml/evaluation.py:84\u001b[0m, in \u001b[0;36mEvaluator.evaluate\u001b[0;34m(self, dataset, params)\u001b[0m\n\u001b[1;32m     82\u001b[0m         \u001b[38;5;28;01mreturn\u001b[39;00m \u001b[38;5;28mself\u001b[39m\u001b[38;5;241m.\u001b[39mcopy(params)\u001b[38;5;241m.\u001b[39m_evaluate(dataset)\n\u001b[1;32m     83\u001b[0m     \u001b[38;5;28;01melse\u001b[39;00m:\n\u001b[0;32m---> 84\u001b[0m         \u001b[38;5;28;01mreturn\u001b[39;00m \u001b[38;5;28;43mself\u001b[39;49m\u001b[38;5;241;43m.\u001b[39;49m\u001b[43m_evaluate\u001b[49m\u001b[43m(\u001b[49m\u001b[43mdataset\u001b[49m\u001b[43m)\u001b[49m\n\u001b[1;32m     85\u001b[0m \u001b[38;5;28;01melse\u001b[39;00m:\n\u001b[1;32m     86\u001b[0m     \u001b[38;5;28;01mraise\u001b[39;00m \u001b[38;5;167;01mValueError\u001b[39;00m(\u001b[38;5;124m\"\u001b[39m\u001b[38;5;124mParams must be a param map but got \u001b[39m\u001b[38;5;132;01m%s\u001b[39;00m\u001b[38;5;124m.\u001b[39m\u001b[38;5;124m\"\u001b[39m \u001b[38;5;241m%\u001b[39m \u001b[38;5;28mtype\u001b[39m(params))\n",
      "File \u001b[0;32m/opt/spark/python/pyspark/ml/evaluation.py:119\u001b[0m, in \u001b[0;36mJavaEvaluator._evaluate\u001b[0;34m(self, dataset)\u001b[0m\n\u001b[1;32m    105\u001b[0m \u001b[38;5;28;01mdef\u001b[39;00m \u001b[38;5;21m_evaluate\u001b[39m(\u001b[38;5;28mself\u001b[39m, dataset):\n\u001b[1;32m    106\u001b[0m \u001b[38;5;250m    \u001b[39m\u001b[38;5;124;03m\"\"\"\u001b[39;00m\n\u001b[1;32m    107\u001b[0m \u001b[38;5;124;03m    Evaluates the output.\u001b[39;00m\n\u001b[1;32m    108\u001b[0m \n\u001b[0;32m   (...)\u001b[0m\n\u001b[1;32m    117\u001b[0m \u001b[38;5;124;03m        evaluation metric\u001b[39;00m\n\u001b[1;32m    118\u001b[0m \u001b[38;5;124;03m    \"\"\"\u001b[39;00m\n\u001b[0;32m--> 119\u001b[0m     \u001b[38;5;28;43mself\u001b[39;49m\u001b[38;5;241;43m.\u001b[39;49m\u001b[43m_transfer_params_to_java\u001b[49m\u001b[43m(\u001b[49m\u001b[43m)\u001b[49m\n\u001b[1;32m    120\u001b[0m     \u001b[38;5;28;01mreturn\u001b[39;00m \u001b[38;5;28mself\u001b[39m\u001b[38;5;241m.\u001b[39m_java_obj\u001b[38;5;241m.\u001b[39mevaluate(dataset\u001b[38;5;241m.\u001b[39m_jdf)\n",
      "File \u001b[0;32m/opt/spark/python/pyspark/ml/wrapper.py:150\u001b[0m, in \u001b[0;36mJavaParams._transfer_params_to_java\u001b[0;34m(self)\u001b[0m\n\u001b[1;32m    148\u001b[0m \u001b[38;5;28;01mif\u001b[39;00m \u001b[38;5;28mlen\u001b[39m(pair_defaults) \u001b[38;5;241m>\u001b[39m \u001b[38;5;241m0\u001b[39m:\n\u001b[1;32m    149\u001b[0m     sc \u001b[38;5;241m=\u001b[39m SparkContext\u001b[38;5;241m.\u001b[39m_active_spark_context\n\u001b[0;32m--> 150\u001b[0m     pair_defaults_seq \u001b[38;5;241m=\u001b[39m \u001b[43msc\u001b[49m\u001b[38;5;241;43m.\u001b[39;49m\u001b[43m_jvm\u001b[49m\u001b[38;5;241m.\u001b[39mPythonUtils\u001b[38;5;241m.\u001b[39mtoSeq(pair_defaults)\n\u001b[1;32m    151\u001b[0m     \u001b[38;5;28mself\u001b[39m\u001b[38;5;241m.\u001b[39m_java_obj\u001b[38;5;241m.\u001b[39msetDefault(pair_defaults_seq)\n",
      "\u001b[0;31mAttributeError\u001b[0m: 'NoneType' object has no attribute '_jvm'"
     ]
    }
   ],
   "source": [
    "auc = evaluator.evaluate(predictions)\n",
    "auc\n",
    "#auc : 성능 분류 모델 하나 만듦 .로지스틱 회귀\n",
    "## feature 선택이 중요. 도메인 연구- 어떻게 하면 나은 성능이 나올지 87% 이 확률을 높여줘야 된다. "
   ]
  },
  {
   "cell_type": "code",
   "execution_count": 26,
   "id": "bd7c193c",
   "metadata": {},
   "outputs": [],
   "source": [
    "spark.stop()"
   ]
  },
  {
   "cell_type": "code",
   "execution_count": null,
   "id": "e238a411",
   "metadata": {},
   "outputs": [],
   "source": []
  },
  {
   "cell_type": "code",
   "execution_count": null,
   "id": "700c5945",
   "metadata": {},
   "outputs": [],
   "source": []
  }
 ],
 "metadata": {
  "kernelspec": {
   "display_name": "Python (spark_start)",
   "language": "python",
   "name": "spark_start"
  },
  "language_info": {
   "codemirror_mode": {
    "name": "ipython",
    "version": 3
   },
   "file_extension": ".py",
   "mimetype": "text/x-python",
   "name": "python",
   "nbconvert_exporter": "python",
   "pygments_lexer": "ipython3",
   "version": "3.8.20"
  }
 },
 "nbformat": 4,
 "nbformat_minor": 5
}
