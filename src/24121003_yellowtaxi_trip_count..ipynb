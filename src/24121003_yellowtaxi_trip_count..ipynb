{
 "cells": [
  {
   "cell_type": "markdown",
   "id": "2cc69721",
   "metadata": {},
   "source": [
    "# TLC Trip Record Data\n",
    "\n",
    "- 출처: https://www.nyc.gov/site/tlc/about/tlc-trip-record-data.page"
   ]
  },
  {
   "cell_type": "code",
   "execution_count": 1,
   "id": "6d9577fb",
   "metadata": {
    "scrolled": false
   },
   "outputs": [
    {
     "name": "stderr",
     "output_type": "stream",
     "text": [
      "24/12/12 09:33:01 WARN NativeCodeLoader: Unable to load native-hadoop library for your platform... using builtin-java classes where applicable\n",
      "Using Spark's default log4j profile: org/apache/spark/log4j-defaults.properties\n",
      "Setting default log level to \"WARN\".\n",
      "To adjust logging level use sc.setLogLevel(newLevel). For SparkR, use setLogLevel(newLevel).\n"
     ]
    }
   ],
   "source": [
    "from pyspark.sql import SparkSession\n",
    "spark = SparkSession.builder.appName(\"24121003_yellowtaxi_trip_count\").getOrCreate()"
   ]
  },
  {
   "cell_type": "code",
   "execution_count": 2,
   "id": "0c242692",
   "metadata": {},
   "outputs": [],
   "source": [
    "import os\n",
    "trip_files= '/trip/*'\n",
    "zone_file= 'taxi+_zone_lookup.csv'\n",
    "directory = os.path.join(os.getcwd(), 'data')"
   ]
  },
  {
   "cell_type": "code",
   "execution_count": 3,
   "id": "cb6539d0",
   "metadata": {},
   "outputs": [
    {
     "name": "stderr",
     "output_type": "stream",
     "text": [
      "                                                                                \r"
     ]
    }
   ],
   "source": [
    "trips_df = spark.read.csv(f'file:///{directory}/{trip_files}', inferSchema=True, header=True)"
   ]
  },
  {
   "cell_type": "code",
   "execution_count": 4,
   "id": "82f6e3d1",
   "metadata": {},
   "outputs": [],
   "source": [
    "zone_df= spark.read.csv(f'file:///{directory}/{zone_file}', inferSchema=True, header=True)"
   ]
  },
  {
   "cell_type": "code",
   "execution_count": 5,
   "id": "b13bc42c",
   "metadata": {},
   "outputs": [
    {
     "name": "stdout",
     "output_type": "stream",
     "text": [
      "root\n",
      " |-- VendorID: integer (nullable = true)\n",
      " |-- tpep_pickup_datetime: string (nullable = true)\n",
      " |-- tpep_dropoff_datetime: string (nullable = true)\n",
      " |-- passenger_count: integer (nullable = true)\n",
      " |-- trip_distance: double (nullable = true)\n",
      " |-- RatecodeID: integer (nullable = true)\n",
      " |-- store_and_fwd_flag: string (nullable = true)\n",
      " |-- PULocationID: integer (nullable = true)\n",
      " |-- DOLocationID: integer (nullable = true)\n",
      " |-- payment_type: integer (nullable = true)\n",
      " |-- fare_amount: double (nullable = true)\n",
      " |-- extra: double (nullable = true)\n",
      " |-- mta_tax: double (nullable = true)\n",
      " |-- tip_amount: double (nullable = true)\n",
      " |-- tolls_amount: double (nullable = true)\n",
      " |-- improvement_surcharge: double (nullable = true)\n",
      " |-- total_amount: double (nullable = true)\n",
      " |-- congestion_surcharge: double (nullable = true)\n",
      "\n"
     ]
    }
   ],
   "source": [
    "trips_df.printSchema()"
   ]
  },
  {
   "cell_type": "code",
   "execution_count": 9,
   "id": "f70380a9",
   "metadata": {},
   "outputs": [],
   "source": [
    "trips_df.createOrReplaceTempView('trip')\n",
    "zone_df.createOrReplaceTempView('zone')"
   ]
  },
  {
   "cell_type": "code",
   "execution_count": 10,
   "id": "afabcf6a",
   "metadata": {},
   "outputs": [],
   "source": [
    "query= '''\n",
    "select\n",
    "t.VendorID,\n",
    "TO_DATE(t.tpep_pickup_datetime) as pickup_date,\n",
    "TO_DATE(t.tpep_dropoff_datetime) as dropoff_date,\n",
    "HOUR(t.tpep_pickup_datetime)  as pickup_time,\n",
    "HOUR(t.tpep_dropoff_datetime) as dropoff_time,\n",
    "t.passenger_count,\n",
    "t.trip_distance,\n",
    "t.tip_amount,\n",
    "t.payment_type,\n",
    "pz.Zone as pickup_zone,\n",
    "dz.Zone as dropoff_zone\n",
    "\n",
    "from trip t\n",
    "LEFT JOIN zone pz ON t.PULocationID = pz.LocationID\n",
    "LEFT JOIN zone dz ON t.DOLocationID = dz.LocationID\n",
    "\n",
    "'''"
   ]
  },
  {
   "cell_type": "code",
   "execution_count": 11,
   "id": "b42e67bf",
   "metadata": {},
   "outputs": [],
   "source": [
    "comb_df=spark.sql(query)"
   ]
  },
  {
   "cell_type": "code",
   "execution_count": 12,
   "id": "9746e24b",
   "metadata": {},
   "outputs": [
    {
     "name": "stdout",
     "output_type": "stream",
     "text": [
      "+--------+-----------+------------+-----------+------------+---------------+-------------+----------+------------+-----------------+--------------+\n",
      "|VendorID|pickup_date|dropoff_date|pickup_time|dropoff_time|passenger_count|trip_distance|tip_amount|payment_type|      pickup_zone|  dropoff_zone|\n",
      "+--------+-----------+------------+-----------+------------+---------------+-------------+----------+------------+-----------------+--------------+\n",
      "|       2| 2021-03-01|  2021-03-01|          0|           0|              1|          0.0|       0.0|           2|               NV|            NV|\n",
      "|       2| 2021-03-01|  2021-03-01|          0|           0|              1|          0.0|       0.0|           2|   Manhattanville|Manhattanville|\n",
      "|       2| 2021-03-01|  2021-03-01|          0|           0|              1|          0.0|       0.0|           2|   Manhattanville|Manhattanville|\n",
      "|       1| 2021-03-01|  2021-03-01|          0|           0|              0|         16.5|     11.65|           1|LaGuardia Airport|            NA|\n",
      "|       2| 2021-03-01|  2021-03-01|          0|           0|              1|         1.13|      1.86|           1|     East Chelsea|            NV|\n",
      "+--------+-----------+------------+-----------+------------+---------------+-------------+----------+------------+-----------------+--------------+\n",
      "only showing top 5 rows\n",
      "\n"
     ]
    }
   ],
   "source": [
    "comb_df.show(5)"
   ]
  },
  {
   "cell_type": "code",
   "execution_count": 13,
   "id": "21ba1833",
   "metadata": {},
   "outputs": [],
   "source": [
    "comb_df.createOrReplaceTempView('comb')"
   ]
  },
  {
   "cell_type": "code",
   "execution_count": 14,
   "id": "9d032b2d",
   "metadata": {},
   "outputs": [],
   "source": [
    "query= '''\n",
    "select pickup_date, pickup_time\n",
    "from comb\n",
    "where pickup_time>0\n",
    "'''"
   ]
  },
  {
   "cell_type": "code",
   "execution_count": 15,
   "id": "de7bddf4",
   "metadata": {},
   "outputs": [
    {
     "name": "stdout",
     "output_type": "stream",
     "text": [
      "+-----------+-----------+\n",
      "|pickup_date|pickup_time|\n",
      "+-----------+-----------+\n",
      "| 2021-02-28|         23|\n",
      "| 2021-02-28|         23|\n",
      "| 2021-02-28|         23|\n",
      "| 2021-02-28|         23|\n",
      "| 2021-02-28|         23|\n",
      "| 2021-02-28|         23|\n",
      "| 2021-02-28|         23|\n",
      "| 2021-03-01|         22|\n",
      "| 2021-03-01|          1|\n",
      "| 2021-03-01|          1|\n",
      "| 2021-03-01|          1|\n",
      "| 2021-03-01|          1|\n",
      "| 2021-03-01|          1|\n",
      "| 2021-03-01|          1|\n",
      "| 2021-03-01|          1|\n",
      "| 2021-03-01|          1|\n",
      "| 2021-03-01|          1|\n",
      "| 2021-03-01|          1|\n",
      "| 2021-03-01|          1|\n",
      "| 2021-03-01|          1|\n",
      "+-----------+-----------+\n",
      "only showing top 20 rows\n",
      "\n"
     ]
    }
   ],
   "source": [
    "spark.sql(query).show()"
   ]
  },
  {
   "cell_type": "code",
   "execution_count": 16,
   "id": "047e9107",
   "metadata": {},
   "outputs": [
    {
     "name": "stderr",
     "output_type": "stream",
     "text": [
      "[Stage 11:=============================>                            (1 + 1) / 2]\r"
     ]
    },
    {
     "name": "stdout",
     "output_type": "stream",
     "text": [
      "+-----------+-----------+\n",
      "|pickup_date|pickup_time|\n",
      "+-----------+-----------+\n",
      "| 2009-01-01|          0|\n",
      "| 2008-12-31|         23|\n",
      "| 2009-01-01|          0|\n",
      "| 2009-01-01|          0|\n",
      "| 2009-01-01|          0|\n",
      "| 2009-01-01|          0|\n",
      "| 2009-01-01|          0|\n",
      "| 2009-01-01|          1|\n",
      "| 2009-01-01|          0|\n",
      "| 2008-12-31|         23|\n",
      "| 2008-12-31|         23|\n",
      "| 2008-12-31|         23|\n",
      "| 2008-12-31|         23|\n",
      "| 2009-01-01|          0|\n",
      "| 2009-01-01|          0|\n",
      "| 2009-01-01|          0|\n",
      "| 2009-01-01|         16|\n",
      "| 2009-01-01|         16|\n",
      "| 2009-01-01|          0|\n",
      "| 2009-01-01|          0|\n",
      "+-----------+-----------+\n",
      "only showing top 20 rows\n",
      "\n"
     ]
    },
    {
     "name": "stderr",
     "output_type": "stream",
     "text": [
      "\r",
      "                                                                                \r"
     ]
    }
   ],
   "source": [
    "query = '''\n",
    "select pickup_date, pickup_time\n",
    "from comb\n",
    "where pickup_date<'2020-12-31'\n",
    "'''\n",
    "spark.sql(query).show()"
   ]
  },
  {
   "cell_type": "code",
   "execution_count": 17,
   "id": "be0bf476",
   "metadata": {},
   "outputs": [
    {
     "name": "stderr",
     "output_type": "stream",
     "text": [
      "                                                                                \r"
     ]
    },
    {
     "data": {
      "text/plain": [
       "DataFrame[summary: string, VendorID: string, pickup_time: string, dropoff_time: string, passenger_count: string, trip_distance: string, tip_amount: string, payment_type: string, pickup_zone: string, dropoff_zone: string]"
      ]
     },
     "execution_count": 17,
     "metadata": {},
     "output_type": "execute_result"
    }
   ],
   "source": [
    "comb_df.describe()"
   ]
  },
  {
   "cell_type": "code",
   "execution_count": null,
   "id": "3bd821f1",
   "metadata": {},
   "outputs": [],
   "source": [
    "#select pickup_date, pickup_time \n",
    "# from comb \n",
    "# where pickup_date<'2020-12-31'\n",
    "spark.sql(query).explain()"
   ]
  },
  {
   "cell_type": "code",
   "execution_count": 18,
   "id": "de292623",
   "metadata": {},
   "outputs": [],
   "source": [
    "#실행계획 "
   ]
  },
  {
   "cell_type": "code",
   "execution_count": 19,
   "id": "54b182aa",
   "metadata": {},
   "outputs": [
    {
     "name": "stdout",
     "output_type": "stream",
     "text": [
      "== Physical Plan ==\n",
      "*(3) Project [cast(tpep_pickup_datetime#17 as date) AS pickup_date#76, hour(cast(tpep_pickup_datetime#17 as timestamp), Some(Asia/Seoul)) AS pickup_time#78]\n",
      "+- *(3) BroadcastHashJoin [DOLocationID#24], [LocationID#82], LeftOuter, BuildRight, false\n",
      "   :- *(3) Project [tpep_pickup_datetime#17, DOLocationID#24]\n",
      "   :  +- *(3) BroadcastHashJoin [PULocationID#23], [LocationID#68], LeftOuter, BuildRight, false\n",
      "   :     :- *(3) Filter (isnotnull(tpep_pickup_datetime#17) AND (cast(tpep_pickup_datetime#17 as date) < 18627))\n",
      "   :     :  +- FileScan csv [tpep_pickup_datetime#17,PULocationID#23,DOLocationID#24] Batched: false, DataFilters: [isnotnull(tpep_pickup_datetime#17), (cast(tpep_pickup_datetime#17 as date) < 18627)], Format: CSV, Location: InMemoryFileIndex[file:/home/lab10/git_project/src/data/trip/yellow_tripdata_2021-01.csv, file:/h..., PartitionFilters: [], PushedFilters: [IsNotNull(tpep_pickup_datetime)], ReadSchema: struct<tpep_pickup_datetime:string,PULocationID:int,DOLocationID:int>\n",
      "   :     +- BroadcastExchange HashedRelationBroadcastMode(List(cast(input[0, int, false] as bigint)),false), [id=#468]\n",
      "   :        +- *(1) Filter isnotnull(LocationID#68)\n",
      "   :           +- FileScan csv [LocationID#68] Batched: false, DataFilters: [isnotnull(LocationID#68)], Format: CSV, Location: InMemoryFileIndex[file:/home/lab10/git_project/src/data/taxi+_zone_lookup.csv], PartitionFilters: [], PushedFilters: [IsNotNull(LocationID)], ReadSchema: struct<LocationID:int>\n",
      "   +- ReusedExchange [LocationID#82], BroadcastExchange HashedRelationBroadcastMode(List(cast(input[0, int, false] as bigint)),false), [id=#468]\n",
      "\n",
      "\n"
     ]
    }
   ],
   "source": [
    "spark.sql(query).explain()"
   ]
  },
  {
   "cell_type": "code",
   "execution_count": 20,
   "id": "c264d5f6",
   "metadata": {},
   "outputs": [],
   "source": [
    "#실행계획, 실행결과 (4040)"
   ]
  },
  {
   "cell_type": "code",
   "execution_count": 21,
   "id": "4fce45a8",
   "metadata": {},
   "outputs": [
    {
     "name": "stdout",
     "output_type": "stream",
     "text": [
      "+-----------+-----------+\n",
      "|pickup_date|pickup_time|\n",
      "+-----------+-----------+\n",
      "| 2021-03-01|          1|\n",
      "| 2021-03-01|          1|\n",
      "| 2021-03-01|          1|\n",
      "| 2021-03-01|          1|\n",
      "| 2021-03-01|          1|\n",
      "| 2021-03-01|          1|\n",
      "| 2021-03-01|          1|\n",
      "| 2021-03-01|          1|\n",
      "| 2021-03-01|          1|\n",
      "| 2021-03-01|          1|\n",
      "| 2021-03-01|          1|\n",
      "| 2021-03-01|          1|\n",
      "| 2021-03-01|          1|\n",
      "| 2021-03-01|          1|\n",
      "| 2021-03-01|          1|\n",
      "| 2021-03-01|          1|\n",
      "| 2021-03-01|          1|\n",
      "| 2021-03-01|          1|\n",
      "| 2021-03-01|          1|\n",
      "| 2021-03-01|          1|\n",
      "+-----------+-----------+\n",
      "only showing top 20 rows\n",
      "\n"
     ]
    }
   ],
   "source": [
    "query2 = '''\n",
    "select pickup_date, pickup_time\n",
    "from comb\n",
    "where pickup_time>0 and pickup_time <=12 \n",
    "'''\n",
    "spark.sql(query2).show()   "
   ]
  },
  {
   "cell_type": "code",
   "execution_count": 22,
   "id": "74f2a9a7",
   "metadata": {},
   "outputs": [
    {
     "name": "stdout",
     "output_type": "stream",
     "text": [
      "== Physical Plan ==\n",
      "*(3) Project [cast(tpep_pickup_datetime#17 as date) AS pickup_date#76, hour(cast(tpep_pickup_datetime#17 as timestamp), Some(Asia/Seoul)) AS pickup_time#78]\n",
      "+- *(3) BroadcastHashJoin [DOLocationID#24], [LocationID#82], LeftOuter, BuildRight, false\n",
      "   :- *(3) Project [tpep_pickup_datetime#17, DOLocationID#24]\n",
      "   :  +- *(3) BroadcastHashJoin [PULocationID#23], [LocationID#68], LeftOuter, BuildRight, false\n",
      "   :     :- *(3) Filter ((isnotnull(tpep_pickup_datetime#17) AND (hour(cast(tpep_pickup_datetime#17 as timestamp), Some(Asia/Seoul)) > 0)) AND (hour(cast(tpep_pickup_datetime#17 as timestamp), Some(Asia/Seoul)) <= 12))\n",
      "   :     :  +- FileScan csv [tpep_pickup_datetime#17,PULocationID#23,DOLocationID#24] Batched: false, DataFilters: [isnotnull(tpep_pickup_datetime#17), (hour(cast(tpep_pickup_datetime#17 as timestamp), Some(Asia/..., Format: CSV, Location: InMemoryFileIndex[file:/home/lab10/git_project/src/data/trip/yellow_tripdata_2021-01.csv, file:/h..., PartitionFilters: [], PushedFilters: [IsNotNull(tpep_pickup_datetime)], ReadSchema: struct<tpep_pickup_datetime:string,PULocationID:int,DOLocationID:int>\n",
      "   :     +- BroadcastExchange HashedRelationBroadcastMode(List(cast(input[0, int, false] as bigint)),false), [id=#643]\n",
      "   :        +- *(1) Filter isnotnull(LocationID#68)\n",
      "   :           +- FileScan csv [LocationID#68] Batched: false, DataFilters: [isnotnull(LocationID#68)], Format: CSV, Location: InMemoryFileIndex[file:/home/lab10/git_project/src/data/taxi+_zone_lookup.csv], PartitionFilters: [], PushedFilters: [IsNotNull(LocationID)], ReadSchema: struct<LocationID:int>\n",
      "   +- ReusedExchange [LocationID#82], BroadcastExchange HashedRelationBroadcastMode(List(cast(input[0, int, false] as bigint)),false), [id=#643]\n",
      "\n",
      "\n"
     ]
    }
   ],
   "source": [
    "spark.sql(query2).explain()"
   ]
  },
  {
   "cell_type": "code",
   "execution_count": 23,
   "id": "fef362db",
   "metadata": {},
   "outputs": [],
   "source": [
    "query3 = '''\n",
    "select pickup_date , count(*) as trip_count\n",
    "from comb \n",
    "where pickup_time > 0\n",
    "group by pickup_date\n",
    "order by pickup_date\n",
    "'''"
   ]
  },
  {
   "cell_type": "code",
   "execution_count": 24,
   "id": "672f3702",
   "metadata": {
    "scrolled": true
   },
   "outputs": [
    {
     "name": "stderr",
     "output_type": "stream",
     "text": [
      "[Stage 19:===================================================>  (189 + 3) / 200]\r"
     ]
    },
    {
     "name": "stdout",
     "output_type": "stream",
     "text": [
      "+-----------+----------+\n",
      "|pickup_date|trip_count|\n",
      "+-----------+----------+\n",
      "| 2002-12-31|         1|\n",
      "| 2003-01-05|         1|\n",
      "| 2004-04-04|         1|\n",
      "| 2008-12-31|        26|\n",
      "| 2009-01-01|        46|\n",
      "| 2020-12-31|        16|\n",
      "| 2021-01-01|     23649|\n",
      "| 2021-01-02|     34045|\n",
      "| 2021-01-03|     25881|\n",
      "| 2021-01-04|     44210|\n",
      "| 2021-01-05|     46539|\n",
      "| 2021-01-06|     49210|\n",
      "| 2021-01-07|     50013|\n",
      "| 2021-01-08|     50122|\n",
      "| 2021-01-09|     39407|\n",
      "| 2021-01-10|     29275|\n",
      "| 2021-01-11|     46568|\n",
      "| 2021-01-12|     49878|\n",
      "| 2021-01-13|     51045|\n",
      "| 2021-01-14|     52763|\n",
      "+-----------+----------+\n",
      "only showing top 20 rows\n",
      "\n"
     ]
    },
    {
     "name": "stderr",
     "output_type": "stream",
     "text": [
      "\r",
      "                                                                                \r"
     ]
    }
   ],
   "source": [
    "spark.sql(query3).show()   "
   ]
  },
  {
   "cell_type": "code",
   "execution_count": 48,
   "id": "1e3a552d",
   "metadata": {
    "scrolled": true
   },
   "outputs": [
    {
     "name": "stdout",
     "output_type": "stream",
     "text": [
      "== Physical Plan ==\n",
      "*(5) Sort [pickup_date#94 ASC NULLS FIRST], true, 0\n",
      "+- Exchange rangepartitioning(pickup_date#94 ASC NULLS FIRST, 200), ENSURE_REQUIREMENTS, [id=#821]\n",
      "   +- *(4) HashAggregate(keys=[pickup_date#94], functions=[count(1)])\n",
      "      +- Exchange hashpartitioning(pickup_date#94, 200), ENSURE_REQUIREMENTS, [id=#817]\n",
      "         +- *(3) HashAggregate(keys=[pickup_date#94], functions=[partial_count(1)])\n",
      "            +- *(3) Project [cast(tpep_pickup_datetime#17 as date) AS pickup_date#94]\n",
      "               +- *(3) BroadcastHashJoin [DOLocationID#24], [LocationID#100], LeftOuter, BuildRight, false\n",
      "                  :- *(3) Project [tpep_pickup_datetime#17, DOLocationID#24]\n",
      "                  :  +- *(3) BroadcastHashJoin [PULocationID#23], [LocationID#68], LeftOuter, BuildRight, false\n",
      "                  :     :- *(3) Filter (isnotnull(tpep_pickup_datetime#17) AND (hour(cast(tpep_pickup_datetime#17 as timestamp), Some(Asia/Seoul)) > 0))\n",
      "                  :     :  +- FileScan csv [tpep_pickup_datetime#17,PULocationID#23,DOLocationID#24] Batched: false, DataFilters: [isnotnull(tpep_pickup_datetime#17), (hour(cast(tpep_pickup_datetime#17 as timestamp), Some(Asia/..., Format: CSV, Location: InMemoryFileIndex[file:/home/lab10/git_project/src/data/trip/yellow_tripdata_2021-01.csv, file:/h..., PartitionFilters: [], PushedFilters: [IsNotNull(tpep_pickup_datetime)], ReadSchema: struct<tpep_pickup_datetime:string,PULocationID:int,DOLocationID:int>\n",
      "                  :     +- BroadcastExchange HashedRelationBroadcastMode(List(cast(input[0, int, false] as bigint)),false), [id=#778]\n",
      "                  :        +- *(1) Filter isnotnull(LocationID#68)\n",
      "                  :           +- FileScan csv [LocationID#68] Batched: false, DataFilters: [isnotnull(LocationID#68)], Format: CSV, Location: InMemoryFileIndex[file:/home/lab10/git_project/src/data/taxi+_zone_lookup.csv], PartitionFilters: [], PushedFilters: [IsNotNull(LocationID)], ReadSchema: struct<LocationID:int>\n",
      "                  +- ReusedExchange [LocationID#100], BroadcastExchange HashedRelationBroadcastMode(List(cast(input[0, int, false] as bigint)),false), [id=#778]\n",
      "\n",
      "\n"
     ]
    }
   ],
   "source": [
    "spark.sql(query3).explain()   "
   ]
  },
  {
   "cell_type": "code",
   "execution_count": null,
   "id": "97e74e05",
   "metadata": {},
   "outputs": [],
   "source": [
    "# 위와 비교 "
   ]
  },
  {
   "cell_type": "code",
   "execution_count": null,
   "id": "37de6af3",
   "metadata": {},
   "outputs": [],
   "source": []
  },
  {
   "cell_type": "code",
   "execution_count": null,
   "id": "b9917968",
   "metadata": {},
   "outputs": [],
   "source": [
    "# 퀴리 분석 "
   ]
  },
  {
   "cell_type": "code",
   "execution_count": 29,
   "id": "4f3ba728",
   "metadata": {},
   "outputs": [
    {
     "name": "stderr",
     "output_type": "stream",
     "text": [
      "[Stage 34:==================================================>     (10 + 1) / 11]\r"
     ]
    },
    {
     "name": "stdout",
     "output_type": "stream",
     "text": [
      "+--------------------+\n",
      "|         correlation|\n",
      "+--------------------+\n",
      "|0.001048464398956...|\n",
      "+--------------------+\n",
      "\n"
     ]
    },
    {
     "name": "stderr",
     "output_type": "stream",
     "text": [
      "\r",
      "                                                                                \r"
     ]
    }
   ],
   "source": [
    "#1. 운행 거리와 요금의 상관관계 분석  > 쿼리, 데이터프레임으로 구현\n",
    "\n",
    "\n",
    "query='''\n",
    "SELECT corr(trip_distance, fare_amount) AS correlation\n",
    "FROM trip\n",
    "'''\n",
    "\n",
    "spark.sql(query).show()"
   ]
  },
  {
   "cell_type": "code",
   "execution_count": 30,
   "id": "bf78fefe",
   "metadata": {
    "scrolled": true
   },
   "outputs": [
    {
     "name": "stderr",
     "output_type": "stream",
     "text": [
      "[Stage 36:==================================================>     (10 + 1) / 11]\r"
     ]
    },
    {
     "name": "stdout",
     "output_type": "stream",
     "text": [
      " Correlation between trip_distance and fare_amount: 0.0010484643989563014\n"
     ]
    },
    {
     "name": "stderr",
     "output_type": "stream",
     "text": [
      "\r",
      "                                                                                \r"
     ]
    }
   ],
   "source": [
    "#DataFrame\n",
    "correlation= trips_df.stat.corr(\"trip_distance\", \"fare_amount\")\n",
    "print(f\" Correlation between trip_distance and fare_amount: {correlation}\")"
   ]
  },
  {
   "cell_type": "code",
   "execution_count": 37,
   "id": "e383c038",
   "metadata": {},
   "outputs": [
    {
     "data": {
      "image/png": "[encoded data removed]",
      "text/plain": [
       "<Figure size 1000x600 with 1 Axes>"
      ]
     },
     "metadata": {},
     "output_type": "display_data"
    }
   ],
   "source": [
    "import matplotlib.pyplot as plt\n",
    "import pandas as pd\n",
    "\n",
    "pandas_df = trips_df.select(\"trip_distance\", \"fare_amount\").limit(1000).toPandas()\n",
    "\n",
    "plt.figure(figsize=(10, 6))\n",
    "plt.scatter(pandas_df[\"trip_distance\"], pandas_df[\"fare_amount\"], alpha=0.7, edgecolors='k')\n",
    "plt.title(\"Scatter Plot: Trip Distance vs Fare Amount\", fontsize=14)\n",
    "plt.xlabel(\"Trip Distance (miles)\", fontsize=12)\n",
    "plt.ylabel(\"Fare Amount ($)\", fontsize=12)\n",
    "plt.grid(True)\n",
    "plt.show()\n"
   ]
  },
  {
   "cell_type": "code",
   "execution_count": 33,
   "id": "55540ab7",
   "metadata": {
    "scrolled": true
   },
   "outputs": [
    {
     "name": "stdout",
     "output_type": "stream",
     "text": [
      "Collecting pandas\n",
      "  Downloading pandas-2.0.3-cp38-cp38-manylinux_2_17_x86_64.manylinux2014_x86_64.whl.metadata (18 kB)\n",
      "Requirement already satisfied: python-dateutil>=2.8.2 in /home/ubuntu/anaconda3/envs/spark_start/lib/python3.8/site-packages (from pandas) (2.9.0.post0)\n",
      "Collecting pytz>=2020.1 (from pandas)\n",
      "  Downloading pytz-2024.2-py2.py3-none-any.whl.metadata (22 kB)\n",
      "Collecting tzdata>=2022.1 (from pandas)\n",
      "  Downloading tzdata-2024.2-py2.py3-none-any.whl.metadata (1.4 kB)\n",
      "Requirement already satisfied: numpy>=1.20.3 in /home/ubuntu/anaconda3/envs/spark_start/lib/python3.8/site-packages (from pandas) (1.24.4)\n",
      "Requirement already satisfied: six>=1.5 in /home/ubuntu/anaconda3/envs/spark_start/lib/python3.8/site-packages (from python-dateutil>=2.8.2->pandas) (1.16.0)\n",
      "Downloading pandas-2.0.3-cp38-cp38-manylinux_2_17_x86_64.manylinux2014_x86_64.whl (12.4 MB)\n",
      "\u001b[2K   \u001b[90m━━━━━━━━━━━━━━━━━━━━━━━━━━━━━━━━━━━━━━━━\u001b[0m \u001b[32m12.4/12.4 MB\u001b[0m \u001b[31m168.6 MB/s\u001b[0m eta \u001b[36m0:00:00\u001b[0m\n",
      "\u001b[?25hDownloading pytz-2024.2-py2.py3-none-any.whl (508 kB)\n",
      "Downloading tzdata-2024.2-py2.py3-none-any.whl (346 kB)\n",
      "Installing collected packages: pytz, tzdata, pandas\n",
      "Successfully installed pandas-2.0.3 pytz-2024.2 tzdata-2024.2\n"
     ]
    }
   ],
   "source": [
    "!pip install pandas"
   ]
  },
  {
   "cell_type": "code",
   "execution_count": 34,
   "id": "49a66c48",
   "metadata": {},
   "outputs": [
    {
     "name": "stdout",
     "output_type": "stream",
     "text": [
      "Requirement already satisfied: matplotlib in /home/ubuntu/anaconda3/envs/spark_start/lib/python3.8/site-packages (3.7.5)\n",
      "Requirement already satisfied: contourpy>=1.0.1 in /home/ubuntu/anaconda3/envs/spark_start/lib/python3.8/site-packages (from matplotlib) (1.1.1)\n",
      "Requirement already satisfied: cycler>=0.10 in /home/ubuntu/anaconda3/envs/spark_start/lib/python3.8/site-packages (from matplotlib) (0.12.1)\n",
      "Requirement already satisfied: fonttools>=4.22.0 in /home/ubuntu/anaconda3/envs/spark_start/lib/python3.8/site-packages (from matplotlib) (4.55.2)\n",
      "Requirement already satisfied: kiwisolver>=1.0.1 in /home/ubuntu/anaconda3/envs/spark_start/lib/python3.8/site-packages (from matplotlib) (1.4.7)\n",
      "Requirement already satisfied: numpy<2,>=1.20 in /home/ubuntu/anaconda3/envs/spark_start/lib/python3.8/site-packages (from matplotlib) (1.24.4)\n",
      "Requirement already satisfied: packaging>=20.0 in /home/ubuntu/anaconda3/envs/spark_start/lib/python3.8/site-packages (from matplotlib) (24.2)\n",
      "Requirement already satisfied: pillow>=6.2.0 in /home/ubuntu/anaconda3/envs/spark_start/lib/python3.8/site-packages (from matplotlib) (10.4.0)\n",
      "Requirement already satisfied: pyparsing>=2.3.1 in /home/ubuntu/anaconda3/envs/spark_start/lib/python3.8/site-packages (from matplotlib) (3.1.4)\n",
      "Requirement already satisfied: python-dateutil>=2.7 in /home/ubuntu/anaconda3/envs/spark_start/lib/python3.8/site-packages (from matplotlib) (2.9.0.post0)\n",
      "Requirement already satisfied: importlib-resources>=3.2.0 in /home/ubuntu/anaconda3/envs/spark_start/lib/python3.8/site-packages (from matplotlib) (6.4.5)\n",
      "Requirement already satisfied: zipp>=3.1.0 in /home/ubuntu/anaconda3/envs/spark_start/lib/python3.8/site-packages (from importlib-resources>=3.2.0->matplotlib) (3.20.2)\n",
      "Requirement already satisfied: six>=1.5 in /home/ubuntu/anaconda3/envs/spark_start/lib/python3.8/site-packages (from python-dateutil>=2.7->matplotlib) (1.16.0)\n",
      "Note: you may need to restart the kernel to use updated packages.\n"
     ]
    }
   ],
   "source": [
    "pip install matplotlib"
   ]
  },
  {
   "cell_type": "code",
   "execution_count": 24,
   "id": "cef8b83b",
   "metadata": {
    "scrolled": true
   },
   "outputs": [],
   "source": [
    "# 2. 피크 시간대 요금 분석\n",
    "\n",
    "query='''\n",
    "SELECT HOUR(tpep_pickup_datetime)AS pickup_hour,\n",
    "       COUNT(*)AS trip_count\n",
    "FROM trip\n",
    "GROUP BY HOUR(tpep_pickup_datetime)\n",
    "ORDER BY trip_count DESC;\n",
    "\n",
    "'''"
   ]
  },
  {
   "cell_type": "code",
   "execution_count": 25,
   "id": "1bd56c8c",
   "metadata": {},
   "outputs": [
    {
     "name": "stderr",
     "output_type": "stream",
     "text": [
      "[Stage 16:==================================================>   (188 + 2) / 200]\r"
     ]
    },
    {
     "name": "stdout",
     "output_type": "stream",
     "text": [
      "+-----------+----------+\n",
      "|pickup_hour|trip_count|\n",
      "+-----------+----------+\n",
      "|         15|   1091871|\n",
      "|         18|   1087217|\n",
      "|         17|   1085226|\n",
      "|         14|   1084111|\n",
      "|         16|   1043498|\n",
      "|         13|   1001522|\n",
      "|         12|    970018|\n",
      "|         19|    915477|\n",
      "|         11|    877952|\n",
      "|         10|    794621|\n",
      "|          9|    712912|\n",
      "|         20|    703748|\n",
      "|          8|    641530|\n",
      "|         21|    618735|\n",
      "|         22|    548863|\n",
      "|          7|    438938|\n",
      "|         23|    426957|\n",
      "|          0|    273553|\n",
      "|          6|    241020|\n",
      "|          1|    160424|\n",
      "+-----------+----------+\n",
      "only showing top 20 rows\n",
      "\n"
     ]
    },
    {
     "name": "stderr",
     "output_type": "stream",
     "text": [
      "\r",
      "                                                                                \r"
     ]
    }
   ],
   "source": [
    "spark.sql(query).show()"
   ]
  },
  {
   "cell_type": "code",
   "execution_count": 26,
   "id": "cc4cae7e",
   "metadata": {
    "scrolled": true
   },
   "outputs": [
    {
     "name": "stderr",
     "output_type": "stream",
     "text": [
      "[Stage 18:=========================================>            (153 + 2) / 200]\r"
     ]
    },
    {
     "name": "stdout",
     "output_type": "stream",
     "text": [
      "+------------+----------+--------------------+-------------------+-------------------+--------------------+\n",
      "|payment_type|trip_count|          total_fare|           avg_fare|          total_tip|             avg_tip|\n",
      "+------------+----------+--------------------+-------------------+-------------------+--------------------+\n",
      "|           1|  10716903|1.3096067498999453E8|   12.2200112280567|3.086741502000679E7|  2.8802551464734534|\n",
      "|        null|    834028|2.1754020310008034E7|  26.08308151525852| 1335652.4599999941|  1.6014479849597305|\n",
      "|           2|   3308670| 3.947409457999995E7| 11.930502159477964| 1138.6399999999999|3.441382791272625...|\n",
      "|           4|     59664| -124146.77999999997|-2.0807652855993557|  352.5900000000001|0.005909593724859213|\n",
      "|           5|         1|                17.8|               17.8|                0.0|                 0.0|\n",
      "|           3|     81434|  1334764.2100000002| 16.390748458874675|-1092.5699999999997|-0.01341663187366456|\n",
      "+------------+----------+--------------------+-------------------+-------------------+--------------------+\n",
      "\n"
     ]
    },
    {
     "name": "stderr",
     "output_type": "stream",
     "text": [
      "\r",
      "[Stage 18:=================================================>    (185 + 2) / 200]\r",
      "\r",
      "                                                                                \r"
     ]
    }
   ],
   "source": [
    "# 3. 지불 유형별 요금, 팁 분석\n",
    "query='''\n",
    "SELECT\n",
    "    payment_type,\n",
    "    COUNT(*)AS trip_count,\n",
    "    SUM(fare_amount)AS total_fare,\n",
    "    AVG(fare_amount)AS avg_fare,\n",
    "    SUM(tip_amount)AS total_tip,\n",
    "    AVG(tip_amount)AS avg_tip\n",
    "FROM trip\n",
    "GROUP BY payment_type\n",
    "ORDER BY total_tip DESC;\n",
    "'''\n",
    "spark.sql(query).show()"
   ]
  },
  {
   "cell_type": "code",
   "execution_count": 27,
   "id": "be1a42ab",
   "metadata": {},
   "outputs": [],
   "source": [
    "# 4. 승차지역/하차지역별 평균거리, 요금\n",
    "query='''\n",
    "SELECT PULocationID, DOLocationID, AVG(trip_distance)AS avg_trip_distance, AVG(fare_amount) AS avg_fare_amount\n",
    "FROM trip\n",
    "GROUP BY PULocationID,DOLocationID\n",
    "ORDER BY avg_trip_distance DESC\n",
    "'''\n"
   ]
  },
  {
   "cell_type": "code",
   "execution_count": 28,
   "id": "e2ffaddd",
   "metadata": {},
   "outputs": [
    {
     "name": "stderr",
     "output_type": "stream",
     "text": [
      "[Stage 20:======================================>               (141 + 2) / 200]\r"
     ]
    },
    {
     "name": "stdout",
     "output_type": "stream",
     "text": [
      "+------------+------------+------------------+------------------+\n",
      "|PULocationID|DOLocationID| avg_trip_distance|   avg_fare_amount|\n",
      "+------------+------------+------------------+------------------+\n",
      "|         131|         185|         205266.12|             37.53|\n",
      "|         128|         205|         167305.08|              65.9|\n",
      "|         175|          89|         131123.07|             57.63|\n",
      "|          26|          56|          126653.9|             44.91|\n",
      "|         147|         127|          77093.46|             18.24|\n",
      "|          80|         200|         70968.425|44.495000000000005|\n",
      "|         127|         182| 65796.09250000001|           28.5225|\n",
      "|         215|          46|          56564.13|             41.41|\n",
      "|         136|         193|          54215.12|             27.82|\n",
      "|         131|          69|52683.263333333336|             40.36|\n",
      "|          51|          49|49552.270000000004|              61.3|\n",
      "|          29|          37|         45886.492|              48.1|\n",
      "|         116|         139| 41189.96666666667|             49.69|\n",
      "|         126|         263|        32914.5775|19.650000000000002|\n",
      "|         108|         142|          31690.14|43.504999999999995|\n",
      "|          77|         127|        31568.9575|           61.5775|\n",
      "|         165|         113|29940.403333333335| 32.88666666666666|\n",
      "|         222|         116| 29903.07666666667| 43.53333333333333|\n",
      "|         213|         125|29279.048749999998|          41.86125|\n",
      "|         174|         193|28037.877999999997|32.096000000000004|\n",
      "+------------+------------+------------------+------------------+\n",
      "only showing top 20 rows\n",
      "\n"
     ]
    },
    {
     "name": "stderr",
     "output_type": "stream",
     "text": [
      "\r",
      "[Stage 20:===============================================>      (177 + 2) / 200]\r",
      "\r",
      "                                                                                \r"
     ]
    }
   ],
   "source": [
    "spark.sql(query).show()"
   ]
  },
  {
   "cell_type": "code",
   "execution_count": null,
   "id": "72f80937",
   "metadata": {},
   "outputs": [],
   "source": []
  },
  {
   "cell_type": "code",
   "execution_count": 31,
   "id": "03bf8176",
   "metadata": {},
   "outputs": [],
   "source": [
    "# 5. 팁의 비율에 따른 거리, 여행 건수 서비스 관련 분석\n",
    "query='''\n",
    "SELECT CASE \n",
    "            WHEN (tip_amount /fare_amount) >= 0.2 THEN 'High Tip'\n",
    "            WHEN (tip_amount/fare_amount) BETWEEN 0.1 AND 0.2 THEN 'Medium Tip'\n",
    "            ELSE 'Low Tip'\n",
    "        END AS tip_group,\n",
    "        AVG(trip_distance) AS avg_trip_distance,\n",
    "        COUNT(*) AS trip_count\n",
    "FROM trip\n",
    "WHERE fare_amount >0\n",
    "      AND tip_amount >=0\n",
    "GROUP BY tip_group\n",
    "ORDER BY trip_count DESC;\n",
    "'''"
   ]
  },
  {
   "cell_type": "code",
   "execution_count": 32,
   "id": "645c73f9",
   "metadata": {},
   "outputs": [
    {
     "name": "stderr",
     "output_type": "stream",
     "text": [
      "[Stage 22:==================================================>   (187 + 2) / 200]\r"
     ]
    },
    {
     "name": "stdout",
     "output_type": "stream",
     "text": [
      "+----------+------------------+----------+\n",
      "| tip_group| avg_trip_distance|trip_count|\n",
      "+----------+------------------+----------+\n",
      "|  High Tip|3.6034455263086373|   8575938|\n",
      "|   Low Tip|12.426316686087926|   4713052|\n",
      "|Medium Tip| 5.785072667773372|   1636076|\n",
      "+----------+------------------+----------+\n",
      "\n"
     ]
    },
    {
     "name": "stderr",
     "output_type": "stream",
     "text": [
      "\r",
      "                                                                                \r"
     ]
    }
   ],
   "source": [
    "spark.sql(query).show()"
   ]
  },
  {
   "cell_type": "code",
   "execution_count": null,
   "id": "7a728ea3",
   "metadata": {},
   "outputs": [],
   "source": []
  },
  {
   "cell_type": "code",
   "execution_count": null,
   "id": "257d683a",
   "metadata": {},
   "outputs": [],
   "source": []
  },
  {
   "cell_type": "code",
   "execution_count": null,
   "id": "af024e2d",
   "metadata": {},
   "outputs": [],
   "source": []
  },
  {
   "cell_type": "code",
   "execution_count": null,
   "id": "b5a9d774",
   "metadata": {},
   "outputs": [],
   "source": []
  },
  {
   "cell_type": "code",
   "execution_count": null,
   "id": "72d400c6",
   "metadata": {},
   "outputs": [],
   "source": []
  },
  {
   "cell_type": "code",
   "execution_count": null,
   "id": "b48c4620",
   "metadata": {},
   "outputs": [],
   "source": []
  },
  {
   "cell_type": "code",
   "execution_count": null,
   "id": "e429acc9",
   "metadata": {},
   "outputs": [],
   "source": []
  },
  {
   "cell_type": "code",
   "execution_count": null,
   "id": "584ae222",
   "metadata": {},
   "outputs": [],
   "source": []
  }
 ],
 "metadata": {
  "kernelspec": {
   "display_name": "Python (spark_start)",
   "language": "python",
   "name": "spark_start"
  },
  "language_info": {
   "codemirror_mode": {
    "name": "ipython",
    "version": 3
   },
   "file_extension": ".py",
   "mimetype": "text/x-python",
   "name": "python",
   "nbconvert_exporter": "python",
   "pygments_lexer": "ipython3",
   "version": "3.8.20"
  }
 },
 "nbformat": 4,
 "nbformat_minor": 5
}
