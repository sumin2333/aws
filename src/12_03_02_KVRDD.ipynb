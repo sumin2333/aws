{
 "cells": [
  {
   "cell_type": "code",
   "execution_count": 40,
   "id": "fd633814",
   "metadata": {},
   "outputs": [
    {
     "name": "stderr",
     "output_type": "stream",
     "text": [
      "24/12/03 15:38:03 WARN Utils: Service 'SparkUI' could not bind on port 4040. Attempting port 4041.\n"
     ]
    }
   ],
   "source": [
    "from pyspark import SparkConf, SparkContext\n",
    "# 스파크 환경 설정 객체 생성\n",
    "conf = SparkConf().setMaster(\"local\").setAppName(\"restaurant-review-average\")\n",
    "spark =SparkContext(conf=conf).getOrCreate()"
   ]
  },
  {
   "cell_type": "code",
   "execution_count": 12,
   "id": "f47e93be",
   "metadata": {},
   "outputs": [
    {
     "data": {
      "text/plain": [
       "file:///home/lab10/src/data/restaurant_reviews.csv MapPartitionsRDD[1] at textFile at NativeMethodAccessorImpl.java:0"
      ]
     },
     "execution_count": 12,
     "metadata": {},
     "output_type": "execute_result"
    }
   ],
   "source": [
    "import os\n",
    "directory= os.path.join(os.getcwd(),\"data\") #directory에 저장 \n",
    "filename= \"restaurant_reviews.csv\"\n",
    "filepath= os.path.join(directory, filename) #파일데이터 path로 연결 \n",
    "\n",
    "#RDD생성 \n",
    "lines= spark.textFile(\"file://\"+filepath.replace(\"\\\\\", \"/\"))\n",
    "lines"
   ]
  },
  {
   "cell_type": "code",
   "execution_count": 13,
   "id": "ab14535d",
   "metadata": {},
   "outputs": [
    {
     "data": {
      "text/plain": [
       "['id,item,cateogry,reviews,',\n",
       " '0,짜장면,중식,125,',\n",
       " '1,짬뽕,중식,235,',\n",
       " '2,김밥,분식,32,',\n",
       " '3,떡볶이,분식,534,']"
      ]
     },
     "execution_count": 13,
     "metadata": {},
     "output_type": "execute_result"
    }
   ],
   "source": [
    "lines.take(5)"
   ]
  },
  {
   "cell_type": "code",
   "execution_count": 18,
   "id": "4f5a04a7",
   "metadata": {},
   "outputs": [],
   "source": [
    "header= lines.first()\n",
    "filtered_lines= lines.filter(lambda row: row !=header)"
   ]
  },
  {
   "cell_type": "code",
   "execution_count": 19,
   "id": "2c858854",
   "metadata": {},
   "outputs": [
    {
     "data": {
      "text/plain": [
       "['0,짜장면,중식,125,',\n",
       " '1,짬뽕,중식,235,',\n",
       " '2,김밥,분식,32,',\n",
       " '3,떡볶이,분식,534,',\n",
       " '4,라멘,일식,223,']"
      ]
     },
     "execution_count": 19,
     "metadata": {},
     "output_type": "execute_result"
    }
   ],
   "source": [
    "filtered_lines.take(5)"
   ]
  },
  {
   "cell_type": "code",
   "execution_count": 21,
   "id": "a1beb3d4",
   "metadata": {},
   "outputs": [],
   "source": [
    "def parse(row):\n",
    "    fields=row.split(\",\")\n",
    "    category = fields[2]\n",
    "    reviews=int(fields[3])\n",
    "    \n",
    "    return category,reviews"
   ]
  },
  {
   "cell_type": "code",
   "execution_count": 22,
   "id": "6c98c948",
   "metadata": {},
   "outputs": [
    {
     "data": {
      "text/plain": [
       "('중식', 125)"
      ]
     },
     "execution_count": 22,
     "metadata": {},
     "output_type": "execute_result"
    }
   ],
   "source": [
    "parse('0,짜장면,중식,125,')"
   ]
  },
  {
   "cell_type": "code",
   "execution_count": 23,
   "id": "07d1ea06",
   "metadata": {},
   "outputs": [],
   "source": [
    "# RDD 내 모든 row에 대해 parse()를 적용한 다음, map()추출"
   ]
  },
  {
   "cell_type": "code",
   "execution_count": 26,
   "id": "fca92f39",
   "metadata": {},
   "outputs": [],
   "source": [
    "category_reviews= filtered_lines.map(parse)"
   ]
  },
  {
   "cell_type": "code",
   "execution_count": 27,
   "id": "36b6d3e9",
   "metadata": {},
   "outputs": [
    {
     "data": {
      "text/plain": [
       "[('중식', 125), ('중식', 235), ('분식', 32), ('분식', 534), ('일식', 223)]"
      ]
     },
     "execution_count": 27,
     "metadata": {},
     "output_type": "execute_result"
    }
   ],
   "source": [
    "category_reviews.take(5)"
   ]
  },
  {
   "cell_type": "code",
   "execution_count": 29,
   "id": "1cb414fc",
   "metadata": {},
   "outputs": [
    {
     "data": {
      "text/plain": [
       "[('중식', (125, 1)), ('중식', (235, 1)), ('분식', (32, 1))]"
      ]
     },
     "execution_count": 29,
     "metadata": {},
     "output_type": "execute_result"
    }
   ],
   "source": [
    "category_review_count= category_reviews.mapValues(lambda x:(x,1))\n",
    "category_review_count.take(3)"
   ]
  },
  {
   "cell_type": "code",
   "execution_count": 33,
   "id": "3efe9113",
   "metadata": {},
   "outputs": [
    {
     "ename": "SyntaxError",
     "evalue": "invalid syntax (2871578972.py, line 2)",
     "output_type": "error",
     "traceback": [
      "\u001b[0;36m  Cell \u001b[0;32mIn[33], line 2\u001b[0;36m\u001b[0m\n\u001b[0;31m    첫번째 중식 > (125,1) -> x\u001b[0m\n\u001b[0m        ^\u001b[0m\n\u001b[0;31mSyntaxError\u001b[0m\u001b[0;31m:\u001b[0m invalid syntax\n"
     ]
    }
   ],
   "source": [
    "#실행 x\n",
    "'중식' (125,1)\n",
    "첫번째 중식 > (125,1) -> x\n",
    "두번째 중식 > (235,1) -> y\n",
    "리뷰의 갯수의 합= x[0] + y[0]\n",
    "건수의 합 = x[1] + y[1]"
   ]
  },
  {
   "cell_type": "code",
   "execution_count": 31,
   "id": "b2f335f3",
   "metadata": {},
   "outputs": [
    {
     "data": {
      "text/plain": [
       "[('중식', (360, 2)), ('분식', (566, 2)), ('일식', (287, 3))]"
      ]
     },
     "execution_count": 31,
     "metadata": {},
     "output_type": "execute_result"
    }
   ],
   "source": [
    "#카테고리별 합계 \n",
    "\n",
    "reduced_rdd= category_review_count.reduceByKey(lambda x,y: (x[0]+y[0], x[1]+y[1]))\n",
    "reduced_rdd.take(3)"
   ]
  },
  {
   "cell_type": "code",
   "execution_count": 34,
   "id": "70879f60",
   "metadata": {},
   "outputs": [
    {
     "data": {
      "text/plain": [
       "[('중식', (360, 2)),\n",
       " ('분식', (566, 2)),\n",
       " ('일식', (287, 3)),\n",
       " ('아시안', (312, 1)),\n",
       " ('패스트푸드', (35, 2))]"
      ]
     },
     "execution_count": 34,
     "metadata": {},
     "output_type": "execute_result"
    }
   ],
   "source": [
    "reduced_rdd.collect()"
   ]
  },
  {
   "cell_type": "code",
   "execution_count": 35,
   "id": "25323af9",
   "metadata": {},
   "outputs": [],
   "source": [
    "#평균\n",
    "average= reduced_rdd.mapValues(lambda x:x[0]/x[1])"
   ]
  },
  {
   "cell_type": "code",
   "execution_count": 36,
   "id": "6e498605",
   "metadata": {},
   "outputs": [
    {
     "data": {
      "text/plain": [
       "[('중식', 180.0),\n",
       " ('분식', 283.0),\n",
       " ('일식', 95.66666666666667),\n",
       " ('아시안', 312.0),\n",
       " ('패스트푸드', 17.5)]"
      ]
     },
     "execution_count": 36,
     "metadata": {},
     "output_type": "execute_result"
    }
   ],
   "source": [
    "average.collect()"
   ]
  },
  {
   "cell_type": "code",
   "execution_count": 37,
   "id": "803b9d92",
   "metadata": {},
   "outputs": [],
   "source": [
    "#데이터 추가 >메뉴별 합계와 평균"
   ]
  },
  {
   "cell_type": "code",
   "execution_count": 38,
   "id": "42fed512",
   "metadata": {},
   "outputs": [
    {
     "data": {
      "text/plain": [
       "['id,item,cateogry,reviews,',\n",
       " '0,짜장면,중식,125,',\n",
       " '1,짬뽕,중식,235,',\n",
       " '2,김밥,분식,32,',\n",
       " '3,떡볶이,분식,534,',\n",
       " '4,라멘,일식,223,',\n",
       " '5,돈가스,일식,52,',\n",
       " '6,우동,일식,12,']"
      ]
     },
     "execution_count": 38,
     "metadata": {},
     "output_type": "execute_result"
    }
   ],
   "source": [
    "lines.take(8)"
   ]
  },
  {
   "cell_type": "code",
   "execution_count": null,
   "id": "f4bfe98f",
   "metadata": {},
   "outputs": [],
   "source": []
  },
  {
   "cell_type": "code",
   "execution_count": null,
   "id": "7fa23677",
   "metadata": {},
   "outputs": [],
   "source": []
  },
  {
   "cell_type": "code",
   "execution_count": null,
   "id": "e4621dad",
   "metadata": {},
   "outputs": [],
   "source": []
  },
  {
   "cell_type": "code",
   "execution_count": null,
   "id": "403b56e3",
   "metadata": {},
   "outputs": [],
   "source": []
  },
  {
   "cell_type": "code",
   "execution_count": 39,
   "id": "fef6c82b",
   "metadata": {},
   "outputs": [],
   "source": [
    "spark.stop()"
   ]
  },
  {
   "cell_type": "code",
   "execution_count": null,
   "id": "0f1b34e9",
   "metadata": {},
   "outputs": [],
   "source": []
  }
 ],
 "metadata": {
  "kernelspec": {
   "display_name": "Python (spark_start)",
   "language": "python",
   "name": "spark_start"
  },
  "language_info": {
   "codemirror_mode": {
    "name": "ipython",
    "version": 3
   },
   "file_extension": ".py",
   "mimetype": "text/x-python",
   "name": "python",
   "nbconvert_exporter": "python",
   "pygments_lexer": "ipython3",
   "version": "3.8.20"
  }
 },
 "nbformat": 4,
 "nbformat_minor": 5
}
