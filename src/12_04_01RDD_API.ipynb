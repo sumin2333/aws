{
 "cells": [
  {
   "cell_type": "code",
   "execution_count": 2,
   "id": "26c8215d",
   "metadata": {},
   "outputs": [
    {
     "ename": "NameError",
     "evalue": "name 'spark' is not defined",
     "output_type": "error",
     "traceback": [
      "\u001b[0;31m---------------------------------------------------------------------------\u001b[0m",
      "\u001b[0;31mNameError\u001b[0m                                 Traceback (most recent call last)",
      "Cell \u001b[0;32mIn[2], line 1\u001b[0m\n\u001b[0;32m----> 1\u001b[0m \u001b[43mspark\u001b[49m\u001b[38;5;241m.\u001b[39mstop()\n",
      "\u001b[0;31mNameError\u001b[0m: name 'spark' is not defined"
     ]
    }
   ],
   "source": [
    "spark.stop()"
   ]
  },
  {
   "cell_type": "code",
   "execution_count": 3,
   "id": "4d048ad8",
   "metadata": {
    "scrolled": true
   },
   "outputs": [
    {
     "name": "stderr",
     "output_type": "stream",
     "text": [
      "24/12/04 14:12:11 WARN NativeCodeLoader: Unable to load native-hadoop library for your platform... using builtin-java classes where applicable\n",
      "Using Spark's default log4j profile: org/apache/spark/log4j-defaults.properties\n",
      "Setting default log level to \"WARN\".\n",
      "To adjust logging level use sc.setLogLevel(newLevel). For SparkR, use setLogLevel(newLevel).\n"
     ]
    }
   ],
   "source": [
    "from pyspark import SparkConf, SparkContext\n",
    "# 스파크 환경 설정 객체 생성\n",
    "conf = SparkConf().setMaster(\"local\").setAppName(\"241204_01_RDD_API\")\n",
    "spark =SparkContext(conf=conf).getOrCreate()"
   ]
  },
  {
   "cell_type": "code",
   "execution_count": 4,
   "id": "0c2384a2",
   "metadata": {},
   "outputs": [
    {
     "data": {
      "text/html": [
       "\n",
       "        <div>\n",
       "            <p><b>SparkContext</b></p>\n",
       "\n",
       "            <p><a href=\"http://ip-172-31-1-176.ap-northeast-3.compute.internal:4040\">Spark UI</a></p>\n",
       "\n",
       "            <dl>\n",
       "              <dt>Version</dt>\n",
       "                <dd><code>v3.1.2</code></dd>\n",
       "              <dt>Master</dt>\n",
       "                <dd><code>local</code></dd>\n",
       "              <dt>AppName</dt>\n",
       "                <dd><code>241204_01_RDD_API</code></dd>\n",
       "            </dl>\n",
       "        </div>\n",
       "        "
      ],
      "text/plain": [
       "<SparkContext master=local appName=241204_01_RDD_API>"
      ]
     },
     "execution_count": 4,
     "metadata": {},
     "output_type": "execute_result"
    }
   ],
   "source": [
    "spark"
   ]
  },
  {
   "cell_type": "code",
   "execution_count": 5,
   "id": "3ce5ec4d",
   "metadata": {},
   "outputs": [
    {
     "data": {
      "text/plain": [
       "ParallelCollectionRDD[0] at readRDDFromFile at PythonRDD.scala:274"
      ]
     },
     "execution_count": 5,
     "metadata": {},
     "output_type": "execute_result"
    }
   ],
   "source": [
    "foods= spark.parallelize([\"짜장면\", \"마라탕\", \"짬뽕\", \"떡볶이\", \"쌀국수\", \"짬뽕\", \"짜장면\", \"짜장면\", \"짜장면\", \"라면\", \"우동\", \"라면\"])\n",
    "foods"
   ]
  },
  {
   "cell_type": "code",
   "execution_count": 6,
   "id": "07a130a0",
   "metadata": {},
   "outputs": [
    {
     "name": "stderr",
     "output_type": "stream",
     "text": [
      "\r",
      "[Stage 0:>                                                          (0 + 1) / 1]\r",
      "\r",
      "                                                                                \r"
     ]
    },
    {
     "data": {
      "text/plain": [
       "['짜장면', '마라탕', '짬뽕', '떡볶이', '쌀국수', '짬뽕', '짜장면', '짜장면', '짜장면', '라면', '우동', '라면']"
      ]
     },
     "execution_count": 6,
     "metadata": {},
     "output_type": "execute_result"
    }
   ],
   "source": [
    "#모두 메모리로 올리기\n",
    "foods.collect()"
   ]
  },
  {
   "cell_type": "code",
   "execution_count": 7,
   "id": "5d3cba42",
   "metadata": {},
   "outputs": [
    {
     "data": {
      "text/plain": [
       "defaultdict(int,\n",
       "            {'짜장면': 4,\n",
       "             '마라탕': 1,\n",
       "             '짬뽕': 2,\n",
       "             '떡볶이': 1,\n",
       "             '쌀국수': 1,\n",
       "             '라면': 2,\n",
       "             '우동': 1})"
      ]
     },
     "execution_count": 7,
     "metadata": {},
     "output_type": "execute_result"
    }
   ],
   "source": [
    "#값을 기준으로 카운트 \n",
    "foods.countByValue()"
   ]
  },
  {
   "cell_type": "code",
   "execution_count": 8,
   "id": "6935e618",
   "metadata": {},
   "outputs": [
    {
     "data": {
      "text/plain": [
       "['짜장면', '마라탕', '짬뽕']"
      ]
     },
     "execution_count": 8,
     "metadata": {},
     "output_type": "execute_result"
    }
   ],
   "source": [
    "#상위 3개만 가져와 \n",
    "foods.take(3)"
   ]
  },
  {
   "cell_type": "code",
   "execution_count": 9,
   "id": "293e867d",
   "metadata": {},
   "outputs": [
    {
     "data": {
      "text/plain": [
       "'짜장면'"
      ]
     },
     "execution_count": 9,
     "metadata": {},
     "output_type": "execute_result"
    }
   ],
   "source": [
    "#처음 1개 가져오기\n",
    "foods.first()"
   ]
  },
  {
   "cell_type": "code",
   "execution_count": 10,
   "id": "5da4e97d",
   "metadata": {},
   "outputs": [
    {
     "data": {
      "text/plain": [
       "12"
      ]
     },
     "execution_count": 10,
     "metadata": {},
     "output_type": "execute_result"
    }
   ],
   "source": [
    "#RDD 갯수\n",
    "foods.count()"
   ]
  },
  {
   "cell_type": "code",
   "execution_count": 11,
   "id": "df2a398e",
   "metadata": {},
   "outputs": [
    {
     "data": {
      "text/plain": [
       "PythonRDD[9] at RDD at PythonRDD.scala:53"
      ]
     },
     "execution_count": 11,
     "metadata": {},
     "output_type": "execute_result"
    }
   ],
   "source": [
    "#중복 제거 목록 \n",
    "#Transformation 연산 - rdd를 새로 만듦 \n",
    "fd_dist=foods.distinct()\n",
    "fd_dist"
   ]
  },
  {
   "cell_type": "code",
   "execution_count": 12,
   "id": "ff0ef3c1",
   "metadata": {},
   "outputs": [
    {
     "data": {
      "text/plain": [
       "['짜장면', '마라탕', '짬뽕', '떡볶이', '쌀국수', '라면', '우동']"
      ]
     },
     "execution_count": 12,
     "metadata": {},
     "output_type": "execute_result"
    }
   ],
   "source": [
    "#action 연산 -변환을 끝내고 Result\n",
    "fd_dist.collect()"
   ]
  },
  {
   "cell_type": "code",
   "execution_count": 13,
   "id": "fcd346ef",
   "metadata": {},
   "outputs": [
    {
     "name": "stderr",
     "output_type": "stream",
     "text": [
      "짜장면\n",
      "마라탕\n",
      "짬뽕\n",
      "떡볶이\n",
      "쌀국수\n",
      "짬뽕\n",
      "짜장면\n",
      "짜장면\n",
      "짜장면\n",
      "라면\n",
      "우동\n",
      "라면\n"
     ]
    }
   ],
   "source": [
    "#워커노드에서 실행하는 기능 \n",
    "foods.foreach(lambda x: print(x))"
   ]
  },
  {
   "cell_type": "code",
   "execution_count": 14,
   "id": "ac09b48c",
   "metadata": {},
   "outputs": [],
   "source": [
    "foods.foreach(lambda x: x)"
   ]
  },
  {
   "cell_type": "code",
   "execution_count": 15,
   "id": "30c57e87",
   "metadata": {
    "scrolled": true
   },
   "outputs": [
    {
     "ename": "TypeError",
     "evalue": "filter expected 2 arguments, got 0",
     "output_type": "error",
     "traceback": [
      "\u001b[0;31m---------------------------------------------------------------------------\u001b[0m",
      "\u001b[0;31mTypeError\u001b[0m                                 Traceback (most recent call last)",
      "Cell \u001b[0;32mIn[15], line 2\u001b[0m\n\u001b[1;32m      1\u001b[0m \u001b[38;5;66;03m#Narrow Operation 1:1 연산 \u001b[39;00m\n\u001b[0;32m----> 2\u001b[0m \u001b[38;5;28;43mfilter\u001b[39;49m\u001b[43m(\u001b[49m\u001b[43m)\u001b[49m, \u001b[38;5;28mmap\u001b[39m(), flatmap(), sample(), union()\n",
      "\u001b[0;31mTypeError\u001b[0m: filter expected 2 arguments, got 0"
     ]
    }
   ],
   "source": [
    "#Narrow Operation 1:1 연산 \n",
    "filter(), map(), flatmap(), sample(), union()"
   ]
  },
  {
   "cell_type": "code",
   "execution_count": 16,
   "id": "34c27743",
   "metadata": {},
   "outputs": [],
   "source": [
    "sample_rdd= spark.parallelize([1,2,3,4,5])"
   ]
  },
  {
   "cell_type": "code",
   "execution_count": 17,
   "id": "e1a54609",
   "metadata": {},
   "outputs": [],
   "source": [
    "sample_rdd2= sample_rdd.map(lambda x: x+2) #d+2, 2+2 , 3+2 ..."
   ]
  },
  {
   "cell_type": "code",
   "execution_count": 18,
   "id": "afcbd993",
   "metadata": {},
   "outputs": [
    {
     "data": {
      "text/plain": [
       "[3, 4, 5, 6, 7]"
      ]
     },
     "execution_count": 18,
     "metadata": {},
     "output_type": "execute_result"
    }
   ],
   "source": [
    "sample_rdd2.collect()"
   ]
  },
  {
   "cell_type": "code",
   "execution_count": 19,
   "id": "61434ee2",
   "metadata": {},
   "outputs": [],
   "source": [
    "movies = [\n",
    "    \"그린 북\",\n",
    "    \"매트릭스\",\n",
    "    \"토이 스토리\",\n",
    "    \"캐스트 어웨이\",\n",
    "    \"포드 V 페라리\",\n",
    "    \"보헤미안 랩소디\",\n",
    "    \"빽 투 더 퓨처\",\n",
    "    \"반지의 제왕\",\n",
    "    \"죽은 시인의 사회\"\n",
    "]"
   ]
  },
  {
   "cell_type": "code",
   "execution_count": 20,
   "id": "89f53809",
   "metadata": {},
   "outputs": [],
   "source": [
    "moviesRDD= spark.parallelize(movies)"
   ]
  },
  {
   "cell_type": "code",
   "execution_count": 23,
   "id": "b8e09f15",
   "metadata": {},
   "outputs": [],
   "source": [
    "mapMovies= moviesRDD.map(lambda x: x.split(' '))"
   ]
  },
  {
   "cell_type": "code",
   "execution_count": 24,
   "id": "8965f0f2",
   "metadata": {},
   "outputs": [
    {
     "data": {
      "text/plain": [
       "[['그린', '북'],\n",
       " ['매트릭스'],\n",
       " ['토이', '스토리'],\n",
       " ['캐스트', '어웨이'],\n",
       " ['포드', 'V', '페라리'],\n",
       " ['보헤미안', '랩소디'],\n",
       " ['빽', '투', '더', '퓨처'],\n",
       " ['반지의', '제왕'],\n",
       " ['죽은', '시인의', '사회']]"
      ]
     },
     "execution_count": 24,
     "metadata": {},
     "output_type": "execute_result"
    }
   ],
   "source": [
    "mapMovies.collect()"
   ]
  },
  {
   "cell_type": "code",
   "execution_count": 26,
   "id": "1f996ef5",
   "metadata": {
    "scrolled": false
   },
   "outputs": [
    {
     "data": {
      "text/plain": [
       "['그린',\n",
       " '북',\n",
       " '매트릭스',\n",
       " '토이',\n",
       " '스토리',\n",
       " '캐스트',\n",
       " '어웨이',\n",
       " '포드',\n",
       " 'V',\n",
       " '페라리',\n",
       " '보헤미안',\n",
       " '랩소디',\n",
       " '빽',\n",
       " '투',\n",
       " '더',\n",
       " '퓨처',\n",
       " '반지의',\n",
       " '제왕',\n",
       " '죽은',\n",
       " '시인의',\n",
       " '사회']"
      ]
     },
     "execution_count": 26,
     "metadata": {},
     "output_type": "execute_result"
    }
   ],
   "source": [
    "flatMapMovies = moviesRDD.flatMap(lambda x:x.split(\" \"))\n",
    "flatMapMovies.collect()"
   ]
  },
  {
   "cell_type": "code",
   "execution_count": 27,
   "id": "7ed4d472",
   "metadata": {},
   "outputs": [
    {
     "data": {
      "text/plain": [
       "['그린',\n",
       " '북',\n",
       " '토이',\n",
       " '스토리',\n",
       " '캐스트',\n",
       " '어웨이',\n",
       " '포드',\n",
       " 'V',\n",
       " '페라리',\n",
       " '보헤미안',\n",
       " '랩소디',\n",
       " '빽',\n",
       " '투',\n",
       " '더',\n",
       " '퓨처',\n",
       " '반지의',\n",
       " '제왕',\n",
       " '죽은',\n",
       " '시인의',\n",
       " '사회']"
      ]
     },
     "execution_count": 27,
     "metadata": {},
     "output_type": "execute_result"
    }
   ],
   "source": [
    "filterdMovies= flatMapMovies.filter(lambda x: x!=\"매트릭스\")\n",
    "filterdMovies.collect()"
   ]
  },
  {
   "cell_type": "code",
   "execution_count": 41,
   "id": "fd8831bc",
   "metadata": {},
   "outputs": [],
   "source": [
    "#집합연산\n",
    "num1= spark.parallelize([1,2,3,4,5])\n",
    "num2= spark.parallelize([4,5,6,7,8,9,10])"
   ]
  },
  {
   "cell_type": "code",
   "execution_count": 42,
   "id": "0062882e",
   "metadata": {},
   "outputs": [
    {
     "data": {
      "text/plain": [
       "[4, 5]"
      ]
     },
     "execution_count": 42,
     "metadata": {},
     "output_type": "execute_result"
    }
   ],
   "source": [
    "#intersection\n",
    "num1.intersection(num2).collect() #바로 보고자 하는 것 "
   ]
  },
  {
   "cell_type": "code",
   "execution_count": 43,
   "id": "74c7836c",
   "metadata": {},
   "outputs": [],
   "source": [
    "#union, subtract\n",
    "union_result = num1.union(num2)\n",
    "subtract_result = num1.subtract(num2)"
   ]
  },
  {
   "cell_type": "code",
   "execution_count": null,
   "id": "efb083c2",
   "metadata": {},
   "outputs": [],
   "source": [
    "#sample( with)"
   ]
  },
  {
   "cell_type": "code",
   "execution_count": 44,
   "id": "f0ba32c5",
   "metadata": {},
   "outputs": [
    {
     "data": {
      "text/plain": [
       "[1, 2, 3, 4, 5, 4, 5, 6, 7, 8, 9, 10]"
      ]
     },
     "execution_count": 44,
     "metadata": {},
     "output_type": "execute_result"
    }
   ],
   "source": [
    "numlist=num1.union(num2)\n",
    "numlist.collect()"
   ]
  },
  {
   "cell_type": "code",
   "execution_count": 45,
   "id": "1a572767",
   "metadata": {},
   "outputs": [
    {
     "data": {
      "text/plain": [
       "[7, 10]"
      ]
     },
     "execution_count": 45,
     "metadata": {},
     "output_type": "execute_result"
    }
   ],
   "source": [
    "numlist.sample(True, 0.5).collect()"
   ]
  },
  {
   "cell_type": "code",
   "execution_count": 46,
   "id": "b06d6aef",
   "metadata": {},
   "outputs": [
    {
     "data": {
      "text/plain": [
       "[1, 2, 8, 8, 9]"
      ]
     },
     "execution_count": 46,
     "metadata": {},
     "output_type": "execute_result"
    }
   ],
   "source": [
    "numlist.sample(True, 0.3).collect()"
   ]
  },
  {
   "cell_type": "code",
   "execution_count": 47,
   "id": "db7136f9",
   "metadata": {},
   "outputs": [
    {
     "data": {
      "text/plain": [
       "[1, 5, 4, 5, 6, 7, 8, 10]"
      ]
     },
     "execution_count": 47,
     "metadata": {},
     "output_type": "execute_result"
    }
   ],
   "source": [
    "numlist.sample(False, 0.7).collect() #재현이 안되는 샘플 "
   ]
  },
  {
   "cell_type": "code",
   "execution_count": 48,
   "id": "e720604d",
   "metadata": {},
   "outputs": [
    {
     "data": {
      "text/plain": [
       "[5, 6, 6]"
      ]
     },
     "execution_count": 48,
     "metadata": {},
     "output_type": "execute_result"
    }
   ],
   "source": [
    "numlist.sample(True, 0.5, seed=42).collect() #재현이 가능한 샘플 "
   ]
  },
  {
   "cell_type": "code",
   "execution_count": null,
   "id": "91c930d3",
   "metadata": {},
   "outputs": [],
   "source": []
  },
  {
   "cell_type": "code",
   "execution_count": 28,
   "id": "b690f3e5",
   "metadata": {},
   "outputs": [
    {
     "data": {
      "text/plain": [
       "['짜장면', '마라탕', '짬뽕', '떡볶이', '쌀국수', '짬뽕', '짜장면', '짜장면', '짜장면', '라면', '우동', '라면']"
      ]
     },
     "execution_count": 28,
     "metadata": {},
     "output_type": "execute_result"
    }
   ],
   "source": [
    "foods.collect()"
   ]
  },
  {
   "cell_type": "code",
   "execution_count": 31,
   "id": "b11c8b8f",
   "metadata": {
    "scrolled": true
   },
   "outputs": [],
   "source": [
    "foodsGroup= foods.groupBy(lambda x: x[0])\n",
    "result= foodsGroup.collect()"
   ]
  },
  {
   "cell_type": "code",
   "execution_count": 33,
   "id": "5a8350e5",
   "metadata": {},
   "outputs": [
    {
     "name": "stdout",
     "output_type": "stream",
     "text": [
      "짜 ['짜장면', '짜장면', '짜장면', '짜장면']\n",
      "마 ['마라탕']\n",
      "짬 ['짬뽕', '짬뽕']\n",
      "떡 ['떡볶이']\n",
      "쌀 ['쌀국수']\n",
      "라 ['라면', '라면']\n",
      "우 ['우동']\n"
     ]
    }
   ],
   "source": [
    "for (k,v) in result:\n",
    "    print(k,list(v))"
   ]
  },
  {
   "cell_type": "code",
   "execution_count": 34,
   "id": "10e1b70c",
   "metadata": {},
   "outputs": [],
   "source": [
    "spark.stop()"
   ]
  },
  {
   "cell_type": "code",
   "execution_count": null,
   "id": "9b72e338",
   "metadata": {},
   "outputs": [],
   "source": []
  }
 ],
 "metadata": {
  "kernelspec": {
   "display_name": "Python (spark_start)",
   "language": "python",
   "name": "spark_start"
  },
  "language_info": {
   "codemirror_mode": {
    "name": "ipython",
    "version": 3
   },
   "file_extension": ".py",
   "mimetype": "text/x-python",
   "name": "python",
   "nbconvert_exporter": "python",
   "pygments_lexer": "ipython3",
   "version": "3.8.20"
  }
 },
 "nbformat": 4,
 "nbformat_minor": 5
}
